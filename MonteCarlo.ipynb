{
 "cells": [
  {
   "cell_type": "code",
   "execution_count": null,
   "metadata": {
    "collapsed": true,
    "deletable": true,
    "editable": true
   },
   "outputs": [],
   "source": [
    "%matplotlib inline"
   ]
  },
  {
   "cell_type": "code",
   "execution_count": null,
   "metadata": {
    "collapsed": false,
    "deletable": true,
    "editable": true
   },
   "outputs": [],
   "source": [
    "import numpy as np\n",
    "import pytpc\n",
    "from pytpc.constants import *\n",
    "import pytpc.simulation\n",
    "import pytpc.tpcplot\n",
    "import pytpc.vmedata\n",
    "import pandas as pd\n",
    "import matplotlib.pyplot as plt\n",
    "import seaborn.apionly as sns\n",
    "import scipy.signal\n",
    "import h5py\n",
    "from scipy.interpolate import UnivariateSpline, interp1d\n",
    "from scipy.optimize import differential_evolution, minimize, basinhopping, leastsq\n",
    "from mpl_toolkits.mplot3d import Axes3D\n",
    "from matplotlib.colors import LogNorm\n",
    "import os\n",
    "import cmaps\n",
    "import yaml\n",
    "from scipy.fftpack import fft, ifft, fftshift, ifftshift\n",
    "from copy import copy, deepcopy"
   ]
  },
  {
   "cell_type": "code",
   "execution_count": null,
   "metadata": {
    "collapsed": true,
    "deletable": true,
    "editable": true
   },
   "outputs": [],
   "source": [
    "sns.set_context('notebook')"
   ]
  },
  {
   "cell_type": "code",
   "execution_count": null,
   "metadata": {
    "collapsed": true,
    "deletable": true,
    "editable": true
   },
   "outputs": [],
   "source": [
    "from pytpc.utilities import find_exclusion_region, read_lookup_table"
   ]
  },
  {
   "cell_type": "code",
   "execution_count": null,
   "metadata": {
    "collapsed": false,
    "deletable": true,
    "editable": true
   },
   "outputs": [],
   "source": [
    "runtables = pd.read_csv('/Users/josh/Documents/Data/Meta/e15503b/e15503b-rundata-parseable.csv', index_col=0)"
   ]
  },
  {
   "cell_type": "code",
   "execution_count": null,
   "metadata": {
    "collapsed": true,
    "deletable": true,
    "editable": true
   },
   "outputs": [],
   "source": [
    "from pytpc.relativity import find_proton_params"
   ]
  },
  {
   "cell_type": "code",
   "execution_count": null,
   "metadata": {
    "collapsed": false,
    "deletable": true,
    "editable": true
   },
   "outputs": [],
   "source": [
    "lookup = read_lookup_table('/Users/josh/Documents/Data/Meta/e15503b/Lookup20150611.csv')\n",
    "reverse_lookup = {v: k for k, v in lookup.items()}\n",
    "excl_pads, lowg_pads = find_exclusion_region('/Users/josh/Documents/Data/Meta/e15503b/configs/run_0066/configure-e15503b.xcfg',\n",
    "                                  lookup)"
   ]
  },
  {
   "cell_type": "code",
   "execution_count": null,
   "metadata": {
    "collapsed": true,
    "deletable": true,
    "editable": true
   },
   "outputs": [],
   "source": [
    "vmegood = pd.read_hdf('/Users/josh/Documents/Data/Results/e15503b/select_vme/vme_good_events_e15503b.h5')"
   ]
  },
  {
   "cell_type": "code",
   "execution_count": null,
   "metadata": {
    "collapsed": true,
    "deletable": true,
    "editable": true
   },
   "outputs": [],
   "source": [
    "def transfer(amp, shape, offset=0):\n",
    "    t = np.arange(512)\n",
    "    f = amp*np.exp(-3*(t-offset)/shape)*np.sin((t-offset)/shape)*((t-offset)/shape)**3 / 0.044\n",
    "    return np.where(t >= offset, f, np.zeros(t.shape))"
   ]
  },
  {
   "cell_type": "code",
   "execution_count": null,
   "metadata": {
    "collapsed": true,
    "deletable": true,
    "editable": true
   },
   "outputs": [],
   "source": [
    "def find_vertex_energy(beam_intercept):\n",
    "    ei = 4.6 * 46 - 20.\n",
    "    ri = gas.range(ei, 46, 18)  # this is in meters\n",
    "    rf = ri - (1000 - beam_intercept) / 1000\n",
    "    ef = gas.inverse_range(rf, 46, 18)\n",
    "    return ef\n",
    "\n",
    "def find_kine_vert_en(mproj, mtarg, scat_ang, recoil_ke):\n",
    "    E_recoil = recoil_ke + mtarg\n",
    "    cm_ang = np.pi - 2*scat_ang\n",
    "    p_sq = (mtarg * E_recoil - mtarg**2) / (1 - np.cos(cm_ang))\n",
    "    sqrts = np.sqrt(mtarg**2 + p_sq) + np.sqrt(mproj**2 + p_sq)\n",
    "    T = 1 / (2 * mtarg) * (sqrts**2 - (mtarg + mproj)**2)\n",
    "    return T"
   ]
  },
  {
   "cell_type": "markdown",
   "metadata": {
    "deletable": true,
    "editable": true
   },
   "source": [
    "# Pad sizes"
   ]
  },
  {
   "cell_type": "code",
   "execution_count": null,
   "metadata": {
    "collapsed": true,
    "deletable": true,
    "editable": true
   },
   "outputs": [],
   "source": [
    "pads = pytpc.generate_pad_plane()"
   ]
  },
  {
   "cell_type": "code",
   "execution_count": null,
   "metadata": {
    "collapsed": false,
    "deletable": true,
    "editable": true
   },
   "outputs": [],
   "source": [
    "bigpads = np.where(np.round(np.abs(pads[:, 1, 1] - pads[:, 0, 1])) > 6)[0]\n",
    "smallpads = np.where(np.round(np.abs(pads[:, 1, 1] - pads[:, 0, 1])) < 6)[0]\n",
    "assert(len(bigpads) + len(smallpads) == 10240)"
   ]
  },
  {
   "cell_type": "code",
   "execution_count": null,
   "metadata": {
    "collapsed": false,
    "deletable": true,
    "editable": true
   },
   "outputs": [],
   "source": [
    "evtlist = vmegood[vmegood.run_num == 193].evt_id.values"
   ]
  },
  {
   "cell_type": "markdown",
   "metadata": {
    "deletable": true,
    "editable": true
   },
   "source": [
    "# Read event from results file"
   ]
  },
  {
   "cell_type": "code",
   "execution_count": null,
   "metadata": {
    "collapsed": false,
    "deletable": true,
    "editable": true
   },
   "outputs": [],
   "source": [
    "run_num = 99\n",
    "evt_id = 44  # good ones in run 99: 30, 44 (clean), 58, 60, 64, 73, 77 (bad), 81 (hard), 85, 284"
   ]
  },
  {
   "cell_type": "code",
   "execution_count": null,
   "metadata": {
    "collapsed": true,
    "deletable": true,
    "editable": true
   },
   "outputs": [],
   "source": []
  },
  {
   "cell_type": "code",
   "execution_count": null,
   "metadata": {
    "collapsed": false,
    "deletable": true,
    "editable": true
   },
   "outputs": [],
   "source": [
    "with pytpc.HDFDataFile('/Users/josh/Documents/Data/Merged/e15503b/full-trace/run_{:04d}.h5'.format(run_num), 'r') as f:\n",
    "# with pytpc.HDFDataFile('/Volumes/attpc/data/e15503b/full-trace/run_{:04d}.h5'.format(run_num), 'r') as f: \n",
    "    evt = f[evt_id]\n",
    "\n",
    "vme_offset = 0\n",
    "with h5py.File('/Users/josh/Documents/Data/Merged/e15503b/VME/run_{}_vme.h5'.format(run_num), 'r') as f:\n",
    "    icsignal = f['/vme/ic'][evt_id + vme_offset]\n",
    "    trigsignal = f['/vme/trig'][evt_id + vme_offset]\n",
    "    meshsignal = f['/vme/mesh'][evt_id + vme_offset]"
   ]
  },
  {
   "cell_type": "code",
   "execution_count": null,
   "metadata": {
    "collapsed": false,
    "deletable": true,
    "editable": true
   },
   "outputs": [],
   "source": [
    "with open('../fitters/config_e15503b.yml', 'r') as f:\n",
    "    config = yaml.load(f)\n",
    "with open('../fitters/config_e15503b_macmini.yml', 'r') as f:\n",
    "    config_patch = yaml.load(f)\n",
    "config.update(config_patch)\n",
    "\n",
    "# config['vdmag'] = -5.2\n",
    "# config['tilt'] = 8"
   ]
  },
  {
   "cell_type": "code",
   "execution_count": null,
   "metadata": {
    "collapsed": false,
    "deletable": true,
    "editable": true
   },
   "outputs": [],
   "source": [
    "# tmat = pytpc.utilities.tilt_matrix(-config['tilt']*degrees)\n",
    "# emag = 9500\n",
    "# bmag = 1.68\n",
    "\n",
    "# config['efield'], config['bfield'] = map(lambda x: tmat @ x, \n",
    "#                                          pytpc.utilities.create_fields(emag, bmag, config['tilt']*degrees))\n",
    "# config['vd'] = pytpc.simulation.drift_velocity_vector(config['vdmag'], emag, bmag, config['tilt']*degrees)\n",
    "# config['vd'] = np.array([-0.053, -0.546, -5.25])\n",
    "\n",
    "# config['gas_pressure'] = 19.2"
   ]
  },
  {
   "cell_type": "code",
   "execution_count": null,
   "metadata": {
    "collapsed": false,
    "deletable": true,
    "editable": true
   },
   "outputs": [],
   "source": [
    "tilt = config['tilt'] * degrees # 6*degrees\n",
    "clock = config['clock']\n",
    "beam_en = config['beam_enu0']\n",
    "\n",
    "efield = np.array(config['efield'])\n",
    "bfield = np.array(config['bfield'])\n",
    "tmat = pytpc.utilities.tilt_matrix(-tilt)\n",
    "# efield_uvw = tmat.dot(efield)\n",
    "# bfield_uvw = tmat.dot(bfield)\n",
    "\n",
    "gas = pytpc.gases.InterpolatedGas('isobutane', config['gas_pressure'])\n",
    "\n",
    "vd = np.array(config['vd'])\n",
    "beampads = np.fromfile(config['beampads_path'], sep=',', dtype='int')"
   ]
  },
  {
   "cell_type": "code",
   "execution_count": null,
   "metadata": {
    "collapsed": false,
    "deletable": true,
    "editable": true
   },
   "outputs": [],
   "source": [
    "efield"
   ]
  },
  {
   "cell_type": "code",
   "execution_count": null,
   "metadata": {
    "collapsed": false,
    "deletable": true,
    "editable": true
   },
   "outputs": [],
   "source": [
    "bfield"
   ]
  },
  {
   "cell_type": "code",
   "execution_count": null,
   "metadata": {
    "collapsed": false,
    "deletable": true,
    "editable": true
   },
   "outputs": [],
   "source": [
    "vd"
   ]
  },
  {
   "cell_type": "code",
   "execution_count": null,
   "metadata": {
    "collapsed": false,
    "deletable": true,
    "editable": true
   },
   "outputs": [],
   "source": [
    "with h5py.File('/Users/josh/Documents/Data/Merged/e15503b/clean/clean_run_{:04d}.h5'.format(run_num), 'r') as h5file:\n",
    "# with h5py.File('/Users/josh/Documents/Code/ar40-aug15/fitters/test.h5', 'r') as h5file:\n",
    "    ds = h5file['/clean/{}'.format(evt_id)]\n",
    "    raw_xyz_full = ds[:]\n",
    "    cx_orig, cy_orig = ds.attrs['center'][:2]"
   ]
  },
  {
   "cell_type": "code",
   "execution_count": null,
   "metadata": {
    "collapsed": false,
    "deletable": true,
    "editable": true
   },
   "outputs": [],
   "source": [
    "raw_xyz = pytpc.cleaning.apply_clean_cut(raw_xyz_full)\n",
    "# raw_xyz = pytpc.cleaning.apply_clean_cut(raw_xyz_full, qthresh=0.5, nthresh=2, tbthresh=500)\n",
    "center_data = raw_xyz[np.argsort(raw_xyz[:, 2])][-len(raw_xyz) // 2:]\n",
    "# cx, cy = pytpc.cleaning.hough_circle(center_data)\n",
    "cx, cy = cx_orig, cy_orig "
   ]
  },
  {
   "cell_type": "code",
   "execution_count": null,
   "metadata": {
    "collapsed": false,
    "deletable": true,
    "editable": true,
    "scrolled": true
   },
   "outputs": [],
   "source": [
    "plt.plot(raw_xyz_full[:, 2], raw_xyz_full[:, 1], 'r.')\n",
    "plt.plot(raw_xyz[:, 2], raw_xyz[:, 1], 'b.')\n",
    "plt.hlines(cy, *plt.xlim(), edgecolor='k')"
   ]
  },
  {
   "cell_type": "code",
   "execution_count": null,
   "metadata": {
    "collapsed": false,
    "deletable": true,
    "editable": true
   },
   "outputs": [],
   "source": [
    "plt.plot(raw_xyz_full[:, 0], raw_xyz_full[:, 1], 'r.')\n",
    "plt.plot(raw_xyz[:, 0], raw_xyz[:, 1], 'b.')\n",
    "plt.plot(cx, cy, 'k+', mew=1.5, ms=10)\n",
    "# plt.plot(testctr[0], testctr[1], 'gx', mew=1.5, ms=10)\n",
    "plt.gca().set_aspect(1)"
   ]
  },
  {
   "cell_type": "code",
   "execution_count": null,
   "metadata": {
    "collapsed": false,
    "deletable": true,
    "editable": true
   },
   "outputs": [],
   "source": [
    "hits = np.zeros(10240)\n",
    "hits[raw_xyz[:, 4].astype('int')] = raw_xyz[:, 3]\n",
    "hits[beampads] = 0\n",
    "# pytpc.tpcplot.pad_plot(hits, scale='linear', cmap=cmaps.viridis)\n",
    "pytpc.tpcplot.pad_plot(hits)\n",
    "# plt.savefig('/Users/josh/Desktop/Figures/hits_{}-{}.pdf'.format(run_num, evt_id), transparent=True)"
   ]
  },
  {
   "cell_type": "code",
   "execution_count": null,
   "metadata": {
    "collapsed": false,
    "deletable": true,
    "editable": true
   },
   "outputs": [],
   "source": [
    "plt.hist(hits[hits.nonzero()], bins=np.arange(0, 4096, 32), histtype='stepfilled');"
   ]
  },
  {
   "cell_type": "code",
   "execution_count": null,
   "metadata": {
    "collapsed": false,
    "deletable": true,
    "editable": true
   },
   "outputs": [],
   "source": [
    "hitpads = raw_xyz[:, -1]"
   ]
  },
  {
   "cell_type": "code",
   "execution_count": null,
   "metadata": {
    "collapsed": false,
    "deletable": true,
    "editable": true
   },
   "outputs": [],
   "source": [
    "peds = np.round(evt.traces['data'][:, 450:500].mean(1)).astype('int16')\n",
    "evt.traces['data'] = (evt.traces['data'].T - peds).T"
   ]
  },
  {
   "cell_type": "code",
   "execution_count": null,
   "metadata": {
    "collapsed": false,
    "deletable": true,
    "editable": true
   },
   "outputs": [],
   "source": [
    "padfilter = np.where(np.in1d(evt.traces['pad'], hitpads))[0]"
   ]
  },
  {
   "cell_type": "code",
   "execution_count": null,
   "metadata": {
    "collapsed": false,
    "deletable": true,
    "editable": true
   },
   "outputs": [],
   "source": [
    "tr = evt.traces['data']\n",
    "padlist = evt.traces[padfilter]['pad']"
   ]
  },
  {
   "cell_type": "code",
   "execution_count": null,
   "metadata": {
    "collapsed": false,
    "deletable": true,
    "editable": true
   },
   "outputs": [],
   "source": [
    "fig, ax = plt.subplots(2, 1, squeeze=True, sharex=True)\n",
    "\n",
    "xs = np.arange(-101, 411)\n",
    "\n",
    "ax[0].plot(xs, icsignal)\n",
    "ax[0].plot(xs, trigsignal)\n",
    "ax[0].plot(xs, meshsignal)\n",
    "\n",
    "ax[0].axvspan(0-100, 152-100, facecolor='gray', alpha=0.2)\n",
    "ax[0].axvspan(392-100, 511-100, facecolor='gray', alpha=0.2)\n",
    "ax[0].axvspan(411, 511, facecolor='gray', alpha=0.5, hatch='/')\n",
    "ax[0].set_xlim(-100, 511)\n",
    "\n",
    "ax[1].plot(tr.T);\n",
    "\n",
    "ax[1].axvspan(-100, 0, facecolor='gray', alpha=0.5, hatch='/')\n",
    "ax[1].axvspan(0, 52, facecolor='gray', alpha=0.2)\n",
    "ax[1].axvspan(292, 511, facecolor='gray', alpha=0.2)\n",
    "# ax[1].plot(raw_xyz[:, 2], raw_xyz[:, 3], 'rv')\n",
    "ax[1].set_xlim(-100, 511)"
   ]
  },
  {
   "cell_type": "code",
   "execution_count": null,
   "metadata": {
    "collapsed": false,
    "deletable": true,
    "editable": true
   },
   "outputs": [],
   "source": [
    "plt.plot(evt.traces[padfilter]['data'].T);\n",
    "plt.xlim(45, 250)"
   ]
  },
  {
   "cell_type": "code",
   "execution_count": null,
   "metadata": {
    "collapsed": false,
    "deletable": true,
    "editable": true
   },
   "outputs": [],
   "source": [
    "plt.hist(raw_xyz[:, 3], bins=np.arange(0, 4096, 256));"
   ]
  },
  {
   "cell_type": "code",
   "execution_count": null,
   "metadata": {
    "collapsed": true,
    "deletable": true,
    "editable": true
   },
   "outputs": [],
   "source": [
    "i = -1"
   ]
  },
  {
   "cell_type": "code",
   "execution_count": null,
   "metadata": {
    "collapsed": true,
    "deletable": true,
    "editable": true
   },
   "outputs": [],
   "source": [
    "i -= 1"
   ]
  },
  {
   "cell_type": "code",
   "execution_count": null,
   "metadata": {
    "collapsed": false,
    "deletable": true,
    "editable": true
   },
   "outputs": [],
   "source": [
    "# i += 1\n",
    "p = raw_xyz[i, -1]\n",
    "idx = np.where(evt.traces['pad'] == p)[0]\n",
    "v = evt.traces[idx]['data'].ravel()\n",
    "# plt.plot(raw_xyz[i, 2], raw_xyz[i, 3], 'rv')\n",
    "plt.plot(v)\n",
    "sns.despine()\n",
    "plt.xlim(0, 511)\n",
    "plt.xlabel('ADC time bucket')\n",
    "plt.ylabel('ADC signal amplitude')\n",
    "# plt.savefig('/Users/josh/Desktop/Figures/baseline_depression.pdf', transparent=True)"
   ]
  },
  {
   "cell_type": "markdown",
   "metadata": {
    "deletable": true,
    "editable": true
   },
   "source": [
    "---\n",
    "# MC Minimizer"
   ]
  },
  {
   "cell_type": "code",
   "execution_count": null,
   "metadata": {
    "collapsed": false,
    "deletable": true,
    "editable": true
   },
   "outputs": [],
   "source": [
    "mcfitter = pytpc.fitting.MCFitter(config)"
   ]
  },
  {
   "cell_type": "code",
   "execution_count": null,
   "metadata": {
    "collapsed": false,
    "deletable": true,
    "editable": true
   },
   "outputs": [],
   "source": [
    "# mcfitter.beampads = np.array([])"
   ]
  },
  {
   "cell_type": "code",
   "execution_count": null,
   "metadata": {
    "collapsed": false,
    "deletable": true,
    "editable": true
   },
   "outputs": [],
   "source": [
    "# mcfitter.minimizer.enChi2NormFraction = 0.1\n",
    "# mcfitter.minimizer.vertChi2Enabled = False\n",
    "# mcfitter.minimizer.enChi2Enabled = True\n",
    "# mcfitter.minimizer.posChi2Enabled = False\n",
    "# mcfitter.sigma = np.array([0.1, 0.1, 0.05, 2.0, 10*degrees, 10*degrees])"
   ]
  },
  {
   "cell_type": "code",
   "execution_count": null,
   "metadata": {
    "collapsed": false,
    "deletable": true,
    "editable": true
   },
   "outputs": [],
   "source": [
    "mcfitter.sigma"
   ]
  },
  {
   "cell_type": "code",
   "execution_count": null,
   "metadata": {
    "collapsed": false,
    "deletable": true,
    "editable": true
   },
   "outputs": [],
   "source": [
    "mcfitter.vd"
   ]
  },
  {
   "cell_type": "code",
   "execution_count": null,
   "metadata": {
    "collapsed": true,
    "deletable": true,
    "editable": true
   },
   "outputs": [],
   "source": []
  },
  {
   "cell_type": "code",
   "execution_count": null,
   "metadata": {
    "collapsed": false,
    "deletable": true,
    "editable": true
   },
   "outputs": [],
   "source": [
    "xyz, (cu, cv) = mcfitter.preprocess(raw_xyz, center=(cx, cy))\n",
    "mcres, minChis, all_params, good_param_idx = mcfitter.process_event(xyz, cu, cv, return_details=True)\n",
    "# print(mcres['enChi2'])\n",
    "# print(minChis[-1] - minChis[0])"
   ]
  },
  {
   "cell_type": "code",
   "execution_count": null,
   "metadata": {
    "collapsed": false,
    "deletable": true,
    "editable": true
   },
   "outputs": [],
   "source": [
    "res_track = mcfitter.tracker.track_particle(mcres['x0'], mcres['y0'], mcres['z0'], \n",
    "                                            mcres['enu0'], mcres['azi0'], mcres['pol0'])\n",
    "xyz = mcfitter.preprocess(raw_xyz)"
   ]
  },
  {
   "cell_type": "code",
   "execution_count": null,
   "metadata": {
    "collapsed": false,
    "deletable": true,
    "editable": true
   },
   "outputs": [],
   "source": [
    "good_params = all_params[good_param_idx.astype('int')]\n",
    "all_params = all_params.reshape((mcfitter.num_iters, mcfitter.num_pts, 6))"
   ]
  },
  {
   "cell_type": "code",
   "execution_count": null,
   "metadata": {
    "collapsed": false,
    "deletable": true,
    "editable": true
   },
   "outputs": [],
   "source": [
    "lines = plt.plot(minChis, 'o-')\n",
    "plt.plot(minChis.sum(1))\n",
    "plt.semilogy()\n",
    "plt.legend(lines, ('pos', 'en', 'vert'))"
   ]
  },
  {
   "cell_type": "code",
   "execution_count": null,
   "metadata": {
    "collapsed": false,
    "deletable": true,
    "editable": true
   },
   "outputs": [],
   "source": [
    "for v, l in zip(good_params.T, ['x', 'y', 'z', 'en', 'azi', 'pol', 'bmag']):\n",
    "    plt.plot(v / v[0], label=l)\n",
    "plt.legend(loc=4)"
   ]
  },
  {
   "cell_type": "code",
   "execution_count": null,
   "metadata": {
    "collapsed": false,
    "deletable": true,
    "editable": true
   },
   "outputs": [],
   "source": [
    "fig, ax = plt.subplots(3, 2, sharex=True)\n",
    "\n",
    "plt.sca(ax[0, 0])\n",
    "plt.plot(np.ravel(all_params[:, :, 0]), ',')\n",
    "plt.text(0.95, 0.9, 'x', transform=plt.gca().transAxes, ha='right', va='top', fontdict={'fontsize': 18})\n",
    "plt.sca(ax[1, 0])\n",
    "plt.plot(np.ravel(all_params[:, :, 1]), ',')\n",
    "plt.text(0.95, 0.9, 'y', transform=plt.gca().transAxes, ha='right', va='top', fontdict={'fontsize': 18})\n",
    "plt.sca(ax[2, 0])\n",
    "plt.plot(np.ravel(all_params[:, :, 2]), ',')\n",
    "plt.text(0.95, 0.9, 'z', transform=plt.gca().transAxes, ha='right', va='top', fontdict={'fontsize': 18})\n",
    "# plt.hlines(zi, *plt.xlim())\n",
    "plt.sca(ax[0, 1])\n",
    "plt.plot(np.ravel(all_params[:, :, 3]), ',')\n",
    "plt.text(0.95, 0.9, 'E', transform=plt.gca().transAxes, ha='right', va='top', fontdict={'fontsize': 18})\n",
    "# plt.hlines(eni, *plt.xlim())\n",
    "plt.sca(ax[1, 1])\n",
    "plt.plot(np.ravel(all_params[:, :, 4]), ',')\n",
    "plt.text(0.95, 0.9, 'φ', transform=plt.gca().transAxes, ha='right', va='top', fontdict={'fontsize': 18})\n",
    "# plt.hlines(azii, *plt.xlim())\n",
    "plt.sca(ax[2, 1])\n",
    "plt.plot(np.ravel(all_params[:, :, 5]), ',')\n",
    "plt.text(0.95, 0.9, 'θ', transform=plt.gca().transAxes, ha='right', va='top', fontdict={'fontsize': 18})\n",
    "\n",
    "# plt.hlines(poli, *plt.xlim())\n",
    "\n",
    "sns.despine()\n",
    "\n",
    "plt.tight_layout()\n",
    "# plt.savefig('/Users/josh/Desktop/yassid poster/mcsamples.pdf', transparent=True)"
   ]
  },
  {
   "cell_type": "code",
   "execution_count": null,
   "metadata": {
    "collapsed": false,
    "deletable": true,
    "editable": true
   },
   "outputs": [],
   "source": [
    "with sns.axes_style(rc={'font.family': 'Arial'}), sns.plotting_context('paper', rc={'font.size': 10}):\n",
    "    plt.figure(figsize=(3.5, 2.5))\n",
    "    plt.plot(all_params[:, :, 3].ravel(), ',')\n",
    "    plt.xticks(np.arange(0, mcfitter.num_pts * (mcfitter.num_iters + 1), mcfitter.num_pts * 5),\n",
    "               np.arange(0, mcfitter.num_iters + 1, 5))\n",
    "    sns.despine()\n",
    "    \n",
    "    plt.xlabel('Iteration number')\n",
    "    plt.ylabel('Proton energy [MeV]')\n",
    "    \n",
    "    plt.tight_layout(pad=0.5)\n",
    "    plt.subplots_adjust(right=0.9)\n",
    "    \n",
    "    plt.xlim(0)\n",
    "    plt.ylim(0)\n",
    "    \n",
    "    plt.savefig('/Users/josh/Documents/Papers/attpc-nim-paper/Figures/mcsamples.pdf')"
   ]
  },
  {
   "cell_type": "code",
   "execution_count": null,
   "metadata": {
    "collapsed": true,
    "deletable": true,
    "editable": true
   },
   "outputs": [],
   "source": [
    "# ###### HAND FIT #######################\n",
    "\n",
    "# mcres = {'azi0': 140 * degrees,\n",
    "#  'brho': 0.11715228451358371,\n",
    "#  'curv_ctr_x': -2.511620781172536,\n",
    "#  'curv_ctr_y': 40.72253611548619,\n",
    "#  'curv_en': 0.6573310390311133,\n",
    "#  'enChi2': 1.4024581524902917,\n",
    "#  'enu0': 0.9,\n",
    "#  'lin_beam_int': 296.8827014256685,\n",
    "#  'lin_chi2': 5.8181296682890755,\n",
    "#  'lin_scat_ang': 1.0071015791003997,\n",
    "#  'pol0': 2.3,\n",
    "#  'posChi2': 3.928712700799101,\n",
    "#  'rad_curv': 58.94480470133671,\n",
    "#  'vertChi2': 2.615874479899877,\n",
    "#  'x0': -0.04,\n",
    "#  'y0': -0.0,\n",
    "#  'z0': 0.27}\n",
    "\n",
    "# res_track = mcfitter.tracker.track_particle(mcres['x0'], mcres['y0'], mcres['z0'], \n",
    "#                                             mcres['enu0'], mcres['azi0'], mcres['pol0'])\n",
    "# xyz = mcfitter.preprocess(raw_xyz)"
   ]
  },
  {
   "cell_type": "code",
   "execution_count": null,
   "metadata": {
    "collapsed": false,
    "deletable": true,
    "editable": true
   },
   "outputs": [],
   "source": [
    "kine_vert_en = find_kine_vert_en(46*p_mc2, 1*p_mc2, pi - mcres['pol0'], mcres['enu0']) / 46\n",
    "vert_en = find_vertex_energy(mcres['z0'] * 1000) / 46\n",
    "print('Kin vert en:', kine_vert_en)\n",
    "print('Pos vert en:', vert_en)\n",
    "print('      Delta:', kine_vert_en - vert_en)"
   ]
  },
  {
   "cell_type": "code",
   "execution_count": null,
   "metadata": {
    "collapsed": false,
    "deletable": true,
    "editable": true
   },
   "outputs": [],
   "source": [
    "plt.plot(xyz.u / 1000, xyz.v / 1000, '.')\n",
    "plt.plot(res_track[:, 0], res_track[:, 1])\n",
    "plt.gca().set_aspect(1)\n",
    "# plt.axis([-0.275, 0.275, -0.275, 0.275])\n",
    "# ths = np.linspace(0, 2*pi, 100)\n",
    "# plt.plot(0.275 * np.cos(ths), 0.275 * np.sin(ths), 'r--', linewidth=1)"
   ]
  },
  {
   "cell_type": "code",
   "execution_count": null,
   "metadata": {
    "collapsed": false,
    "deletable": true,
    "editable": true
   },
   "outputs": [],
   "source": [
    "mcres"
   ]
  },
  {
   "cell_type": "code",
   "execution_count": null,
   "metadata": {
    "collapsed": false,
    "deletable": true,
    "editable": true
   },
   "outputs": [],
   "source": [
    "m = 1# 0.85\n",
    "b = 0# 0.05\n",
    "\n",
    "plt.plot(xyz.w / 1000 * m + b, xyz.v / 1000, 'b.')\n",
    "plt.plot(res_track[:, 2], res_track[:, 1], 'g')"
   ]
  },
  {
   "cell_type": "code",
   "execution_count": null,
   "metadata": {
    "collapsed": false,
    "deletable": true,
    "editable": true
   },
   "outputs": [],
   "source": [
    "with sns.plotting_context('talk', font_scale=1.2):\n",
    "    plt.plot(xyz.z, xyz.y, '.')\n",
    "    plt.xlabel('x [mm]')\n",
    "    plt.ylabel('y [mm]')\n",
    "#     plt.savefig('/Users/josh/Desktop/MC problems/tilt.pdf')"
   ]
  },
  {
   "cell_type": "code",
   "execution_count": null,
   "metadata": {
    "collapsed": false,
    "deletable": true,
    "editable": true
   },
   "outputs": [],
   "source": [
    "len(xyz)"
   ]
  },
  {
   "cell_type": "code",
   "execution_count": null,
   "metadata": {
    "collapsed": false,
    "deletable": true,
    "editable": true
   },
   "outputs": [],
   "source": [
    "len(raw_xyz_full)"
   ]
  },
  {
   "cell_type": "code",
   "execution_count": null,
   "metadata": {
    "collapsed": false,
    "deletable": true,
    "editable": true
   },
   "outputs": [],
   "source": [
    "plt.plot(raw_xyz_full[:, 2], raw_xyz_full[:, 1], '.')"
   ]
  },
  {
   "cell_type": "code",
   "execution_count": null,
   "metadata": {
    "collapsed": false,
    "deletable": true,
    "editable": true
   },
   "outputs": [],
   "source": [
    "plt.plot(xyz.w / 1000 * m + b, xyz.u / 1000, 'r.')\n",
    "plt.plot(res_track[:, 2], res_track[:, 0], 'm')\n",
    "# plt.gca().set_aspect(1)"
   ]
  },
  {
   "cell_type": "code",
   "execution_count": null,
   "metadata": {
    "collapsed": false,
    "deletable": true,
    "editable": true
   },
   "outputs": [],
   "source": [
    "plt.plot(xyz.w / 1000, np.hypot(xyz.u, xyz.v) / 1000, 'b.')\n",
    "plt.plot(res_track[:, 2], np.hypot(res_track[:, 0], res_track[:, 1]), 'g-')"
   ]
  },
  {
   "cell_type": "code",
   "execution_count": null,
   "metadata": {
    "collapsed": false,
    "deletable": true,
    "editable": true
   },
   "outputs": [],
   "source": [
    "tr_min = res_track[:, 2].min()\n",
    "tr_max = res_track[:, 2].max()\n",
    "datacut = (xyz.w > tr_min * 1000) & (xyz.w < tr_max * 1000)\n",
    "print(tr_max * 1000 - xyz.loc[datacut, 'w'].max())\n",
    "\n",
    "hbins = np.arange(tr_min, tr_max, abs(vd[2]) / clock / 100)\n",
    "bins, *junk = np.histogram(xyz.loc[datacut, 'w'] / 1000, bins=hbins)\n",
    "\n",
    "filledbins = len(bins.nonzero()[0])\n",
    "emptybins = len(bins) - filledbins\n",
    "print(emptybins, filledbins, len(bins))\n",
    "print(emptybins / len(bins), filledbins / len(bins))"
   ]
  },
  {
   "cell_type": "code",
   "execution_count": null,
   "metadata": {
    "collapsed": false,
    "deletable": true,
    "editable": true
   },
   "outputs": [],
   "source": [
    "good_param_idx"
   ]
  },
  {
   "cell_type": "code",
   "execution_count": null,
   "metadata": {
    "collapsed": true,
    "deletable": true,
    "editable": true
   },
   "outputs": [],
   "source": [
    "sns.set_context('talk', font_scale=1.6)"
   ]
  },
  {
   "cell_type": "code",
   "execution_count": null,
   "metadata": {
    "collapsed": false,
    "deletable": true,
    "editable": true
   },
   "outputs": [],
   "source": [
    "for p in good_params:\n",
    "    tr = mcfitter.tracker.track_particle(*p)\n",
    "    rej_tr_line, = plt.plot(tr[:, 2] * 1000, tr[:, 1] * 1000, 'b-', alpha=0.5, zorder=100)\n",
    "best_line, = plt.plot(res_track[:, 2] * 1000, res_track[:, 1] * 1000, 'k-', linewidth=3, zorder=300)\n",
    "exp_line, = plt.plot(xyz.w, xyz.v, 'r.', zorder=200)\n",
    "sns.despine()\n",
    "plt.legend((rej_tr_line, best_line, exp_line), ('Rejected track', 'Best fit track', 'Experimental data'), loc=9, \n",
    "           frameon=False, numpoints=3, ncol=2)\n",
    "plt.ylim(-50, 300)\n",
    "plt.xlim(100, 725)\n",
    "plt.xlabel('z [mm]')\n",
    "plt.ylabel('y [mm]')\n",
    "# plt.savefig('/Users/josh/Desktop/Figures/fitplot.pdf', transparent=True)"
   ]
  },
  {
   "cell_type": "code",
   "execution_count": null,
   "metadata": {
    "collapsed": false,
    "deletable": true,
    "editable": true
   },
   "outputs": [],
   "source": [
    "all_params.shape"
   ]
  },
  {
   "cell_type": "code",
   "execution_count": null,
   "metadata": {
    "collapsed": false,
    "deletable": true,
    "editable": true
   },
   "outputs": [],
   "source": [
    "plt.figure(figsize=(8, 4))\n",
    "plt.plot(all_params[:, :, 2].ravel() * 1000, '.', markersize=4);\n",
    "plt.xlabel('Iteration index')\n",
    "plt.ylabel('z0 [mm]')\n",
    "sns.despine()\n",
    "# plt.savefig('/Users/josh/Desktop/Figures/z0_fit_conv.png', transparent=True, dpi=200, bbox_inches='tight')"
   ]
  },
  {
   "cell_type": "code",
   "execution_count": null,
   "metadata": {
    "collapsed": false,
    "deletable": true,
    "editable": true
   },
   "outputs": [],
   "source": [
    "mcres"
   ]
  },
  {
   "cell_type": "code",
   "execution_count": null,
   "metadata": {
    "collapsed": true,
    "deletable": true,
    "editable": true
   },
   "outputs": [],
   "source": [
    "# %matplotlib notebook"
   ]
  },
  {
   "cell_type": "code",
   "execution_count": null,
   "metadata": {
    "collapsed": false,
    "deletable": true,
    "editable": true
   },
   "outputs": [],
   "source": [
    "with sns.axes_style('white'):\n",
    "    fig = plt.figure()\n",
    "    ax = fig.add_subplot(111, projection='3d')\n",
    "    ax.plot(*res_track[:, :3].T, 'k')\n",
    "    ax.scatter(xyz.u / 1000, xyz.v / 1000, xyz.w / 1000)\n",
    "    ax.set_aspect(1)\n",
    "    \n",
    "#     plt.savefig('/Users/josh/Desktop/yassid poster/3d.pdf', transparent=True)"
   ]
  },
  {
   "cell_type": "code",
   "execution_count": null,
   "metadata": {
    "collapsed": false,
    "deletable": true,
    "editable": true
   },
   "outputs": [],
   "source": [
    "hits2 = hits.copy()\n",
    "hits2[lowg_pads] += 100\n",
    "pytpc.tpcplot.pad_plot(hits2)\n",
    "# plt.savefig('/Users/josh/Desktop/Figures/hits_{}-{}.pdf'.format(run_num, evt_id), transparent=True)"
   ]
  },
  {
   "cell_type": "code",
   "execution_count": null,
   "metadata": {
    "collapsed": false,
    "deletable": true,
    "editable": true
   },
   "outputs": [],
   "source": [
    "hits_xyz = mcfitter.evtgen.make_hit_pattern(xyz[['u', 'v', 'w']].values / 1000., xyz.a.values)\n",
    "hits_xyz -= hits * hits_xyz.max() / hits.max()\n",
    "\n",
    "lim = np.abs(hits_xyz).max()\n",
    "fig, sm = pytpc.tpcplot.pad_plot(hits_xyz, scale='linear', cmap='RdBu', cmin=-lim, cmax=lim)\n",
    "plt.colorbar(sm)"
   ]
  },
  {
   "cell_type": "code",
   "execution_count": null,
   "metadata": {
    "collapsed": false,
    "deletable": true,
    "editable": true
   },
   "outputs": [],
   "source": [
    "res_hits = mcfitter.evtgen.make_hit_pattern(res_track[:, :3], res_track[:, 4])\n",
    "# res_hits[lowg_pads] += 100\n",
    "pytpc.tpcplot.pad_plot(res_hits)"
   ]
  },
  {
   "cell_type": "code",
   "execution_count": null,
   "metadata": {
    "collapsed": false,
    "deletable": true,
    "editable": true
   },
   "outputs": [],
   "source": [
    "hitdiff = mcfitter.minimizer.find_hit_pattern_deviation(res_track[:, :3], res_track[:, 4], hits)\n",
    "scale_limit = abs(hitdiff).max() * 0.5\n",
    "fig, sm = pytpc.tpcplot.pad_plot(hitdiff, scale='linear', cmap='RdBu', cmin=-scale_limit, cmax=scale_limit)\n",
    "plt.colorbar(sm)"
   ]
  },
  {
   "cell_type": "code",
   "execution_count": null,
   "metadata": {
    "collapsed": true,
    "deletable": true,
    "editable": true
   },
   "outputs": [],
   "source": [
    "sns.set_context('talk')"
   ]
  },
  {
   "cell_type": "code",
   "execution_count": null,
   "metadata": {
    "collapsed": false,
    "deletable": true,
    "editable": true
   },
   "outputs": [],
   "source": [
    "fig, ax = plt.subplots(2, 2, figsize=(12, 10))\n",
    "# fig.subplots_adjust(hspace=0.4, wspace=0.4)\n",
    "ax[0, 0].plot(xyz.w / 1000, xyz.u / 1000, '.')\n",
    "ax[0, 0].plot(res_track[:, 2], res_track[:, 0], 'k')\n",
    "ax[0, 0].set_xlabel('z [m]')\n",
    "ax[0, 0].set_ylabel('x [m]')\n",
    "\n",
    "ax[0, 1].plot(xyz.w / 1000, xyz.v / 1000, '.')\n",
    "ax[0, 1].plot(res_track[:, 2], res_track[:, 1], 'k')\n",
    "ax[0, 1].set_xlabel('z [m]')\n",
    "ax[0, 1].set_ylabel('y [m]')\n",
    "\n",
    "ax[1, 0].plot(xyz.w/1000, np.hypot(xyz.u, xyz.v) / 1000, '.')\n",
    "ax[1, 0].plot(res_track[:, 2], np.hypot(res_track[:, 0], res_track[:, 1]), 'k')\n",
    "ax[1, 0].set_xlabel('z [m]')\n",
    "ax[1, 0].set_ylabel('$\\sqrt{x^2 + y^2}$ [m]')\n",
    "\n",
    "ax[1, 1].plot(xyz.u / 1000, xyz.v / 1000, '.')\n",
    "ax[1, 1].plot(res_track[:, 0], res_track[:, 1], 'k')\n",
    "ths = np.linspace(0, 2*pi, 100)\n",
    "# ax[1, 1].plot(mcres['rad_curv']/1000 * np.cos(ths) + mcres['curv_ctr_x']/1000, \n",
    "#               mcres['rad_curv']/1000 * np.sin(ths) + mcres['curv_ctr_y']/1000, 'r--')\n",
    "# ax[1, 1].plot(cu/1000, cv/1000, 'k+', mew=1.5)\n",
    "ax[1, 1].plot(mcres['curv_ctr_x']/1000, mcres['curv_ctr_y']/1000, 'ro')\n",
    "ax[1, 1].set_aspect(1)\n",
    "ax[1, 1].set_xlabel('x [m]')\n",
    "ax[1, 1].set_ylabel('y [m]')\n",
    "\n",
    "sns.despine()\n",
    "\n",
    "plt.tight_layout()\n",
    "# plt.savefig('/Users/josh/Desktop/Figures/fit_{}-{}.pdf'.format(run_num, evt_id), transparent=True)"
   ]
  },
  {
   "cell_type": "code",
   "execution_count": null,
   "metadata": {
    "collapsed": true,
    "deletable": true,
    "editable": true
   },
   "outputs": [],
   "source": [
    "sns.set_context('talk', font_scale=1.6)"
   ]
  },
  {
   "cell_type": "code",
   "execution_count": null,
   "metadata": {
    "collapsed": false,
    "deletable": true,
    "editable": true
   },
   "outputs": [],
   "source": [
    "window_min = (-20 + 275) / (275 + 275)\n",
    "window_max = (20 + 275) / (275 + 275)\n",
    "\n",
    "plt.plot(xyz.w, xyz.v, '.')\n",
    "plt.plot(res_track[:, 2] * 1000, res_track[:, 1] * 1000, 'k-')\n",
    "plt.axvspan(-20, 0, edgecolor='k', facecolor='grey', linewidth=1, hatch='\\\\')\n",
    "plt.axvspan(1000, 1020, ymin=0, ymax=window_min, edgecolor='k', facecolor='grey', linewidth=1, hatch='\\\\')\n",
    "plt.axvspan(1000, 1020, ymin=window_min, ymax=window_max, edgecolor='k', facecolor='c', linewidth=1)\n",
    "plt.axvspan(1000, 1020, ymin=window_max, ymax=1, edgecolor='k', facecolor='grey', linewidth=1, hatch='\\\\')\n",
    "plt.axvspan(0, 1000, edgecolor='k', facecolor='grey', linewidth=1, alpha=0.2)\n",
    "plt.hlines(0, 0, 1100, edgecolors='k', linewidth=3)\n",
    "plt.xlim(-20, 1100)\n",
    "plt.ylim(-275, 275)\n",
    "sns.despine()\n",
    "\n",
    "plt.xlabel('z [mm]')\n",
    "plt.ylabel('y [mm]')\n",
    "plt.gca().set_aspect(1)\n",
    "\n",
    "# plt.savefig('/Users/josh/Desktop/Figures/projection_with_chamber.pdf', transparent=True)"
   ]
  },
  {
   "cell_type": "code",
   "execution_count": null,
   "metadata": {
    "collapsed": false,
    "deletable": true,
    "editable": true
   },
   "outputs": [],
   "source": [
    "plt.plot(xyz.u, xyz.v, '.', zorder=150, label='Data')\n",
    "plt.plot(res_track[:, 0] * 1000, res_track[:, 1] * 1000, 'k-', zorder=200, label='Fit result')\n",
    "plt.plot(res_track[0, 0] * 1000, res_track[0, 1] * 1000, 'ro', markersize=15, zorder=100, label='Beam location')\n",
    "\n",
    "plt.xlim(-200, 50)\n",
    "plt.ylim(-60, 200)\n",
    "\n",
    "plt.xlabel('x [mm]')\n",
    "plt.ylabel('y [mm]')\n",
    "\n",
    "sns.despine()\n",
    "\n",
    "plt.gca().set_aspect(1)\n",
    "\n",
    "plt.savefig('/Users/josh/Desktop/Figures/projection_xy.pdf', transparent=True)"
   ]
  },
  {
   "cell_type": "code",
   "execution_count": null,
   "metadata": {
    "collapsed": false,
    "deletable": true,
    "editable": true
   },
   "outputs": [],
   "source": [
    "res_evt = mcfitter.evtgen.make_event(res_track[:, :3], res_track[:, 4])"
   ]
  },
  {
   "cell_type": "code",
   "execution_count": null,
   "metadata": {
    "collapsed": false,
    "deletable": true,
    "editable": true
   },
   "outputs": [],
   "source": [
    "0.020 * 500 * 20 / 28"
   ]
  },
  {
   "cell_type": "code",
   "execution_count": null,
   "metadata": {
    "collapsed": false,
    "deletable": true,
    "editable": true
   },
   "outputs": [],
   "source": [
    "for pad, trace in res_evt.items():\n",
    "    plt.plot(trace)"
   ]
  },
  {
   "cell_type": "code",
   "execution_count": null,
   "metadata": {
    "collapsed": false,
    "deletable": true,
    "editable": true
   },
   "outputs": [],
   "source": [
    "plt.plot(evt.traces[padfilter]['data'].T);\n",
    "# plt.xlim(45, 250)"
   ]
  },
  {
   "cell_type": "code",
   "execution_count": null,
   "metadata": {
    "collapsed": false,
    "deletable": true,
    "editable": true
   },
   "outputs": [],
   "source": [
    "exp_pads = set(hits.nonzero()[0])\n",
    "res_pads = set(res_evt.keys())\n",
    "both_pads = exp_pads.intersection(res_pads)"
   ]
  },
  {
   "cell_type": "code",
   "execution_count": null,
   "metadata": {
    "collapsed": true,
    "deletable": true,
    "editable": true
   },
   "outputs": [],
   "source": [
    "pad_iter = iter(both_pads)"
   ]
  },
  {
   "cell_type": "code",
   "execution_count": null,
   "metadata": {
    "collapsed": false,
    "deletable": true,
    "editable": true
   },
   "outputs": [],
   "source": [
    "p = next(pad_iter)\n",
    "plt.plot(evt.traces[np.where(evt.traces['pad'] == p)]['data'].ravel(), 'b')\n",
    "plt.plot(np.roll(res_evt[p], 38), 'r')"
   ]
  },
  {
   "cell_type": "code",
   "execution_count": null,
   "metadata": {
    "collapsed": false,
    "deletable": true,
    "editable": true
   },
   "outputs": [],
   "source": [
    "exp_hitpadnos, = hits.nonzero()\n",
    "res_hitpadnos, = res_hits.nonzero()\n",
    "bothhitct = len(np.intersect1d(exp_hitpadnos, res_hitpadnos))\n",
    "missedct = len(hits.nonzero()[0]) - bothhitct\n",
    "print('Both hit {} pads'.format(bothhitct))\n",
    "print('Result missed {} pads'.format(missedct))"
   ]
  },
  {
   "cell_type": "code",
   "execution_count": null,
   "metadata": {
    "collapsed": false,
    "deletable": true,
    "editable": true
   },
   "outputs": [],
   "source": [
    "plt.plot(xyz.w, xyz.pad, '.')\n",
    "plt.plot(res_track)"
   ]
  },
  {
   "cell_type": "markdown",
   "metadata": {
    "deletable": true,
    "editable": true
   },
   "source": [
    "# Annealer"
   ]
  },
  {
   "cell_type": "code",
   "execution_count": null,
   "metadata": {
    "collapsed": false,
    "deletable": true,
    "editable": true
   },
   "outputs": [],
   "source": [
    "import annealmin"
   ]
  },
  {
   "cell_type": "code",
   "execution_count": null,
   "metadata": {
    "collapsed": false,
    "deletable": true,
    "editable": true
   },
   "outputs": [],
   "source": [
    "# config['sigma']['azi'] = 60\n",
    "# config['sigma']['x'] = 0.05\n",
    "# config['sigma']['y'] = 0.1\n",
    "config['sigma']['z'] = 0.\n",
    "# config['sigma']['enu'] = 6.0\n",
    "# config['diffusion_sigma'] = 0.1e-3\n",
    "# config['num_iters'] = 30\n",
    "# config['num_pts'] = 500\n",
    "# config['red_factor'] = 0.90\n",
    "\n",
    "config['anneal_num_iters'] = 30\n",
    "config['cool_rate'] = 0.80\n",
    "config['max_calls_per_iter'] = 2500\n",
    "config['initial_temp'] = 0.5"
   ]
  },
  {
   "cell_type": "code",
   "execution_count": null,
   "metadata": {
    "collapsed": false,
    "deletable": true,
    "editable": true
   },
   "outputs": [],
   "source": [
    "xs = np.arange(config['anneal_num_iters'])\n",
    "plt.plot(xs, config['initial_temp'] * config['cool_rate'] ** xs)"
   ]
  },
  {
   "cell_type": "code",
   "execution_count": null,
   "metadata": {
    "collapsed": false,
    "deletable": true,
    "editable": true
   },
   "outputs": [],
   "source": [
    "mcfitter = mcmin.MCFitter(config)\n",
    "# anfitter = annealmin.Annealer(config)\n",
    "# anfitter.sigma = np.array([0.05, 0.05, 0.005, 0.1, 5*degrees, 5*degrees])"
   ]
  },
  {
   "cell_type": "code",
   "execution_count": null,
   "metadata": {
    "collapsed": false,
    "deletable": true,
    "editable": true
   },
   "outputs": [],
   "source": [
    "mcfitter.minimizer.enChi2NormFraction = 0.02\n",
    "# mcfitter.minimizer.vertChi2Enabled = False\n",
    "# anfitter.annealer.vertChi2Enabled = False\n",
    "# mcfitter.minimizer.posChi2Enabled = True\n",
    "# anfitter.annealer.posChi2Enabled = False\n",
    "# mcfitter.sigma = np.array([0.1, 0.1, 0.05, 2.0, 10*degrees, 10*degrees])"
   ]
  },
  {
   "cell_type": "code",
   "execution_count": null,
   "metadata": {
    "collapsed": false,
    "deletable": true,
    "editable": true
   },
   "outputs": [],
   "source": [
    "mcfitter.sigma"
   ]
  },
  {
   "cell_type": "code",
   "execution_count": null,
   "metadata": {
    "collapsed": false,
    "deletable": true,
    "editable": true
   },
   "outputs": [],
   "source": [
    "mcfitter.vd"
   ]
  },
  {
   "cell_type": "code",
   "execution_count": null,
   "metadata": {
    "collapsed": false,
    "deletable": true,
    "editable": true
   },
   "outputs": [],
   "source": [
    "anfitter.sigma * config['cool_rate'] ** config['anneal_num_iters']"
   ]
  },
  {
   "cell_type": "code",
   "execution_count": null,
   "metadata": {
    "collapsed": false,
    "deletable": true,
    "editable": true
   },
   "outputs": [],
   "source": [
    "config['initial_temp'] * config['cool_rate'] ** config['anneal_num_iters']"
   ]
  },
  {
   "cell_type": "code",
   "execution_count": null,
   "metadata": {
    "collapsed": true,
    "deletable": true,
    "editable": true
   },
   "outputs": [],
   "source": []
  },
  {
   "cell_type": "code",
   "execution_count": null,
   "metadata": {
    "collapsed": false,
    "deletable": true,
    "editable": true
   },
   "outputs": [],
   "source": [
    "mcres, minChis, all_params, good_param_idx = mcfitter.process_event(raw_xyz, cx, cy, return_details=True)\n",
    "print(mcres['enChi2'])\n",
    "print(minChis[-1] - minChis[0])"
   ]
  },
  {
   "cell_type": "code",
   "execution_count": null,
   "metadata": {
    "collapsed": true,
    "deletable": true,
    "editable": true
   },
   "outputs": [],
   "source": [
    "anfitter.annealer.initial_temp = 0.01"
   ]
  },
  {
   "cell_type": "code",
   "execution_count": null,
   "metadata": {
    "collapsed": false,
    "deletable": true,
    "editable": true
   },
   "outputs": [],
   "source": [
    "anres, annealInfo = anfitter.process_event(raw_xyz, cx, cy, multi=False, return_details=True)"
   ]
  },
  {
   "cell_type": "code",
   "execution_count": null,
   "metadata": {
    "collapsed": false,
    "deletable": true,
    "editable": true
   },
   "outputs": [],
   "source": [
    "annealInfo['stop_reason'], annealInfo['num_calls']"
   ]
  },
  {
   "cell_type": "code",
   "execution_count": null,
   "metadata": {
    "collapsed": false,
    "deletable": true,
    "editable": true
   },
   "outputs": [],
   "source": [
    "plt.plot(annealInfo['chis'])\n",
    "plt.plot(annealInfo['chis'].sum(1))\n",
    "plt.semilogy()"
   ]
  },
  {
   "cell_type": "code",
   "execution_count": null,
   "metadata": {
    "collapsed": false,
    "deletable": true,
    "editable": true
   },
   "outputs": [],
   "source": [
    "annctr = annealInfo['ctrs']"
   ]
  },
  {
   "cell_type": "code",
   "execution_count": null,
   "metadata": {
    "collapsed": false,
    "deletable": true,
    "editable": true
   },
   "outputs": [],
   "source": [
    "plt.plot(annctr[:, 2], annctr[:, 5])\n",
    "plt.scatter(annctr[:, 2], annctr[:, 5], c=annealInfo['chis'].sum(1), s=50)\n",
    "plt.colorbar()"
   ]
  },
  {
   "cell_type": "code",
   "execution_count": null,
   "metadata": {
    "collapsed": true,
    "deletable": true,
    "editable": true
   },
   "outputs": [],
   "source": []
  },
  {
   "cell_type": "code",
   "execution_count": null,
   "metadata": {
    "collapsed": false,
    "deletable": true,
    "editable": true
   },
   "outputs": [],
   "source": [
    "res_track = mcfitter.tracker.track_particle(mcres['x0'], mcres['y0'], mcres['z0'], \n",
    "                                            mcres['enu0'], mcres['azi0'], mcres['pol0'])\n",
    "xyz = mcfitter.preprocess(raw_xyz)"
   ]
  },
  {
   "cell_type": "code",
   "execution_count": null,
   "metadata": {
    "collapsed": false,
    "deletable": true,
    "editable": true
   },
   "outputs": [],
   "source": [
    "res_track = mcfitter.tracker.track_particle(anres['x0'], anres['y0'], anres['z0'], \n",
    "                                            anres['enu0'], anres['azi0'], anres['pol0'])\n",
    "xyz = mcfitter.preprocess(raw_xyz)"
   ]
  },
  {
   "cell_type": "code",
   "execution_count": null,
   "metadata": {
    "collapsed": false,
    "deletable": true,
    "editable": true
   },
   "outputs": [],
   "source": [
    "good_param_idx"
   ]
  },
  {
   "cell_type": "code",
   "execution_count": null,
   "metadata": {
    "collapsed": false,
    "deletable": true,
    "editable": true
   },
   "outputs": [],
   "source": [
    "good_params = all_params[good_param_idx.astype('int')]\n",
    "all_params = all_params.reshape((mcfitter.num_iters, mcfitter.num_pts, 6))"
   ]
  },
  {
   "cell_type": "code",
   "execution_count": null,
   "metadata": {
    "collapsed": false,
    "deletable": true,
    "editable": true
   },
   "outputs": [],
   "source": [
    "lines = plt.plot(minChis, 'o-')\n",
    "plt.plot(minChis.sum(1))\n",
    "plt.semilogy()\n",
    "plt.legend(lines, ('pos', 'en', 'vert'))"
   ]
  },
  {
   "cell_type": "code",
   "execution_count": null,
   "metadata": {
    "collapsed": false,
    "deletable": true,
    "editable": true
   },
   "outputs": [],
   "source": [
    "for v, l in zip(good_params.T, ['x', 'y', 'z', 'en', 'azi', 'pol', 'bmag']):\n",
    "    plt.plot(v / v[0], label=l)\n",
    "plt.legend(loc=4)"
   ]
  },
  {
   "cell_type": "code",
   "execution_count": null,
   "metadata": {
    "collapsed": false,
    "deletable": true,
    "editable": true
   },
   "outputs": [],
   "source": [
    "fig, ax = plt.subplots(3, 2, sharex=True)\n",
    "\n",
    "plt.sca(ax[0, 0])\n",
    "plt.plot(np.ravel(all_params[:, :, 0]), ',')\n",
    "plt.text(0.95, 0.9, 'x', transform=plt.gca().transAxes, ha='right', va='top', fontdict={'fontsize': 18})\n",
    "plt.sca(ax[1, 0])\n",
    "plt.plot(np.ravel(all_params[:, :, 1]), ',')\n",
    "plt.text(0.95, 0.9, 'y', transform=plt.gca().transAxes, ha='right', va='top', fontdict={'fontsize': 18})\n",
    "plt.sca(ax[2, 0])\n",
    "plt.plot(np.ravel(all_params[:, :, 2]), ',')\n",
    "plt.text(0.95, 0.9, 'z', transform=plt.gca().transAxes, ha='right', va='top', fontdict={'fontsize': 18})\n",
    "# plt.hlines(zi, *plt.xlim())\n",
    "plt.sca(ax[0, 1])\n",
    "plt.plot(np.ravel(all_params[:, :, 3]), ',')\n",
    "plt.text(0.95, 0.9, 'E', transform=plt.gca().transAxes, ha='right', va='top', fontdict={'fontsize': 18})\n",
    "# plt.hlines(eni, *plt.xlim())\n",
    "plt.sca(ax[1, 1])\n",
    "plt.plot(np.ravel(all_params[:, :, 4]), ',')\n",
    "plt.text(0.95, 0.9, 'φ', transform=plt.gca().transAxes, ha='right', va='top', fontdict={'fontsize': 18})\n",
    "# plt.hlines(azii, *plt.xlim())\n",
    "plt.sca(ax[2, 1])\n",
    "plt.plot(np.ravel(all_params[:, :, 5]), ',')\n",
    "plt.text(0.95, 0.9, 'θ', transform=plt.gca().transAxes, ha='right', va='top', fontdict={'fontsize': 18})\n",
    "\n",
    "# plt.hlines(poli, *plt.xlim())\n",
    "\n",
    "sns.despine()\n",
    "\n",
    "plt.tight_layout()\n",
    "# plt.savefig('/Users/josh/Desktop/yassid poster/mcsamples.pdf', transparent=True)"
   ]
  },
  {
   "cell_type": "code",
   "execution_count": null,
   "metadata": {
    "collapsed": false,
    "deletable": true,
    "editable": true
   },
   "outputs": [],
   "source": [
    "mcres"
   ]
  },
  {
   "cell_type": "code",
   "execution_count": null,
   "metadata": {
    "collapsed": true,
    "deletable": true,
    "editable": true
   },
   "outputs": [],
   "source": [
    "# ###### HAND FIT #######################\n",
    "\n",
    "# mcres = {'azi0': -2.9030341276714813,\n",
    "#  'brho': 0.1925244050145264,\n",
    "#  'curv_ctr_x': -29.376684318652973,\n",
    "#  'curv_ctr_y': 131.77785709153548,\n",
    "#  'curv_en': 1.7752282320983397,\n",
    "#  'enChi2': 1.715910334525202,\n",
    "#  'enu0': 2.1282424755195235,\n",
    "#  'lin_beam_int': 602.1791411838143,\n",
    "#  'lin_chi2': 8.746921435794643,\n",
    "#  'lin_scat_ang': 1.152373719692896,\n",
    "#  'pol0': 2.010,\n",
    "#  'posChi2': 0.0,\n",
    "#  'rad_curv': 106.61546521529228,\n",
    "#  'vertChi2': 0.0,\n",
    "#  'x0': 0.005477232206347699,\n",
    "#  'y0': 0.024059177731298485,\n",
    "#  'z0': 0.613}\n",
    "\n",
    "# res_track = mcfitter.tracker.track_particle(mcres['x0'], mcres['y0'], mcres['z0'], \n",
    "#                                             mcres['enu0'], mcres['azi0'], mcres['pol0'])\n",
    "# xyz = mcfitter.preprocess(raw_xyz)"
   ]
  },
  {
   "cell_type": "code",
   "execution_count": null,
   "metadata": {
    "collapsed": false,
    "deletable": true,
    "editable": true
   },
   "outputs": [],
   "source": [
    "kine_vert_en = find_kine_vert_en(46*p_mc2, 1*p_mc2, pi - mcres['pol0'], mcres['enu0']) / 46\n",
    "vert_en = find_vertex_energy(mcres['z0'] * 1000) / 46\n",
    "print('Kin vert en:', kine_vert_en)\n",
    "print('Pos vert en:', vert_en)\n",
    "print('      Delta:', kine_vert_en - vert_en)"
   ]
  },
  {
   "cell_type": "code",
   "execution_count": null,
   "metadata": {
    "collapsed": false,
    "deletable": true,
    "editable": true
   },
   "outputs": [],
   "source": [
    "plt.plot(xyz.u / 1000, xyz.v / 1000, '.')\n",
    "plt.plot(res_track[:, 0], res_track[:, 1])\n",
    "plt.gca().set_aspect(1)\n",
    "# plt.axis([-0.275, 0.275, -0.275, 0.275])\n",
    "# ths = np.linspace(0, 2*pi, 100)\n",
    "# plt.plot(0.275 * np.cos(ths), 0.275 * np.sin(ths), 'r--', linewidth=1)"
   ]
  },
  {
   "cell_type": "code",
   "execution_count": null,
   "metadata": {
    "collapsed": false,
    "deletable": true,
    "editable": true
   },
   "outputs": [],
   "source": [
    "m = 1# 0.85\n",
    "b = 0# 0.05\n",
    "\n",
    "plt.plot(xyz.w / 1000 * m + b, xyz.v / 1000, 'b.')\n",
    "plt.plot(res_track[:, 2], res_track[:, 1], 'g')\n",
    "\n",
    "plt.plot(xyz.w / 1000 * m + b, xyz.u / 1000, 'r.')\n",
    "plt.plot(res_track[:, 2], res_track[:, 0], 'm')\n",
    "# plt.gca().set_aspect(1)"
   ]
  },
  {
   "cell_type": "code",
   "execution_count": null,
   "metadata": {
    "collapsed": false,
    "deletable": true,
    "editable": true
   },
   "outputs": [],
   "source": [
    "plt.plot(xyz.w / 1000, np.hypot(xyz.u, xyz.v) / 1000, 'b.')\n",
    "plt.plot(res_track[:, 2], np.hypot(res_track[:, 0], res_track[:, 1]), 'g-')"
   ]
  },
  {
   "cell_type": "code",
   "execution_count": null,
   "metadata": {
    "collapsed": false,
    "deletable": true,
    "editable": true
   },
   "outputs": [],
   "source": [
    "mcres"
   ]
  },
  {
   "cell_type": "code",
   "execution_count": null,
   "metadata": {
    "collapsed": false,
    "deletable": true,
    "editable": true
   },
   "outputs": [],
   "source": [
    "(pi-mcres['pol0']) / degrees"
   ]
  },
  {
   "cell_type": "code",
   "execution_count": null,
   "metadata": {
    "collapsed": true,
    "deletable": true,
    "editable": true
   },
   "outputs": [],
   "source": [
    "# %matplotlib notebook"
   ]
  },
  {
   "cell_type": "code",
   "execution_count": null,
   "metadata": {
    "collapsed": false,
    "deletable": true,
    "editable": true
   },
   "outputs": [],
   "source": [
    "with sns.axes_style('white'):\n",
    "    fig = plt.figure()\n",
    "    ax = fig.add_subplot(111, projection='3d')\n",
    "    ax.plot(*res_track[:, :3].T, 'k')\n",
    "    ax.scatter(xyz.u / 1000, xyz.v / 1000, xyz.w / 1000)\n",
    "    ax.set_aspect(1)\n",
    "    \n",
    "#     plt.savefig('/Users/josh/Desktop/yassid poster/3d.pdf', transparent=True)"
   ]
  },
  {
   "cell_type": "code",
   "execution_count": null,
   "metadata": {
    "collapsed": true,
    "deletable": true,
    "editable": true
   },
   "outputs": [],
   "source": [
    "sns.set_style('ticks')"
   ]
  },
  {
   "cell_type": "code",
   "execution_count": null,
   "metadata": {
    "collapsed": false,
    "deletable": true,
    "editable": true
   },
   "outputs": [],
   "source": [
    "### fig, ax = plt.subplots(2, 2, figsize=(12, 10))\n",
    "# fig.subplots_adjust(hspace=0.4, wspace=0.4)\n",
    "ax[0, 0].plot(xyz.w / 1000, xyz.u / 1000, '.')\n",
    "ax[0, 0].plot(res_track[:, 2], res_track[:, 0], 'k')\n",
    "ax[0, 0].set_xlabel('z [m]')\n",
    "ax[0, 0].set_ylabel('x [m]')\n",
    "\n",
    "ax[0, 1].plot(xyz.w / 1000, xyz.v / 1000, '.')\n",
    "ax[0, 1].plot(res_track[:, 2], res_track[:, 1], 'k')\n",
    "ax[0, 1].set_xlabel('z [m]')\n",
    "ax[0, 1].set_ylabel('y [m]')\n",
    "\n",
    "ax[1, 0].plot(xyz.w/1000, np.hypot(xyz.u, xyz.v) / 1000, '.')\n",
    "ax[1, 0].plot(res_track[:, 2], np.hypot(res_track[:, 0], res_track[:, 1]), 'k')\n",
    "ax[1, 0].set_xlabel('z [m]')\n",
    "ax[1, 0].set_ylabel('$\\sqrt{x^2 + y^2}$ [m]')\n",
    "\n",
    "ax[1, 1].plot(xyz.u / 1000, xyz.v / 1000, '.')\n",
    "ax[1, 1].plot(res_track[:, 0], res_track[:, 1], 'k')\n",
    "ths = np.linspace(0, 2*pi, 100)\n",
    "# ax[1, 1].plot(mcres['rad_curv']/1000 * np.cos(ths) + mcres['curv_ctr_x']/1000, \n",
    "#               mcres['rad_curv']/1000 * np.sin(ths) + mcres['curv_ctr_y']/1000, 'r--')\n",
    "# ax[1, 1].plot(cu/1000, cv/1000, 'k+', mew=1.5)\n",
    "ax[1, 1].plot(mcres['curv_ctr_x']/1000, mcres['curv_ctr_y']/1000, 'ro')\n",
    "ax[1, 1].set_aspect(1)\n",
    "ax[1, 1].set_xlabel('x [m]')\n",
    "ax[1, 1].set_ylabel('y [m]')\n",
    "\n",
    "sns.despine()\n",
    "\n",
    "plt.tight_layout()\n",
    "# plt.savefig('/Users/josh/Desktop/Figures/fit_{}-{}.pdf'.format(run_num, evt_id), transparent=True)"
   ]
  },
  {
   "cell_type": "code",
   "execution_count": null,
   "metadata": {
    "collapsed": true,
    "deletable": true,
    "editable": true
   },
   "outputs": [],
   "source": []
  },
  {
   "cell_type": "code",
   "execution_count": null,
   "metadata": {
    "collapsed": false,
    "deletable": true,
    "editable": true
   },
   "outputs": [],
   "source": [
    "hits.max()"
   ]
  },
  {
   "cell_type": "code",
   "execution_count": null,
   "metadata": {
    "collapsed": false,
    "deletable": true,
    "editable": true
   },
   "outputs": [],
   "source": [
    "hits2 = hits.copy()\n",
    "hits2[lowg_pads] += 100\n",
    "pytpc.tpcplot.pad_plot(hits2)\n",
    "# plt.savefig('/Users/josh/Desktop/Figures/hits_{}-{}.pdf'.format(run_num, evt_id), transparent=True)"
   ]
  },
  {
   "cell_type": "code",
   "execution_count": null,
   "metadata": {
    "collapsed": false,
    "deletable": true,
    "editable": true
   },
   "outputs": [],
   "source": [
    "res_hits = mcfitter.evtgen.make_hit_pattern(res_track[:, :3], res_track[:, 4])\n",
    "res_hits[lowg_pads] += 100\n",
    "pytpc.tpcplot.pad_plot(res_hits)"
   ]
  },
  {
   "cell_type": "code",
   "execution_count": null,
   "metadata": {
    "collapsed": false,
    "deletable": true,
    "editable": true
   },
   "outputs": [],
   "source": [
    "hitdiff = mcfitter.minimizer.find_hit_pattern_deviation(res_track[:, :3], res_track[:, 4], hits)\n",
    "scale_limit = abs(hitdiff).max() * 0.1\n",
    "fig, sm = pytpc.tpcplot.pad_plot(hitdiff, scale='linear', cmap='RdBu', cmin=-scale_limit, cmax=scale_limit)\n",
    "plt.colorbar(sm)"
   ]
  },
  {
   "cell_type": "code",
   "execution_count": null,
   "metadata": {
    "collapsed": false,
    "deletable": true,
    "editable": true
   },
   "outputs": [],
   "source": [
    "res_track2 = mcfitter.tracker.track_particle(mcres['x0'], mcres['y0'], mcres['z0'], \n",
    "                                            mcres['enu0'], mcres['azi0'], mcres['pol0'])\n",
    "\n",
    "hitdiff = mcfitter.minimizer.find_hit_pattern_deviation(res_track2[:, :3], res_track2[:, 4], hits)\n",
    "scale_limit = abs(hitdiff).max() * 0.1\n",
    "fig, sm = pytpc.tpcplot.pad_plot(hitdiff, scale='linear', cmap='RdBu', cmin=-scale_limit, cmax=scale_limit,\n",
    "                                 pads=pytpc.generate_pad_plane(-108*degrees))\n",
    "plt.colorbar(sm)"
   ]
  },
  {
   "cell_type": "code",
   "execution_count": null,
   "metadata": {
    "collapsed": false,
    "deletable": true,
    "editable": true
   },
   "outputs": [],
   "source": [
    "vd"
   ]
  },
  {
   "cell_type": "markdown",
   "metadata": {
    "deletable": true,
    "editable": true
   },
   "source": [
    "# Convergence testing"
   ]
  },
  {
   "cell_type": "code",
   "execution_count": null,
   "metadata": {
    "collapsed": true,
    "deletable": true,
    "editable": true
   },
   "outputs": [],
   "source": [
    "# anfitter.sigma = np.array([0.01, 0.01, 0.01, 0.05, 5*degrees, 5*degrees])\n",
    "anfitter.annealer.num_iters = 100\n",
    "anfitter.annealer.initial_temp = 2.0\n",
    "anfitter.annealer.cool_rate = 0.95\n",
    "# anfitter.annealer.max_calls_per_iter = 2000\n",
    "# anfitter.annealer.posChi2Enabled = True\n",
    "# anfitter.annealer.enChi2Enabled = True\n",
    "# anfitter.annealer.vertChi2Enabled = True"
   ]
  },
  {
   "cell_type": "code",
   "execution_count": null,
   "metadata": {
    "collapsed": false,
    "deletable": true,
    "editable": true
   },
   "outputs": [],
   "source": [
    "all_mcres = []\n",
    "for i in range(5):\n",
    "    mcres, minChis, all_params, good_param_idx = mcfitter.process_event(raw_xyz, cx, cy, return_details=True)\n",
    "#     mcres = anfitter.process_event(raw_xyz, cx, cy)\n",
    "    all_mcres.append(mcres)"
   ]
  },
  {
   "cell_type": "code",
   "execution_count": null,
   "metadata": {
    "collapsed": false,
    "deletable": true,
    "editable": true
   },
   "outputs": [],
   "source": [
    "all_mcres_multi = []\n",
    "all_aninfo = []\n",
    "for i in range(10):\n",
    "#     mcres, minChis, all_params, good_param_idx = mcfitter.process_event(raw_xyz, cx, cy, return_details=True)\n",
    "    mcres, aninfo = anfitter.process_event(raw_xyz, cx, cy, multi=False, return_details=True)\n",
    "    all_mcres_multi.append(mcres)\n",
    "    all_aninfo.append(aninfo)"
   ]
  },
  {
   "cell_type": "code",
   "execution_count": null,
   "metadata": {
    "collapsed": true,
    "deletable": true,
    "editable": true
   },
   "outputs": [],
   "source": [
    "all_mcres = pd.DataFrame(all_mcres)\n",
    "all_mcres['totChi2'] = all_mcres.posChi2 + all_mcres.enChi2 + all_mcres.vertChi2"
   ]
  },
  {
   "cell_type": "code",
   "execution_count": null,
   "metadata": {
    "collapsed": true,
    "deletable": true,
    "editable": true
   },
   "outputs": [],
   "source": [
    "all_mcres_multi = pd.DataFrame(all_mcres_multi)\n",
    "all_mcres_multi['totChi2'] = all_mcres_multi.posChi2 + all_mcres_multi.enChi2 + all_mcres_multi.vertChi2"
   ]
  },
  {
   "cell_type": "code",
   "execution_count": null,
   "metadata": {
    "collapsed": false,
    "deletable": true,
    "editable": true
   },
   "outputs": [],
   "source": [
    "best = all_mcres.totChi2.argmin()\n",
    "all_mcres.loc[best]"
   ]
  },
  {
   "cell_type": "code",
   "execution_count": null,
   "metadata": {
    "collapsed": false,
    "deletable": true,
    "editable": true
   },
   "outputs": [],
   "source": [
    "best1 = all_mcres_multi.totChi2.argmin()\n",
    "all_mcres_multi.loc[best]"
   ]
  },
  {
   "cell_type": "code",
   "execution_count": null,
   "metadata": {
    "collapsed": false,
    "deletable": true,
    "editable": true
   },
   "outputs": [],
   "source": [
    "all_mcres_multi.loc[best1] - all_mcres.loc[best]"
   ]
  },
  {
   "cell_type": "code",
   "execution_count": null,
   "metadata": {
    "collapsed": false,
    "deletable": true,
    "editable": true
   },
   "outputs": [],
   "source": [
    "all_mcres.max() - all_mcres.min()"
   ]
  },
  {
   "cell_type": "code",
   "execution_count": null,
   "metadata": {
    "collapsed": false,
    "deletable": true,
    "editable": true
   },
   "outputs": [],
   "source": [
    "diff = all_mcres_multi.max() - all_mcres_multi.min()\n",
    "diff[['x0', 'y0', 'z0', 'enu0', 'azi0', 'pol0']]"
   ]
  },
  {
   "cell_type": "code",
   "execution_count": null,
   "metadata": {
    "collapsed": false,
    "deletable": true,
    "editable": true
   },
   "outputs": [],
   "source": [
    "best = np.argmin(all_mcres.totChi2)\n",
    "for i, mcres in all_mcres.iterrows():\n",
    "    res_track = mcfitter.tracker.track_particle(mcres['x0'], mcres['y0'], mcres['z0'], \n",
    "                                                mcres['enu0'], mcres['azi0'], mcres['pol0'])\n",
    "    if i == best:\n",
    "        props = dict(linewidth=2, alpha=1.0, color='k')\n",
    "    else:\n",
    "        props = dict(linewidth=1, alpha=0.2, color='b')\n",
    "    plt.plot(res_track[:, 0] * 1000, res_track[:, 1] * 1000, **props)\n",
    "plt.plot(xyz.u, xyz.v, '.')\n",
    "plt.gca().set_aspect(1)"
   ]
  },
  {
   "cell_type": "code",
   "execution_count": null,
   "metadata": {
    "collapsed": false,
    "deletable": true,
    "editable": true
   },
   "outputs": [],
   "source": [
    "best = np.argmin(all_mcres_multi.totChi2)\n",
    "for i, mcres in all_mcres_multi.iterrows():\n",
    "    res_track = mcfitter.tracker.track_particle(mcres['x0'], mcres['y0'], mcres['z0'], \n",
    "                                                mcres['enu0'], mcres['azi0'], mcres['pol0'])\n",
    "    if i == best:\n",
    "        props = dict(linewidth=2, alpha=1.0, color='k')\n",
    "    else:\n",
    "        props = dict(linewidth=1, alpha=0.2, color='b')\n",
    "    plt.plot(res_track[:, 0] * 1000, res_track[:, 1] * 1000, **props)\n",
    "plt.plot(xyz.u, xyz.v, '.')\n",
    "plt.gca().set_aspect(1)"
   ]
  },
  {
   "cell_type": "code",
   "execution_count": null,
   "metadata": {
    "collapsed": false,
    "deletable": true,
    "editable": true
   },
   "outputs": [],
   "source": [
    "best = np.argmin(all_mcres_multi.totChi2)\n",
    "for i, mcres in all_mcres_multi.iterrows():\n",
    "    res_track = mcfitter.tracker.track_particle(mcres['x0'], mcres['y0'], mcres['z0'], \n",
    "                                                mcres['enu0'], mcres['azi0'], mcres['pol0'])\n",
    "    if i == best:\n",
    "        props = dict(linewidth=2, alpha=1.0, color='k')\n",
    "    else:\n",
    "        props = dict(linewidth=1, alpha=0.2, color='b')\n",
    "    plt.plot(res_track[:, 2] * 1000, res_track[:, 1] * 1000, **props)\n",
    "plt.plot(xyz.w, xyz.v, '.')\n",
    "plt.gca().set_aspect(1)"
   ]
  },
  {
   "cell_type": "code",
   "execution_count": null,
   "metadata": {
    "collapsed": false,
    "deletable": true,
    "editable": true
   },
   "outputs": [],
   "source": [
    "anfitter.sigma[[3, 5]]"
   ]
  },
  {
   "cell_type": "code",
   "execution_count": null,
   "metadata": {
    "collapsed": false,
    "deletable": true,
    "editable": true
   },
   "outputs": [],
   "source": [
    "v1 = 3\n",
    "v2 = 5\n",
    "for a in all_aninfo:\n",
    "    c = a['ctrs']\n",
    "    x = a['chis']\n",
    "    plt.plot(c[:, v1], c[:, v2])\n",
    "    plt.scatter(c[:, v1], c[:, v2], c=x.sum(1), s=50, zorder=100)\n",
    "    plt.scatter(c[-1, v1], c[-1, v2], c=x.sum(1)[-1], s=50, linewidth=1.5, zorder=200)\n",
    "    plt.scatter(c[0, v1], c[0, v2], c=x.sum(1)[-1], s=50, linewidth=1.5, edgecolor='r', zorder=200)\n",
    "plt.colorbar()\n",
    "# plt.xlim(2.0, 2.2)\n",
    "# plt.ylim(2.0, 2.1)"
   ]
  },
  {
   "cell_type": "code",
   "execution_count": null,
   "metadata": {
    "collapsed": false,
    "deletable": true,
    "editable": true
   },
   "outputs": [],
   "source": [
    "with sns.axes_style('white'):\n",
    "    fig = plt.figure()\n",
    "    ax = fig.add_subplot(111, projection='3d')\n",
    "    v1 = 3\n",
    "    v2 = 5\n",
    "    v3 = 4\n",
    "    for a in all_aninfo:\n",
    "        c = a['ctrs']\n",
    "        x = a['chis']\n",
    "        ax.plot(c[:, v1], c[:, v2], c[:, v3])\n",
    "        ax.scatter(c[:, v1], c[:, v2], c[:, v3], c=x.sum(1), s=50, zorder=100)\n",
    "#         ax.scatter(c[-1, v1], c[-1, v2], c[-1, v3], c=x.sum(1)[-1], s=50, linewidth=1.5, zorder=200)\n",
    "#         ax.scatter(c[0, v1], c[0, v2], c[0, v3], c=x.sum(1)[-1], s=50, linewidth=1.5, edgecolor='r', zorder=200)"
   ]
  },
  {
   "cell_type": "code",
   "execution_count": null,
   "metadata": {
    "collapsed": false,
    "deletable": true,
    "editable": true
   },
   "outputs": [],
   "source": [
    "sns.boxplot(y='z0', data=all_mcres)"
   ]
  },
  {
   "cell_type": "code",
   "execution_count": null,
   "metadata": {
    "collapsed": false,
    "deletable": true,
    "editable": true
   },
   "outputs": [],
   "source": [
    "plt.plot(all_mcres.enu0, 'o')"
   ]
  },
  {
   "cell_type": "markdown",
   "metadata": {
    "deletable": true,
    "editable": true
   },
   "source": [
    "# Test on other functions"
   ]
  },
  {
   "cell_type": "code",
   "execution_count": null,
   "metadata": {
    "collapsed": true,
    "deletable": true,
    "editable": true
   },
   "outputs": [],
   "source": [
    "def sphere(p):\n",
    "    return np.sum(p**2)\n",
    "def rosen2d(p, a, b):\n",
    "    return (a - p[0])**2 + b * (p[1] - p[0]**2)**2\n",
    "def egg_crate(p):\n",
    "    return -(p[1]+47)*np.sin(np.sqrt(np.abs(p[1]+p[0]/2+47))) - p[1]*np.sin(np.sqrt(np.abs(p[0]-(p[1]+47))))"
   ]
  },
  {
   "cell_type": "code",
   "execution_count": null,
   "metadata": {
    "collapsed": false,
    "deletable": true,
    "editable": true
   },
   "outputs": [],
   "source": [
    "guess = np.array([-3.0, 3.0])\n",
    "delta = np.full(2, 1.0)\n",
    "\n",
    "# ctr, min_chis, good_params, all_params = montecarlo.mcmin(sphere, guess, delta, \n",
    "#                                                           print_status=True, detailed_output=True,\n",
    "#                                                           red_factor=0.80, num_iters=10, num_pts=100)\n",
    "# good_params, min_chis = metro(sphere, guess, delta, T0=10, cool_rate=0.5, num_iters=20)\n",
    "good_params = [guess]\n",
    "optres = minimize(sphere, guess, callback=good_params.append)\n",
    "print(optres)\n",
    "good_params = np.array(good_params)\n",
    "# print(good_params[-1])\n",
    "# plt.plot(min_chis)"
   ]
  },
  {
   "cell_type": "code",
   "execution_count": null,
   "metadata": {
    "collapsed": false,
    "deletable": true,
    "editable": true
   },
   "outputs": [],
   "source": [
    "X, Y = np.meshgrid(np.linspace(-5, 5, 100), np.linspace(-5, 5, 100))\n",
    "\n",
    "XY = np.column_stack((X.ravel(), Y.ravel()))\n",
    "\n",
    "Z = np.apply_along_axis(sphere, axis=1, arr=XY)\n",
    "Z = Z.reshape(X.shape)\n",
    "\n",
    "plt.plot(good_params[:, 0], good_params[:, 1], 'ro-')\n",
    "plt.contour(X, Y, Z, levels=np.linspace(0, 50, 20), colors='k', linewidths=1)\n",
    "plt.gca().set_aspect(1)"
   ]
  },
  {
   "cell_type": "code",
   "execution_count": null,
   "metadata": {
    "collapsed": false,
    "deletable": true,
    "editable": true
   },
   "outputs": [],
   "source": [
    "guess = np.array([-0.5, -1.5])\n",
    "delta = np.full(2, 0.75)\n",
    "\n",
    "# ctr, min_chis, good_params, all_params = montecarlo.mcmin(rosen2d, guess, delta, func_kwargs={'a': 1, 'b': 100},\n",
    "#                                                           print_status=True, detailed_output=True,\n",
    "#                                                           red_factor=0.90, num_iters=50, num_pts=500)\n",
    "\n",
    "# good_params, min_chis = metro(rosen2d, guess, delta, T0=4, cool_rate=0.50, num_iters=20, max_calls=10000,\n",
    "#                               func_kwargs={'a': 1, 'b': 100})\n",
    "\n",
    "good_params = [guess]\n",
    "optres = minimize(rosen2d, guess, args=(1, 100),callback=good_params.append)\n",
    "print(optres)\n",
    "good_params = np.array(good_params)\n",
    "\n",
    "# print(good_params[-1])\n",
    "# plt.plot(min_chis)"
   ]
  },
  {
   "cell_type": "code",
   "execution_count": null,
   "metadata": {
    "collapsed": false,
    "deletable": true,
    "editable": true
   },
   "outputs": [],
   "source": [
    "X, Y = np.meshgrid(np.linspace(-2, 2, 100), np.linspace(-2, 2, 100))\n",
    "\n",
    "XY = np.column_stack((X.ravel(), Y.ravel()))\n",
    "\n",
    "Z = np.apply_along_axis(rosen2d, axis=1, arr=XY, a=1, b=100)\n",
    "Z = Z.reshape(X.shape)\n",
    "\n",
    "plt.plot(good_params[:, 0], good_params[:, 1], 'r')\n",
    "plt.contour(X, Y, Z, levels=[0.1, 1, 10, 50, 100, 150, 200, 250, 300, 350, 400], colors='k', linewidths=1)"
   ]
  },
  {
   "cell_type": "code",
   "execution_count": null,
   "metadata": {
    "collapsed": false,
    "deletable": true,
    "editable": true
   },
   "outputs": [],
   "source": [
    "guess = np.array([300., 450.])\n",
    "delta = np.full(2, 200.0)\n",
    "\n",
    "# ctr, min_chis, good_params, all_params = montecarlo.mcmin(egg_crate, guess, delta,\n",
    "#                                                           print_status=True, detailed_output=True,\n",
    "#                                                           red_factor=0.99, num_iters=10, num_pts=200)\n",
    "# good_params, min_chis = metro(egg_crate, guess, delta, T0=100, cool_rate=0.5, num_iters=15, max_calls=10000)\n",
    "\n",
    "good_params = [guess]\n",
    "optres = minimize(egg_crate, guess, callback=good_params.append)\n",
    "print(optres)\n",
    "good_params = np.array(good_params)\n",
    "\n",
    "# good_params = np.insert(good_params, 0, guess, axis=0)\n",
    "# print(ctr)\n",
    "# plt.plot(min_chis)"
   ]
  },
  {
   "cell_type": "code",
   "execution_count": null,
   "metadata": {
    "collapsed": false,
    "deletable": true,
    "editable": true
   },
   "outputs": [],
   "source": [
    "X, Y = np.meshgrid(np.linspace(200, 512, 100), np.linspace(200, 512, 100))\n",
    "\n",
    "XY = np.column_stack((X.ravel(), Y.ravel()))\n",
    "\n",
    "Z = np.apply_along_axis(egg_crate, axis=1, arr=XY)\n",
    "Z = Z.reshape(X.shape)\n",
    "\n",
    "plt.plot(good_params[:, 0], good_params[:, 1], 'ro-')\n",
    "plt.contour(X, Y, Z, levels=np.linspace(-1000, 1000, 10), colors='k', linewidths=1)\n",
    "# plt.plot([512], [404.2319], 'co', markersize=20)\n",
    "\n",
    "plt.gca().set_aspect(1)"
   ]
  },
  {
   "cell_type": "code",
   "execution_count": null,
   "metadata": {
    "collapsed": true,
    "deletable": true,
    "editable": true
   },
   "outputs": [],
   "source": []
  }
 ],
 "metadata": {
  "kernelspec": {
   "display_name": "Python 3",
   "language": "python",
   "name": "python3"
  },
  "language_info": {
   "codemirror_mode": {
    "name": "ipython",
    "version": 3
   },
   "file_extension": ".py",
   "mimetype": "text/x-python",
   "name": "python",
   "nbconvert_exporter": "python",
   "pygments_lexer": "ipython3",
   "version": "3.6.0"
  }
 },
 "nbformat": 4,
 "nbformat_minor": 0
}
