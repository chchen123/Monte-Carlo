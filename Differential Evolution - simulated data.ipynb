{
 "cells": [
  {
   "cell_type": "code",
   "execution_count": null,
   "metadata": {},
   "outputs": [],
   "source": [
    "%matplotlib inline"
   ]
  },
  {
   "cell_type": "code",
   "execution_count": null,
   "metadata": {},
   "outputs": [],
   "source": [
    "import numpy as np\n",
    "import pytpc\n",
    "from pytpc.fitting.mcopt_wrapper import Minimizer\n",
    "from pytpc.constants import *\n",
    "import pytpc.simulation\n",
    "import pytpc.tpcplot\n",
    "import pytpc.vmedata\n",
    "import pandas as pd\n",
    "import matplotlib.pyplot as plt\n",
    "import scipy.signal\n",
    "import h5py\n",
    "from scipy.interpolate import UnivariateSpline, interp1d\n",
    "from scipy.optimize import differential_evolution, minimize, basinhopping, leastsq\n",
    "from mpl_toolkits.mplot3d import Axes3D\n",
    "from matplotlib.colors import LogNorm\n",
    "import os\n",
    "#import cmaps\n",
    "import yaml\n",
    "import scipy\n",
    "from copy import copy, deepcopy\n",
    "from pytpc.utilities import find_exclusion_region, read_lookup_table\n",
    "import math\n",
    "from effsim.paramgen import uniform_param_generator\n",
    "from effsim.effsim import EventSimulator\n",
    "from math import pi"
   ]
  },
  {
   "cell_type": "code",
   "execution_count": null,
   "metadata": {},
   "outputs": [],
   "source": [
    "with open('/home/chen/Real Data/config_e15503a_runs_92-104.yml', 'r') as f:\n",
    "    config = yaml.load(f)\n",
    "\n",
    "mcfitter = pytpc.fitting.MCFitter(config)\n",
    "num_iters = config['num_iters']\n",
    "num_pts = config['num_pts']\n",
    "red_factor = config['red_factor']\n",
    "tilt = config['tilt'] * degrees \n",
    "#clock = config['clock']\n",
    "#beam_en = config['beam_enu0']\n",
    "padplane = mcfitter.padplane\n",
    "efield = np.array(config['efield'])\n",
    "bfield = np.array(config['bfield'])\n",
    "#tmat = pytpc.utilities.tilt_matrix(-tilt)\n",
    "# efield_uvw = tmat.dot(efield)\n",
    "# bfield_uvw = tmat.dot(bfield)\n",
    "mass_num = config['mass_num']\n",
    "charge_num = config['charge_num']\n",
    "gas = pytpc.gases.InterpolatedGas(config['gas_name'], config['gas_pressure'])\n",
    "beam_enu0 = config['beam_enu0']\n",
    "beam_charge = config['beam_charge']\n",
    "beam_mass = config['beam_mass']\n",
    "max_en = config['tracker_max_en']\n",
    "vd = np.array(config['vd'])\n",
    "max_beam_angle = (config['max_beam_angle']*math.pi)/180\n",
    "beam_origin_z = config['beam_origin_z']\n",
    "#beampads = np.fromfile(config['beampads_path'], sep=',', dtype='int')"
   ]
  },
  {
   "cell_type": "code",
   "execution_count": null,
   "metadata": {},
   "outputs": [],
   "source": [
    "sim = EventSimulator(config)\n",
    "num_evts = 100\n",
    "pgen = uniform_param_generator(beam_enu0, beam_mass, beam_charge, mass_num, max_beam_angle, beam_origin_z, gas, num_evts)\n"
   ]
  },
  {
   "cell_type": "code",
   "execution_count": null,
   "metadata": {},
   "outputs": [],
   "source": [
    "p = next(pgen)\n",
    "print(p)\n",
    "#good_1 = [7.78580357e-03, 2.05914266e-03, 5.69142329e-01, 1.44299609e+00, 4.21022635e+00, 1.98290584e+00]"
   ]
  },
  {
   "cell_type": "code",
   "execution_count": null,
   "metadata": {},
   "outputs": [],
   "source": [
    "evtRandom, ctr = sim.make_event(p[0][0], p[0][1], p[0][2], p[0][3], p[0][4], p[0][5])\n",
    "pyevtRandom = sim.convert_event(evtRandom)\n",
    "Random_xyzs = pyevtRandom.xyzs(peaks_only=True, return_pads=True, baseline_correction=True, cg_times=True)"
   ]
  },
  {
   "cell_type": "code",
   "execution_count": null,
   "metadata": {},
   "outputs": [],
   "source": [
    "Random_xy = Random_xyzs[:, 0:2]\n",
    "Random_xy_C = np.ascontiguousarray(Random_xy, dtype=np.double)\n",
    "Random_cx, Random_cy = pytpc.cleaning.hough_circle(Random_xy_C)\n",
    "#The center of curvature of the track, in mm.\n",
    "Random_uvw, (Random_cu, Random_cv) = mcfitter.preprocess(Random_xyzs[:, 0:5], center=(Random_cx, Random_cy), rotate_pads=True, drop_beampads=True)\n",
    "Random_uvw_values = Random_uvw.values"
   ]
  },
  {
   "cell_type": "code",
   "execution_count": null,
   "metadata": {},
   "outputs": [],
   "source": [
    "plt.plot(Random_uvw_values[:, 7], Random_uvw_values[:, 5], 'r.')\n",
    "plt.show()\n",
    "plt.plot(Random_uvw_values[:, 7], Random_uvw_values[:, 6], 'r.')\n",
    "plt.show()\n",
    "plt.plot(Random_uvw_values[:, 5], Random_uvw_values[:, 6], 'r.')\n",
    "\n"
   ]
  },
  {
   "cell_type": "code",
   "execution_count": null,
   "metadata": {},
   "outputs": [],
   "source": [
    "uvw_sorted = Random_uvw.sort_values(by='w', ascending=True)\n",
    "prefit_data = uvw_sorted.iloc[-len(uvw_sorted) // 4:].copy()\n",
    "prefit_res = mcfitter.linear_prefit(prefit_data, Random_cu, Random_cv)\n",
    "ctr0 = mcfitter.guess_parameters(prefit_res)\n",
    "exp_pos = uvw_sorted[['u', 'v', 'w']].values.copy() / 1000"
   ]
  },
  {
   "cell_type": "code",
   "execution_count": null,
   "metadata": {},
   "outputs": [],
   "source": [
    "exp_hits = np.zeros(10240)\n",
    "for a, p in Random_uvw[['a', 'pad']].values:\n",
    "    exp_hits[int(p)] = a\n",
    "    \n",
    "print(exp_hits)"
   ]
  },
  {
   "cell_type": "code",
   "execution_count": null,
   "metadata": {},
   "outputs": [],
   "source": [
    "minimizer = Minimizer(mcfitter.tracker, mcfitter.evtgen, num_iters, num_pts, red_factor)"
   ]
  },
  {
   "cell_type": "code",
   "execution_count": null,
   "metadata": {},
   "outputs": [],
   "source": [
    "def f(y):\n",
    "    ctr = np.zeros([1,6])\n",
    "    ctr[0] = y\n",
    "    chi_result = minimizer.run_tracks(ctr, exp_pos, exp_hits)\n",
    "    return sum(chi_result[0])\n",
    "eps = np.sqrt(np.finfo(np.float).eps)\n",
    "def jacobian(x):\n",
    "    return scipy.optimize.approx_fprime(x,f,eps)"
   ]
  },
  {
   "cell_type": "code",
   "execution_count": null,
   "metadata": {},
   "outputs": [],
   "source": [
    "i = 1\n",
    "def callbackF(x, convergence=10):\n",
    "    global i\n",
    "    print('{0:4d}{1: 3.6f}{2: 3.6f}{3: 3.6f}{4: 3.6f}{5: 3.6f}{6: 3.6f}{7: 3.6f}'.format(i,x[0],x[1],x[2],x[3],x[4],x[5],f(x)))\n",
    "    i += 1\n",
    "bounds = [(-1,1), (-1, 1), (0, 1), (0,5), (-2 * pi, 2 * pi), (-2 * pi, 2 * pi)]\n",
    "results = scipy.optimize.differential_evolution(f, bounds, callback=callbackF, maxiter=10000)"
   ]
  },
  {
   "cell_type": "code",
   "execution_count": null,
   "metadata": {},
   "outputs": [],
   "source": [
    "results.fun"
   ]
  },
  {
   "cell_type": "code",
   "execution_count": null,
   "metadata": {},
   "outputs": [],
   "source": [
    "dfe = results.x\n",
    "print(dfe)"
   ]
  },
  {
   "cell_type": "code",
   "execution_count": null,
   "metadata": {},
   "outputs": [],
   "source": [
    "sim = EventSimulator(config)\n",
    "evtClean, ctr = sim.make_event(dfe[0], dfe[1], dfe[2], dfe[3], dfe[4], dfe[5])\n",
    "pyevtClean = sim.convert_event(evtClean)\n",
    "sim_xyzs = pyevtClean.xyzs(peaks_only=True, return_pads=True, baseline_correction=True, cg_times=True)"
   ]
  },
  {
   "cell_type": "code",
   "execution_count": null,
   "metadata": {},
   "outputs": [],
   "source": [
    "sim_xy = sim_xyzs[:, 0:2]\n",
    "sim_xy_C = np.ascontiguousarray(sim_xy, dtype=np.double)\n",
    "sim_cx, sim_cy = pytpc.cleaning.hough_circle(sim_xy_C)\n",
    "sim_uvw, (sim_cu, sim_cv) = mcfitter.preprocess(sim_xyzs[:, 0:5], center=(sim_cx, sim_cy), rotate_pads=True)\n",
    "sim_uvw_values = sim_uvw.values"
   ]
  },
  {
   "cell_type": "code",
   "execution_count": null,
   "metadata": {},
   "outputs": [],
   "source": [
    "plt.plot(Random_uvw_values[:, 7], Random_uvw_values[:, 5], 'r.')\n",
    "plt.plot(sim_uvw_values[:, 7], sim_uvw_values[:, 5], 'b.')\n",
    "plt.show()\n",
    "plt.plot(Random_uvw_values[:, 7], Random_uvw_values[:, 6], 'r.')\n",
    "plt.plot(sim_uvw_values[:, 7], sim_uvw_values[:, 6], 'b.')\n",
    "plt.show()\n",
    "plt.plot(Random_uvw_values[:, 5], Random_uvw_values[:, 6], 'r.')\n",
    "plt.plot(sim_uvw_values[:, 5], sim_uvw_values[:, 6], 'b.')\n",
    "plt.show()\n",
    "\n",
    "\n",
    "fig = plt.figure(figsize=(20, 14))\n",
    "\n",
    "ax = fig.add_subplot(2, 3, 1, projection='3d') #2,3,1 meaning the plot will take the 1st position on a grid with 2 rows and three columns\n",
    "ax.scatter(Random_uvw_values[:,5],Random_uvw_values[:,6],Random_uvw_values[:,7])\n",
    "\n",
    "ax2 = fig.add_subplot(2, 3, 2, projection='3d')\n",
    "ax2.scatter(sim_uvw_values[:,5],sim_uvw_values[:,6],sim_uvw_values[:,7])"
   ]
  },
  {
   "cell_type": "code",
   "execution_count": null,
   "metadata": {},
   "outputs": [],
   "source": []
  }
 ],
 "metadata": {
  "kernelspec": {
   "display_name": "Python 3",
   "language": "python",
   "name": "python3"
  },
  "language_info": {
   "codemirror_mode": {
    "name": "ipython",
    "version": 3
   },
   "file_extension": ".py",
   "mimetype": "text/x-python",
   "name": "python",
   "nbconvert_exporter": "python",
   "pygments_lexer": "ipython3",
   "version": "3.6.5"
  }
 },
 "nbformat": 4,
 "nbformat_minor": 2
}
