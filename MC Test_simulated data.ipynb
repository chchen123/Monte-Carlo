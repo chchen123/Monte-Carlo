{
 "cells": [
  {
   "cell_type": "code",
   "execution_count": null,
   "metadata": {},
   "outputs": [],
   "source": [
    "%matplotlib inline"
   ]
  },
  {
   "cell_type": "code",
   "execution_count": null,
   "metadata": {},
   "outputs": [],
   "source": [
    "import numpy as np\n",
    "import pytpc\n",
    "from pytpc.constants import *\n",
    "import pytpc.simulation\n",
    "import pandas as pd\n",
    "import matplotlib.pyplot as plt\n",
    "from mpl_toolkits.mplot3d import Axes3D\n",
    "import yaml\n",
    "from pytpc.utilities import find_exclusion_region, read_lookup_table\n",
    "import math\n",
    "from effsim.paramgen import uniform_param_generator\n",
    "from effsim.effsim import EventSimulator"
   ]
  },
  {
   "cell_type": "code",
   "execution_count": null,
   "metadata": {},
   "outputs": [],
   "source": [
    "with open('/home/chen/Real Data/config_e15503a_runs_92-104.yml', 'r') as f:\n",
    "    config = yaml.load(f)\n",
    "\n",
    "mcfitter = pytpc.fitting.MCFitter(config)"
   ]
  },
  {
   "cell_type": "code",
   "execution_count": null,
   "metadata": {},
   "outputs": [],
   "source": [
    "tilt = config['tilt'] * degrees \n",
    "#clock = config['clock']\n",
    "#beam_en = config['beam_enu0']\n",
    "padplane = mcfitter.padplane\n",
    "efield = np.array(config['efield'])\n",
    "bfield = np.array(config['bfield'])\n",
    "#tmat = pytpc.utilities.tilt_matrix(-tilt)\n",
    "# efield_uvw = tmat.dot(efield)\n",
    "# bfield_uvw = tmat.dot(bfield)\n",
    "mass_num = config['mass_num']\n",
    "charge_num = config['charge_num']\n",
    "gas = pytpc.gases.InterpolatedGas(config['gas_name'], config['gas_pressure'])\n",
    "beam_enu0 = config['beam_enu0']\n",
    "beam_charge = config['beam_charge']\n",
    "beam_mass = config['beam_mass']\n",
    "max_en = config['tracker_max_en']\n",
    "vd = np.array(config['vd'])\n",
    "max_beam_angle = (config['max_beam_angle']*math.pi)/180\n",
    "beam_origin_z = config['beam_origin_z']\n",
    "#beampads = np.fromfile(config['beampads_path'], sep=',', dtype='int')"
   ]
  },
  {
   "cell_type": "code",
   "execution_count": null,
   "metadata": {},
   "outputs": [],
   "source": [
    "sim = EventSimulator(config)"
   ]
  },
  {
   "cell_type": "code",
   "execution_count": null,
   "metadata": {},
   "outputs": [],
   "source": [
    "num_evts = 100\n",
    "pgen = uniform_param_generator(beam_enu0, beam_mass, beam_charge, mass_num, max_beam_angle, beam_origin_z, gas, num_evts)\n",
    "p = next(pgen)\n",
    "print(p)"
   ]
  },
  {
   "cell_type": "code",
   "execution_count": null,
   "metadata": {},
   "outputs": [],
   "source": [
    "evtRandom, ctr = sim.make_event(p[0][0], p[0][1], p[0][2], p[0][3], p[0][4], p[0][5])\n",
    "pyevtRandom = sim.convert_event(evtRandom)\n",
    "Random_xyzs = pyevtRandom.xyzs(peaks_only=True, return_pads=True, baseline_correction=True, cg_times=True)"
   ]
  },
  {
   "cell_type": "code",
   "execution_count": null,
   "metadata": {},
   "outputs": [],
   "source": [
    "Random_xy = Random_xyzs[:, 0:2]\n",
    "Random_xy_C = np.ascontiguousarray(Random_xy, dtype=np.double)\n",
    "Random_cx, Random_cy = pytpc.cleaning.hough_circle(Random_xy_C)\n",
    "#The center of curvature of the track, in mm.\n",
    "\n",
    "Random_uvw, (Random_cu, Random_cv) = mcfitter.preprocess(Random_xyzs[:, 0:5], center=(Random_cx, Random_cy), rotate_pads=True)\n",
    "Random_uvw_values = Random_uvw.values\n",
    "print(Random_cu, Random_cv)\n",
    "\n",
    "Random_mcres, Random_minChis, Random_all_params, Random_good_param_idx = mcfitter.process_event(Random_uvw, Random_cu, Random_cv, return_details=True)\n",
    "print(Random_mcres)"
   ]
  },
  {
   "cell_type": "code",
   "execution_count": null,
   "metadata": {},
   "outputs": [],
   "source": [
    "evtClean, ctr = sim.make_event(Random_mcres['x0'], Random_mcres['y0'], Random_mcres['z0'], Random_mcres['enu0'], Random_mcres['azi0'], Random_mcres['pol0'])\n",
    "#evtClean, ctr = sim.make_event(p[0][0], p[0][1], p[0][2], p[0][3], p[0][4], p[0][5])\n",
    "\n",
    "pyevtClean = sim.convert_event(evtClean)\n",
    "sim_xyzs = pyevtClean.xyzs(peaks_only=True,   return_pads=True, baseline_correction=True, cg_times=True)"
   ]
  },
  {
   "cell_type": "code",
   "execution_count": null,
   "metadata": {},
   "outputs": [],
   "source": [
    "plt.plot(Random_xyzs[:, 2], Random_xyzs[:, 0], 'r.')\n",
    "plt.plot(sim_xyzs[:, 2], sim_xyzs[:, 0], 'b.')\n",
    "plt.show()\n",
    "plt.plot(Random_xyzs[:, 2], Random_xyzs[:, 1], 'r.')\n",
    "plt.plot(sim_xyzs[:, 2], sim_xyzs[:, 1], 'b.')\n",
    "plt.show()\n",
    "plt.plot(Random_xyzs[:, 0], Random_xyzs[:, 1], 'r.')\n",
    "plt.plot(sim_xyzs[:, 0], sim_xyzs[:, 1], 'b.')\n",
    "plt.show()\n",
    "\n",
    "\n",
    "\n",
    "fig = plt.figure(figsize=(20, 14))\n",
    "\n",
    "ax = fig.add_subplot(2, 3, 1, projection='3d') #2,3,1 meaning the plot will take the 1st position on a grid with 2 rows and three columns\n",
    "ax.scatter(Random_xyzs[:,0],Random_xyzs[:,1],Random_xyzs[:,2])\n",
    "\n",
    "ax2 = fig.add_subplot(2, 3, 2, projection='3d')\n",
    "ax2.scatter(sim_xyzs[:,0],sim_xyzs[:,1],sim_xyzs[:,2])"
   ]
  },
  {
   "cell_type": "code",
   "execution_count": null,
   "metadata": {},
   "outputs": [],
   "source": []
  }
 ],
 "metadata": {
  "kernelspec": {
   "display_name": "Python 3",
   "language": "python",
   "name": "python3"
  },
  "language_info": {
   "codemirror_mode": {
    "name": "ipython",
    "version": 3
   },
   "file_extension": ".py",
   "mimetype": "text/x-python",
   "name": "python",
   "nbconvert_exporter": "python",
   "pygments_lexer": "ipython3",
   "version": "3.6.5"
  }
 },
 "nbformat": 4,
 "nbformat_minor": 2
}
