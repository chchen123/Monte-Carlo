{
 "cells": [
  {
   "cell_type": "code",
   "execution_count": 1,
   "metadata": {},
   "outputs": [
    {
     "name": "stderr",
     "output_type": "stream",
     "text": [
      "/home/chen/anaconda3/lib/python3.6/site-packages/h5py/__init__.py:36: FutureWarning: Conversion of the second argument of issubdtype from `float` to `np.floating` is deprecated. In future, it will be treated as `np.float64 == np.dtype(float).type`.\n",
      "  from ._conv import register_converters as _register_converters\n"
     ]
    }
   ],
   "source": [
    "import numpy as np\n",
    "import pytpc\n",
    "from pytpc.fitting.mcopt_wrapper import Minimizer\n",
    "from pytpc.constants import *\n",
    "import pytpc.simulation\n",
    "import pytpc.tpcplot\n",
    "import pytpc.vmedata\n",
    "import pandas as pd\n",
    "import matplotlib.pyplot as plt\n",
    "import scipy.signal\n",
    "import h5py\n",
    "from scipy.interpolate import UnivariateSpline, interp1d\n",
    "from scipy.optimize import differential_evolution, minimize, basinhopping, leastsq\n",
    "from mpl_toolkits.mplot3d import Axes3D\n",
    "from matplotlib.colors import LogNorm\n",
    "import os\n",
    "#import cmaps\n",
    "import yaml\n",
    "import scipy\n",
    "from copy import copy, deepcopy\n",
    "from pytpc.utilities import find_exclusion_region, read_lookup_table\n",
    "import math\n",
    "from effsim.paramgen import uniform_param_generator\n",
    "from effsim.effsim import EventSimulator\n",
    "from math import pi"
   ]
  },
  {
   "cell_type": "code",
   "execution_count": 2,
   "metadata": {},
   "outputs": [],
   "source": [
    "with open('/home/chen/Real Data/config_e15503a_runs_92-104.yml', 'r') as f:\n",
    "    config = yaml.load(f)\n",
    "\n",
    "mcfitter = pytpc.fitting.MCFitter(config)\n",
    "num_iters = config['num_iters']\n",
    "num_pts = config['num_pts']\n",
    "red_factor = config['red_factor']"
   ]
  },
  {
   "cell_type": "code",
   "execution_count": 3,
   "metadata": {},
   "outputs": [],
   "source": [
    "#Good events for run_0102 are: 689, 765, 896, 305, 504, 575, 456, 299, 399, 156, 231, 7832, 1568, 1354, 789, 485, 2456, 357, 4568, 1448, 6587, 3578, 745, 430\n",
    "full = h5py.File('/home/chen/Real Data/clean_run_0102.h5', 'r')\n",
    "evt_ID = 299\n",
    "dataset_name = '/clean'\n",
    "evt_full = full[dataset_name]\n",
    "xyzs_h5 = evt_full[str(evt_ID)]\n",
    "\n",
    "xyzs = np.array(xyzs_h5)\n",
    "\n",
    "#delete the points which are farther away from the center of the spiral\n",
    "del_list = []\n",
    "\n",
    "for i in range(len(xyzs)):\n",
    "    if (xyzs[i,6]) > 150.0:\n",
    "        del_list.append(i)\n",
    "cut_xyzs = np.delete(xyzs,del_list,axis=0)"
   ]
  },
  {
   "cell_type": "code",
   "execution_count": 4,
   "metadata": {},
   "outputs": [],
   "source": [
    "xy = xyzs[:, 0:2]\n",
    "xy_C = np.ascontiguousarray(xy, dtype=np.double)\n",
    "cx, cy = pytpc.cleaning.hough_circle(xy_C)\n",
    "\n",
    "cut_xy = cut_xyzs[:, 0:2]\n",
    "cut_xy_C = np.ascontiguousarray(cut_xy, dtype=np.double)\n",
    "cut_cx, cut_cy = pytpc.cleaning.hough_circle(cut_xy_C)"
   ]
  },
  {
   "cell_type": "code",
   "execution_count": 5,
   "metadata": {},
   "outputs": [],
   "source": [
    "uvw, (cu, cv) = mcfitter.preprocess(xyzs[:,0:5], center=(cx, cy), rotate_pads=False)\n",
    "uvw_values = uvw.values\n",
    "\n",
    "cut_uvw, (cut_cu, cut_cv) = mcfitter.preprocess(cut_xyzs[:,0:5], center=(cut_cx, cut_cy), rotate_pads=False) # get calibrated set of data\n",
    "cut_uvw_values = cut_uvw.values"
   ]
  },
  {
   "cell_type": "code",
   "execution_count": 6,
   "metadata": {},
   "outputs": [],
   "source": [
    "uvw_sorted = uvw.sort_values(by='w', ascending=True)\n",
    "prefit_data = uvw_sorted.iloc[-len(uvw_sorted) // 4:].copy()\n",
    "prefit_res = mcfitter.linear_prefit(prefit_data, cu, cv)\n",
    "ctr0 = mcfitter.guess_parameters(prefit_res)\n",
    "exp_pos = uvw_sorted[['u', 'v', 'w']].values.copy() / 1000\n",
    "\n",
    "cut_uvw_sorted = cut_uvw.sort_values(by='w', ascending=True)\n",
    "cut_prefit_data = cut_uvw_sorted.iloc[-len(cut_uvw_sorted) // 4:].copy()\n",
    "cut_prefit_res = mcfitter.linear_prefit(cut_prefit_data, cut_cu, cut_cv)\n",
    "cut_ctr0 = mcfitter.guess_parameters(cut_prefit_res)\n",
    "cut_exp_pos = cut_uvw_sorted[['u', 'v', 'w']].values.copy() / 1000"
   ]
  },
  {
   "cell_type": "code",
   "execution_count": 7,
   "metadata": {},
   "outputs": [],
   "source": [
    "exp_hits = np.zeros(10240)\n",
    "for a, p in uvw[['a', 'pad']].values:\n",
    "    exp_hits[int(p)] = a\n",
    "    \n",
    "cut_exp_hits = np.zeros(10240)\n",
    "for a, p in cut_uvw[['a', 'pad']].values:\n",
    "    cut_exp_hits[int(p)] = a"
   ]
  },
  {
   "cell_type": "code",
   "execution_count": 8,
   "metadata": {},
   "outputs": [],
   "source": [
    "minimizer = Minimizer(mcfitter.tracker, mcfitter.evtgen, num_iters, num_pts, red_factor)"
   ]
  },
  {
   "cell_type": "code",
   "execution_count": 9,
   "metadata": {},
   "outputs": [],
   "source": [
    "def f(y):\n",
    "    ctr = np.zeros([1,6])\n",
    "    ctr[0] = y\n",
    "    chi_result = minimizer.run_tracks(ctr, exp_pos, exp_hits)\n",
    "    return sum(chi_result[0])\n",
    "eps = np.sqrt(np.finfo(np.float).eps)\n",
    "def jacobian(x):\n",
    "    return scipy.optimize.approx_fprime(x,f,eps)"
   ]
  },
  {
   "cell_type": "code",
   "execution_count": 10,
   "metadata": {},
   "outputs": [],
   "source": [
    "def cut_f(y):\n",
    "    ctr = np.zeros([1,6])\n",
    "    ctr[0] = y\n",
    "    chi_result = minimizer.run_tracks(ctr, cut_exp_pos, cut_exp_hits)\n",
    "    return sum(chi_result[0])\n",
    "eps = np.sqrt(np.finfo(np.float).eps)\n",
    "def cut_jacobian(x):\n",
    "    return scipy.optimize.approx_fprime(x,cut_f,eps)"
   ]
  },
  {
   "cell_type": "code",
   "execution_count": 11,
   "metadata": {},
   "outputs": [],
   "source": [
    "i = 1\n",
    "def callbackF(x):\n",
    "    global i\n",
    "    print('{0:4d}{1: 3.6f}{2: 3.6f}{3: 3.6f}{4: 3.6f}{5: 3.6f}{6: 3.6f}{7: 3.6f}'.format(i,x[0],x[1],x[2],x[3],x[4],x[5],f(x)))\n",
    "    i += 1   "
   ]
  },
  {
   "cell_type": "code",
   "execution_count": 12,
   "metadata": {},
   "outputs": [],
   "source": [
    "j = 1    \n",
    "def cut_callbackF(x):\n",
    "    global j\n",
    "    print('{0:4d}{1: 3.6f}{2: 3.6f}{3: 3.6f}{4: 3.6f}{5: 3.6f}{6: 3.6f}{7: 3.6f}'.format(j,x[0],x[1],x[2],x[3],x[4],x[5],cut_f(x)))\n",
    "    j += 1  "
   ]
  },
  {
   "cell_type": "code",
   "execution_count": null,
   "metadata": {},
   "outputs": [],
   "source": [
    "scipy.optimize.minimize(f, ctr0, jac=jacobian, method=\"CG\", callback=callbackF)"
   ]
  },
  {
   "cell_type": "code",
   "execution_count": null,
   "metadata": {},
   "outputs": [],
   "source": [
    "scipy.optimize.minimize(cut_f, cut_ctr0, jac=cut_jacobian, method=\"CG\", callback=cut_callbackF)"
   ]
  },
  {
   "cell_type": "code",
   "execution_count": null,
   "metadata": {
    "scrolled": true
   },
   "outputs": [],
   "source": [
    "nm = scipy.optimize.minimize(f, ctr0, method=\"Nelder-Mead\", callback=callbackF)    "
   ]
  },
  {
   "cell_type": "code",
   "execution_count": null,
   "metadata": {},
   "outputs": [],
   "source": [
    "scipy.optimize.minimize(cut_f, cut_ctr0, method=\"Nelder-Mead\", callback=cut_callbackF)"
   ]
  },
  {
   "cell_type": "code",
   "execution_count": null,
   "metadata": {},
   "outputs": [],
   "source": [
    "powell = scipy.optimize.minimize(f, ctr0, method=\"Powell\", callback=callbackF)    "
   ]
  },
  {
   "cell_type": "code",
   "execution_count": null,
   "metadata": {},
   "outputs": [],
   "source": [
    "scipy.optimize.minimize(cut_f, cut_ctr0, method=\"Powell\", callback=cut_callbackF)    "
   ]
  },
  {
   "cell_type": "code",
   "execution_count": null,
   "metadata": {},
   "outputs": [],
   "source": [
    "scipy.optimize.minimize(f, ctr0, method=\"BFGS\", callback=callbackF)    "
   ]
  },
  {
   "cell_type": "code",
   "execution_count": null,
   "metadata": {},
   "outputs": [],
   "source": [
    "scipy.optimize.minimize(cut_f, cut_ctr0, method=\"BFGS\", callback=cut_callbackF)    "
   ]
  },
  {
   "cell_type": "code",
   "execution_count": null,
   "metadata": {},
   "outputs": [],
   "source": [
    "scipy.optimize.minimize(f, ctr0, method=\"Newton-CG\", jac=jacobian, callback=callbackF)    "
   ]
  },
  {
   "cell_type": "code",
   "execution_count": null,
   "metadata": {},
   "outputs": [],
   "source": [
    "scipy.optimize.minimize(cut_f, cut_ctr0, method=\"Newton-CG\", jac=cut_jacobian, callback=cut_callbackF)    "
   ]
  },
  {
   "cell_type": "code",
   "execution_count": null,
   "metadata": {},
   "outputs": [],
   "source": [
    "l_bfgs_b = scipy.optimize.minimize(f, ctr0, method=\"L-BFGS-B\", jac=jacobian, callback=callbackF)  "
   ]
  },
  {
   "cell_type": "code",
   "execution_count": null,
   "metadata": {},
   "outputs": [],
   "source": [
    "scipy.optimize.minimize(cut_f, cut_ctr0, method=\"L-BFGS-B\", jac=cut_jacobian, callback=cut_callbackF)  "
   ]
  },
  {
   "cell_type": "code",
   "execution_count": null,
   "metadata": {},
   "outputs": [],
   "source": [
    "tnc = scipy.optimize.minimize(f, ctr0, method=\"TNC\", jac=jacobian, callback=callbackF)  "
   ]
  },
  {
   "cell_type": "code",
   "execution_count": null,
   "metadata": {},
   "outputs": [],
   "source": [
    "scipy.optimize.minimize(cut_f, cut_ctr0, method=\"TNC\", jac=cut_jacobian, callback=cut_callbackF)  "
   ]
  },
  {
   "cell_type": "code",
   "execution_count": null,
   "metadata": {},
   "outputs": [],
   "source": [
    "scipy.optimize.minimize(f, ctr0, method=\"COBYLA\")  "
   ]
  },
  {
   "cell_type": "code",
   "execution_count": null,
   "metadata": {},
   "outputs": [],
   "source": [
    "scipy.optimize.minimize(cut_f, cut_ctr0, method=\"COBYLA\")  "
   ]
  },
  {
   "cell_type": "code",
   "execution_count": null,
   "metadata": {},
   "outputs": [],
   "source": [
    "scipy.optimize.minimize(f, ctr0, method=\"SLSQP\")  "
   ]
  },
  {
   "cell_type": "code",
   "execution_count": null,
   "metadata": {},
   "outputs": [],
   "source": [
    "scipy.optimize.minimize(cut_f, cut_ctr0, method=\"SLSQP\")  "
   ]
  },
  {
   "cell_type": "code",
   "execution_count": 13,
   "metadata": {},
   "outputs": [
    {
     "ename": "AttributeError",
     "evalue": "module 'scipy.optimize' has no attribute 'anneal'",
     "output_type": "error",
     "traceback": [
      "\u001b[0;31m---------------------------------------------------------------------------\u001b[0m",
      "\u001b[0;31mAttributeError\u001b[0m                            Traceback (most recent call last)",
      "\u001b[0;32m<ipython-input-13-19b562fb7494>\u001b[0m in \u001b[0;36m<module>\u001b[0;34m()\u001b[0m\n\u001b[0;32m----> 1\u001b[0;31m \u001b[0mscipy\u001b[0m\u001b[0;34m.\u001b[0m\u001b[0moptimize\u001b[0m\u001b[0;34m.\u001b[0m\u001b[0manneal\u001b[0m\u001b[0;34m(\u001b[0m\u001b[0mf\u001b[0m\u001b[0;34m,\u001b[0m\u001b[0mctr0\u001b[0m\u001b[0;34m)\u001b[0m\u001b[0;34m\u001b[0m\u001b[0m\n\u001b[0m",
      "\u001b[0;31mAttributeError\u001b[0m: module 'scipy.optimize' has no attribute 'anneal'"
     ]
    }
   ],
   "source": [
    "scipy.optimize.anneal(f,ctr0)"
   ]
  },
  {
   "cell_type": "code",
   "execution_count": null,
   "metadata": {},
   "outputs": [],
   "source": [
    "def hessian (x, the_func, epsilon=1e-8):\n",
    "    \"\"\"Numerical approximation to the Hessian\n",
    "    Parameters\n",
    "    ------------\n",
    "    x: array-like\n",
    "        The evaluation point\n",
    "    the_func: function\n",
    "        The function. We assume that the function returns the function\n",
    "value and\n",
    "        the associated gradient as the second return element\n",
    "    epsilon: float\n",
    "        The size of the step\n",
    "    \"\"\"\n",
    "\n",
    "    N = x.size\n",
    "    h = np.zeros((N,N))\n",
    "    df_0 = the_func(x)[1]\n",
    "    for i in xrange(N):\n",
    "        xx0 = 1.*x[i]\n",
    "        x[i] = xx0 + epsilon\n",
    "        df_1 = the_func(x)[1]\n",
    "        h[i,:] = (df_1 - df_0)/epsilon\n",
    "        x[i] = xx0\n",
    "    return h\n",
    "\n",
    "def hess(x):\n",
    "    return hessian(x,f,eps)\n",
    "\n",
    "scipy.optimize.minimize(f, ctr0, method=\"trust-exact\", jac=jacobian, hess=hess)"
   ]
  },
  {
   "cell_type": "code",
   "execution_count": null,
   "metadata": {},
   "outputs": [],
   "source": []
  },
  {
   "cell_type": "code",
   "execution_count": null,
   "metadata": {},
   "outputs": [],
   "source": []
  }
 ],
 "metadata": {
  "kernelspec": {
   "display_name": "Python 3",
   "language": "python",
   "name": "python3"
  },
  "language_info": {
   "codemirror_mode": {
    "name": "ipython",
    "version": 3
   },
   "file_extension": ".py",
   "mimetype": "text/x-python",
   "name": "python",
   "nbconvert_exporter": "python",
   "pygments_lexer": "ipython3",
   "version": "3.6.5"
  }
 },
 "nbformat": 4,
 "nbformat_minor": 2
}
