{
 "cells": [
  {
   "cell_type": "code",
   "execution_count": null,
   "metadata": {},
   "outputs": [],
   "source": [
    "%matplotlib inline"
   ]
  },
  {
   "cell_type": "code",
   "execution_count": null,
   "metadata": {},
   "outputs": [],
   "source": [
    "import numpy as np\n",
    "import pytpc\n",
    "from pytpc.fitting.mcopt_wrapper import Minimizer\n",
    "from pytpc.constants import *\n",
    "import pytpc.simulation\n",
    "import pytpc.tpcplot\n",
    "import pytpc.vmedata\n",
    "import pandas as pd\n",
    "import matplotlib.pyplot as plt\n",
    "import scipy.signal\n",
    "import h5py\n",
    "from scipy.interpolate import UnivariateSpline, interp1d\n",
    "from scipy.optimize import differential_evolution, minimize, basinhopping, leastsq\n",
    "from mpl_toolkits.mplot3d import Axes3D\n",
    "from matplotlib.colors import LogNorm\n",
    "import os\n",
    "#import cmaps\n",
    "import yaml\n",
    "import scipy\n",
    "from copy import copy, deepcopy\n",
    "from pytpc.utilities import find_exclusion_region, read_lookup_table\n",
    "import math\n",
    "from effsim.paramgen import uniform_param_generator\n",
    "from effsim.effsim import EventSimulator\n",
    "from math import pi"
   ]
  },
  {
   "cell_type": "code",
   "execution_count": null,
   "metadata": {},
   "outputs": [],
   "source": [
    "with open('/home/chen/Real Data/config_e15503a_runs_92-104.yml', 'r') as f:\n",
    "    config = yaml.load(f)\n",
    "\n",
    "mcfitter = pytpc.fitting.MCFitter(config)\n",
    "num_iters = config['num_iters']\n",
    "num_pts = config['num_pts']\n",
    "red_factor = config['red_factor']\n",
    "\n",
    "#gd = pytpc.fitting.GDescent(config)"
   ]
  },
  {
   "cell_type": "code",
   "execution_count": null,
   "metadata": {},
   "outputs": [],
   "source": [
    "#Good events for run_0102 are: 689, 765, 896, 305, 504\n",
    "full = h5py.File('/home/chen/Real Data/clean_run_0102.h5', 'r')\n",
    "evt_ID = 896\n",
    "dataset_name = '/clean'\n",
    "evt_full = full[dataset_name]\n",
    "xyzs_h5 = evt_full[str(evt_ID)]\n",
    "\n",
    "xyzs = np.array(xyzs_h5)"
   ]
  },
  {
   "cell_type": "code",
   "execution_count": null,
   "metadata": {},
   "outputs": [],
   "source": [
    "xy = xyzs[:, 0:2]\n",
    "xy_C = np.ascontiguousarray(xy, dtype=np.double)\n",
    "cx, cy = pytpc.cleaning.hough_circle(xy_C)"
   ]
  },
  {
   "cell_type": "code",
   "execution_count": null,
   "metadata": {},
   "outputs": [],
   "source": [
    "uvw, (cu, cv) = mcfitter.preprocess(xyzs[:,0:5], center=(cx, cy), rotate_pads=False)"
   ]
  },
  {
   "cell_type": "code",
   "execution_count": null,
   "metadata": {},
   "outputs": [],
   "source": [
    "uvw_sorted = uvw.sort_values(by='w', ascending=True)\n",
    "prefit_data = uvw_sorted.iloc[-len(uvw_sorted) // 4:].copy()\n",
    "prefit_res = mcfitter.linear_prefit(prefit_data, cu, cv)\n",
    "ctr0 = mcfitter.guess_parameters(prefit_res)\n",
    "exp_pos = uvw_sorted[['u', 'v', 'w']].values.copy() / 1000\n"
   ]
  },
  {
   "cell_type": "code",
   "execution_count": null,
   "metadata": {},
   "outputs": [],
   "source": [
    "exp_hits = np.zeros(10240)\n",
    "for a, p in uvw[['a', 'pad']].values:\n",
    "    exp_hits[int(p)] = a\n",
    "    \n",
    "print(exp_hits)\n"
   ]
  },
  {
   "cell_type": "code",
   "execution_count": null,
   "metadata": {},
   "outputs": [],
   "source": [
    "minimizer = Minimizer(mcfitter.tracker, mcfitter.evtgen, num_iters, num_pts, red_factor)\n",
    "ctr = np.zeros([1,6])\n",
    "ctr[0] = ctr0\n",
    "print(ctr)"
   ]
  },
  {
   "cell_type": "code",
   "execution_count": null,
   "metadata": {},
   "outputs": [],
   "source": [
    "minimizer.run_tracks(ctr, exp_pos, exp_hits)"
   ]
  },
  {
   "cell_type": "code",
   "execution_count": null,
   "metadata": {
    "scrolled": true
   },
   "outputs": [],
   "source": [
    "def f(x):\n",
    "    chi_result = minimizer.run_tracks(x, exp_pos, exp_hits)\n",
    "    return sum(chi_result[0])\n",
    "eps = np.sqrt(np.finfo(np.float).eps)\n",
    "def jacobian(x):\n",
    "    return scipy.optimize.approx_fprime(x,f,eps)\n",
    "\n",
    "print(f(ctr))\n",
    "print(jacobian(ctr)) #Why is there only a single value? should be an array"
   ]
  },
  {
   "cell_type": "code",
   "execution_count": null,
   "metadata": {
    "scrolled": true
   },
   "outputs": [],
   "source": [
    "scipy.optimize.minimize(f, ctr, method=\"CG\")    "
   ]
  },
  {
   "cell_type": "code",
   "execution_count": null,
   "metadata": {
    "scrolled": false
   },
   "outputs": [],
   "source": [
    "scipy.optimize.fmin_bfgs(f, ctr)"
   ]
  },
  {
   "cell_type": "code",
   "execution_count": null,
   "metadata": {},
   "outputs": [],
   "source": [
    "bounds = [(-1,1), (-1, 1), (0, 1), (0,5), (-2 * pi, 2 * pi), (-2 * pi, 2 * pi)]\n",
    "results = scipy.optimize.differential_evolution(f, bounds)"
   ]
  },
  {
   "cell_type": "code",
   "execution_count": null,
   "metadata": {},
   "outputs": [],
   "source": [
    "results.fun"
   ]
  },
  {
   "cell_type": "code",
   "execution_count": null,
   "metadata": {},
   "outputs": [],
   "source": [
    "results.x"
   ]
  },
  {
   "cell_type": "code",
   "execution_count": null,
   "metadata": {},
   "outputs": [],
   "source": []
  }
 ],
 "metadata": {
  "kernelspec": {
   "display_name": "Python 3",
   "language": "python",
   "name": "python3"
  },
  "language_info": {
   "codemirror_mode": {
    "name": "ipython",
    "version": 3
   },
   "file_extension": ".py",
   "mimetype": "text/x-python",
   "name": "python",
   "nbconvert_exporter": "python",
   "pygments_lexer": "ipython3",
   "version": "3.6.5"
  }
 },
 "nbformat": 4,
 "nbformat_minor": 2
}
