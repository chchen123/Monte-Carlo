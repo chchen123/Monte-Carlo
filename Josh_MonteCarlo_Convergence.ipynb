{
 "cells": [
  {
   "cell_type": "code",
   "execution_count": null,
   "metadata": {
    "collapsed": true
   },
   "outputs": [],
   "source": [
    "%matplotlib inline"
   ]
  },
  {
   "cell_type": "code",
   "execution_count": null,
   "metadata": {
    "collapsed": false
   },
   "outputs": [],
   "source": [
    "import numpy as np\n",
    "import pytpc\n",
    "from pytpc.constants import *\n",
    "import pandas as pd\n",
    "import matplotlib.pyplot as plt\n",
    "import seaborn as sns\n",
    "import scipy.signal\n",
    "import h5py\n",
    "from scipy.interpolate import UnivariateSpline, interp1d\n",
    "from scipy.optimize import differential_evolution, minimize, basinhopping, leastsq\n",
    "from mpl_toolkits.mplot3d import Axes3D\n",
    "from matplotlib.colors import LogNorm\n",
    "import os\n",
    "import cmaps\n",
    "import yaml"
   ]
  },
  {
   "cell_type": "code",
   "execution_count": null,
   "metadata": {
    "collapsed": true
   },
   "outputs": [],
   "source": [
    "sns.set_style()\n",
    "sns.set_context('notebook')\n",
    "sns.set_color_codes()"
   ]
  },
  {
   "cell_type": "code",
   "execution_count": null,
   "metadata": {
    "collapsed": true
   },
   "outputs": [],
   "source": [
    "import sys\n",
    "sys.path.append('../fitters/')\n",
    "sys.path.append('../')"
   ]
  },
  {
   "cell_type": "code",
   "execution_count": null,
   "metadata": {
    "collapsed": true
   },
   "outputs": [],
   "source": [
    "from find_inhib import find_exclusion_region, read_lookup_table"
   ]
  },
  {
   "cell_type": "code",
   "execution_count": null,
   "metadata": {
    "collapsed": false
   },
   "outputs": [],
   "source": [
    "import cfit\n",
    "import atmc\n",
    "import fitutils"
   ]
  },
  {
   "cell_type": "code",
   "execution_count": null,
   "metadata": {
    "collapsed": false
   },
   "outputs": [],
   "source": [
    "runtables = pd.read_csv('/Users/josh/Documents/Data/Meta/e15503b/e15503b-rundata-parseable.csv', index_col=0)"
   ]
  },
  {
   "cell_type": "code",
   "execution_count": null,
   "metadata": {
    "collapsed": true
   },
   "outputs": [],
   "source": [
    "def find_proton_params(th3, m1, m2, m3, m4, T):\n",
    "    s = (m1 + m2)**2 + 2 * m2 * T\n",
    "    pcm  = np.sqrt(((s - m1**2 - m2**2)**2 - 4 * m1**2 * m2**2) / (4 * s))\n",
    "    ppcm = np.sqrt(((s - m3**2 - m4**2)**2 - 4 * m3**2 * m4**2) / (4 * s))\n",
    "    chi = np.log((pcm + np.sqrt(m2**2 + pcm**2)) / m2)\n",
    "    E3cm = np.sqrt(ppcm**2 + m3**2)\n",
    "#     print(np.sqrt(s), E3cm - m3)\n",
    "    \n",
    "    coshx = np.cosh(chi)\n",
    "    sinhx = np.sinh(chi)\n",
    "    \n",
    "    root = np.sqrt(coshx**2 * (E3cm**2 + m3**2 * (-coshx**2 + np.cos(th3)**2 * sinhx**2)))\n",
    "    denom = ppcm * (coshx**2 - np.cos(th3)**2 * sinhx**2)\n",
    "    sinthcm = np.sin(th3) * (E3cm * np.cos(th3) * sinhx + root) / denom\n",
    "    p3 = ppcm * sinthcm / np.sin(th3)\n",
    "    E3 = np.sqrt(p3**2 + m3**2)\n",
    "    return sinthcm, E3"
   ]
  },
  {
   "cell_type": "code",
   "execution_count": null,
   "metadata": {
    "collapsed": false
   },
   "outputs": [],
   "source": [
    "lookup = read_lookup_table('/Users/josh/Documents/Data/Meta/e15503b/Lookup20150611.csv')\n",
    "excl_pads, lowg_pads = find_exclusion_region('/Users/josh/Documents/Data/Meta/e15503b/configs/run_0066/configure-e15503b.xcfg',\n",
    "                                  lookup)"
   ]
  },
  {
   "cell_type": "code",
   "execution_count": null,
   "metadata": {
    "collapsed": true
   },
   "outputs": [],
   "source": [
    "def transfer(amp, shape, offset=0):\n",
    "    t = np.arange(512)\n",
    "    f = amp*np.exp(-3*(t-offset)/shape)*np.sin((t-offset)/shape)*((t-offset)/shape)**3 / 0.044\n",
    "    return np.where(t >= offset, f, np.zeros(t.shape))"
   ]
  },
  {
   "cell_type": "markdown",
   "metadata": {},
   "source": [
    "# Pad sizes"
   ]
  },
  {
   "cell_type": "code",
   "execution_count": null,
   "metadata": {
    "collapsed": true
   },
   "outputs": [],
   "source": [
    "pads = pytpc.generate_pad_plane()"
   ]
  },
  {
   "cell_type": "code",
   "execution_count": null,
   "metadata": {
    "collapsed": false
   },
   "outputs": [],
   "source": [
    "bigpads = np.where(np.round(np.abs(pads[:, 1, 1] - pads[:, 0, 1])) > 6)[0]\n",
    "smallpads = np.where(np.round(np.abs(pads[:, 1, 1] - pads[:, 0, 1])) < 6)[0]\n",
    "assert(len(bigpads) + len(smallpads) == 10240)"
   ]
  },
  {
   "cell_type": "markdown",
   "metadata": {},
   "source": [
    "# Read event from results file"
   ]
  },
  {
   "cell_type": "code",
   "execution_count": null,
   "metadata": {
    "collapsed": false
   },
   "outputs": [],
   "source": [
    "goodevts = pd.read_hdf('/Users/josh/Documents/Data/Results/e15503b/cfit/Feb1/results.h5', 'GoodEvtList')"
   ]
  },
  {
   "cell_type": "code",
   "execution_count": null,
   "metadata": {
    "collapsed": true
   },
   "outputs": [],
   "source": [
    "cfres_list = goodevts[(goodevts.run_num == 75)]"
   ]
  },
  {
   "cell_type": "code",
   "execution_count": null,
   "metadata": {
    "collapsed": false
   },
   "outputs": [],
   "source": [
    "# cfres = cfres_list.iloc[25] # troublesome one: iloc 4, run 75, evt 62\n",
    "cfres = cfres_list[(cfres_list.run_num == 75) & (cfres_list.evt_id == 3924)].iloc[0] # troublesome one: iloc 4, run 75, evt 62\n",
    "run_num = int(cfres.run_num)\n",
    "evt_id = int(cfres.evt_id)"
   ]
  },
  {
   "cell_type": "code",
   "execution_count": null,
   "metadata": {
    "collapsed": false
   },
   "outputs": [],
   "source": [
    "run_num, evt_id"
   ]
  },
  {
   "cell_type": "code",
   "execution_count": null,
   "metadata": {
    "collapsed": false
   },
   "outputs": [],
   "source": [
    "print(cfres.kine_en_p, cfres.curv_en_p)\n",
    "print(cfres.kine_en_c12, cfres.curv_en_c12)"
   ]
  },
  {
   "cell_type": "code",
   "execution_count": null,
   "metadata": {
    "collapsed": false
   },
   "outputs": [],
   "source": [
    "with open('../fitters/config_e15503b_macmini.yml', 'r') as f:\n",
    "    config = yaml.load(f)\n",
    "# config['vdmag'] = -2.5\n",
    "# config['tilt'] = 7.0"
   ]
  },
  {
   "cell_type": "code",
   "execution_count": null,
   "metadata": {
    "collapsed": false
   },
   "outputs": [],
   "source": [
    "tilt = config['tilt'] * degrees # 6*degrees\n",
    "clock = config['clock']\n",
    "beam_center = np.array(config['beam_center']) #(-5, -86, 289)  # in uv-space\n",
    "beam_en = config['beam_enu0']\n",
    "\n",
    "efield = np.array(config['efield'])\n",
    "bfield = np.array(config['bfield'])\n",
    "tmat = pytpc.utilities.tilt_matrix(-tilt)\n",
    "# efield_uvw = tmat.dot(efield)\n",
    "# bfield_uvw = tmat.dot(bfield)\n",
    "\n",
    "vd = np.array(config['vd'])\n",
    "beampads = np.fromfile(config['beampads_path'])"
   ]
  },
  {
   "cell_type": "code",
   "execution_count": null,
   "metadata": {
    "collapsed": true
   },
   "outputs": [],
   "source": [
    "with h5py.File('../monte_carlo/LUT.h5', 'r') as hf:\n",
    "    lt = hf['LUT'][:]"
   ]
  },
  {
   "cell_type": "code",
   "execution_count": null,
   "metadata": {
    "collapsed": false
   },
   "outputs": [],
   "source": [
    "padplane = atmc.PadPlane(lt, -0.280, 0.0001, -0.280, 0.0001, -108*degrees)"
   ]
  },
  {
   "cell_type": "code",
   "execution_count": null,
   "metadata": {
    "collapsed": false
   },
   "outputs": [],
   "source": [
    "circle_fitter = cfit.CircleFitter(config)"
   ]
  },
  {
   "cell_type": "code",
   "execution_count": null,
   "metadata": {
    "collapsed": false
   },
   "outputs": [],
   "source": [
    "with h5py.File('/Users/josh/Documents/Data/Merged/e15503b/peaks/run_{:04d}_peaks_bkd_subtract.h5'.format(run_num), 'r') as h5file:\n",
    "    raw_xyz = h5file['/reduced_get_events/{}'.format(evt_id)][:]"
   ]
  },
  {
   "cell_type": "code",
   "execution_count": null,
   "metadata": {
    "collapsed": false
   },
   "outputs": [],
   "source": [
    "#raw_xyz[np.where(np.in1d(raw_xyz[:, -1], bigpads)), -2] /= 4"
   ]
  },
  {
   "cell_type": "code",
   "execution_count": null,
   "metadata": {
    "collapsed": false
   },
   "outputs": [],
   "source": [
    "hits = np.zeros(10240)\n",
    "hits[raw_xyz[:, -1].astype('int')] = raw_xyz[:, -2]\n",
    "pytpc.pad_plot(hits, scale='linear', cmap=cmaps.viridis)"
   ]
  },
  {
   "cell_type": "code",
   "execution_count": null,
   "metadata": {
    "collapsed": false
   },
   "outputs": [],
   "source": [
    "fig, ax = plt.subplots(2, 1, sharex=True)\n",
    "sigsum = np.zeros(512)\n",
    "for r in raw_xyz:\n",
    "    sigsum[r[2]] += r[3]\n",
    "ax[0].plot(sigsum)\n",
    "\n",
    "ax[1].plot(raw_xyz[:, 2], raw_xyz[:, 1], '.')\n",
    "\n",
    "ax[0].set_xlim(0, 511)"
   ]
  },
  {
   "cell_type": "code",
   "execution_count": null,
   "metadata": {
    "collapsed": true
   },
   "outputs": [],
   "source": [
    "def preprocess(self, raw_xyz):\n",
    "        # Correct for Lorentz angle and find z dimension\n",
    "        # xyz = pd.DataFrame(pytpc.evtdata.calibrate(raw_xyz, self.vd, self.clock), columns=('x', 'y', 'z', 'a', 'pad'))\n",
    "        xyz = pd.DataFrame(pytpc.evtdata.calibrate(raw_xyz[np.where(~np.in1d(raw_xyz[:, -1], self.beampads))],\n",
    "                                                   self.vd, self.clock, tilt=0*degrees),\n",
    "                           columns=('x', 'y', 'z', 'a', 'pad'))\n",
    "\n",
    "        xyz['z'] -= self.beam_center[2]\n",
    "\n",
    "        # Find the untilted coordinates\n",
    "        tmat = pytpc.utilities.tilt_matrix(-self.tilt)\n",
    "        xyz['u'], xyz['v'], xyz['w'] = np.inner(tmat, xyz[['x', 'y', 'z']])\n",
    "        xyz['u'] -= self.beam_center[0]\n",
    "        xyz['v'] -= self.beam_center[1]\n",
    "\n",
    "        return xyz"
   ]
  },
  {
   "cell_type": "code",
   "execution_count": null,
   "metadata": {
    "collapsed": false
   },
   "outputs": [],
   "source": [
    "xyz = preprocess(circle_fitter, raw_xyz)\n",
    "# xyz = pd.DataFrame(raw_xyz, columns=('x', 'y', 'z', 'a', 'pad'))\n",
    "noise = np.sum((np.sqrt(np.sum((xyz.values[:, None, :3] - xyz.values[:, :3])**2, -1)) <= 40) \n",
    "               | np.eye(len(xyz), dtype='bool'), axis=0) < 3\n",
    "\n",
    "xyz = xyz.iloc[~noise].copy().sort_values('z', ascending=False)\n",
    "\n",
    "# xyz = xyz[xyz.w > 0.5 * 1000]"
   ]
  },
  {
   "cell_type": "code",
   "execution_count": null,
   "metadata": {
    "collapsed": false
   },
   "outputs": [],
   "source": [
    "plt.scatter(xyz.u, xyz.v)\n",
    "plt.gca().set_aspect(1)\n",
    "ths = np.linspace(0, 2*pi, 100)\n",
    "plt.plot(cfres.rad_curv * np.cos(ths) + cfres.curv_ctr_x, cfres.rad_curv * np.sin(ths) + cfres.curv_ctr_y, 'r')"
   ]
  },
  {
   "cell_type": "code",
   "execution_count": null,
   "metadata": {
    "collapsed": false
   },
   "outputs": [],
   "source": [
    "cfres"
   ]
  },
  {
   "cell_type": "code",
   "execution_count": null,
   "metadata": {
    "collapsed": false
   },
   "outputs": [],
   "source": [
    "xi = 0\n",
    "yi = 0.005\n",
    "zi = (cfres.beam_int / 1000)# + 0.005\n",
    "eni = cfres.curv_en_p# + 0.4\n",
    "# azii = np.arctan2(xyz.iloc[:10].v, xyz.iloc[:10].u).mean()\n",
    "azii = np.arctan2(-cfres.curv_ctr_y, -cfres.curv_ctr_x) - pi/2\n",
    "poli = (pi - cfres.scat_ang)# + 2*degrees)\n",
    "mass_num = 1\n",
    "charge_num = 1 \n",
    "bc = np.array(beam_center) / 1000\n",
    "\n",
    "gas = pytpc.gases.InterpolatedGas('isobutane', 23.2)\n",
    "\n",
    "tracker = atmc.Tracker(mass_num, charge_num, gas, efield, bfield)\n",
    "evtgen = atmc.EventGenerator(padplane, vd, 12.5, 280e-9, mass_num, 10.56, 2, tilt, bc)\n",
    "\n",
    "# this_bfield = np.array([0, 0, 1.8])"
   ]
  },
  {
   "cell_type": "code",
   "execution_count": null,
   "metadata": {
    "collapsed": false
   },
   "outputs": [],
   "source": [
    "xyz['cx'] = xyz.u - cfres.curv_ctr_x\n",
    "xyz['cy'] = xyz.v - cfres.curv_ctr_y\n",
    "xyz['azi'] = np.unwrap(np.arctan2(xyz.cy, xyz.cx) - pi/2)\n",
    "xyz.azi -= azii"
   ]
  },
  {
   "cell_type": "code",
   "execution_count": null,
   "metadata": {
    "collapsed": false
   },
   "outputs": [],
   "source": [
    "out = tracker.track_particle(xi, yi, zi, eni, azii, poli)"
   ]
  },
  {
   "cell_type": "code",
   "execution_count": null,
   "metadata": {
    "collapsed": false
   },
   "outputs": [],
   "source": [
    "orig2 = pd.DataFrame(out, columns=('x', 'y', 'z', 'time', 'en', 'azi', 'pol'))"
   ]
  },
  {
   "cell_type": "code",
   "execution_count": null,
   "metadata": {
    "collapsed": false
   },
   "outputs": [],
   "source": [
    "plt.plot(orig2.x, orig2.y, 'k', zorder=100)\n",
    "plt.scatter(xyz.u / 1000, xyz.v / 1000)\n",
    "plt.gca().set_aspect(1)\n",
    "ths = np.linspace(0, 2*pi, 100)\n",
    "# plt.plot(cfres.rad_curv/1000 * np.cos(ths) + cfres.curv_ctr_x/1000, \n",
    "#          cfres.rad_curv/1000 * np.sin(ths) + cfres.curv_ctr_y/1000, 'r--', linewidth=1)"
   ]
  },
  {
   "cell_type": "code",
   "execution_count": null,
   "metadata": {
    "collapsed": true
   },
   "outputs": [],
   "source": [
    "stretch = 1.33"
   ]
  },
  {
   "cell_type": "code",
   "execution_count": null,
   "metadata": {
    "collapsed": false
   },
   "outputs": [],
   "source": [
    "# plt.plot((orig.z - zi) * stretch + zi, orig.x, 'k-', zorder=10)\n",
    "plt.plot(orig2.z, orig2.x, 'k', zorder=100)\n",
    "# plt.plot((xyz.w/1000 - zi) / stretch + zi, xyz.u / 1000, 'c.')\n",
    "plt.plot(xyz.w / 1000, xyz.u / 1000, 'b.')\n",
    "\n",
    "# plt.plot((orig.z - zi) * stretch + zi, orig.y, 'k-', zorder=10)\n",
    "plt.plot(orig2.z, orig2.y, 'k', zorder=100)\n",
    "plt.plot(xyz.w / 1000, xyz.v / 1000, 'r.')\n",
    "# plt.plot((xyz.w/1000 - zi) / stretch + zi, xyz.v / 1000, 'y.')"
   ]
  },
  {
   "cell_type": "code",
   "execution_count": null,
   "metadata": {
    "collapsed": false
   },
   "outputs": [],
   "source": [
    "plt.plot(orig2.z, np.hypot(orig2.x, orig2.y), 'k', zorder=100)\n",
    "plt.plot(xyz.w/1000, np.hypot(xyz.u, xyz.v)/1000, 'g.')"
   ]
  },
  {
   "cell_type": "markdown",
   "metadata": {},
   "source": [
    "---\n",
    "# Minimization here"
   ]
  },
  {
   "cell_type": "code",
   "execution_count": null,
   "metadata": {
    "collapsed": false
   },
   "outputs": [],
   "source": [
    "minimizer = atmc.Minimizer(tracker, evtgen)"
   ]
  },
  {
   "cell_type": "code",
   "execution_count": null,
   "metadata": {
    "collapsed": false
   },
   "outputs": [],
   "source": [
    "# real_mesh = np.zeros(512)\n",
    "# for z, a in raw_xyz[:, 2:4]:\n",
    "#     real_mesh += transfer(a, 280/80, z) / 0.044"
   ]
  },
  {
   "cell_type": "code",
   "execution_count": null,
   "metadata": {
    "collapsed": true
   },
   "outputs": [],
   "source": [
    "ctr0 = np.array([xi, yi, zi, eni, azii, poli, 1.75])\n",
    "sigma = np.array([0, 0, 0, 2.0, 10*degrees, 10*degrees, 0.0])\n",
    "\n",
    "true_values = xyz[['u', 'v', 'w']].sort_values(by='w', ascending=True).values.copy()\n",
    "true_values[:, :3] /= 1000\n",
    "true_ens = xyz.sort_values(by='w', ascending=True).a.values.copy() / 1e6 * 10.56\n",
    "\n",
    "real_mesh = np.zeros(512)\n",
    "for z, a in raw_xyz[:, 2:4]:\n",
    "    real_mesh += transfer(a, 280./80, z)"
   ]
  },
  {
   "cell_type": "code",
   "execution_count": null,
   "metadata": {
    "collapsed": true
   },
   "outputs": [],
   "source": [
    "from itertools import combinations, repeat, product"
   ]
  },
  {
   "cell_type": "code",
   "execution_count": null,
   "metadata": {
    "collapsed": true
   },
   "outputs": [],
   "source": [
    "num_iters = [5, 10, 15, 20]\n",
    "num_pts = [100, 200, 300, 400, 500] #repeat(200)\n",
    "red_factor = [0.5, 0.6, 0.7, 0.8, 0.9]"
   ]
  },
  {
   "cell_type": "code",
   "execution_count": null,
   "metadata": {
    "collapsed": false
   },
   "outputs": [],
   "source": [
    "len(list(product(num_iters, num_pts, red_factor))) * 10 * 2"
   ]
  },
  {
   "cell_type": "code",
   "execution_count": null,
   "metadata": {
    "collapsed": false
   },
   "outputs": [],
   "source": [
    "allctrs = []\n",
    "for n, p, r in zip(num_iters, num_pts, red_factor):\n",
    "    ctrs = []\n",
    "    for i in range(10):\n",
    "        ctr, min_chis, en_chis, all_params, good_param_idx = \\\n",
    "            minimizer.minimize(ctr0, sigma, true_values, real_mesh, n, p, r, details=True)\n",
    "        ctrs.append(pd.Series(ctr, index=('x', 'y', 'z', 'en', 'azi', 'pol', 'bmag')))\n",
    "        \n",
    "    ctrs = pd.concat(ctrs, axis=1).T\n",
    "    ctrs['num_iters'] = n\n",
    "    ctrs['num_pts'] = p\n",
    "    ctrs['red_factor'] = r\n",
    "\n",
    "    allctrs.append(ctrs)"
   ]
  },
  {
   "cell_type": "code",
   "execution_count": null,
   "metadata": {
    "collapsed": false
   },
   "outputs": [],
   "source": [
    "min_chis"
   ]
  },
  {
   "cell_type": "code",
   "execution_count": null,
   "metadata": {
    "collapsed": false
   },
   "outputs": [],
   "source": [
    "allctrs = pd.concat(allctrs, axis=0, ignore_index=True)"
   ]
  },
  {
   "cell_type": "code",
   "execution_count": null,
   "metadata": {
    "collapsed": false
   },
   "outputs": [],
   "source": [
    "allctrs.head()"
   ]
  },
  {
   "cell_type": "code",
   "execution_count": null,
   "metadata": {
    "collapsed": false
   },
   "outputs": [],
   "source": [
    "sns.boxplot(data=allctrs, x='num_pts', y='pol')"
   ]
  },
  {
   "cell_type": "code",
   "execution_count": null,
   "metadata": {
    "collapsed": false
   },
   "outputs": [],
   "source": [
    "ctr.azi / degrees"
   ]
  },
  {
   "cell_type": "code",
   "execution_count": null,
   "metadata": {
    "collapsed": false
   },
   "outputs": [],
   "source": [
    "(pi - ctr.pol) / degrees"
   ]
  },
  {
   "cell_type": "code",
   "execution_count": null,
   "metadata": {
    "collapsed": false
   },
   "outputs": [],
   "source": [
    "plt.plot(real_mesh)"
   ]
  },
  {
   "cell_type": "code",
   "execution_count": null,
   "metadata": {
    "collapsed": false
   },
   "outputs": [],
   "source": [
    "good_param_idx"
   ]
  },
  {
   "cell_type": "code",
   "execution_count": null,
   "metadata": {
    "collapsed": false
   },
   "outputs": [],
   "source": [
    "good_params = all_params[good_param_idx.astype('int')]\n",
    "all_params = all_params.reshape((num_iters, num_pts, 7))"
   ]
  },
  {
   "cell_type": "code",
   "execution_count": null,
   "metadata": {
    "collapsed": false
   },
   "outputs": [],
   "source": [
    "min_chis"
   ]
  },
  {
   "cell_type": "code",
   "execution_count": null,
   "metadata": {
    "collapsed": false
   },
   "outputs": [],
   "source": [
    "for v, l in zip(good_params.T, ['x', 'y', 'z', 'en', 'azi', 'pol', 'bmag']):\n",
    "    plt.plot(v / v[0], label=l)\n",
    "plt.legend(loc=4)"
   ]
  },
  {
   "cell_type": "code",
   "execution_count": null,
   "metadata": {
    "collapsed": false
   },
   "outputs": [],
   "source": [
    "plt.subplot(321)\n",
    "plt.plot(np.ravel(all_params[:, :, 0]), ',')\n",
    "plt.subplot(322)\n",
    "plt.plot(np.ravel(all_params[:, :, 1]), ',')\n",
    "plt.subplot(323)\n",
    "plt.plot(np.ravel(all_params[:, :, 2]), ',')\n",
    "plt.hlines(zi, *plt.xlim())\n",
    "plt.subplot(324)\n",
    "plt.plot(np.ravel(all_params[:, :, 3]), ',')\n",
    "plt.hlines(eni, *plt.xlim())\n",
    "plt.subplot(325)\n",
    "plt.plot(np.ravel(all_params[:, :, 4]), ',')\n",
    "plt.hlines(azii, *plt.xlim())\n",
    "plt.subplot(326)\n",
    "plt.plot(np.ravel(all_params[:, :, 5]), ',')\n",
    "plt.hlines(poli, *plt.xlim())"
   ]
  },
  {
   "cell_type": "code",
   "execution_count": null,
   "metadata": {
    "collapsed": false
   },
   "outputs": [],
   "source": [
    "plt.plot(min_chis, 'o-')\n",
    "plt.semilogy()"
   ]
  },
  {
   "cell_type": "code",
   "execution_count": null,
   "metadata": {
    "collapsed": false
   },
   "outputs": [],
   "source": [
    "# ctr = pd.Series(c, index=('x', 'y', 'z', 'en', 'azi', 'pol', 'bmag'))"
   ]
  },
  {
   "cell_type": "code",
   "execution_count": null,
   "metadata": {
    "collapsed": false
   },
   "outputs": [],
   "source": [
    "res_track = tracker.track_particle(ctr.x, ctr.y, ctr.z, ctr.en, ctr.azi, ctr.pol)"
   ]
  },
  {
   "cell_type": "code",
   "execution_count": null,
   "metadata": {
    "collapsed": false
   },
   "outputs": [],
   "source": [
    "plt.plot(res_track[:, 0], res_track[:, 1])\n",
    "# plt.plot(xyz.u / 1000, xyz.v / 1000, '.')\n",
    "plt.plot(true_values[:, 0], true_values[:, 1], '.')\n",
    "plt.gca().set_aspect(1)\n",
    "# plt.axis([-0.275, 0.275, -0.275, 0.275])\n",
    "# ths = np.linspace(0, 2*pi, 100)\n",
    "# plt.plot(0.275 * np.cos(ths), 0.275 * np.sin(ths), 'r--', linewidth=1)"
   ]
  },
  {
   "cell_type": "code",
   "execution_count": null,
   "metadata": {
    "collapsed": false
   },
   "outputs": [],
   "source": [
    "res_track"
   ]
  },
  {
   "cell_type": "code",
   "execution_count": null,
   "metadata": {
    "collapsed": false
   },
   "outputs": [],
   "source": [
    "plt.plot(res_track[:, 2], res_track[:, 1], 'b')\n",
    "# plt.plot(xyz.w / 1000, xyz.v / 1000, 'b.')\n",
    "plt.plot(true_values[:, 2], true_values[:, 1], 'b.')\n",
    "# plt.plot((xyz.w/1000 - zi) / stretch + zi, xyz.v / 1000, 'b.')\n",
    "plt.plot(orig2.z, orig2.y, 'b--')\n",
    "\n",
    "plt.plot(res_track[:, 2], res_track[:, 0], 'r')\n",
    "# plt.plot(xyz.w / 1000, xyz.u / 1000, 'c.')\n",
    "plt.plot(true_values[:, 2], true_values[:, 0], 'r.')\n",
    "# plt.plot((xyz.w/1000 - zi) / stretch + zi, xyz.u / 1000, 'r.')\n",
    "# plt.plot(orig.z, orig.x, 'r--')"
   ]
  },
  {
   "cell_type": "code",
   "execution_count": null,
   "metadata": {
    "collapsed": false
   },
   "outputs": [],
   "source": [
    "devs = atmc.mcopt_wrapper.find_deviations(res_track, true_values)\n",
    "plt.plot(true_values[:, 2], np.abs(devs[:, 0]), 'r.')\n",
    "plt.plot(true_values[:, 2], np.abs(devs[:, 1]), 'b.')\n",
    "cx = np.sum(devs**2, -1)**2 / 1e-4\n",
    "# plt.plot(true_values[:, 2], cx, 'm.')\n",
    "# plt.semilogy()"
   ]
  },
  {
   "cell_type": "code",
   "execution_count": null,
   "metadata": {
    "collapsed": false
   },
   "outputs": [],
   "source": [
    "# evtdict = evtgen.make_event(res_pos, res_ens)\n",
    "# sigs = np.array(list(evtdict.values()))\n",
    "# badpads = set(excl_pads).union(set(lowg_pads))\n",
    "# good_items = filter(lambda x: x not in badpads, evtdict)\n",
    "# res_mesh = np.sum([evtdict[p] for p in good_items], 0)\n",
    "# res_mesh = np.sum(list(evtdict.values()), 0)\n",
    "res_mesh = evtgen.make_mesh_signal(res_track[:, :3].copy(), res_track[:, 4].copy())"
   ]
  },
  {
   "cell_type": "code",
   "execution_count": null,
   "metadata": {
    "collapsed": false
   },
   "outputs": [],
   "source": [
    "plt.plot(real_mesh)\n",
    "plt.plot(res_mesh)"
   ]
  },
  {
   "cell_type": "code",
   "execution_count": null,
   "metadata": {
    "collapsed": false
   },
   "outputs": [],
   "source": [
    "endevs = minimizer.find_energy_deviation(res_track[:, :3].copy(), res_track[:, 4].copy(), real_mesh)\n",
    "plt.plot(endevs)\n",
    "# plt.plot((res_mesh - real_mesh) / (real_mesh.max() * 0.10))"
   ]
  },
  {
   "cell_type": "code",
   "execution_count": null,
   "metadata": {
    "collapsed": false
   },
   "outputs": [],
   "source": [
    "endevs = np.round(endevs, decimals=4)"
   ]
  },
  {
   "cell_type": "code",
   "execution_count": null,
   "metadata": {
    "collapsed": false
   },
   "outputs": [],
   "source": [
    "np.mean(endevs[np.nonzero(endevs)]**2)"
   ]
  },
  {
   "cell_type": "code",
   "execution_count": null,
   "metadata": {
    "collapsed": false
   },
   "outputs": [],
   "source": [
    "# for z, a in raw_xyz[:, 2:4]:\n",
    "#     plt.plot(transfer(a, 280/80, z), linewidth=1)"
   ]
  },
  {
   "cell_type": "code",
   "execution_count": null,
   "metadata": {
    "collapsed": false
   },
   "outputs": [],
   "source": [
    "for v in evtdict.values():\n",
    "    plt.plot(v, linewidth=1)\n",
    "# plt.xlim(150, 200)"
   ]
  },
  {
   "cell_type": "code",
   "execution_count": null,
   "metadata": {
    "collapsed": false
   },
   "outputs": [],
   "source": [
    "plt.plot(list(evtdict.values())[4])"
   ]
  },
  {
   "cell_type": "code",
   "execution_count": null,
   "metadata": {
    "collapsed": false
   },
   "outputs": [],
   "source": [
    "plt.plot(real_mesh)\n",
    "plt.plot(res_mesh)\n",
    "# plt.plot(endevs)"
   ]
  },
  {
   "cell_type": "code",
   "execution_count": null,
   "metadata": {
    "collapsed": false
   },
   "outputs": [],
   "source": [
    "res_hits = np.zeros(10240)\n",
    "for p, v in evtdict.items():\n",
    "    res_hits[p] += v.max()"
   ]
  },
  {
   "cell_type": "code",
   "execution_count": null,
   "metadata": {
    "collapsed": false
   },
   "outputs": [],
   "source": [
    "pytpc.pad_plot(res_hits, scale='linear', cmap=cmaps.viridis)"
   ]
  },
  {
   "cell_type": "code",
   "execution_count": null,
   "metadata": {
    "collapsed": false
   },
   "outputs": [],
   "source": [
    "plt.hist(true_values[:, 2], bins=100);\n",
    "med = np.median(true_values[:, 2])\n",
    "mad = np.median(np.abs(true_values[:, 2] - med))\n",
    "plt.vlines((med, med+2*mad, med-2*mad), *plt.ylim())"
   ]
  },
  {
   "cell_type": "code",
   "execution_count": null,
   "metadata": {
    "collapsed": false
   },
   "outputs": [],
   "source": [
    "zlenTrue = true_values[:, 2].max() - true_values[:, 2].min()\n",
    "zlenSim = res_track[:, 2].max() - res_track[:, 2].min()"
   ]
  },
  {
   "cell_type": "code",
   "execution_count": null,
   "metadata": {
    "collapsed": false
   },
   "outputs": [],
   "source": [
    "np.median(np.sum(devs**2, -1)) + (zlenTrue - zlenSim)**2"
   ]
  },
  {
   "cell_type": "code",
   "execution_count": null,
   "metadata": {
    "collapsed": false
   },
   "outputs": [],
   "source": [
    "plt.plot(res_track[:, 2], np.hypot(res_track[:, 0], res_track[:, 1]))\n",
    "# plt.plot(xyz.w / 1000, (np.hypot(xyz.u, xyz.v) / 1000), '.')\n",
    "plt.plot(true_values[:, 2], np.hypot(true_values[:, 0], true_values[:, 1]), '.')\n",
    "plt.plot(orig2.z, np.hypot(orig2.x, orig2.y), 'r--')"
   ]
  },
  {
   "cell_type": "code",
   "execution_count": null,
   "metadata": {
    "collapsed": false
   },
   "outputs": [],
   "source": [
    "with sns.axes_style('white'):\n",
    "    fig = plt.figure()\n",
    "    ax = fig.add_subplot(111, projection='3d')\n",
    "    ax.scatter3D(xyz.u/1000, xyz.v/1000, xyz.w/1000)\n",
    "    ax.plot3D(res_track[:, 0], res_track[:, 1], res_track[:, 2])\n",
    "#     ax.plot3D(res.x, res.y, res.z, 'r--')\n",
    "    ax.view_init(45, 90)\n",
    "    ax.set_aspect(1)"
   ]
  },
  {
   "cell_type": "code",
   "execution_count": null,
   "metadata": {
    "collapsed": true
   },
   "outputs": [],
   "source": []
  }
 ],
 "metadata": {
  "kernelspec": {
   "display_name": "Python 3",
   "language": "python",
   "name": "python3"
  },
  "language_info": {
   "codemirror_mode": {
    "name": "ipython",
    "version": 3
   },
   "file_extension": ".py",
   "mimetype": "text/x-python",
   "name": "python",
   "nbconvert_exporter": "python",
   "pygments_lexer": "ipython3",
   "version": "3.5.1"
  }
 },
 "nbformat": 4,
 "nbformat_minor": 0
}
