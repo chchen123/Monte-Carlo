{
 "cells": [
  {
   "cell_type": "code",
   "execution_count": 1,
   "metadata": {},
   "outputs": [],
   "source": [
    "import matplotlib.pyplot as plt"
   ]
  },
  {
   "cell_type": "code",
   "execution_count": 2,
   "metadata": {},
   "outputs": [],
   "source": [
    "#original data: event 305, 456, 689, 765, 896, 504, 575, 299, 399, 231, 156, 7832, 1568\n",
    "monte_carlo = [14.519, 19.486, 101.71, 100.05, 99.6, 90.04, 94.98, 36.54, 19.57, 21.06, 99.5, 96.45, 30.01]\n",
    "conjugate_gradient = [24.713, 110.8, 101.71, 100.05, 102.09, 101.06, 105.54, 86.62, 110.82, 39.18, 106.07, 92.45, 101.44]\n",
    "differential_evolution = [14.21, 27.3, 37.7, 35.45, 15.58, 68.06, 40.4, 36.43, 18.97, 19.84, 55.12, 42.15, 20.55]"
   ]
  },
  {
   "cell_type": "code",
   "execution_count": 6,
   "metadata": {},
   "outputs": [
    {
     "data": {
      "text/plain": [
       "(array([3., 2., 1., 1., 3., 1., 0., 1., 0., 1.]),\n",
       " array([14.21 , 19.595, 24.98 , 30.365, 35.75 , 41.135, 46.52 , 51.905,\n",
       "        57.29 , 62.675, 68.06 ]),\n",
       " <a list of 10 Patch objects>)"
      ]
     },
     "execution_count": 6,
     "metadata": {},
     "output_type": "execute_result"
    },
    {
     "data": {
      "image/png": "[encoded data removed]",
      "text/plain": [
       "<Figure size 432x288 with 1 Axes>"
      ]
     },
     "metadata": {},
     "output_type": "display_data"
    }
   ],
   "source": [
    "plt.hist(monte_carlo) #blue\n",
    "plt.hist(conjugate_gradient) #orange\n",
    "plt.hist(differential_evolution) #green"
   ]
  },
  {
   "cell_type": "code",
   "execution_count": 9,
   "metadata": {},
   "outputs": [],
   "source": [
    "#cut_data: event 689, 765, 504, 575, 1568, 7832, 156\n",
    "cut_monte_carlo = [33.17, 33.53, 45, 39.28, 20.48, 32.57, 27.49]\n",
    "cut_conjugate_gradient = [96.22, 65.87, 93.569, 105.75, 56.98, 106.46, 57.74]\n",
    "cut_differential_evolution = [39.24, 34.27, 57.61, 38.15, 19.93, 33.95, 37.74]"
   ]
  },
  {
   "cell_type": "code",
   "execution_count": 10,
   "metadata": {},
   "outputs": [
    {
     "data": {
      "text/plain": [
       "(array([1., 0., 0., 2., 2., 1., 0., 0., 0., 1.]),\n",
       " array([19.93 , 23.698, 27.466, 31.234, 35.002, 38.77 , 42.538, 46.306,\n",
       "        50.074, 53.842, 57.61 ]),\n",
       " <a list of 10 Patch objects>)"
      ]
     },
     "execution_count": 10,
     "metadata": {},
     "output_type": "execute_result"
    },
    {
     "data": {
      "image/png": "[encoded data removed]",
      "text/plain": [
       "<Figure size 432x288 with 1 Axes>"
      ]
     },
     "metadata": {},
     "output_type": "display_data"
    }
   ],
   "source": [
    "plt.hist(cut_monte_carlo) #blue\n",
    "plt.hist(cut_conjugate_gradient) #orange\n",
    "plt.hist(cut_differential_evolution) #green"
   ]
  },
  {
   "cell_type": "code",
   "execution_count": null,
   "metadata": {},
   "outputs": [],
   "source": []
  }
 ],
 "metadata": {
  "kernelspec": {
   "display_name": "Python 3",
   "language": "python",
   "name": "python3"
  },
  "language_info": {
   "codemirror_mode": {
    "name": "ipython",
    "version": 3
   },
   "file_extension": ".py",
   "mimetype": "text/x-python",
   "name": "python",
   "nbconvert_exporter": "python",
   "pygments_lexer": "ipython3",
   "version": "3.6.5"
  }
 },
 "nbformat": 4,
 "nbformat_minor": 2
}
