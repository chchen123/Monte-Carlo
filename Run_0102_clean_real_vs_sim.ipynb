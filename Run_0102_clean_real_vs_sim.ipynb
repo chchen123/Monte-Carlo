{
 "cells": [
  {
   "cell_type": "code",
   "execution_count": null,
   "metadata": {},
   "outputs": [],
   "source": [
    "import numpy as np\n",
    "import pytpc\n",
    "from pytpc.fitting.mcopt_wrapper import Tracker, EventGenerator, PadPlane, Minimizer\n",
    "from pytpc.constants import *\n",
    "import pytpc.simulation\n",
    "import pytpc.tpcplot\n",
    "import pytpc.vmedata\n",
    "from pytpc.cleaning import HoughCleaner\n",
    "import pandas as pd\n",
    "import matplotlib.pyplot as plt\n",
    "import seaborn.apionly as sns\n",
    "import scipy.signal\n",
    "import h5py\n",
    "from scipy.interpolate import UnivariateSpline, interp1d\n",
    "from scipy.optimize import differential_evolution, minimize, basinhopping, leastsq\n",
    "from mpl_toolkits.mplot3d import Axes3D\n",
    "from matplotlib.colors import LogNorm\n",
    "import os\n",
    "#import cmaps\n",
    "import yaml\n",
    "from scipy.fftpack import fft, ifft, fftshift, ifftshift\n",
    "from copy import copy, deepcopy\n",
    "from pytpc.utilities import find_exclusion_region, read_lookup_table\n",
    "import math\n",
    "from effsim.paramgen import uniform_param_generator\n",
    "from effsim.effsim import EventSimulator"
   ]
  },
  {
   "cell_type": "code",
   "execution_count": null,
   "metadata": {},
   "outputs": [],
   "source": [
    "with open('/home/chen/Real Data/config_e15503a_runs_92-104.yml', 'r') as f:\n",
    "    config = yaml.load(f)\n",
    "\n",
    "mcfitter = pytpc.fitting.MCFitter(config)"
   ]
  },
  {
   "cell_type": "code",
   "execution_count": null,
   "metadata": {},
   "outputs": [],
   "source": [
    "tilt = config['tilt'] * degrees \n",
    "#clock = config['clock']\n",
    "#beam_en = config['beam_enu0']\n",
    "padplane = mcfitter.padplane\n",
    "efield = np.array(config['efield'])\n",
    "bfield = np.array(config['bfield'])\n",
    "#tmat = pytpc.utilities.tilt_matrix(-tilt)\n",
    "# efield_uvw = tmat.dot(efield)\n",
    "# bfield_uvw = tmat.dot(bfield)\n",
    "mass_num = config['mass_num']\n",
    "charge_num = config['charge_num']\n",
    "gas = pytpc.gases.InterpolatedGas(config['gas_name'], config['gas_pressure'])\n",
    "beam_enu0 = config['beam_enu0']\n",
    "beam_charge = config['beam_charge']\n",
    "beam_mass = config['beam_mass']\n",
    "max_en = config['tracker_max_en']\n",
    "vd = np.array(config['vd'])\n",
    "max_beam_angle = (config['max_beam_angle']*math.pi)/180\n",
    "beam_origin_z = config['beam_origin_z']\n",
    "#beampads = np.fromfile(config['beampads_path'], sep=',', dtype='int')"
   ]
  },
  {
   "cell_type": "code",
   "execution_count": null,
   "metadata": {},
   "outputs": [],
   "source": [
    "#Good events for run_0102 are: 689, 765, 896 (shift in z), 305 (good fit), 504, 456, 299, 399, 231, 156\n",
    "full = h5py.File('/home/chen/Real Data/clean_run_0102.h5', 'r')\n",
    "evt_ID = 156\n",
    "dataset_name = '/clean'\n",
    "evt_full = full[dataset_name]\n",
    "xyzs_h5 = evt_full[str(evt_ID)]\n",
    "\n",
    "xyzs = np.array(xyzs_h5)\n",
    "\n",
    "#delete the points which are farther away from the center of the spiral\n",
    "del_list = []\n",
    "print(max(xyzs[:, 6]))\n",
    "for i in range(len(xyzs)):\n",
    "    if (xyzs[i,6]) > 150.0:\n",
    "        del_list.append(i)\n",
    "cut_xyzs = np.delete(xyzs,del_list,axis=0)\n",
    "print(max(cut_xyzs[:, 6]))\n",
    "print(del_list)"
   ]
  },
  {
   "cell_type": "code",
   "execution_count": null,
   "metadata": {},
   "outputs": [],
   "source": [
    "######finding center of curvature\n",
    "xy = xyzs[:, 0:2]\n",
    "xy_C = np.ascontiguousarray(xy, dtype=np.double)\n",
    "cx, cy = pytpc.cleaning.hough_circle(xy_C)\n",
    "print(cx,cy) #The center of curvature of the track, in mm.\n",
    "\n",
    "cut_xy = cut_xyzs[:, 0:2]\n",
    "cut_xy_C = np.ascontiguousarray(cut_xy, dtype=np.double)\n",
    "cut_cx, cut_cy = pytpc.cleaning.hough_circle(cut_xy_C)"
   ]
  },
  {
   "cell_type": "code",
   "execution_count": null,
   "metadata": {
    "scrolled": true
   },
   "outputs": [],
   "source": [
    "%matplotlib inline\n",
    "plt.plot(xyzs[:, 2], xyzs[:, 1], 'r.')\n",
    "plt.plot(cut_xyzs[:, 2], cut_xyzs[:, 1], 'b.')\n",
    "plt.show()\n",
    "plt.plot(xyzs[:, 0], xyzs[:, 1], 'r.')\n",
    "plt.plot(cut_xyzs[:, 0], cut_xyzs[:, 1], 'b.')\n",
    "plt.show()\n",
    "\n",
    "fig = plt.figure(figsize=(20, 14))\n",
    "\n",
    "ax = fig.add_subplot(2, 3, 1, projection='3d') #2,3,1 meaning the plot will take the 1st position on a grid with 2 rows and three columns\n",
    "ax.scatter(xyzs[:,0],xyzs[:,1],xyzs[:,2])\n",
    "\n",
    "ax2 = fig.add_subplot(2, 3, 2, projection='3d')\n",
    "ax2.scatter(cut_xyzs[:,0],cut_xyzs[:,1],cut_xyzs[:,2])"
   ]
  },
  {
   "cell_type": "code",
   "execution_count": null,
   "metadata": {},
   "outputs": [],
   "source": [
    "%matplotlib notebook\n",
    "fig = plt.figure(figsize=(20, 14))\n",
    "\n",
    "ax = fig.add_subplot(2, 3, 1, projection='3d') #2,3,1 meaning the plot will take the 1st position on a grid with 2 rows and three columns\n",
    "ax.scatter(xyzs[:,0],xyzs[:,1],xyzs[:,2], c='r')\n",
    "ax.scatter(cut_xyzs[:,0],cut_xyzs[:,1],cut_xyzs[:,2], c='b')"
   ]
  },
  {
   "cell_type": "code",
   "execution_count": null,
   "metadata": {},
   "outputs": [],
   "source": [
    "uvw, (cu, cv) = mcfitter.preprocess(xyzs[:,0:5], center=(cx, cy), rotate_pads=False) # get calibrated set of data\n",
    "uvw_values = uvw.values #transform pd file to arrays\n",
    "mcres, minChis, all_params, good_param_idx = mcfitter.process_event(uvw, cu, cv, return_details=True)\n",
    "\n",
    "print(mcres)\n",
    "\n",
    "cut_uvw, (cut_cu, cut_cv) = mcfitter.preprocess(cut_xyzs[:,0:5], center=(cut_cx, cut_cy), rotate_pads=False) # get calibrated set of data\n",
    "cut_uvw_values = cut_uvw.values #transform pd file to arrays\n",
    "cut_mcres, cut_minChis, cut_all_params, cut_good_param_idx = mcfitter.process_event(cut_uvw, cut_cu, cut_cv, return_details=True)\n",
    "print(cut_mcres)"
   ]
  },
  {
   "cell_type": "code",
   "execution_count": null,
   "metadata": {},
   "outputs": [],
   "source": [
    "sim = EventSimulator(config)\n",
    "evtClean, ctr = sim.make_event(mcres['x0'], mcres['y0'], mcres['z0'], mcres['enu0'], mcres['azi0'], mcres['pol0'])\n",
    "pyevtClean = sim.convert_event(evtClean)\n",
    "sim_xyzs = pyevtClean.xyzs(peaks_only=True, return_pads=True, baseline_correction=True, cg_times=True)\n",
    "# drift_vel=-2.54, clock=12.5, \n",
    "\n",
    "cut_evtClean, cut_ctr = sim.make_event(cut_mcres['x0'], cut_mcres['y0'], cut_mcres['z0'], cut_mcres['enu0'], cut_mcres['azi0'], cut_mcres['pol0'])\n",
    "cut_pyevtClean = sim.convert_event(cut_evtClean)\n",
    "cut_sim_xyzs = cut_pyevtClean.xyzs(peaks_only=True, return_pads=True, baseline_correction=True, cg_times=True)"
   ]
  },
  {
   "cell_type": "code",
   "execution_count": null,
   "metadata": {},
   "outputs": [],
   "source": [
    "#treating the simulated data (starts with sim) as input, and run the fitting algorithm to see if we get the same parameters\n",
    "#as the ones we used to generate the data.\n",
    "\n",
    "sim_xy = sim_xyzs[:, 0:2]\n",
    "sim_xy_C = np.ascontiguousarray(sim_xy, dtype=np.double)\n",
    "sim_cx, sim_cy = pytpc.cleaning.hough_circle(sim_xy_C)\n",
    "sim_uvw, (sim_cu, sim_cv) = mcfitter.preprocess(sim_xyzs[:, 0:5], center=(sim_cx, sim_cy), rotate_pads=True)\n",
    "sim_uvw_values = sim_uvw.values\n",
    "\n",
    "cut_sim_xy = cut_sim_xyzs[:, 0:2]\n",
    "cut_sim_xy_C = np.ascontiguousarray(cut_sim_xy, dtype=np.double)\n",
    "cut_sim_cx, cut_sim_cy = pytpc.cleaning.hough_circle(cut_sim_xy_C)\n",
    "cut_sim_uvw, (cut_sim_cu, cut_sim_cv) = mcfitter.preprocess(cut_sim_xyzs[:, 0:5], center=(cut_sim_cx, cut_sim_cy), rotate_pads=True)\n",
    "cut_sim_uvw_values = cut_sim_uvw.values\n"
   ]
  },
  {
   "cell_type": "code",
   "execution_count": null,
   "metadata": {
    "scrolled": false
   },
   "outputs": [],
   "source": [
    "%matplotlib inline\n",
    "plt.plot(uvw_values[:, 7], uvw_values[:, 5], 'r.')\n",
    "plt.plot(sim_uvw_values[:, 7], sim_uvw_values[:, 5], 'b.')\n",
    "plt.plot(cut_sim_uvw_values[:, 7], cut_sim_uvw_values[:, 5], 'g.')\n",
    "plt.show()\n",
    "plt.plot(uvw_values[:, 7], uvw_values[:, 6], 'r.')\n",
    "plt.plot(sim_uvw_values[:, 7], sim_uvw_values[:, 6], 'b.')\n",
    "plt.plot(cut_sim_uvw_values[:, 7], cut_sim_uvw_values[:, 6], 'g.')\n",
    "plt.show()\n",
    "plt.plot(uvw_values[:, 5], uvw_values[:, 6], 'r.')\n",
    "plt.plot(sim_uvw_values[:, 5], sim_uvw_values[:, 6], 'b.')\n",
    "plt.plot(cut_sim_uvw_values[:, 5], cut_sim_uvw_values[:, 6], 'g.')\n",
    "plt.show()\n",
    "\n",
    "\n",
    "fig = plt.figure(figsize=(20, 14))\n",
    "\n",
    "ax = fig.add_subplot(2, 3, 1, projection='3d') #2,3,1 meaning the plot will take the 1st position on a grid with 2 rows and three columns\n",
    "ax.scatter(uvw_values[:,5],uvw_values[:,6],uvw_values[:,7])\n",
    "\n",
    "ax2 = fig.add_subplot(2, 3, 2, projection='3d')\n",
    "ax2.scatter(sim_uvw_values[:,5],sim_uvw_values[:,6],sim_uvw_values[:,7])\n",
    "\n",
    "ax3 = fig.add_subplot(2, 3, 3, projection='3d')\n",
    "ax3.scatter(cut_sim_uvw_values[:,5],cut_sim_uvw_values[:,6],cut_sim_uvw_values[:,7])\n",
    "\n"
   ]
  },
  {
   "cell_type": "code",
   "execution_count": null,
   "metadata": {},
   "outputs": [],
   "source": [
    "%matplotlib notebook\n",
    "\n",
    "fig = plt.figure(figsize=(20, 14))\n",
    "ax = fig.add_subplot(2, 3, 1, projection='3d')\n",
    "ax.scatter(uvw_values[:,5],uvw_values[:,6],uvw_values[:,7],c='r')\n",
    "ax.scatter(sim_uvw_values[:,5],sim_uvw_values[:,6],sim_uvw_values[:,7],c='b')\n",
    "ax.scatter(cut_sim_uvw_values[:,5],cut_sim_uvw_values[:,6],cut_sim_uvw_values[:,7],c='g')\n"
   ]
  },
  {
   "cell_type": "code",
   "execution_count": null,
   "metadata": {},
   "outputs": [],
   "source": [
    "good_params = all_params[good_param_idx.astype('int')] #the best points from each iteration, i.e. the ones whose\n",
    "#                                                       chi2 values are in ``min_chis``\n",
    "all_params = all_params.reshape((mcfitter.num_iters, mcfitter.num_pts, 6))"
   ]
  },
  {
   "cell_type": "code",
   "execution_count": null,
   "metadata": {},
   "outputs": [],
   "source": [
    "print(minChis)\n",
    "#print(good_params)\n",
    "plt.plot(minChis, 'o-')\n",
    "plt.plot(minChis.sum(1))\n",
    "plt.semilogy()\n",
    "plt.legend(('pos', 'en', 'vert'))\n",
    "#plt.ylim(1e-6,1e3)"
   ]
  },
  {
   "cell_type": "code",
   "execution_count": null,
   "metadata": {},
   "outputs": [],
   "source": [
    "#print(good_params)\n",
    "params_name = ['x', 'y', 'z', 'en', 'azi', 'pol']\n",
    "\n",
    "for v, l in zip(good_params.T, range(len(params_name))):\n",
    "    plt.plot(v, label=l)\n",
    "    plt.legend(params_name[l])\n",
    "    plt.title('parameter: ' + str(params_name[l]))\n",
    "    plt.show()\n",
    "    \n",
    "for v, l in zip(good_params.T, params_name):\n",
    "    plt.plot(v, label=l)\n",
    "plt.legend(loc=4)\n",
    "plt.title(\"parameters' value through each iteration\")\n",
    "plt.show()\n",
    "    \n",
    "for v, l in zip(good_params.T, params_name):    \n",
    "    plt.plot(v / v[0], label=l)\n",
    "plt.title(\"parameters' value with respect to their initial value\")\n",
    "plt.legend(loc=4)"
   ]
  },
  {
   "cell_type": "code",
   "execution_count": null,
   "metadata": {},
   "outputs": [],
   "source": [
    "\n",
    "plt.figure(figsize=(3.5, 2.5))\n",
    "plt.plot(all_params[:, :, 3].ravel(), ',')\n",
    "plt.xticks(np.arange(0, mcfitter.num_pts * (mcfitter.num_iters + 1), mcfitter.num_pts * 5),\n",
    "               np.arange(0, mcfitter.num_iters + 1, 5))\n",
    "\n",
    "plt.xlabel('Iteration number')\n",
    "plt.ylabel('Proton energy [MeV]')\n",
    "    \n",
    "plt.tight_layout(pad=0.5)\n",
    "plt.subplots_adjust(right=0.9)\n",
    "    \n",
    "plt.xlim(0)\n",
    "plt.ylim(0)\n"
   ]
  },
  {
   "cell_type": "code",
   "execution_count": null,
   "metadata": {},
   "outputs": [],
   "source": [
    "tracker = Tracker(mass_num, charge_num, beam_enu0, beam_mass, beam_charge, gas, efield, bfield, max_en) \n",
    "evtgen = EventGenerator(padplane, vd, 12.5, 280e-9, mass_num, 23.0, 500, 120e-15, tilt, 0.1e-3) \n",
    "\n",
    "\n",
    "num_iters = [5, 10, 15, 20]\n",
    "num_pts = [100, 200, 300, 400, 500] #repeat(200)\n",
    "red_factor = [0.5, 0.6, 0.7, 0.8, 0.9]\n",
    "\n",
    "#for n, p, r in zip(num_iters, num_pts, red_factor):\n",
    "#    minimizer = Minimizer(tracker, evtgen, num_iters, num_pts, red_factor)\n",
    "\n",
    "allctrs = []\n",
    "for n, p, r in zip(num_iters, num_pts, red_factor):\n",
    "    ctrs = []\n",
    "    for i in range(1):\n",
    "        mcres, minChis, all_params, good_param_idx = mcfitter.process_event(uvw, cu, cv, return_details=True)\n",
    "        good_params = all_params[good_param_idx.astype('int')]\n",
    "        ctrs.append(pd.DataFrame(good_params.T, index=('x', 'y', 'z', 'en', 'azi', 'pol')))\n",
    "\n",
    "    ctrs = pd.concat(ctrs, axis=1).T\n",
    "    ctrs['num_iters'] = n\n",
    "    ctrs['num_pts'] = p\n",
    "    ctrs['red_factor'] = r\n",
    "\n",
    "    allctrs.append(ctrs)"
   ]
  },
  {
   "cell_type": "code",
   "execution_count": null,
   "metadata": {},
   "outputs": [],
   "source": []
  },
  {
   "cell_type": "code",
   "execution_count": null,
   "metadata": {},
   "outputs": [],
   "source": []
  }
 ],
 "metadata": {
  "kernelspec": {
   "display_name": "Python 3",
   "language": "python",
   "name": "python3"
  },
  "language_info": {
   "codemirror_mode": {
    "name": "ipython",
    "version": 3
   },
   "file_extension": ".py",
   "mimetype": "text/x-python",
   "name": "python",
   "nbconvert_exporter": "python",
   "pygments_lexer": "ipython3",
   "version": "3.6.5"
  }
 },
 "nbformat": 4,
 "nbformat_minor": 2
}
