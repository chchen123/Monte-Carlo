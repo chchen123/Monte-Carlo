{
 "cells": [
  {
   "cell_type": "code",
   "execution_count": null,
   "metadata": {},
   "outputs": [],
   "source": [
    "import numpy as np\n",
    "import pytpc\n",
    "from pytpc.fitting.mcopt_wrapper import Minimizer\n",
    "from pytpc.constants import *\n",
    "import pytpc.simulation\n",
    "import pytpc.tpcplot\n",
    "import pytpc.vmedata\n",
    "import pandas as pd\n",
    "import matplotlib.pyplot as plt\n",
    "import scipy.signal\n",
    "import h5py\n",
    "from scipy.interpolate import UnivariateSpline, interp1d\n",
    "from scipy.optimize import differential_evolution, minimize, basinhopping, leastsq\n",
    "from mpl_toolkits.mplot3d import Axes3D\n",
    "from matplotlib.colors import LogNorm\n",
    "import os\n",
    "#import cmaps\n",
    "import yaml\n",
    "import scipy\n",
    "from copy import copy, deepcopy\n",
    "from pytpc.utilities import find_exclusion_region, read_lookup_table\n",
    "import math\n",
    "from effsim.paramgen import uniform_param_generator\n",
    "from effsim.effsim import EventSimulator\n",
    "from math import pi"
   ]
  },
  {
   "cell_type": "code",
   "execution_count": null,
   "metadata": {},
   "outputs": [],
   "source": [
    "with open('/home/chen/Real Data/config_e15503a_runs_92-104.yml', 'r') as f:\n",
    "    config = yaml.load(f)\n",
    "\n",
    "mcfitter = pytpc.fitting.MCFitter(config)\n",
    "num_iters = config['num_iters']\n",
    "num_pts = config['num_pts']\n",
    "red_factor = config['red_factor']"
   ]
  },
  {
   "cell_type": "code",
   "execution_count": null,
   "metadata": {},
   "outputs": [],
   "source": [
    "#Good events for run_0102 are: 689 (fair ~37), 765 (good), 896 (good), 305 (perfect), 504 (not good ~65)\n",
    "#575, 456, 299, 399, 156, 231, 7832, 1568\n",
    "full = h5py.File('/home/chen/Real Data/clean_run_0102.h5', 'r')\n",
    "evt_ID = 156\n",
    "dataset_name = '/clean'\n",
    "evt_full = full[dataset_name]\n",
    "xyzs_h5 = evt_full[str(evt_ID)]\n",
    "\n",
    "xyzs = np.array(xyzs_h5)\n",
    "\n",
    "#delete the points which are farther away from the center of the spiral\n",
    "del_list = []\n",
    "print(max(xyzs[:, 6]))\n",
    "for i in range(len(xyzs)):\n",
    "    if (xyzs[i,6]) > 150.0:\n",
    "        del_list.append(i)\n",
    "cut_xyzs = np.delete(xyzs,del_list,axis=0)\n",
    "print(max(cut_xyzs[:, 6]))\n",
    "print(del_list)"
   ]
  },
  {
   "cell_type": "code",
   "execution_count": null,
   "metadata": {},
   "outputs": [],
   "source": [
    "xy = xyzs[:, 0:2]\n",
    "xy_C = np.ascontiguousarray(xy, dtype=np.double)\n",
    "cx, cy = pytpc.cleaning.hough_circle(xy_C)\n",
    "\n",
    "cut_xy = cut_xyzs[:, 0:2]\n",
    "cut_xy_C = np.ascontiguousarray(cut_xy, dtype=np.double)\n",
    "cut_cx, cut_cy = pytpc.cleaning.hough_circle(cut_xy_C)"
   ]
  },
  {
   "cell_type": "code",
   "execution_count": null,
   "metadata": {},
   "outputs": [],
   "source": [
    "%matplotlib inline\n",
    "plt.plot(xyzs[:, 2], xyzs[:, 1], 'r.')\n",
    "plt.plot(cut_xyzs[:, 2], cut_xyzs[:, 1], 'b.')\n",
    "plt.show()\n",
    "plt.plot(xyzs[:, 0], xyzs[:, 1], 'r.')\n",
    "plt.plot(cut_xyzs[:, 0], cut_xyzs[:, 1], 'b.')\n",
    "plt.show()\n",
    "\n",
    "fig = plt.figure(figsize=(20, 14))\n",
    "\n",
    "ax = fig.add_subplot(2, 3, 1, projection='3d')\n",
    "ax.scatter(xyzs[:,0],xyzs[:,1],xyzs[:,2])\n",
    "ax2 = fig.add_subplot(2, 3, 2, projection='3d')\n",
    "ax2.scatter(cut_xyzs[:,0],cut_xyzs[:,1],cut_xyzs[:,2])"
   ]
  },
  {
   "cell_type": "code",
   "execution_count": null,
   "metadata": {},
   "outputs": [],
   "source": [
    "%matplotlib notebook\n",
    "\n",
    "fig = plt.figure(figsize=(20, 14))\n",
    "ax = fig.add_subplot(2, 3, 1, projection='3d') #2,3,1 meaning the plot will take the 1st position on a grid with 2 rows and three columns\n",
    "ax.scatter(xyzs[:,0],xyzs[:,1],xyzs[:,2], c='r', label='original data')\n",
    "ax.scatter(cut_xyzs[:,0],cut_xyzs[:,1],cut_xyzs[:,2], c='b', label='after cut')\n"
   ]
  },
  {
   "cell_type": "code",
   "execution_count": null,
   "metadata": {},
   "outputs": [],
   "source": [
    "uvw, (cu, cv) = mcfitter.preprocess(xyzs[:,0:5], center=(cx, cy), rotate_pads=False)\n",
    "uvw_values = uvw.values\n",
    "\n",
    "cut_uvw, (cut_cu, cut_cv) = mcfitter.preprocess(cut_xyzs[:,0:5], center=(cut_cx, cut_cy), rotate_pads=False) # get calibrated set of data\n",
    "cut_uvw_values = cut_uvw.values"
   ]
  },
  {
   "cell_type": "code",
   "execution_count": null,
   "metadata": {},
   "outputs": [],
   "source": [
    "uvw_sorted = uvw.sort_values(by='w', ascending=True)\n",
    "prefit_data = uvw_sorted.iloc[-len(uvw_sorted) // 4:].copy()\n",
    "prefit_res = mcfitter.linear_prefit(prefit_data, cu, cv)\n",
    "ctr0 = mcfitter.guess_parameters(prefit_res)\n",
    "exp_pos = uvw_sorted[['u', 'v', 'w']].values.copy() / 1000\n",
    "\n",
    "cut_uvw_sorted = cut_uvw.sort_values(by='w', ascending=True)\n",
    "cut_prefit_data = cut_uvw_sorted.iloc[-len(cut_uvw_sorted) // 4:].copy()\n",
    "cut_prefit_res = mcfitter.linear_prefit(cut_prefit_data, cut_cu, cut_cv)\n",
    "cut_ctr0 = mcfitter.guess_parameters(cut_prefit_res)\n",
    "cut_exp_pos = cut_uvw_sorted[['u', 'v', 'w']].values.copy() / 1000"
   ]
  },
  {
   "cell_type": "code",
   "execution_count": null,
   "metadata": {},
   "outputs": [],
   "source": [
    "exp_hits = np.zeros(10240)\n",
    "for a, p in uvw[['a', 'pad']].values:\n",
    "    exp_hits[int(p)] = a\n",
    "    \n",
    "cut_exp_hits = np.zeros(10240)\n",
    "for a, p in cut_uvw[['a', 'pad']].values:\n",
    "    cut_exp_hits[int(p)] = a"
   ]
  },
  {
   "cell_type": "code",
   "execution_count": null,
   "metadata": {
    "scrolled": true
   },
   "outputs": [],
   "source": [
    "minimizer = Minimizer(mcfitter.tracker, mcfitter.evtgen, num_iters, num_pts, red_factor)"
   ]
  },
  {
   "cell_type": "markdown",
   "metadata": {},
   "source": [
    "Conjugate Gradient"
   ]
  },
  {
   "cell_type": "code",
   "execution_count": null,
   "metadata": {
    "scrolled": true
   },
   "outputs": [],
   "source": [
    "def f(y):\n",
    "    ctr = np.zeros([1,6])\n",
    "    ctr[0] = y\n",
    "    chi_result = minimizer.run_tracks(ctr, exp_pos, exp_hits)\n",
    "    return sum(chi_result[0])\n",
    "eps = np.sqrt(np.finfo(np.float).eps)\n",
    "def jacobian(x):\n",
    "    return scipy.optimize.approx_fprime(x,f,eps)\n"
   ]
  },
  {
   "cell_type": "code",
   "execution_count": null,
   "metadata": {},
   "outputs": [],
   "source": [
    "def cut_f(y):\n",
    "    ctr = np.zeros([1,6])\n",
    "    ctr[0] = y\n",
    "    chi_result = minimizer.run_tracks(ctr, cut_exp_pos, cut_exp_hits)\n",
    "    return sum(chi_result[0])\n",
    "eps = np.sqrt(np.finfo(np.float).eps)\n",
    "def cut_jacobian(x):\n",
    "    return scipy.optimize.approx_fprime(x,cut_f,eps)"
   ]
  },
  {
   "cell_type": "code",
   "execution_count": null,
   "metadata": {
    "scrolled": true
   },
   "outputs": [],
   "source": [
    "i = 1\n",
    "def callbackF(x):\n",
    "    global i\n",
    "    print('{0:4d}{1: 3.6f}{2: 3.6f}{3: 3.6f}{4: 3.6f}{5: 3.6f}{6: 3.6f}{7: 3.6f}'.format(i,x[0],x[1],x[2],x[3],x[4],x[5],f(x)))\n",
    "    i += 1   \n",
    "     "
   ]
  },
  {
   "cell_type": "code",
   "execution_count": null,
   "metadata": {},
   "outputs": [],
   "source": [
    "i = 1    \n",
    "def cut_callbackF(x):\n",
    "    global i\n",
    "    print('{0:4d}{1: 3.6f}{2: 3.6f}{3: 3.6f}{4: 3.6f}{5: 3.6f}{6: 3.6f}{7: 3.6f}'.format(i,x[0],x[1],x[2],x[3],x[4],x[5],cut_f(x)))\n",
    "    i += 1  "
   ]
  },
  {
   "cell_type": "code",
   "execution_count": null,
   "metadata": {},
   "outputs": [],
   "source": [
    "results = scipy.optimize.minimize(f, ctr0, method=\"CG\", jac=jacobian, callback=callbackF, options={'gtol': 30.0, 'eps':1e-13})    \n",
    "cg = results.x\n",
    "print(results)"
   ]
  },
  {
   "cell_type": "code",
   "execution_count": null,
   "metadata": {},
   "outputs": [],
   "source": [
    "cut_results = scipy.optimize.minimize(cut_f, cut_ctr0, method=\"CG\", jac=cut_jacobian, callback=cut_callbackF, options={'gtol': 30.0, 'eps':1e-13})    \n",
    "cut_cg = cut_results.x\n",
    "print(cut_results)"
   ]
  },
  {
   "cell_type": "code",
   "execution_count": null,
   "metadata": {},
   "outputs": [],
   "source": [
    "sim = EventSimulator(config)\n",
    "evtClean, ctr = sim.make_event(cg[0], cg[1], cg[2], cg[3], cg[4], cg[5])\n",
    "pyevtClean = sim.convert_event(evtClean)\n",
    "sim_xyzs = pyevtClean.xyzs(peaks_only=True, return_pads=True, baseline_correction=True, cg_times=True)\n",
    "sim_xy = sim_xyzs[:, 0:2]\n",
    "sim_xy_C = np.ascontiguousarray(sim_xy, dtype=np.double)\n",
    "sim_cx, sim_cy = pytpc.cleaning.hough_circle(sim_xy_C)\n",
    "sim_uvw, (sim_cu, sim_cv) = mcfitter.preprocess(sim_xyzs[:, 0:5], center=(sim_cx, sim_cy), rotate_pads=True)\n",
    "sim_uvw_values = sim_uvw.values\n"
   ]
  },
  {
   "cell_type": "code",
   "execution_count": null,
   "metadata": {},
   "outputs": [],
   "source": [
    "cut_evtClean, cut_ctr = sim.make_event(cut_cg[0], cut_cg[1], cut_cg[2], cut_cg[3], cut_cg[4], cut_cg[5])\n",
    "cut_pyevtClean = sim.convert_event(cut_evtClean)\n",
    "cut_sim_xyzs = cut_pyevtClean.xyzs(peaks_only=True, return_pads=True, baseline_correction=True, cg_times=True)\n",
    "cut_sim_xy = cut_sim_xyzs[:, 0:2]\n",
    "cut_sim_xy_C = np.ascontiguousarray(cut_sim_xy, dtype=np.double)\n",
    "cut_sim_cx, cut_sim_cy = pytpc.cleaning.hough_circle(cut_sim_xy_C)\n",
    "cut_sim_uvw, (cut_sim_cu, cut_sim_cv) = mcfitter.preprocess(cut_sim_xyzs[:, 0:5], center=(cut_sim_cx, cut_sim_cy), rotate_pads=True)\n",
    "cut_sim_uvw_values = cut_sim_uvw.values\n"
   ]
  },
  {
   "cell_type": "code",
   "execution_count": null,
   "metadata": {},
   "outputs": [],
   "source": [
    "%matplotlib inline\n",
    "\n",
    "plt.plot(uvw_values[:, 7], uvw_values[:, 5], 'r.')\n",
    "plt.plot(sim_uvw_values[:, 7], sim_uvw_values[:, 5], 'b.')\n",
    "plt.plot(cut_sim_uvw_values[:, 7], cut_sim_uvw_values[:, 5], 'g.')\n",
    "plt.show()\n",
    "plt.plot(uvw_values[:, 7], uvw_values[:, 6], 'r.')\n",
    "plt.plot(sim_uvw_values[:, 7], sim_uvw_values[:, 6], 'b.')\n",
    "plt.plot(cut_sim_uvw_values[:, 7], cut_sim_uvw_values[:, 6], 'g.')\n",
    "plt.show()\n",
    "plt.plot(uvw_values[:, 5], uvw_values[:, 6], 'r.')\n",
    "plt.plot(sim_uvw_values[:, 5], sim_uvw_values[:, 6], 'b.')\n",
    "plt.plot(cut_sim_uvw_values[:, 5], cut_sim_uvw_values[:, 6], 'g.')\n",
    "plt.show()\n",
    "\n",
    "fig = plt.figure(figsize=(20, 14))\n",
    "\n",
    "ax = fig.add_subplot(2, 3, 1, projection='3d') #2,3,1 meaning the plot will take the 1st position on a grid with 2 rows and three columns\n",
    "ax.scatter(uvw_values[:,5],uvw_values[:,6],uvw_values[:,7])\n",
    "\n",
    "ax2 = fig.add_subplot(2, 3, 2, projection='3d')\n",
    "ax2.scatter(sim_uvw_values[:,5],sim_uvw_values[:,6],sim_uvw_values[:,7])\n",
    "\n",
    "ax3 = fig.add_subplot(2, 3, 3, projection='3d')\n",
    "ax3.scatter(cut_sim_uvw_values[:,5],cut_sim_uvw_values[:,6],cut_sim_uvw_values[:,7])"
   ]
  },
  {
   "cell_type": "code",
   "execution_count": null,
   "metadata": {},
   "outputs": [],
   "source": [
    "%matplotlib notebook\n",
    "fig = plt.figure(figsize=(20, 14))\n",
    "\n",
    "ax = fig.add_subplot(2, 3, 1, projection='3d') #2,3,1 meaning the plot will take the 1st position on a grid with 2 rows and three columns\n",
    "ax.scatter(uvw_values[:,5],uvw_values[:,6],uvw_values[:,7],c='r')\n",
    "ax.scatter(sim_uvw_values[:,5],sim_uvw_values[:,6],sim_uvw_values[:,7],c='b')\n",
    "ax.scatter(cut_sim_uvw_values[:,5],cut_sim_uvw_values[:,6],cut_sim_uvw_values[:,7],c='g')\n"
   ]
  },
  {
   "cell_type": "code",
   "execution_count": null,
   "metadata": {
    "scrolled": false
   },
   "outputs": [],
   "source": [
    "scipy.optimize.fmin_bfgs(cut_f, cut_ctr0, fprime=cut_jacobian, callback=cut_callbackF)"
   ]
  },
  {
   "cell_type": "markdown",
   "metadata": {},
   "source": [
    "Differential Evolution"
   ]
  },
  {
   "cell_type": "code",
   "execution_count": null,
   "metadata": {},
   "outputs": [],
   "source": [
    "i = 1\n",
    "def callbackF(x, convergence=10):\n",
    "    global i\n",
    "    print('{0:4d}{1: 3.6f}{2: 3.6f}{3: 3.6f}{4: 3.6f}{5: 3.6f}{6: 3.6f}{7: 3.6f}'.format(i,x[0],x[1],x[2],x[3],x[4],x[5],f(x)))\n",
    "    i += 1\n",
    "bounds = [(-1,1), (-1, 1), (0, 1), (0,5), (-2 * pi, 2 * pi), (-2 * pi, 2 * pi)]\n",
    "results = scipy.optimize.differential_evolution(f, bounds, callback=callbackF, maxiter=1000, strategy='best1bin',\\\n",
    "                                                recombination=0.3, popsize=25, mutation=(0.5, 1.0))\n",
    "'''    The differential evolution strategy should be one of:\n",
    "            ‘best1bin’ - shorter time but usually needs to run multiple times to get the best result\n",
    "            ‘best1exp’- shorter time but usually needs to run multiple times to get the best result\n",
    "            ‘rand1exp’ - takes a long time but converges\n",
    "            ‘randtobest1exp’ - takes a long time but converges\n",
    "            ‘currenttobest1exp’ - takes a long time but converges\n",
    "            ‘best2exp’\n",
    "            ‘rand2exp’\n",
    "            ‘randtobest1bin’\n",
    "            ‘currenttobest1bin’\n",
    "            ‘best2bin’\n",
    "            ‘rand2bin’\n",
    "            ‘rand1bin’\n",
    "    The default is ‘best1bin’.\n",
    "'''"
   ]
  },
  {
   "cell_type": "code",
   "execution_count": null,
   "metadata": {},
   "outputs": [],
   "source": [
    "results.fun #30.26455552871073 "
   ]
  },
  {
   "cell_type": "code",
   "execution_count": null,
   "metadata": {},
   "outputs": [],
   "source": [
    "dfe = results.x\n",
    "print(dfe)\n",
    "#evt_299:[ 7.84428822e-03  3.53398504e-03  9.23208704e-01  2.58491529e+00 -9.73837034e-01 -4.45947600e+00]\n",
    "#evt_399: [ 0.00773186  0.01781402  0.8011877   3.11712508 -0.46023263 -4.4246107 ]\n"
   ]
  },
  {
   "cell_type": "code",
   "execution_count": null,
   "metadata": {},
   "outputs": [],
   "source": [
    "sim = EventSimulator(config)\n",
    "evtClean, ctr = sim.make_event(dfe[0], dfe[1], dfe[2], dfe[3], dfe[4], dfe[5])\n",
    "pyevtClean = sim.convert_event(evtClean)\n",
    "sim_xyzs = pyevtClean.xyzs(peaks_only=True, return_pads=True, baseline_correction=True, cg_times=True)"
   ]
  },
  {
   "cell_type": "code",
   "execution_count": null,
   "metadata": {},
   "outputs": [],
   "source": [
    "sim_xy = sim_xyzs[:, 0:2]\n",
    "sim_xy_C = np.ascontiguousarray(sim_xy, dtype=np.double)\n",
    "sim_cx, sim_cy = pytpc.cleaning.hough_circle(sim_xy_C)\n",
    "sim_uvw, (sim_cu, sim_cv) = mcfitter.preprocess(sim_xyzs[:, 0:5], center=(sim_cx, sim_cy), rotate_pads=True)\n",
    "sim_uvw_values = sim_uvw.values"
   ]
  },
  {
   "cell_type": "code",
   "execution_count": null,
   "metadata": {},
   "outputs": [],
   "source": [
    "%matplotlib inline\n",
    "plt.plot(uvw_values[:, 7], uvw_values[:, 5], 'r.')\n",
    "plt.plot(sim_uvw_values[:, 7], sim_uvw_values[:, 5], 'b.')\n",
    "plt.show()\n",
    "plt.plot(uvw_values[:, 7], uvw_values[:, 6], 'r.')\n",
    "plt.plot(sim_uvw_values[:, 7], sim_uvw_values[:, 6], 'b.')\n",
    "plt.show()\n",
    "plt.plot(uvw_values[:, 5], uvw_values[:, 6], 'r.')\n",
    "plt.plot(sim_uvw_values[:, 5], sim_uvw_values[:, 6], 'b.')\n",
    "plt.show()\n",
    "\n",
    "\n",
    "fig = plt.figure(figsize=(20, 14))\n",
    "\n",
    "ax = fig.add_subplot(2, 3, 1, projection='3d') #2,3,1 meaning the plot will take the 1st position on a grid with 2 rows and three columns\n",
    "ax.scatter(uvw_values[:,5],uvw_values[:,6],uvw_values[:,7])\n",
    "\n",
    "ax2 = fig.add_subplot(2, 3, 2, projection='3d')\n",
    "ax2.scatter(sim_uvw_values[:,5],sim_uvw_values[:,6],sim_uvw_values[:,7])"
   ]
  },
  {
   "cell_type": "code",
   "execution_count": null,
   "metadata": {},
   "outputs": [],
   "source": [
    "i = 1\n",
    "def cut_callbackF(x, convergence=10):\n",
    "    global i\n",
    "    print('{0:4d}{1: 3.6f}{2: 3.6f}{3: 3.6f}{4: 3.6f}{5: 3.6f}{6: 3.6f}{7: 3.6f}'.format(i,x[0],x[1],x[2],x[3],x[4],x[5],cut_f(x)))\n",
    "    i += 1\n",
    "bounds = [(-1,1), (-1, 1), (0, 1), (0,5), (-2 * pi, 2 * pi), (-2 * pi, 2 * pi)]\n",
    "results = scipy.optimize.differential_evolution(cut_f, bounds, callback=cut_callbackF, maxiter=1000, strategy='best1bin',\\\n",
    "                                                recombination=0.3, popsize=25, mutation=(0.5, 1.0))\n",
    "'''    The differential evolution strategy should be one of:\n",
    "            ‘best1bin’ - shorter time but usually needs to run multiple times to get the best result\n",
    "            ‘best1exp’- shorter time but usually needs to run multiple times to get the best result\n",
    "            ‘rand1exp’ - takes a long time but converges\n",
    "            ‘randtobest1exp’ - takes a long time but converges\n",
    "            ‘currenttobest1exp’ - takes a long time but converges\n",
    "            ‘best2exp’\n",
    "            ‘rand2exp’\n",
    "            ‘randtobest1bin’\n",
    "            ‘currenttobest1bin’\n",
    "            ‘best2bin’\n",
    "            ‘rand2bin’\n",
    "            ‘rand1bin’\n",
    "    The default is ‘best1bin’.\n",
    "'''"
   ]
  },
  {
   "cell_type": "code",
   "execution_count": null,
   "metadata": {},
   "outputs": [],
   "source": [
    "cut_dfe = results.x"
   ]
  },
  {
   "cell_type": "code",
   "execution_count": null,
   "metadata": {},
   "outputs": [],
   "source": [
    "cut_evtClean, cut_ctr = sim.make_event(cut_dfe[0], cut_dfe[1], cut_dfe[2], cut_dfe[3], cut_dfe[4], cut_dfe[5])\n",
    "cut_pyevtClean = sim.convert_event(cut_evtClean)\n",
    "cut_sim_xyzs = cut_pyevtClean.xyzs(peaks_only=True, return_pads=True, baseline_correction=True, cg_times=True)"
   ]
  },
  {
   "cell_type": "code",
   "execution_count": null,
   "metadata": {},
   "outputs": [],
   "source": [
    "cut_sim_xy = cut_sim_xyzs[:, 0:2]\n",
    "cut_sim_xy_C = np.ascontiguousarray(cut_sim_xy, dtype=np.double)\n",
    "cut_sim_cx, cut_sim_cy = pytpc.cleaning.hough_circle(cut_sim_xy_C)\n",
    "cut_sim_uvw, (cut_sim_cu, cut_sim_cv) = mcfitter.preprocess(cut_sim_xyzs[:, 0:5], center=(cut_sim_cx, cut_sim_cy), rotate_pads=True)\n",
    "cut_sim_uvw_values = cut_sim_uvw.values"
   ]
  },
  {
   "cell_type": "code",
   "execution_count": null,
   "metadata": {},
   "outputs": [],
   "source": [
    "%matplotlib inline\n",
    "plt.plot(uvw_values[:, 7], uvw_values[:, 5], 'r.')\n",
    "plt.plot(sim_uvw_values[:, 7], sim_uvw_values[:, 5], 'b.')\n",
    "plt.plot(cut_sim_uvw_values[:, 7], cut_sim_uvw_values[:, 5], 'g.')\n",
    "plt.show()\n",
    "plt.plot(uvw_values[:, 7], uvw_values[:, 6], 'r.')\n",
    "plt.plot(sim_uvw_values[:, 7], sim_uvw_values[:, 6], 'b.')\n",
    "plt.plot(cut_sim_uvw_values[:, 7], cut_sim_uvw_values[:, 6], 'g.')\n",
    "plt.show()\n",
    "plt.plot(uvw_values[:, 5], uvw_values[:, 6], 'r.')\n",
    "plt.plot(sim_uvw_values[:, 5], sim_uvw_values[:, 6], 'b.')\n",
    "plt.plot(cut_sim_uvw_values[:, 5], cut_sim_uvw_values[:, 6], 'g.')\n",
    "plt.show()\n",
    "\n",
    "\n",
    "fig = plt.figure(figsize=(20, 14))\n",
    "\n",
    "ax = fig.add_subplot(2, 3, 1, projection='3d') #2,3,1 meaning the plot will take the 1st position on a grid with 2 rows and three columns\n",
    "ax.scatter(uvw_values[:,5],uvw_values[:,6],uvw_values[:,7])\n",
    "\n",
    "ax2 = fig.add_subplot(2, 3, 2, projection='3d')\n",
    "ax2.scatter(sim_uvw_values[:,5],sim_uvw_values[:,6],sim_uvw_values[:,7])\n",
    "\n",
    "ax3 = fig.add_subplot(2, 3, 3, projection='3d')\n",
    "ax3.scatter(cut_sim_uvw_values[:,5],cut_sim_uvw_values[:,6],cut_sim_uvw_values[:,7])\n"
   ]
  },
  {
   "cell_type": "code",
   "execution_count": null,
   "metadata": {
    "scrolled": false
   },
   "outputs": [],
   "source": [
    "%matplotlib notebook\n",
    "\n",
    "fig = plt.figure(figsize=(20, 14))\n",
    "ax = fig.add_subplot(2, 3, 1, projection='3d')\n",
    "ax.scatter(uvw_values[:,5],uvw_values[:,6],uvw_values[:,7],c='r')\n",
    "ax.scatter(sim_uvw_values[:,5],sim_uvw_values[:,6],sim_uvw_values[:,7],c='b')\n",
    "ax.scatter(cut_sim_uvw_values[:,5],cut_sim_uvw_values[:,6],cut_sim_uvw_values[:,7],c='g')"
   ]
  },
  {
   "cell_type": "code",
   "execution_count": null,
   "metadata": {},
   "outputs": [],
   "source": [
    "i = 1\n",
    "def callbackF(x, f, accept):\n",
    "    global i\n",
    "    print('{0:4d}{1: 3.6f}{2: 3.6f}{3: 3.6f}{4: 3.6f}{5: 3.6f}{6: 3.6f}{7: 3.6f}'.format(i,x[0],x[1],x[2],x[3],x[4],x[5],f))\n",
    "    i += 1\n",
    "\n",
    "results = scipy.optimize.basinhopping(f,ctr0, callback=callbackF, niter=100, T=20, stepsize=0.1, minimizer_kwargs={\"method\": \"CG\"})\n",
    "print(results)"
   ]
  },
  {
   "cell_type": "code",
   "execution_count": null,
   "metadata": {},
   "outputs": [],
   "source": [
    "bh = results.x #46.918505571793425"
   ]
  },
  {
   "cell_type": "code",
   "execution_count": null,
   "metadata": {},
   "outputs": [],
   "source": []
  }
 ],
 "metadata": {
  "kernelspec": {
   "display_name": "Python 3",
   "language": "python",
   "name": "python3"
  },
  "language_info": {
   "codemirror_mode": {
    "name": "ipython",
    "version": 3
   },
   "file_extension": ".py",
   "mimetype": "text/x-python",
   "name": "python",
   "nbconvert_exporter": "python",
   "pygments_lexer": "ipython3",
   "version": "3.6.5"
  }
 },
 "nbformat": 4,
 "nbformat_minor": 2
}
