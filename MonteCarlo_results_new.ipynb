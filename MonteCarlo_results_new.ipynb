{
 "cells": [
  {
   "cell_type": "code",
   "execution_count": null,
   "metadata": {
    "collapsed": true
   },
   "outputs": [],
   "source": [
    "%matplotlib inline"
   ]
  },
  {
   "cell_type": "code",
   "execution_count": null,
   "metadata": {
    "collapsed": true
   },
   "outputs": [],
   "source": [
    "import sqlite3\n",
    "import numpy as np\n",
    "import pandas as pd\n",
    "import scipy\n",
    "import pytpc\n",
    "from math import ceil, floor\n",
    "from pytpc.constants import *\n",
    "from pytpc.tpcplot import pad_plot\n",
    "import matplotlib.pyplot as plt\n",
    "from matplotlib.colors import LogNorm\n",
    "from matplotlib.path import Path\n",
    "from matplotlib.patches import PathPatch\n",
    "from matplotlib.offsetbox import AnchoredText\n",
    "import matplotlib as mpl\n",
    "import seaborn.apionly as sns\n",
    "import glob\n",
    "import re\n",
    "import h5py\n",
    "import yaml\n",
    "import sys\n",
    "from pytpc.relativity import find_proton_params\n",
    "from pytpc.relativity import find_kine_vert_en\n",
    "import os\n",
    "from pytpc.fitting.mixins import constrain_angle, odrline"
   ]
  },
  {
   "cell_type": "code",
   "execution_count": null,
   "metadata": {
    "collapsed": true
   },
   "outputs": [],
   "source": [
    "with open('../fitters/config_e15503b.yml', 'r') as f:\n",
    "    config = yaml.load(f)\n",
    "with open('../fitters/config_e15503b_macmini.yml', 'r') as f:\n",
    "    patch = yaml.load(f)\n",
    "config.update(patch)"
   ]
  },
  {
   "cell_type": "code",
   "execution_count": null,
   "metadata": {
    "collapsed": true
   },
   "outputs": [],
   "source": [
    "runtables = pd.read_csv('/Users/josh/Documents/Data/Meta/e15503b/e15503b-rundata-parseable.csv', index_col='run_num')"
   ]
  },
  {
   "cell_type": "code",
   "execution_count": null,
   "metadata": {
    "collapsed": true
   },
   "outputs": [],
   "source": [
    "vmedata = pd.read_hdf('/Users/josh/Documents/Data/Results/e15503b/select_vme/vme_good_events_e15503b.h5')\n",
    "vmedata.dropna(subset=['evt_id'], inplace=True)\n",
    "vmedata.index = ['{:04g}_{:d}'.format(int(r), int(e)) for r, e in zip(vmedata.run_num, vmedata.evt_id)]"
   ]
  },
  {
   "cell_type": "markdown",
   "metadata": {},
   "source": [
    "# Merge dbs"
   ]
  },
  {
   "cell_type": "code",
   "execution_count": null,
   "metadata": {},
   "outputs": [],
   "source": [
    "rawdbs = glob.glob('/Users/josh/Documents/Data/Results/e15503b/mcmin/Apr12/raw/*.db')\n",
    "print('Found {} databases'.format(len(rawdbs)))"
   ]
  },
  {
   "cell_type": "code",
   "execution_count": null,
   "metadata": {
    "collapsed": true
   },
   "outputs": [],
   "source": [
    "sql_query = \"\"\"\n",
    "    select\n",
    "        m.evt_id,\n",
    "        m.x0, m.y0, m.z0, m.enu0, m.azi0, m.pol0,\n",
    "        m.posChi2, m.enChi2,\n",
    "        m.lin_scat_ang, m.lin_beam_int, m.lin_chi2,\n",
    "        m.rad_curv, m.brho, m.curv_en,\n",
    "        m.curv_ctr_x, m.curv_ctr_y\n",
    "    from\n",
    "        mcmin_results m;\n",
    "\"\"\""
   ]
  },
  {
   "cell_type": "code",
   "execution_count": null,
   "metadata": {
    "collapsed": true
   },
   "outputs": [],
   "source": [
    "def read_res(db):\n",
    "    with sqlite3.connect(db) as conn:\n",
    "        res = pd.read_sql(sql_query, conn)\n",
    "        \n",
    "    run_num = re.search(r'mcmin_run_(\\d+)', db).group(1)\n",
    "    res['run_num'] = int(run_num)\n",
    "    res['evt_id'] = res.evt_id.astype('int')\n",
    "    \n",
    "    res.index = ['{:04g}_{:d}'.format(r, e) for r, e in zip(res.run_num, res.evt_id)]\n",
    "    return res\n",
    "\n",
    "def read_res_all(dblist):\n",
    "    return pd.concat([read_res(db) for db in dblist], axis=0)"
   ]
  },
  {
   "cell_type": "code",
   "execution_count": null,
   "metadata": {},
   "outputs": [],
   "source": [
    "res = read_res_all(rawdbs)\n",
    "print(len(res))"
   ]
  },
  {
   "cell_type": "markdown",
   "metadata": {},
   "source": [
    "# Merge with VME data"
   ]
  },
  {
   "cell_type": "code",
   "execution_count": null,
   "metadata": {
    "collapsed": true
   },
   "outputs": [],
   "source": [
    "res = pd.merge(res, vmedata[['height', 'cfd_pos', 'pk_pos', 'group']], left_index=True, right_index=True)"
   ]
  },
  {
   "cell_type": "code",
   "execution_count": null,
   "metadata": {
    "collapsed": true
   },
   "outputs": [],
   "source": [
    "res.rename(columns={'height': 'ic_height', 'cfd_pos': 'ic_cfd_pos', \n",
    "                    'pk_pos': 'ic_pk_pos', 'group': 'vme_group'}, inplace=True)"
   ]
  },
  {
   "cell_type": "markdown",
   "metadata": {},
   "source": [
    "# Load event ID mappings"
   ]
  },
  {
   "cell_type": "code",
   "execution_count": null,
   "metadata": {
    "collapsed": true
   },
   "outputs": [],
   "source": [
    "from pytpc.vmedata import VMEAlignmentTable"
   ]
  },
  {
   "cell_type": "code",
   "execution_count": null,
   "metadata": {
    "collapsed": true
   },
   "outputs": [],
   "source": [
    "badruns = np.array([109, 115, 140, 183, 206, 250])"
   ]
  },
  {
   "cell_type": "code",
   "execution_count": null,
   "metadata": {
    "collapsed": true
   },
   "outputs": [],
   "source": [
    "evtid_tables = {\n",
    "    r: VMEAlignmentTable.from_hdf(f'/Users/josh/Documents/Data/Results/e15503b/align/vme_align_run_{r:04d}.h5')\n",
    "    for r in res.run_num.unique().astype('int')\n",
    "}"
   ]
  },
  {
   "cell_type": "code",
   "execution_count": null,
   "metadata": {
    "collapsed": true
   },
   "outputs": [],
   "source": [
    "invalid_ids = []\n",
    "for r, table in evtid_tables.items():\n",
    "    if r not in badruns:\n",
    "        invalid_ids += [f'{r:04d}_{e}' for e in np.where(~table.valid)[0]]"
   ]
  },
  {
   "cell_type": "code",
   "execution_count": null,
   "metadata": {
    "collapsed": true
   },
   "outputs": [],
   "source": [
    "validcut = ~(res.index.isin(invalid_ids) | res.run_num.isin(badruns))"
   ]
  },
  {
   "cell_type": "code",
   "execution_count": null,
   "metadata": {
    "collapsed": true
   },
   "outputs": [],
   "source": [
    "assert not np.in1d(res[validcut].run_num.unique(), badruns).any()\n",
    "assert not res[validcut].index.isin(invalid_ids).any()"
   ]
  },
  {
   "cell_type": "markdown",
   "metadata": {},
   "source": [
    "# Scalers"
   ]
  },
  {
   "cell_type": "code",
   "execution_count": null,
   "metadata": {
    "collapsed": true
   },
   "outputs": [],
   "source": [
    "scalers = pd.read_hdf('/Users/josh/Documents/Data/Results/e15503b/scalers/last.h5', 'last')\n",
    "startstop = pd.read_hdf('/Users/josh/Documents/Data/Results/e15503b/scalers/last.h5', 'startstop')\n",
    "\n",
    "scalers = pd.merge(startstop, scalers, how='inner', left_index=True, right_index=True)\n",
    "del startstop"
   ]
  },
  {
   "cell_type": "code",
   "execution_count": null,
   "metadata": {
    "collapsed": true
   },
   "outputs": [],
   "source": [
    "scalers['duration'] = (scalers.stop - scalers.start).astype('timedelta64[s]')"
   ]
  },
  {
   "cell_type": "markdown",
   "metadata": {},
   "source": [
    "# Rutherford"
   ]
  },
  {
   "cell_type": "code",
   "execution_count": null,
   "metadata": {
    "collapsed": true
   },
   "outputs": [],
   "source": [
    "def rutherford(th, Z1, Z2, en):\n",
    "    en = en * 1e6 * e_chg\n",
    "    return (Z1*Z2*e_chg**2 / (16*pi*eps_0*en))**2 / np.sin(np.pi/2 - th)**4 * 1e28"
   ]
  },
  {
   "cell_type": "markdown",
   "metadata": {},
   "source": [
    "# Post-processing"
   ]
  },
  {
   "cell_type": "code",
   "execution_count": null,
   "metadata": {
    "collapsed": true
   },
   "outputs": [],
   "source": [
    "def z_from_vert_en(vert_en, beam_enu0, beam_mass, beam_charge, gas):\n",
    "    ef = vert_en * beam_mass\n",
    "    ei = beam_enu0 * beam_mass\n",
    "    ri = gas.range(ei, beam_mass, beam_charge)  # m\n",
    "    rf = gas.range(ef, beam_mass, beam_charge)  # m\n",
    "    \n",
    "    return 1 + (rf - ri)  # m"
   ]
  },
  {
   "cell_type": "code",
   "execution_count": null,
   "metadata": {
    "collapsed": true
   },
   "outputs": [],
   "source": [
    "gas = pytpc.gases.InterpolatedGas(config['gas_name'], config['gas_pressure'])"
   ]
  },
  {
   "cell_type": "code",
   "execution_count": null,
   "metadata": {
    "collapsed": true
   },
   "outputs": [],
   "source": [
    "from pytpc.utilities import find_vertex_energy\n",
    "\n",
    "def postprocess(test_res, gas):\n",
    "    test_res['scat_ang'] = pi - test_res.pol0\n",
    "    test_res['cm_angle'] = pi - 2*test_res.scat_ang  # Approximation\n",
    "    test_res['totChi2'] = test_res['posChi2'] + test_res['enChi2']\n",
    "\n",
    "    test_res['kine_vert_en'] = find_kine_vert_en(46*p_mc2, p_mc2, test_res['scat_ang'], test_res.enu0) / 46\n",
    "    test_res['vert_en'] = find_vertex_energy(test_res.z0, config['beam_enu0'], 46, 18, gas) / 46\n",
    "    test_res['endiff'] = test_res.kine_vert_en - test_res.vert_en"
   ]
  },
  {
   "cell_type": "code",
   "execution_count": null,
   "metadata": {
    "collapsed": true
   },
   "outputs": [],
   "source": [
    "postprocess(res, gas)"
   ]
  },
  {
   "cell_type": "markdown",
   "metadata": {},
   "source": [
    "# Cuts"
   ]
  },
  {
   "cell_type": "code",
   "execution_count": null,
   "metadata": {
    "collapsed": true
   },
   "outputs": [],
   "source": [
    "prodcut = res.run_num.isin(runtables[runtables.type == 'Production'].index)"
   ]
  },
  {
   "cell_type": "code",
   "execution_count": null,
   "metadata": {
    "collapsed": true
   },
   "outputs": [],
   "source": [
    "posChi2Max = 14\n",
    "enChi2Max = 10"
   ]
  },
  {
   "cell_type": "code",
   "execution_count": null,
   "metadata": {},
   "outputs": [],
   "source": [
    "with sns.plotting_context('paper'):\n",
    "# with sns.plotting_context('notebook'):\n",
    "    fig, ax = plt.subplots(1, 2, squeeze=True, sharey=True, \n",
    "                           figsize=(6, 2.5),\n",
    "#                            figsize=(12, 4),\n",
    "                          )\n",
    "\n",
    "    ax[0].hist(res.posChi2.dropna().values, bins=400, range=(0, 99), histtype='stepfilled');\n",
    "    ax[0].set_xlabel(r'$\\chi^2_\\mathrm{pos}$')\n",
    "    ax[0].set_ylabel('Count')\n",
    "\n",
    "    ax[1].hist(res.enChi2.dropna().values, bins=400, range=(0, 50), histtype='stepfilled');\n",
    "    ax[1].set_xlabel(r'$\\chi^2_\\mathrm{en}$')\n",
    "\n",
    "    for a, bd in zip(ax.ravel(), (posChi2Max, enChi2Max)):\n",
    "        a.set_autoscalex_on(False)\n",
    "        a.set_autoscaley_on(False)\n",
    "        a.axvspan(0, bd, facecolor='#dcdee2', zorder=0)\n",
    "        a.vlines((0, bd), *a.get_ylim(), linewidth=1)\n",
    "        a.yaxis.get_major_locator().set_params(nbins=6)\n",
    "        a.xaxis.get_major_locator().set_params(nbins=8)\n",
    "\n",
    "    fig.tight_layout()\n",
    "    \n",
    "#     plt.savefig('/Users/josh/Documents/Papers/phd-thesis/Figures/exp/expchi2.pdf', bbox_inches='tight')\n"
   ]
  },
  {
   "cell_type": "code",
   "execution_count": null,
   "metadata": {},
   "outputs": [],
   "source": [
    "with sns.plotting_context('notebook'):\n",
    "#     plt.figure(figsize=(6, 4))\n",
    "\n",
    "    bins, edges = np.histogram(res.enChi2.values, bins=100, range=(0, 70));\n",
    "\n",
    "    plt.step(edges[:-1], bins, color='k', label='Energy $\\chi^2$')\n",
    "    plt.fill_between(edges[:-1], bins, step='pre', where=edges[:-1] < enChi2Max, facecolor='C0', edgecolor='none',\n",
    "                     label='Proton tracks')\n",
    "    plt.fill_between(edges[:-1], bins, step='pre', where=(edges[:-1] > 13) & (edges[:-1] < 36), \n",
    "                     edgecolor='none', facecolor='C3', label='Carbon tracks')\n",
    "\n",
    "    plt.xlim(0, 70)\n",
    "    plt.ylim(0)\n",
    "    # plt.vlines(enChi2Max, *plt.ylim())\n",
    "    # plt.axvspan(0, enChi2Max, zorder=-1, facecolor=)\n",
    "    # plt.axvspan(12, 40, facecolor='none', hatch='//')\n",
    "    sns.despine()\n",
    "    plt.xlabel(r'$\\chi^2_\\mathrm{en}$')\n",
    "    plt.ylabel('Count')\n",
    "\n",
    "    plt.ticklabel_format(style='sci', axis='y', scilimits=(0,0))\n",
    "\n",
    "    plt.legend()\n",
    "    plt.tight_layout()\n",
    "\n",
    "#     plt.savefig('/Users/josh/Desktop/Figures for committee/enchi.pdf', bbox_inches='tight')"
   ]
  },
  {
   "cell_type": "code",
   "execution_count": null,
   "metadata": {
    "collapsed": true
   },
   "outputs": [],
   "source": [
    "physicalcut = (res.scat_ang < pi/2)\n",
    "goodfitcut = (res.posChi2 < posChi2Max) & (res.enChi2 < enChi2Max)"
   ]
  },
  {
   "cell_type": "code",
   "execution_count": null,
   "metadata": {},
   "outputs": [],
   "source": [
    "print('goodfitcut: {} / {} = {}'.format(len(res[goodfitcut]), len(res), len(res[goodfitcut])/len(res)))"
   ]
  },
  {
   "cell_type": "code",
   "execution_count": null,
   "metadata": {},
   "outputs": [],
   "source": [
    "len(res)"
   ]
  },
  {
   "cell_type": "code",
   "execution_count": null,
   "metadata": {},
   "outputs": [],
   "source": [
    "len(res[goodfitcut & physicalcut & prodcut])"
   ]
  },
  {
   "cell_type": "code",
   "execution_count": null,
   "metadata": {
    "collapsed": true
   },
   "outputs": [],
   "source": [
    "recalib_scale = 1.09\n",
    "res['vert_en_recalib'] = 4.17 - (4.17 - res.vert_en)*recalib_scale"
   ]
  },
  {
   "cell_type": "code",
   "execution_count": null,
   "metadata": {
    "collapsed": true
   },
   "outputs": [],
   "source": [
    "gooddata = res[goodfitcut & physicalcut & prodcut & validcut]"
   ]
  },
  {
   "cell_type": "code",
   "execution_count": null,
   "metadata": {},
   "outputs": [],
   "source": [
    "len(gooddata)"
   ]
  },
  {
   "cell_type": "markdown",
   "metadata": {},
   "source": [
    "# Plots "
   ]
  },
  {
   "cell_type": "code",
   "execution_count": null,
   "metadata": {},
   "outputs": [],
   "source": [
    "with sns.plotting_context('paper'):\n",
    "    max_theta = 65\n",
    "    d = gooddata[gooddata.scat_ang <= max_theta * degrees].sort_values('z0')\n",
    "    \n",
    "    plt.figure(figsize=(5, 3))\n",
    "\n",
    "    plt.hist2d(d.z0 * 1000, d.enu0 / np.cos(d.scat_ang)**2, bins=(np.linspace(0, 1000, 100), np.linspace(0, 20, 100)),\n",
    "               alpha=0.7, cmap='Greys')\n",
    "\n",
    "    recalib_lb = 4.17 - (4.17 - d.vert_en)*(recalib_scale - 0.025)\n",
    "    recalib_ub = 4.17 - (4.17 - d.vert_en)*(recalib_scale + 0.025)\n",
    "\n",
    "    plt.plot(d.z0 * 1000, d.vert_en * 4, linestyle='--', color='tab:red', label='Original')\n",
    "    plt.plot(d.z0 * 1000, d.vert_en_recalib * 4, linestyle='-', color='tab:cyan', label='Recalibrated')\n",
    "    plt.fill_between(d.z0 * 1000, recalib_lb * 4, recalib_ub * 4, color='tab:cyan', alpha=0.3)\n",
    "\n",
    "    plt.colorbar().set_label('Count')\n",
    "    plt.xlabel(r'Vertex position $z_0$ [mm]')\n",
    "    plt.ylabel(r'$E_p / \\cos^2(\\theta_\\mathrm{lab})$ [MeV]')\n",
    "    plt.legend(loc='upper left', frameon=False)\n",
    "    plt.gca().add_artist(AnchoredText(fr'$\\theta_\\mathrm{{lab}} \\leq {max_theta}°$', loc=4, frameon=False))\n",
    "\n",
    "#     plt.savefig('/Users/josh/Documents/Papers/phd-thesis/Figures/exp/recalib.pdf', bbox_inches='tight', dpi=400)"
   ]
  },
  {
   "cell_type": "code",
   "execution_count": null,
   "metadata": {
    "scrolled": false
   },
   "outputs": [],
   "source": [
    "with sns.plotting_context('paper'):\n",
    "    fig, ax_main = plt.subplots(figsize=(3.5, 2.6))\n",
    "    \n",
    "    binsize = 5\n",
    "    \n",
    "    ax_main.hist(gooddata.z0 * 1000, bins=np.arange(0, 1700, binsize), histtype='stepfilled');\n",
    "\n",
    "    ax_main.set_xlabel('Vertex position in z [mm]')\n",
    "    ax_main.set_ylabel('Count')\n",
    "\n",
    "    ax_sub = fig.add_axes([0.6, 0.35, 0.3, 0.4])\n",
    "    \n",
    "    xb, xe = np.histogram(gooddata.z0 * 1000, bins=np.arange(900, 1050, binsize))\n",
    "    \n",
    "    from scipy.stats import norm\n",
    "    def fitfunc(x, mean, sigma, scale, offset):\n",
    "        return scale * (1 - norm.cdf(x, loc=mean, scale=sigma)) + offset\n",
    "\n",
    "    fparam, ferr = scipy.optimize.curve_fit(fitfunc, xe[:-1], xb, p0=(1000, 5, 650, 0))\n",
    "    print(fparam)\n",
    "    print('FWHM = {:0.4f} mm'.format(fparam[1] * 2.355))\n",
    "    \n",
    "    xs = np.linspace(xe.min(), xe.max(), 1000)\n",
    "    ax_sub.errorbar(xe[:-1], xb, yerr=np.sqrt(xb), fmt='.', elinewidth=1, capthick=1, capsize=1)\n",
    "    ax_sub.plot(xs, fitfunc(xs, *fparam), 'k')\n",
    "    ax_sub.set_xlim(xe.min(), xe.max())\n",
    "    ax_sub.set_xticks(range(940, 1050, 40))\n",
    "    ax_sub.set_yticks([])\n",
    "    \n",
    "    sns.despine()\n",
    "\n",
    "    # plt.tight_layout()\n",
    "#     plt.savefig('/Users/josh/Documents/Papers/attpc-nim-paper/Figures/z_dist.pdf', bbox_inches='tight')\n",
    "#     plt.savefig('/Users/josh/Desktop/z_dist.pdf', bbox_inches='tight')"
   ]
  },
  {
   "cell_type": "code",
   "execution_count": null,
   "metadata": {
    "scrolled": false
   },
   "outputs": [],
   "source": [
    "with sns.plotting_context('paper'):\n",
    "    fig, ax_main = plt.subplots(figsize=(5, 5*2/3))\n",
    "    \n",
    "    binsize = 10e-3\n",
    "\n",
    "    ax_main.set_xlabel('Vertex energy from vertex position (lab) [MeV/u]')\n",
    "    ax_main.set_ylabel('Counts')\n",
    "    \n",
    "    xb, xe = np.histogram(gooddata.vert_en_recalib, bins=np.arange(3.8, 4.5, binsize))\n",
    "    \n",
    "    from scipy.stats import norm\n",
    "    def fitfunc(x, mean, sigma, scale, offset):\n",
    "        return scale * (1 - norm.cdf(x, loc=mean, scale=sigma)) + offset\n",
    "\n",
    "    fparam, ferr = scipy.optimize.curve_fit(fitfunc, xe[:-1], xb, p0=(4.2, 40e-3, 400, 0))\n",
    "    print(fparam)\n",
    "    print('FWHM = {:0.4f} keV'.format(fparam[1] * 2.355 * 1000))\n",
    "    \n",
    "    xs = np.linspace(xe.min(), xe.max(), 1000)\n",
    "    ax_main.errorbar(xe[:-1], xb, yerr=np.sqrt(xb), fmt='.', elinewidth=1, label='Data', zorder=100)\n",
    "    ax_main.plot(xs, fitfunc(xs, *fparam), label='Fit')\n",
    "    ax_main.set_xlim(xe.min(), xe.max())\n",
    "#     ax_sub.set_xticks(range(940, 1050, 40))\n",
    "    \n",
    "    plt.legend(frameon=False)\n",
    "    \n",
    "    sns.despine()\n",
    "\n",
    "    plt.tight_layout()\n",
    "#     plt.savefig('/Users/josh/Documents/Papers/phd-thesis/Figures/exp/window_en_fit.pdf', bbox_inches='tight')"
   ]
  },
  {
   "cell_type": "code",
   "execution_count": null,
   "metadata": {},
   "outputs": [],
   "source": [
    "with sns.plotting_context('paper'):\n",
    "    plt.figure(figsize=(5, 5*2/3))   \n",
    "    plt.hist(gooddata.enu0, histtype='stepfilled', bins=np.arange(0, 12.1, 0.05), log=True);\n",
    "    plt.xlabel('Proton initial energy (lab) [MeV]')\n",
    "    plt.ylabel('Count')\n",
    "    plt.ylim(0.5)\n",
    "    plt.minorticks_on()\n",
    "\n",
    "    sns.despine()\n",
    "\n",
    "#     plt.savefig('/Users/josh/Documents/Papers/phd-thesis/Figures/exp/proton_energy.pdf', bbox_inches='tight')"
   ]
  },
  {
   "cell_type": "code",
   "execution_count": null,
   "metadata": {},
   "outputs": [],
   "source": [
    "with sns.plotting_context('paper'):\n",
    "    plt.figure(figsize=(5, 5*2/3))\n",
    "    plt.hist(gooddata.cm_angle / degrees, bins=np.arange(0, 181, 1), histtype='stepfilled');\n",
    "    plt.xlabel('Scattering angle (CM) [deg]')\n",
    "    plt.ylabel('Count')\n",
    "    \n",
    "    plt.gca().xaxis.get_major_locator().set_params(nbins=8, steps=[1, 2, 3, 6, 10])\n",
    "    plt.minorticks_on()\n",
    "\n",
    "    sns.despine()\n",
    "    \n",
    "#     plt.savefig('/Users/josh/Documents/Papers/phd-thesis/Figures/exp/cm_angle.pdf', bbox_inches='tight')"
   ]
  },
  {
   "cell_type": "code",
   "execution_count": null,
   "metadata": {},
   "outputs": [],
   "source": [
    "with sns.plotting_context('paper'):\n",
    "    plt.figure(figsize=(4, 2.5))\n",
    "    plt.hist(gooddata.azi0 / degrees, bins=np.arange(-180, 181, 1), histtype='stepfilled');\n",
    "    plt.xlabel('Scattering angle (CM) [deg]')\n",
    "    plt.ylabel('Count')\n",
    "    \n",
    "    plt.gca().xaxis.get_major_locator().set_params(nbins=8, steps=[1, 2, 3, 6, 10])\n",
    "    plt.minorticks_on()\n",
    "\n",
    "    sns.despine()\n",
    "    \n",
    "#     plt.savefig('/Users/josh/Documents/Papers/phd-thesis/Figures/exp/cm_angle.pdf', bbox_inches='tight')"
   ]
  },
  {
   "cell_type": "code",
   "execution_count": null,
   "metadata": {},
   "outputs": [],
   "source": [
    "d = gooddata\n",
    "plt.hist(d.run_num, bins=np.arange(d.run_num.min(), d.run_num.max()))\n",
    "plt.xlabel('Run number')\n",
    "plt.ylabel('Number of good events')"
   ]
  },
  {
   "cell_type": "code",
   "execution_count": null,
   "metadata": {},
   "outputs": [],
   "source": [
    "d = gooddata\n",
    "plt.hist2d(d.run_num, d.endiff, bins=(np.arange(d.run_num.min(), d.run_num.max(), 1), \n",
    "                                      np.arange(-2, 2, 0.1)), cmap='viridis');\n",
    "# plt.axvline(217, color='white', linewidth=1)\n",
    "plt.xlabel('Run number')\n",
    "plt.ylabel('Energy difference [MeV/u]')\n",
    "# plt.ylim(0.1, 1e4)\n",
    "# plt.xlim(150, 175)"
   ]
  },
  {
   "cell_type": "code",
   "execution_count": null,
   "metadata": {
    "collapsed": true
   },
   "outputs": [],
   "source": [
    "argon_ct = pd.read_table('/Users/josh/Documents/Data/Results/e15503b/select_vme/argon_count.tsv', \n",
    "                         index_col=0).sort_index()\n",
    "argon_ct['pct'] = argon_ct.argon_count / argon_ct.total_count"
   ]
  },
  {
   "cell_type": "code",
   "execution_count": null,
   "metadata": {
    "collapsed": true
   },
   "outputs": [],
   "source": [
    "inrange = gooddata[(gooddata.endiff < -0.5) & (gooddata.endiff > -1.5)]\n",
    "\n",
    "m1cts = inrange.groupby('run_num').agg({'evt_id': 'count'}).rename(columns={'evt_id': 'inrange'})\n",
    "allcts = gooddata.groupby('run_num').agg({'evt_id': 'count'}).rename(columns={'evt_id': 'total'})\n",
    "ctsdf = pd.concat((m1cts, allcts), axis=1, join='inner')\n",
    "\n",
    "del inrange, allcts, m1cts\n",
    "\n",
    "ctsdf['ratio'] = ctsdf.inrange / ctsdf.total"
   ]
  },
  {
   "cell_type": "code",
   "execution_count": null,
   "metadata": {
    "collapsed": true
   },
   "outputs": [],
   "source": [
    "ctsdf = ctsdf.merge(scalers, left_index=True, right_index=True, how='inner')"
   ]
  },
  {
   "cell_type": "code",
   "execution_count": null,
   "metadata": {
    "collapsed": true
   },
   "outputs": [],
   "source": [
    "ctsdf['argon_pct'] = argon_ct.pct"
   ]
  },
  {
   "cell_type": "code",
   "execution_count": null,
   "metadata": {},
   "outputs": [],
   "source": [
    "plt.bar(ctsdf.index, ctsdf.ratio, width=1)"
   ]
  },
  {
   "cell_type": "code",
   "execution_count": null,
   "metadata": {},
   "outputs": [],
   "source": [
    "plt.scatter(ctsdf.ratio, ctsdf.argon_pct, alpha=0.6, s=20)"
   ]
  },
  {
   "cell_type": "code",
   "execution_count": null,
   "metadata": {},
   "outputs": [],
   "source": [
    "plt.bar(ctsdf.index, ctsdf.inrange / ctsdf.cobo_or, width=1)\n",
    "# plt.xlim(125, 150)"
   ]
  },
  {
   "cell_type": "code",
   "execution_count": null,
   "metadata": {
    "collapsed": true
   },
   "outputs": [],
   "source": [
    "armruns = ctsdf[ctsdf.ratio > 0.2].index.values"
   ]
  },
  {
   "cell_type": "code",
   "execution_count": null,
   "metadata": {},
   "outputs": [],
   "source": [
    "armruns"
   ]
  },
  {
   "cell_type": "code",
   "execution_count": null,
   "metadata": {},
   "outputs": [],
   "source": [
    "plt.hist(gooddata.ic_cfd_pos, bins=np.arange(0, 512, 1), log=True);\n",
    "\n",
    "m = res.ic_cfd_pos.median()\n",
    "s = 6\n",
    "\n",
    "plt.autoscale(False)\n",
    "plt.vlines((m - s, m + s), *plt.ylim())\n",
    "print(m-s, m+s)"
   ]
  },
  {
   "cell_type": "code",
   "execution_count": null,
   "metadata": {
    "collapsed": true
   },
   "outputs": [],
   "source": [
    "iccut = (res.ic_cfd_pos > 145) & (res.ic_cfd_pos < 157)"
   ]
  },
  {
   "cell_type": "code",
   "execution_count": null,
   "metadata": {},
   "outputs": [],
   "source": [
    "res[goodfitcut & prodcut & physicalcut & iccut].shape"
   ]
  },
  {
   "cell_type": "code",
   "execution_count": null,
   "metadata": {},
   "outputs": [],
   "source": [
    "res[goodfitcut & prodcut & physicalcut & ~iccut].shape"
   ]
  },
  {
   "cell_type": "code",
   "execution_count": null,
   "metadata": {},
   "outputs": [],
   "source": [
    "d = res[goodfitcut & prodcut & physicalcut]\n",
    "plt.hist2d(d.ic_cfd_pos, d.endiff, bins=(np.arange(512), np.arange(-2, 2, 0.1)), norm=LogNorm());\n",
    "plt.colorbar()"
   ]
  },
  {
   "cell_type": "code",
   "execution_count": null,
   "metadata": {},
   "outputs": [],
   "source": [
    "with sns.plotting_context('paper'):\n",
    "    d = gooddata\n",
    "    \n",
    "    jg = sns.JointGrid(d.x0.values * 1000, d.y0.values * 1000, size=3.75)\n",
    "    \n",
    "    jg.plot_joint(plt.hist2d, bins=np.arange(-20, 20.5, 0.5))\n",
    "    jg.plot_marginals(sns.distplot, hist=True, kde=False, bins=np.arange(-20, 20.5, 0.5), \n",
    "                      color=plt.cm.viridis(0.25), hist_kws={'histtype': 'stepfilled'})\n",
    "    \n",
    "    jg.set_axis_labels('$x_0$ [mm]', '$y_0$ [mm]')\n",
    "    \n",
    "    mbox = jg.ax_marg_y.get_position()\n",
    "    cax = jg.fig.add_axes([mbox.x1 + 0.05, mbox.y0, mbox.height / 20, mbox.height])\n",
    "    plt.colorbar(cax=cax).set_label('Counts')\n",
    "    \n",
    "    jg.ax_joint.xaxis.get_major_locator().set_params(nbins=8)\n",
    "    jg.ax_joint.yaxis.get_major_locator().set_params(nbins=8)\n",
    "    \n",
    "#     plt.savefig('/Users/josh/Documents/Papers/phd-thesis/Figures/exp/vertex_xy.pdf', bbox_inches='tight', dpi=400)"
   ]
  },
  {
   "cell_type": "code",
   "execution_count": null,
   "metadata": {},
   "outputs": [],
   "source": [
    "with sns.plotting_context('paper'):\n",
    "    d = gooddata\n",
    "    \n",
    "    plt.figure(figsize=(4.75, 3))\n",
    "    plt.hist2d(d.z0 * 1000, np.hypot(d.x0, d.y0) * 1000, bins=(np.arange(0, 1010, 10), np.arange(0, 30.05, 0.5)), \n",
    "               norm=LogNorm());\n",
    "    plt.colorbar().set_label('Counts')\n",
    "\n",
    "    plt.ylim(0, 30.1)\n",
    "\n",
    "    plt.xlabel('$z_0$ [mm]')\n",
    "    plt.ylabel('$\\sqrt{x_0^2 + y_0^2}$ [mm]')\n",
    "    \n",
    "#     plt.savefig('/Users/josh/Documents/Papers/phd-thesis/Figures/exp/vertex_r_vs_z.pdf', bbox_inches='tight', dpi=400)"
   ]
  },
  {
   "cell_type": "code",
   "execution_count": null,
   "metadata": {
    "collapsed": true
   },
   "outputs": [],
   "source": [
    "gsrescut = ((res.cm_angle > 70 * degrees) & (res.cm_angle < 120 * degrees) \n",
    "            & (res.vert_en < 2.2) & (res.vert_en > 1.5))"
   ]
  },
  {
   "cell_type": "code",
   "execution_count": null,
   "metadata": {},
   "outputs": [],
   "source": [
    "with sns.plotting_context('notebook'):\n",
    "    d = gooddata\n",
    "    plt.hist2d(d.cm_angle/degrees, d.vert_en_recalib, range=((10, 140), (0, 6)), bins=100, norm=LogNorm());\n",
    "    plt.xlabel('CM scattering angle [deg]')\n",
    "    plt.ylabel('Reconstructed 46Ar vertex energy [MeV/u]')\n",
    "    plt.colorbar().set_label('Count')"
   ]
  },
  {
   "cell_type": "code",
   "execution_count": null,
   "metadata": {},
   "outputs": [],
   "source": [
    "d = gooddata\n",
    "plt.hist(d.endiff, bins=np.arange(-5, 5, 0.05), histtype='stepfilled');\n",
    "# vertdiffmed = -1 #d.vertdiff.median()\n",
    "# sigma = 0.200\n",
    "\n",
    "# vertencut = np.abs(res.vertdiff - vertdiffmed) < sigma\n",
    "\n",
    "# plt.vlines((vertdiffmed, vertdiffmed - sigma, vertdiffmed + sigma), *plt.ylim())\n",
    "# plt.ylim(0.1, 1e4)\n",
    "plt.xlabel('(Kine. vertex en.) – (pos. vertex en.) [MeV/u]')\n",
    "plt.ylabel('Count')\n",
    "\n",
    "# plt.savefig('/Users/josh/Desktop/Plots for Daniel/exp_endiff.pdf')"
   ]
  },
  {
   "cell_type": "code",
   "execution_count": null,
   "metadata": {
    "collapsed": true
   },
   "outputs": [],
   "source": [
    "from scipy.stats import norm, laplace, gennorm\n",
    "from scipy.optimize import curve_fit\n",
    "\n",
    "def gaus(x, s, a):\n",
    "    return a * poisson.pdf(x, loc=0, scale=s)\n",
    "\n",
    "def lorentz(x, x0, gamma, a):\n",
    "    return a / ((x - x0)**2 + 0.25 * gamma**2)\n",
    "\n",
    "def lapl(x, ctr, width, scale):\n",
    "    return scale * laplace.pdf(x, loc=ctr, scale=width)\n",
    "\n",
    "def gen(x, ctr, width, scale, beta):\n",
    "    return scale * gennorm.pdf(x, beta=beta, loc=ctr, scale=width)"
   ]
  },
  {
   "cell_type": "code",
   "execution_count": null,
   "metadata": {},
   "outputs": [],
   "source": [
    "fitdata = gooddata\n",
    "\n",
    "bins = np.arange(-5, 5.01, 0.05)\n",
    "fitbins = bins #bins[bins >= -0.5]\n",
    "\n",
    "fitcts, fitedges = np.histogram(fitdata.endiff, bins=fitbins)\n",
    "\n",
    "fparam, fres = curve_fit(lorentz, fitedges[:-1], fitcts)#, p0=(0, 1, fitcts.max(), 2))\n",
    "print(fparam)\n",
    "\n",
    "plt.step(fitedges[:-1], fitcts, where='post')\n",
    "\n",
    "xs = np.linspace(-5, 5, 1000)\n",
    "plt.plot(xs, lorentz(xs, *fparam))\n",
    "\n",
    "plt.xlabel('(Kine. vertex en.) – (pos. vertex en.) [MeV/u]')\n",
    "plt.ylabel('Count')"
   ]
  },
  {
   "cell_type": "code",
   "execution_count": null,
   "metadata": {},
   "outputs": [],
   "source": [
    "plt.hist(fitdata.endiff, bins=bins);\n",
    "\n",
    "xs = np.linspace(-5, 5, 500)\n",
    "plt.plot(xs, lorentz(xs, *fparam))"
   ]
  },
  {
   "cell_type": "code",
   "execution_count": null,
   "metadata": {},
   "outputs": [],
   "source": [
    "\n",
    "cts, edges = np.histogram(fitdata.endiff, bins=bins)\n",
    "\n",
    "plt.step(edges[:-1], cts - lorentz(edges[:-1], *fparam))\n",
    "plt.vlines((-1.15), *plt.ylim())"
   ]
  },
  {
   "cell_type": "code",
   "execution_count": null,
   "metadata": {},
   "outputs": [],
   "source": [
    "d = res[goodfitcut & physicalcut & vertencut]\n",
    "plt.hist(d.vertdiff, bins=100, log=False, range=(-5, 5));\n",
    "\n",
    "plt.vlines((vertdiffmed, vertdiffmed - sigma, vertdiffmed + sigma), *plt.ylim())\n",
    "# plt.ylim(0.1, 1e4)\n",
    "plt.xlabel('(Kine. vertex en.) – (pos. vertex en.) [MeV/u]')\n",
    "plt.ylabel('Count')"
   ]
  },
  {
   "cell_type": "code",
   "execution_count": null,
   "metadata": {},
   "outputs": [],
   "source": [
    "print(\"Vert en cut keeps {} / {}\".format(len(res[goodfitcut & physicalcut & vertencut]), \n",
    "                                         len(res[goodfitcut & physicalcut])))"
   ]
  },
  {
   "cell_type": "code",
   "execution_count": null,
   "metadata": {},
   "outputs": [],
   "source": [
    "with sns.plotting_context('talk'), sns.axes_style('white'):\n",
    "    e = 0.5\n",
    "    d = gooddata\n",
    "    fig, ax = plt.subplots(1, 2, squeeze=True, figsize=(18, 6))\n",
    "    *junk, c0 = ax[0].hist2d(d.cm_angle/degrees, d.vert_en, range=((10, 140), (0, 6)), bins=100, cmap='viridis')#, norm=LogNorm());\n",
    "    *junk, c1 = ax[1].hist2d(d.cm_angle/degrees, d.kine_vert_en, range=((10, 140), (0, 6)), bins=100, cmap='viridis')#, norm=LogNorm());\n",
    "    plt.colorbar(c0, ax=ax[0]).set_label('Count')\n",
    "    plt.colorbar(c1, ax=ax[1]).set_label('Count')\n",
    "    ax[0].set_xlabel('CM scattering angle [deg]')\n",
    "    ax[1].set_xlabel('CM scattering angle [deg]')\n",
    "    ax[0].set_ylabel('46Ar vertex energy [MeV/u]')\n",
    "    \n",
    "    ax[0].set_title('From vertex position')\n",
    "    ax[1].set_title('From kinematics')\n",
    "    \n",
    "\n",
    "#     plt.savefig('/Users/josh/Desktop/Figures for committee/exp_pos_2d.pdf', transparent=True, bbox_inches='tight')"
   ]
  },
  {
   "cell_type": "code",
   "execution_count": null,
   "metadata": {},
   "outputs": [],
   "source": [
    "with sns.axes_style('white'):\n",
    "    d = res[goodfitcut & physicalcut & prodcut & (res.vme_group == 0)]\n",
    "    plt.hist2d(d.ic_height, d.endiff, bins=100, range=((4500, 6500), (-10, 10)), cmap='viridis', norm=LogNorm());\n",
    "    plt.xlabel('IC signal amplitude')\n",
    "    plt.ylabel('46Ar Vertex energy difference [MeV/u]')\n",
    "    plt.colorbar().set_label('Count')"
   ]
  },
  {
   "cell_type": "code",
   "execution_count": null,
   "metadata": {},
   "outputs": [],
   "source": [
    "plt.hist(gooddata.kine_vert_en, bins=np.arange(0, 8.1, 0.05));\n",
    "plt.xlabel('46Ar lab vertex energy from kinematics [MeV/u]')\n",
    "plt.ylabel('Count')"
   ]
  },
  {
   "cell_type": "code",
   "execution_count": null,
   "metadata": {},
   "outputs": [],
   "source": [
    "plt.hist(gooddata.vert_en, bins=np.arange(0, 4.8, 0.05));\n",
    "plt.xlabel('46Ar energy at reaction vertex [MeV/u]')\n",
    "plt.ylabel('Count')\n",
    "sns.despine()\n",
    "# plt.savefig('/Users/josh/Desktop/Figures/energy_spectrum.pdf', transparent=True, bbox_inches='tight')"
   ]
  },
  {
   "cell_type": "code",
   "execution_count": null,
   "metadata": {},
   "outputs": [],
   "source": [
    "with sns.plotting_context('paper'):\n",
    "    d = gooddata\n",
    "\n",
    "    fig, ax = plt.subplots(2, 1, sharex=True, sharey=True, squeeze=True, figsize=(5, 5*2/3*1.8))\n",
    "\n",
    "    bins = np.arange(0, 7, 0.05)\n",
    "\n",
    "    ax[0].hist(d.vert_en_recalib, bins=bins, histtype='stepfilled')\n",
    "    ax[1].hist(d.kine_vert_en, bins=bins, histtype='stepfilled')\n",
    "\n",
    "    ax[1].set_xlabel('${}^{46}\\mathrm{Ar}$ vertex energy (lab) [MeV/u]')\n",
    "    ax[0].set_ylabel('Counts')\n",
    "    ax[1].set_ylabel('Counts')\n",
    "\n",
    "    ax[0].xaxis.get_major_locator().set_params(nbins=10)\n",
    "\n",
    "    ax[0].text(0.98, 0.95, 'From position', transform=ax[0].transAxes, ha='right', va='top')\n",
    "    ax[1].text(0.98, 0.95, 'From kinematics', transform=ax[1].transAxes, ha='right', va='top')\n",
    "    \n",
    "    plt.minorticks_on()\n",
    "\n",
    "    plt.tight_layout()\n",
    "\n",
    "#     plt.savefig('/Users/josh/Documents/Papers/phd-thesis/Figures/exp/vertens.pdf', bbox_inches='tight')"
   ]
  },
  {
   "cell_type": "code",
   "execution_count": null,
   "metadata": {},
   "outputs": [],
   "source": [
    "ens = np.arange(1.0, 3.25, 0.25)\n",
    "angs = np.linspace(50, 80, 1000) * degrees\n",
    "\n",
    "with sns.cubehelix_palette(len(ens), start=.5, rot=-0.75, light=0.7) as pal, sns.plotting_context('paper'):\n",
    "    plt.figure(figsize=(6, 4))\n",
    "    \n",
    "    for en in ens:\n",
    "        val = find_kine_vert_en(46*p_mc2, p_mc2, angs, en) / 46\n",
    "        der = np.diff(val) / (np.diff(angs) / degrees)\n",
    "        plt.plot(angs[1:] / degrees, der)\n",
    "        \n",
    "    sns.despine()\n",
    "        \n",
    "    cmap = mpl.colors.ListedColormap(pal) \n",
    "    sm = mpl.cm.ScalarMappable(norm=mpl.colors.Normalize(ens.min(), ens.max()), cmap=cmap)\n",
    "    sm._A = []\n",
    "    plt.colorbar(sm, ticks=ens).set_label('Proton energy [MeV]')\n",
    "    plt.xlabel('Scattering angle (lab) [deg]')\n",
    "    plt.ylabel(r'$dE_\\mathrm{Ar}/d\\theta$ [(MeV/u)/deg]')\n",
    "    \n",
    "    plt.minorticks_on()\n",
    "    \n",
    "#     plt.savefig('/Users/josh/Documents/Papers/phd-thesis/Figures/exp/angdep.pdf', bbox_inches='tight')"
   ]
  },
  {
   "cell_type": "code",
   "execution_count": null,
   "metadata": {},
   "outputs": [],
   "source": [
    "with sns.plotting_context('paper'):\n",
    "    d = gooddata\n",
    "    plt.figure(figsize=(7, 5))\n",
    "    plt.hist2d(d.vert_en_recalib, d.kine_vert_en, bins=np.arange(0, 8, 0.05), norm=LogNorm());\n",
    "    plt.gca().set_aspect(1)\n",
    "    plt.xlabel('Vertex energy from vertex position (lab) [MeV/u]')\n",
    "    plt.ylabel('Vertex energy from kinematics (lab) [MeV/u]')\n",
    "    plt.colorbar().set_label('Counts')\n",
    "    xs = np.linspace(0, 8, 10)\n",
    "    plt.plot(xs, xs, 'k--', linewidth=1)\n",
    "    \n",
    "    plt.xticks(np.arange(9))\n",
    "    plt.yticks(np.arange(9))\n",
    "    \n",
    "    plt.xlim(0, 8)\n",
    "    plt.ylim(0, 8)\n",
    "    \n",
    "    plt.minorticks_on()\n",
    "    \n",
    "#     plt.savefig('/Users/josh/Documents/Papers/phd-thesis/Figures/exp/verten_2d.pdf', bbox_inches='tight', dpi=400)"
   ]
  },
  {
   "cell_type": "code",
   "execution_count": null,
   "metadata": {},
   "outputs": [],
   "source": [
    "with sns.plotting_context('paper'):\n",
    "    d = gooddata\n",
    "    print(len(d))\n",
    "    \n",
    "    ni_mass = 60\n",
    "    ni_beam_en = (4.6 * ni_mass - 20) / ni_mass\n",
    "\n",
    "    v = find_vertex_energy(d.z0, ni_beam_en, ni_mass, 28, gas) / ni_mass\n",
    "    k = find_kine_vert_en(ni_mass*p_mc2, p_mc2, d['scat_ang'], d.enu0) / ni_mass\n",
    "    \n",
    "#     plt.figure(figsize=(7, 5))\n",
    "    plt.hist2d(v, k, bins=np.arange(0, 8, 0.05), norm=LogNorm());\n",
    "    plt.gca().set_aspect(1)\n",
    "    plt.xlabel('${}^{60}\\mathrm{Ni}$ Vertex energy from vertex position [MeV/u]')\n",
    "    plt.ylabel('${}^{60}\\mathrm{Ni}$ Vertex energy from kinematics [MeV/u]')\n",
    "    plt.colorbar().set_label('Counts')\n",
    "    xs = np.linspace(0, 8, 10)\n",
    "    plt.plot(xs, xs, 'k--', linewidth=1)\n",
    "    \n",
    "    plt.xticks(np.arange(9))\n",
    "    plt.yticks(np.arange(9))\n",
    "    \n",
    "    plt.xlim(0, 8)\n",
    "    plt.ylim(0, 8)\n",
    "    \n",
    "#     plt.savefig('/Users/josh/Desktop/energy_comparison_60ni.pdf', bbox_inches='tight', dpi=300)"
   ]
  },
  {
   "cell_type": "code",
   "execution_count": null,
   "metadata": {},
   "outputs": [],
   "source": [
    "d = gooddata\n",
    "plt.hist2d(d.cm_angle / degrees, d.endiff, range=((0, 180), (-4, 4)), bins=100, cmap='viridis', norm=LogNorm());\n",
    "plt.xlabel('CM scattering angle [deg]')\n",
    "plt.ylabel('Kine vert en - pos vert en [MeV/u]')\n",
    "plt.colorbar().set_label('Count')"
   ]
  },
  {
   "cell_type": "code",
   "execution_count": null,
   "metadata": {},
   "outputs": [],
   "source": [
    "d[np.abs(d.z0 - 1.0) < 1e-3].vert_en"
   ]
  },
  {
   "cell_type": "code",
   "execution_count": null,
   "metadata": {},
   "outputs": [],
   "source": [
    "with sns.axes_style('white'):\n",
    "    d = res[goodfitcut & prodcut & physicalcut]\n",
    "    plt.hist2d(d.z0, d.endiff, range=((0, 1.1), (-4, 4)), bins=100, cmap='viridis');\n",
    "    plt.xlabel('Vertex Z position [m]')\n",
    "    plt.ylabel('Kine vert en - pos vert en [MeV/u]')\n",
    "    plt.colorbar().set_label('Count')"
   ]
  },
  {
   "cell_type": "code",
   "execution_count": null,
   "metadata": {},
   "outputs": [],
   "source": [
    "with sns.axes_style('white'):\n",
    "    d = res[goodfitcut & prodcut & physicalcut]\n",
    "    plt.hist2d(d.enu0, d.endiff, range=((0, 5), (-4, 4)), bins=100, cmap='viridis');\n",
    "    plt.xlabel('Proton energy [MeV]')\n",
    "    plt.ylabel('Kine vert en - pos vert en [MeV/u]')\n",
    "    plt.colorbar().set_label('Count')"
   ]
  },
  {
   "cell_type": "code",
   "execution_count": null,
   "metadata": {},
   "outputs": [],
   "source": [
    "with sns.axes_style('white'):\n",
    "    d = res[goodfitcut & prodcut & physicalcut]\n",
    "    \n",
    "    fig, ax = plt.subplots(1, 2, sharex=True, sharey=True, figsize=(12, 6))\n",
    "    plt.sca(ax[0])\n",
    "    plt.hist2d(d.vert_en, d.endiff, range=((0, 8), (-4, 4)), bins=100, cmap='viridis');\n",
    "    plt.xlabel('Pos vert en [MeV/u]')\n",
    "    plt.ylabel('Kine vert en - pos vert en [MeV/u]')\n",
    "    plt.colorbar(orientation='horizontal').set_label('Count')\n",
    "    \n",
    "    plt.sca(ax[1])\n",
    "    plt.hist2d(d.kine_vert_en, d.endiff, range=((0, 8), (-4, 4)), bins=100, cmap='viridis');\n",
    "    plt.xlabel('Kine vert en [MeV/u]')\n",
    "    plt.colorbar(orientation='horizontal').set_label('Count')\n",
    "    \n",
    "    plt.tight_layout()"
   ]
  },
  {
   "cell_type": "code",
   "execution_count": null,
   "metadata": {},
   "outputs": [],
   "source": [
    "\n",
    "d = res[goodfitcut & prodcut & physicalcut]\n",
    "\n",
    "fig, ax = plt.subplots(1, 2, sharex=True, sharey=True, figsize=(12, 6))\n",
    "plt.sca(ax[0])\n",
    "plt.hist2d(d.vert_en, d.z0, range=((0, 8), (0, 1.1)), bins=100, cmap='viridis');\n",
    "plt.xlabel('Pos vert en [MeV/u]')\n",
    "plt.ylabel('Vertex Z position [m]')\n",
    "plt.colorbar(orientation='horizontal').set_label('Count')\n",
    "\n",
    "plt.sca(ax[1])\n",
    "plt.hist2d(d.kine_vert_en, d.z0, range=((0, 8), (0, 1.1)), bins=100, cmap='viridis');\n",
    "plt.xlabel('Kine vert en [MeV/u]')\n",
    "plt.colorbar(orientation='horizontal').set_label('Count')\n",
    "\n",
    "plt.tight_layout()\n",
    "\n",
    "# plt.savefig('/Users/josh/Desktop/z_vs_en.pdf', dpi=400)"
   ]
  },
  {
   "cell_type": "code",
   "execution_count": null,
   "metadata": {},
   "outputs": [],
   "source": [
    "with sns.axes_style('white'):\n",
    "    dtheta = 1.0\n",
    "    dE = 50e-3\n",
    "    \n",
    "    min_vert_en = 3.0\n",
    "    delta_vert_en = 0.05\n",
    "    \n",
    "    histbins = (np.arange(0, 100 + dtheta, dtheta),\n",
    "                np.arange(0, 6 + dE, dE))\n",
    "    d = res[goodfitcut\n",
    "            & (res.vert_en > min_vert_en) & (res.vert_en < min_vert_en + delta_vert_en)\n",
    "           ]\n",
    "    plt.hist2d(d.scat_ang / degrees, d.enu0, cmap='viridis', bins=histbins, norm=LogNorm());\n",
    "    plt.colorbar().set_label('Count')\n",
    "    plt.xlabel('CM Angle [deg]')\n",
    "    plt.ylabel('Proton energy (lab) [MeV]')\n",
    "    \n",
    "    ths = np.linspace(0, pi/2, 180)\n",
    "    p_ens = pytpc.relativity.find_proton_params(ths, 46*p_mc2, p_mc2, p_mc2, 46*p_mc2, 46*min_vert_en)[1] - p_mc2\n",
    "    cm_angs = pi - 2*ths\n",
    "    plt.plot(ths/degrees, p_ens, 'k-', linewidth=0.5, alpha=1)"
   ]
  },
  {
   "cell_type": "code",
   "execution_count": null,
   "metadata": {},
   "outputs": [],
   "source": [
    "ens = np.linspace(0, 4.6, 1000)\n",
    "plt.plot(ens, gas.energy_loss(ens * 46, 46, 18))"
   ]
  },
  {
   "cell_type": "code",
   "execution_count": null,
   "metadata": {},
   "outputs": [],
   "source": [
    "gas.density"
   ]
  },
  {
   "cell_type": "code",
   "execution_count": null,
   "metadata": {},
   "outputs": [],
   "source": [
    "gas.range(4.6*46-20, 46, 18) - gas.range(3.67*46 - 20, 46, 18)"
   ]
  },
  {
   "cell_type": "markdown",
   "metadata": {},
   "source": [
    "---\n",
    "# Binning"
   ]
  },
  {
   "cell_type": "code",
   "execution_count": null,
   "metadata": {},
   "outputs": [],
   "source": [
    "import xarray as xr"
   ]
  },
  {
   "cell_type": "code",
   "execution_count": null,
   "metadata": {
    "collapsed": true
   },
   "outputs": [],
   "source": [
    "dtheta = 5.0\n",
    "dE = 20 * 1e-3\n",
    "thbins = np.arange(0, 130 + dtheta, dtheta, dtype='int')\n",
    "enbins = np.arange(0, 5 + dE, dE)\n",
    "\n",
    "def bin_data(data, thbins, enbins, enname='vert_en', angname='cm_angle'):\n",
    "    run_nums = data.run_num.unique()\n",
    "    binned = xr.DataArray(\n",
    "        data=np.full((len(run_nums), len(enbins) - 1, len(thbins) - 1), np.nan),\n",
    "        dims=('run_num', 'vert_en', 'cm_angle'),\n",
    "        coords={'run_num': run_nums, 'vert_en': enbins[:-1], 'cm_angle': thbins[:-1]},\n",
    "        name='binned_counts',\n",
    "    )\n",
    "    \n",
    "    data = data[\n",
    "        (data[angname] > thbins.min())\n",
    "        & (data[angname] < thbins.max())\n",
    "        & (data[enname] > enbins.min())\n",
    "        & (data[enname] < enbins.max())\n",
    "    ]\n",
    "    \n",
    "    for run_num in run_nums:\n",
    "        rundata = data[data.run_num == run_num]\n",
    "        b, x, y = np.histogram2d(rundata[enname], rundata[angname] / degrees, bins=(enbins, thbins))\n",
    "        binned.loc[dict(run_num=run_num)] = b\n",
    "    \n",
    "    return binned"
   ]
  },
  {
   "cell_type": "code",
   "execution_count": null,
   "metadata": {
    "collapsed": true
   },
   "outputs": [],
   "source": [
    "binned = bin_data(gooddata, thbins, enbins, enname='vert_en_recalib')"
   ]
  },
  {
   "cell_type": "code",
   "execution_count": null,
   "metadata": {},
   "outputs": [],
   "source": [
    "mcres_h5 = os.path.join(os.path.dirname(os.path.dirname(rawdbs[0])), 'mcresults.h5')\n",
    "print(mcres_h5)"
   ]
  },
  {
   "cell_type": "code",
   "execution_count": null,
   "metadata": {
    "collapsed": true
   },
   "outputs": [],
   "source": [
    "# with h5py.File(mcres_h5, 'w') as hf:\n",
    "#     hf['binned_res_array'] = binned.values\n",
    "#     hf['enbins'] = binned.vert_en\n",
    "#     hf['thbins'] = binned.cm_angle\n",
    "#     hf['run_nums'] = binned.run_num"
   ]
  },
  {
   "cell_type": "markdown",
   "metadata": {},
   "source": [
    "---"
   ]
  },
  {
   "cell_type": "code",
   "execution_count": null,
   "metadata": {
    "collapsed": true
   },
   "outputs": [],
   "source": [
    "df = binned.sum('run_num').to_dataframe().reset_index()\n",
    "df['err'] = np.sqrt(df.binned_counts)"
   ]
  },
  {
   "cell_type": "code",
   "execution_count": null,
   "metadata": {
    "collapsed": true
   },
   "outputs": [],
   "source": [
    "df['z0'] = z_from_vert_en(df.vert_en, config['beam_enu0'], config['beam_mass'], config['beam_charge'], gas)"
   ]
  },
  {
   "cell_type": "code",
   "execution_count": null,
   "metadata": {
    "collapsed": true
   },
   "outputs": [],
   "source": [
    "# df.to_csv('/Users/josh/Desktop/data_with_z0.csv', index=False)"
   ]
  },
  {
   "cell_type": "code",
   "execution_count": null,
   "metadata": {},
   "outputs": [],
   "source": [
    "with sns.plotting_context('paper'):\n",
    "    fg = sns.FacetGrid(df, col='cm_angle', col_order=np.arange(40, 100, 5), col_wrap=3, sharey=False, size=2.1/1.2,\n",
    "                       aspect=1.2)\n",
    "    fg.map(plt.errorbar, 'vert_en', 'binned_counts', 'err', fmt='.', markersize=3, elinewidth=0.5)\n",
    "    fg.set_axis_labels('Vertex energy [MeV/u]', 'Counts')\n",
    "    fg.set_titles(r'$\\theta_\\mathrm{{CM}} = {col_name}^\\circ$')\n",
    "\n",
    "    plt.tight_layout()\n",
    "    for ax in fg.axes.ravel():\n",
    "    #     ax.set_xlim(2, 4)\n",
    "        ax.set_xticks(np.arange(6))\n",
    "        ax.yaxis.get_major_locator().set_params(nbins=6)\n",
    "#     plt.savefig('/Users/josh/Documents/Papers/phd-thesis/Figures/exp/counts_slices.pdf')"
   ]
  },
  {
   "cell_type": "code",
   "execution_count": null,
   "metadata": {},
   "outputs": [],
   "source": [
    "with sns.plotting_context('paper'):\n",
    "    d = binned.sum('run_num').values\n",
    "    X, Y = np.meshgrid(binned.cm_angle, binned.vert_en)\n",
    "    \n",
    "    plt.figure(figsize=(4.5, 4.5*2/3))\n",
    "    plt.pcolormesh(X, Y, d, norm=LogNorm(), rasterized=True)\n",
    "    plt.xlabel('Scattering angle (CM) [deg]')\n",
    "    plt.ylabel(r'${}^{46}\\mathrm{Ar}$ vertex energy (lab) [MeV/u]')\n",
    "    plt.minorticks_on()\n",
    "\n",
    "    plt.colorbar().set_label('Counts')\n",
    "#     plt.savefig('/Users/josh/Documents/Papers/phd-thesis/Figures/exp/counts_2d.pdf', dpi=400, bbox_inches='tight')"
   ]
  },
  {
   "cell_type": "markdown",
   "metadata": {},
   "source": [
    "# Smoothed BGs"
   ]
  },
  {
   "cell_type": "code",
   "execution_count": null,
   "metadata": {},
   "outputs": [],
   "source": [
    "from sklearn.preprocessing import PolynomialFeatures\n",
    "from sklearn.linear_model import LinearRegression, Ridge\n",
    "from sklearn.kernel_ridge import KernelRidge\n",
    "from sklearn.pipeline import Pipeline, make_pipeline\n",
    "from sklearn.model_selection import RandomizedSearchCV, GridSearchCV\n",
    "from sklearn.svm import SVR\n",
    "from scipy.stats import uniform, lognorm, halfnorm, norm, f as fstat\n",
    "from scipy.interpolate import InterpolatedUnivariateSpline\n",
    "import statsmodels.api as sm\n",
    "from statsmodels.sandbox.regression.predstd import wls_prediction_std"
   ]
  },
  {
   "cell_type": "code",
   "execution_count": null,
   "metadata": {
    "collapsed": true
   },
   "outputs": [],
   "source": [
    "from effsim.paramgen import parse_dsigmaiv_output\n",
    "\n",
    "def get_rmat(path):\n",
    "    ens, angs, xsecs = parse_dsigmaiv_output(path)\n",
    "    return xr.DataArray(\n",
    "        data=xsecs, \n",
    "        coords={'vert_en': ens * 47/46, 'cm_angle': np.round(angs / degrees).astype('int')}, \n",
    "        dims=('vert_en', 'cm_angle')\n",
    "    )\n",
    "    \n",
    "# rmat = get_rmat('/Users/josh/Documents/Code/ar40-aug15/rmatrix/DSIGMAIV-ELAS.DAT')\n",
    "rmat = get_rmat('/Volumes/analysis/attpc/dsigma4/46Ar/DSIGMAIV-ELAS.DAT')\n",
    "# rmat_phase = get_rmat('/Volumes/analysis/attpc/dsigma4/resints/5kev/DSIGMAIV-ELAS.DAT')\n",
    "# rmat_phase = get_rmat('/Volumes/analysis/attpc/dsigma4/46Ar-mixphase/DSIGMAIV-ELAS.DAT')\n",
    "rmat_phase = get_rmat('/Volumes/analysis/attpc/dsigma4/46Ar-4res/DSIGMAIV-ELAS.DAT')\n",
    "rmat_bg = get_rmat('/Volumes/analysis/attpc/dsigma4/46Ar-nores/DSIGMAIV-ELAS.DAT')"
   ]
  },
  {
   "cell_type": "code",
   "execution_count": null,
   "metadata": {
    "collapsed": true
   },
   "outputs": [],
   "source": [
    "# d = binned.sum('run_num').loc[dict(cm_angle=angle)]\n",
    "# d = d[np.where((d.vert_en <= 4) & (d.vert_en >= 1))]\n",
    "# d = binned.sum('run_num')\n",
    "# d = d.where((d.cm_angle >= 0) & (d.vert_en <= 4.09) & (d.vert_en >= 2), drop=True).sum('cm_angle')"
   ]
  },
  {
   "cell_type": "code",
   "execution_count": null,
   "metadata": {
    "collapsed": true
   },
   "outputs": [],
   "source": [
    "# all_binned = binned.sum('run_num')\n",
    "# all_binned = all_binned.where((all_binned.vert_en <= 4.08) & (all_binned.vert_en >= 2), drop=True)\n",
    "\n",
    "# poly = PolynomialFeatures(degree=2)\n",
    "# X_ = all_binned.vert_en.values.reshape(-1, 1)\n",
    "\n",
    "# data_model = LinearRegression(fit_intercept=False)\n",
    "\n",
    "# pipeline = Pipeline([('poly', poly), ('ridge', data_model)])\n",
    "\n",
    "# Y_ = all_binned.sum('cm_angle')\n",
    "\n",
    "# pipeline.fit(X_, Y_)\n",
    "\n",
    "# data_baseline = pipeline.predict(X_)\n",
    "# d = (Y_ - data_baseline) / data_baseline\n",
    "# derr = np.sqrt(Y_) / data_baseline\n",
    "\n",
    "# print(data_model.coef_, data_model.intercept_)"
   ]
  },
  {
   "cell_type": "code",
   "execution_count": null,
   "metadata": {
    "collapsed": true
   },
   "outputs": [],
   "source": [
    "def pred_bounds(pred_res, X, alpha):\n",
    "    pred_std = np.sqrt(np.diag(X_ @ pred_res.cov_params() @ X_.T))\n",
    "    \n",
    "    pred_Y = pred_res.predict(X)\n",
    "    \n",
    "    tval = scipy.stats.t.isf(alpha/2, pred_res.df_resid)\n",
    "    \n",
    "    lb = pred_Y - tval * pred_std\n",
    "    ub = pred_Y + tval * pred_std\n",
    "    \n",
    "    return pred_std, lb, ub"
   ]
  },
  {
   "cell_type": "code",
   "execution_count": null,
   "metadata": {},
   "outputs": [],
   "source": [
    "all_binned = binned.sum('run_num')\n",
    "all_binned = all_binned.where((all_binned.vert_en <= 4.0) & (all_binned.vert_en >= 2), drop=True)\n",
    "\n",
    "x = all_binned.vert_en.values\n",
    "X_ = np.column_stack((x, x**2))\n",
    "X_ = sm.add_constant(X_)\n",
    "\n",
    "Y_ = all_binned.sum('cm_angle')\n",
    "\n",
    "data_model = sm.OLS(Y_.values, X_)\n",
    "data_fit_result = data_model.fit()\n",
    "\n",
    "# data_prstd, data_int_lb, data_int_ub = wls_prediction_std(data_fit_result, alpha=1-0.68)\n",
    "data_prstd, data_int_lb, data_int_ub = pred_bounds(data_fit_result, X_, alpha=1-0.68)\n",
    "\n",
    "data_baseline = data_fit_result.predict(X_)\n",
    "d = (Y_ - data_baseline) / data_baseline\n",
    "\n",
    "sigma_data_fit = (data_int_lb - data_int_ub) / 2\n",
    "derr = (d+1) * np.sqrt(1 / Y_ + (sigma_data_fit / data_baseline)**2)\n",
    "\n",
    "data_fit_result.summary(xname=('const', 'x', 'x^2'))"
   ]
  },
  {
   "cell_type": "code",
   "execution_count": null,
   "metadata": {},
   "outputs": [],
   "source": [
    "x = all_binned.sum('cm_angle')\n",
    "\n",
    "with sns.plotting_context('talk'):\n",
    "#     plt.figure(figsize=(4, 4*2/3))\n",
    "    plt.errorbar(x.vert_en, x.values, np.sqrt(x.values), fmt='.', elinewidth=0.5, label='Experiment', zorder=200)\n",
    "    plt.plot(x.vert_en, data_baseline, label='Quad. fit', zorder=100)\n",
    "    plt.fill_between(x.vert_en, data_int_lb, data_int_ub, color='C1', alpha=0.2, zorder=99)\n",
    "#     plt.plot(x.vert_en, data_int_lb, 'C1--', zorder=99)\n",
    "#     plt.plot(x.vert_en, data_int_ub, 'C1--', zorder=99)\n",
    "\n",
    "    plt.legend(loc=4, frameon=False)\n",
    "\n",
    "    plt.xlabel('${}^{46}\\mathrm{Ar}$ vertex energy (lab) [MeV/u]')\n",
    "    plt.ylabel('Counts')\n",
    "    \n",
    "#     plt.savefig('/Users/josh/Documents/Papers/phd-thesis/Figures/exp/data_bgfit.pdf', bbox_inches='tight')"
   ]
  },
  {
   "cell_type": "code",
   "execution_count": null,
   "metadata": {},
   "outputs": [],
   "source": [
    "plt.errorbar(d.vert_en, d.values, derr, fmt='.', elinewidth=0.5)\n",
    "plt.axhline(0, color='k', zorder=0, linewidth=1)\n",
    "# plt.ylim(-1, 3)\n",
    "# plt.xlim(3, 4)\n",
    "plt.xlabel('Vertex energy [MeV/u]')\n",
    "plt.ylabel('(value – fit) / fit')"
   ]
  },
  {
   "cell_type": "code",
   "execution_count": null,
   "metadata": {
    "collapsed": true
   },
   "outputs": [],
   "source": [
    "def ruth_transform(x):\n",
    "#     return (x**-2).reshape(-1, 1)\n",
    "    return np.column_stack((x**2, x, x**-1, x**-2, x**-3, x**-4, x**-5))\n",
    "\n",
    "def make_rmat_norms(data):\n",
    "    return data.sum(('run_num', 'vert_en')) / data.sum()\n",
    "\n",
    "def process_rmat(rmat, rmat_norms):\n",
    "    rmat_model = LinearRegression()\n",
    "    X_ = ruth_transform(rmat.cm_vert_en.values)\n",
    "    Y_ = (rmat / rmat.max('vert_en') * rmat_norms).sum('cm_angle')\n",
    "\n",
    "    rmat_model.fit(X_, Y_)\n",
    "\n",
    "    rmat_baselines = rmat_model.predict(X_)\n",
    "\n",
    "    r = (Y_ - rmat_baselines) / rmat_baselines\n",
    "    \n",
    "    return r, rmat_baselines, Y_\n",
    "\n",
    "def process_rmat_with_flatcurve(rmat, rmat_norms, baseline):\n",
    "    Y_ = (rmat / rmat.max('vert_en') * rmat_norms).sum('cm_angle')\n",
    "    rmat_baselines = (baseline / baseline.max('vert_en') * rmat_norms).sum('cm_angle')\n",
    "    r = (Y_ - rmat_baselines) / rmat_baselines\n",
    "    return r, rmat_baselines, Y_"
   ]
  },
  {
   "cell_type": "code",
   "execution_count": null,
   "metadata": {
    "collapsed": true
   },
   "outputs": [],
   "source": [
    "rmat_norms = make_rmat_norms(binned)\n",
    "# flatr, rmat_baselines, totr = process_rmat(rmat, rmat_norms)\n",
    "flatr, rmat_baselines, totr = process_rmat_with_flatcurve(rmat, rmat_norms, rmat_bg)\n",
    "# flatr_phase, rmat_baselines_phase, totr_phase = process_rmat(rmat_phase, rmat_norms)\n",
    "flatr_phase, rmat_baselines_phase, totr_phase = process_rmat_with_flatcurve(rmat_phase, rmat_norms, rmat_bg)"
   ]
  },
  {
   "cell_type": "code",
   "execution_count": null,
   "metadata": {},
   "outputs": [],
   "source": [
    "with sns.plotting_context('paper'):\n",
    "    plt.figure(figsize=(4, 4*2/3))\n",
    "    plt.plot(rmat_phase.vert_en.values, totr_phase, label='Full calculation')\n",
    "    plt.plot(rmat_phase.vert_en.values, rmat_baselines, '--', label='Baseline')\n",
    "    plt.semilogy()\n",
    "    \n",
    "    plt.legend(frameon=False)\n",
    "\n",
    "    plt.xlim(1.9, 4.1)\n",
    "    plt.ylim(0.9e-2, 1.1e-1)\n",
    "\n",
    "    plt.xlabel('Proton vertex energy (lab) [MeV]')\n",
    "    plt.ylabel('Weighted total excitation\\nfunction [unitless]')\n",
    "    \n",
    "#     plt.savefig('/Users/josh/Documents/Papers/phd-thesis/Figures/exp/rmat_bgfit.pdf', bbox_inches='tight')"
   ]
  },
  {
   "cell_type": "code",
   "execution_count": null,
   "metadata": {},
   "outputs": [],
   "source": [
    "rmat_norms.plot()"
   ]
  },
  {
   "cell_type": "code",
   "execution_count": null,
   "metadata": {},
   "outputs": [],
   "source": [
    "srimdata = np.array([\n",
    "    [3.86, 3.44],\n",
    "    [3.54, 6.36],\n",
    "    [3.21, 6.15],\n",
    "    [2.86, 6.87],\n",
    "    [2.49, 8.56],\n",
    "    [2.10, 9.33],\n",
    "    [1.67, 11.24],\n",
    "])\n",
    "srimens = srimdata[:, 0]\n",
    "srimsigmas = srimdata[:, 1] / 1000\n",
    "plt.plot(srimens, srimsigmas, 'o')\n",
    "srim_X = sm.add_constant(srimens)\n",
    "srim_model = sm.OLS(srimsigmas, srim_X)\n",
    "srim_fit = srim_model.fit()\n",
    "plt.plot(srimens, srim_fit.predict(srim_X))\n",
    "print(srim_fit.params)"
   ]
  },
  {
   "cell_type": "code",
   "execution_count": null,
   "metadata": {
    "collapsed": true
   },
   "outputs": [],
   "source": [
    "sigma_func = lambda en: np.asscalar(np.hypot(0.0197, srim_fit.predict([1, en])))"
   ]
  },
  {
   "cell_type": "code",
   "execution_count": null,
   "metadata": {},
   "outputs": [],
   "source": [
    "xs = np.linspace(2.0, 4.0, 100)\n",
    "plt.plot(xs, [sigma_func(x) for x in xs])"
   ]
  },
  {
   "cell_type": "code",
   "execution_count": null,
   "metadata": {
    "collapsed": true
   },
   "outputs": [],
   "source": [
    "def convolve(signal, window):\n",
    "    result = xr.zeros_like(signal)\n",
    "    if not callable(window):\n",
    "        window_func = lambda m, z: window[m]\n",
    "    else:\n",
    "        window_func = window\n",
    "        \n",
    "    shift = len(window) // 2\n",
    "    for n in range(len(signal)):\n",
    "        z = signal.vert_en[n]\n",
    "        result[n - shift] = np.sum([signal[n-m] * window_func(m, z) for m in range(len(window))])\n",
    "    \n",
    "    return result\n",
    "\n",
    "\n",
    "class VariableWidthWindow:\n",
    "    def __init__(self, num_pts, binsize, sigma_func):\n",
    "        self.num_pts = num_pts\n",
    "        self.sigma_func = sigma_func\n",
    "        self.binsize = binsize\n",
    "        \n",
    "    def __call__(self, m, z):\n",
    "        sigma = self.sigma_func(z)\n",
    "        w = scipy.signal.windows.gaussian(self.num_pts, sigma / self.binsize)\n",
    "        w /= w.sum()\n",
    "        return w[m]\n",
    "    \n",
    "    def __len__(self):\n",
    "        return self.num_pts\n",
    "\n",
    "    \n",
    "def gaus_conv(x, sigma, sigma_func):\n",
    "    binsize = np.diff(x.vert_en.values)[0]\n",
    "    \n",
    "    result = xr.zeros_like(x)\n",
    "\n",
    "#     w = scipy.signal.windows.gaussian(21, sigma / binsize, sym=True)\n",
    "#     w /= w.sum()\n",
    "    w = VariableWidthWindow(21, binsize, sigma_func)\n",
    "#     result[:] = scipy.signal.convolve(x, w, mode='same')\n",
    "    result = convolve(x, w)\n",
    "    \n",
    "    return result"
   ]
  },
  {
   "cell_type": "code",
   "execution_count": null,
   "metadata": {
    "collapsed": true
   },
   "outputs": [],
   "source": [
    "# rconv = gaus_conv(flatr, 0.0197)\n",
    "rconv_phase = gaus_conv(flatr_phase, 0.0197, sigma_func)"
   ]
  },
  {
   "cell_type": "code",
   "execution_count": null,
   "metadata": {},
   "outputs": [],
   "source": [
    "with sns.plotting_context('talk'):\n",
    "#     plt.figure(figsize=(4, 4*2/3))\n",
    "#     plt.plot(flatr.vert_en, flatr.values, ':', label='Full resolution')\n",
    "    plt.plot(flatr_phase.vert_en, flatr_phase.values, ':', label='Full resolution')\n",
    "#     plt.plot(rconv.vert_en, rconv, '-', label='Convolved with Gaussian')\n",
    "    plt.plot(rconv_phase.vert_en, rconv_phase, '-', label='Convolved with Gaussian')\n",
    "    plt.axhline(0, color='k', zorder=0, linewidth=1)\n",
    "\n",
    "    plt.xlim(1.9, 4.1)\n",
    "    plt.ylim(-0.110)\n",
    "\n",
    "    plt.xlabel('Proton vertex energy (lab) [MeV]')\n",
    "    plt.ylabel('(value – baseline) / baseline')\n",
    "\n",
    "    plt.legend(loc=3, frameon=False)\n",
    "    \n",
    "#     plt.savefig('/Users/josh/Documents/Papers/phd-thesis/Figures/exp/rmat_conv.pdf', bbox_inches='tight')"
   ]
  },
  {
   "cell_type": "code",
   "execution_count": null,
   "metadata": {
    "collapsed": true
   },
   "outputs": [],
   "source": [
    "# pal = sns.cubehelix_palette(n_colors=len(rmat_ratios.cm_angle), light=0.7)\n",
    "# with sns.color_palette(pal, len(rmat_ratios.cm_angle)):\n",
    "#     for i, row in enumerate(rmat_ratios.values.T):\n",
    "#         plt.plot(rmat_ratios.cm_vert_en, row - i / 5)\n",
    "#     plt.xlim(2, 4)"
   ]
  },
  {
   "cell_type": "code",
   "execution_count": null,
   "metadata": {},
   "outputs": [],
   "source": [
    "with sns.plotting_context('talk'):\n",
    "#     plt.figure(figsize=(6.25, 6.25*2/3))\n",
    "    plt.errorbar(d.vert_en, d.values, derr, elinewidth=0.5, fmt='.', zorder=100, label='Experiment')\n",
    "#     plt.plot(rconv.vert_en, rconv.values, 'C1--', label='DSigmaIV (0° mixing)')\n",
    "    plt.plot(rconv_phase.vert_en, rconv_phase.values, '-', label='DSigmaIV')\n",
    "    plt.axhline(0, color='k', zorder=0, linewidth=1)\n",
    "\n",
    "    plt.xlim(1.9, 4.1)\n",
    "    plt.ylim(-0.12, 0.10)\n",
    "\n",
    "    plt.xlabel('${}^{46}\\mathrm{Ar}$ vertex energy (lab) [MeV/u]')\n",
    "    plt.ylabel('(value – baseline) / baseline')\n",
    "    \n",
    "    plt.text(2.76, -0.04, r'$\\frac{3}{2}^-$')\n",
    "    plt.text(3.12, -0.06, r'$\\frac{1}{2}^+$')\n",
    "    plt.text(3.76, -0.07, r'$\\frac{1}{2}^-$')\n",
    "    \n",
    "#     plt.text(0.95, 0.95, 'PRELIMINARY', transform=plt.gca().transAxes, ha='right',\n",
    "#              fontdict={'size': 20, 'color': 'C7'})\n",
    "\n",
    "    plt.legend(loc='lower center', ncol=3)\n",
    "#     plt.savefig('/Users/josh/Documents/Papers/phd-thesis/Figures/exp/bgfit_comp.pdf', bbox_inches='tight')\n",
    "#     plt.savefig('/Users/josh/Desktop/result.pdf', bbox_inches='tight')"
   ]
  },
  {
   "cell_type": "code",
   "execution_count": null,
   "metadata": {
    "collapsed": true
   },
   "outputs": [],
   "source": [
    "def chi2stat(data, err, rmat):\n",
    "    spl = InterpolatedUnivariateSpline(rmat.vert_en, rmat.values)\n",
    "    return np.asscalar(np.sum((data - spl(data.vert_en))**2 / err**2))\n",
    "\n",
    "def rss_stat(data, rmat):\n",
    "    spl = InterpolatedUnivariateSpline(rmat.vert_en, rmat.values)\n",
    "    return np.asscalar(np.sum((data - spl(data.vert_en))**2))\n",
    "\n",
    "def tss_stat(data):\n",
    "    return np.asscalar(np.sum(data**2))\n",
    "\n",
    "def chi2zero(data, err):\n",
    "    return np.asscalar(np.sum(data**2 / err**2))\n",
    "\n",
    "def find_fvalue(rss1, rss2, df1, df2):\n",
    "    num = (rss1 - rss2) / (df1 - df2)\n",
    "    denom = rss2 / df2\n",
    "    return num / denom\n",
    "\n",
    "def make_stat_cut(data, min_, max_):\n",
    "    return data[(data.vert_en > min_) & (data.vert_en < max_)]\n",
    "\n",
    "def res_integral(res_data):\n",
    "    pos_data = res_data[res_data > 0]\n",
    "    neg_data = res_data[res_data < 0]\n",
    "    dE = np.diff(res_data.vert_en.values)[0]\n",
    "    \n",
    "    return (np.asscalar(x.sum('vert_en') * dE) for x in (pos_data, neg_data))\n",
    "\n",
    "def outlier_mask(data, num_std):\n",
    "    return (data - np.mean(data)) < num_std * np.std(data)\n",
    "\n",
    "def analyze_resonance(stat_min_en, stat_max_en, num_std=None):\n",
    "    stat_d = make_stat_cut(d, stat_min_en, stat_max_en)\n",
    "    stat_derr = make_stat_cut(derr, stat_min_en, stat_max_en)\n",
    "    stat_r = make_stat_cut(rconv_phase, stat_min_en, stat_max_en)\n",
    "    \n",
    "    if num_std is not None:\n",
    "        mask = outlier_mask(stat_d, num_std)\n",
    "        stat_d = stat_d[mask]\n",
    "        stat_derr = stat_derr[mask]\n",
    "    \n",
    "    plt.plot(stat_r.vert_en, stat_r.values, zorder=100)\n",
    "    plt.errorbar(stat_d.vert_en, stat_d.values, stat_derr.values, fmt='.', elinewidth=0.5)\n",
    "    plt.axhline(0, color='k', linewidth=1)\n",
    "\n",
    "    fit_chi_dof = len(stat_d) - 6\n",
    "    fit_chi = chi2stat(stat_d, stat_derr, stat_r) / fit_chi_dof \n",
    "    print(f'Fit χ^2 = {fit_chi:0.4g}')\n",
    "    fit_rss = rss_stat(stat_d, stat_r)\n",
    "    print(f'Fit RSS = {fit_rss:0.4g}')\n",
    "\n",
    "    null_chi_dof = len(stat_d)\n",
    "    null_chi = chi2zero(stat_d, stat_derr) / null_chi_dof\n",
    "    print(f'Null χ^2 = {null_chi:0.4g}')\n",
    "    null_rss = tss_stat(stat_d)\n",
    "    print(f'Null RSS = {null_rss:0.4g}')\n",
    "\n",
    "    # fvalue = null_chi / fit_chi; print(fvalue)\n",
    "    fvalue = find_fvalue(null_rss, fit_rss, null_chi_dof, fit_chi_dof)\n",
    "    print(f'F = {fvalue:0.4g}')\n",
    "\n",
    "    pvalue = fstat.sf(fvalue, null_chi_dof - fit_chi_dof, fit_chi_dof)\n",
    "    print(f'p = {pvalue:0.4g}')\n",
    "    \n",
    "    pos_resint, neg_resint = res_integral(stat_r)\n",
    "    print(f'resint = {pos_resint:0.4g}(+) / {neg_resint:0.4g}(-)')"
   ]
  },
  {
   "cell_type": "code",
   "execution_count": null,
   "metadata": {},
   "outputs": [],
   "source": [
    "analyze_resonance(2.55, 2.86)"
   ]
  },
  {
   "cell_type": "code",
   "execution_count": null,
   "metadata": {},
   "outputs": [],
   "source": [
    "analyze_resonance(2.86, 3.25)"
   ]
  },
  {
   "cell_type": "code",
   "execution_count": null,
   "metadata": {},
   "outputs": [],
   "source": [
    "analyze_resonance(3.15, 3.55)"
   ]
  },
  {
   "cell_type": "code",
   "execution_count": null,
   "metadata": {},
   "outputs": [],
   "source": [
    "analyze_resonance(3.5, 4)"
   ]
  },
  {
   "cell_type": "code",
   "execution_count": null,
   "metadata": {},
   "outputs": [],
   "source": [
    "analyze_resonance(2.5, 4)"
   ]
  },
  {
   "cell_type": "code",
   "execution_count": null,
   "metadata": {
    "collapsed": true
   },
   "outputs": [],
   "source": [
    "from scipy.optimize import curve_fit\n",
    "from functools import partial\n",
    "\n",
    "class RescaledResonance:\n",
    "    def __init__(self, rmat_data):\n",
    "        self.spline = InterpolatedUnivariateSpline(rmat_data.vert_en, rmat_data.values, ext='zeros')\n",
    "        \n",
    "    def __call__(self, x, scale=1, width=1, offset=0):\n",
    "#         rescaled_x = width * (x - ctr) + ctr\n",
    "#         rescaled_x = width * (x - offset)\n",
    "        rescaled_x = (x - offset) / (scale * width)\n",
    "        return self.spline(rescaled_x) * scale"
   ]
  },
  {
   "cell_type": "code",
   "execution_count": null,
   "metadata": {
    "collapsed": true
   },
   "outputs": [],
   "source": [
    "lb, ub = 3.5, 4.0\n",
    "rdata = make_stat_cut(rconv_phase, lb, ub)\n",
    "ddata = make_stat_cut(d, lb, ub)\n",
    "derrdata = make_stat_cut(derr, lb, ub)\n",
    "resc = RescaledResonance(rconv_phase)"
   ]
  },
  {
   "cell_type": "code",
   "execution_count": null,
   "metadata": {},
   "outputs": [],
   "source": [
    "# fitfunc = partial(resc, ctr=3.68)\n",
    "fitfunc = resc\n",
    "\n",
    "fparams, fcov = curve_fit(fitfunc, ddata.vert_en, ddata.values, p0=[1, 1, 0])\n",
    "#                           bounds=([-10, -10, -10], [10, 10, 10]))\n",
    "print(fparams)\n",
    "# print('offset = {:04g}'.format(fparams[2] * fparams[1]))"
   ]
  },
  {
   "cell_type": "code",
   "execution_count": null,
   "metadata": {},
   "outputs": [],
   "source": [
    "plt.errorbar(ddata.vert_en, ddata.values, derrdata, fmt='.', elinewidth=0.5)\n",
    "\n",
    "xs = np.linspace(ddata.vert_en.min(), ddata.vert_en.max(), 100)\n",
    "plt.plot(xs, fitfunc(xs, *fparams))\n",
    "plt.plot(rdata.vert_en, rdata.values, '--')"
   ]
  },
  {
   "cell_type": "markdown",
   "metadata": {},
   "source": [
    "# Examining dependence on $\\Gamma_\\downarrow$"
   ]
  },
  {
   "cell_type": "code",
   "execution_count": null,
   "metadata": {
    "collapsed": true
   },
   "outputs": [],
   "source": [
    "width_data = pd.read_excel('/Users/josh/Documents/Data/Results/e15503b/resonance_integrals.xlsx', index_col='gdown')\n",
    "width_data *= 1000"
   ]
  },
  {
   "cell_type": "code",
   "execution_count": null,
   "metadata": {},
   "outputs": [],
   "source": [
    "width_data.plot(style='.-')\n",
    "plt.xlim(-2, 42)"
   ]
  },
  {
   "cell_type": "code",
   "execution_count": null,
   "metadata": {
    "collapsed": true
   },
   "outputs": [],
   "source": [
    "width_mdata = pd.melt(width_data.reset_index(), id_vars=['gdown'], var_name='resonance', value_name='resint')"
   ]
  },
  {
   "cell_type": "code",
   "execution_count": null,
   "metadata": {},
   "outputs": [],
   "source": [
    "def plot_resint_fit(xdata, ydata, color=None):\n",
    "#     def feat_trans(data):\n",
    "#         data = np.asarray(data, dtype='float')\n",
    "#         return np.column_stack((data, data**2, data**3, data**4))\n",
    "    \n",
    "    model = LinearRegression(fit_intercept=True)\n",
    "    \n",
    "    model.fit(xdata.values.reshape(-1, 1), ydata)\n",
    "    plt.scatter(xdata, ydata)\n",
    "    xs = np.linspace(xdata.min(), xdata.max(), 100)\n",
    "    plt.plot(xs, model.predict(xs.reshape(-1, 1)), 'C1')\n",
    "    params_text = AnchoredText('$y = {m:0.3g} x {b:+0.3g}$'.format(m=model.coef_[0], b=model.intercept_), 1)\n",
    "    plt.gca().add_artist(params_text)\n",
    "\n",
    "fg = sns.FacetGrid(width_mdata, col='resonance', col_wrap=2, sharey=True)\n",
    "fg.map(plot_resint_fit, 'gdown', 'resint')\n",
    "fg.axes[0].set_ylim(-8, 6)\n",
    "fg.set_axis_labels(r'$\\Gamma_\\downarrow$ [keV]', r'Resonance integral ($\\times 1000$)')\n",
    "fg.set_titles(r'{col_name}')"
   ]
  },
  {
   "cell_type": "code",
   "execution_count": null,
   "metadata": {},
   "outputs": [],
   "source": [
    "(width_data.loc[50] - width_data.loc[40])"
   ]
  },
  {
   "cell_type": "code",
   "execution_count": null,
   "metadata": {},
   "outputs": [],
   "source": [
    "width_data"
   ]
  },
  {
   "cell_type": "code",
   "execution_count": null,
   "metadata": {
    "collapsed": true
   },
   "outputs": [],
   "source": [
    "def dGamma_p(gd, I, dIdgd):\n",
    "    num = (dIdgd * gd + I) * (2*pi - I) + dIdgd * I * gd\n",
    "    denom = (2*pi - I)**2\n",
    "    return num / denom"
   ]
  },
  {
   "cell_type": "code",
   "execution_count": null,
   "metadata": {},
   "outputs": [],
   "source": [
    "dGamma_p(+10, width_data.loc[10, \"1/2+ (neg)\"] / 1000, 0.015 / 1000)"
   ]
  },
  {
   "cell_type": "markdown",
   "metadata": {},
   "source": [
    "# Value comparisons"
   ]
  },
  {
   "cell_type": "code",
   "execution_count": null,
   "metadata": {
    "collapsed": true
   },
   "outputs": [],
   "source": [
    "def comb_err(e1, e2):\n",
    "    return np.hypot(e1, e2).reshape(-1, 1)"
   ]
  },
  {
   "cell_type": "code",
   "execution_count": null,
   "metadata": {},
   "outputs": [],
   "source": [
    "with sns.plotting_context('paper'):\n",
    "    fig, ax = plt.subplots(2, 2, sharey=True, figsize=(4.5, 4.5))\n",
    "\n",
    "    pw   = dict(fmt='o', color='C0', label='Present work')\n",
    "    gaud = dict(fmt='s', color='C1', label='Gaudefroy et al.')\n",
    "    bhat = dict(fmt='D', color='C2', label='Bhattacharyya et al.')\n",
    "    sdpfmu = dict(fmt='^', markeredgecolor='C3', color='w', markeredgewidth=1, label='SDPF-MU [Gade et al.]')\n",
    "    sdpfu  = dict(fmt='v', markeredgecolor='C4', color='w', markeredgewidth=1, label='SDPF-U [Gade et al.]')\n",
    "    sdpf   = dict(fmt='>', markeredgecolor='C5', color='w', markeredgewidth=1, label='SDPF [Gaudefroy et al.]')\n",
    "\n",
    "    source_map = {\n",
    "        'pw': (pw, 0),\n",
    "        'gaud': (gaud, 1),\n",
    "        'bhat': (bhat, 2),\n",
    "        'sdpf': (sdpf, 5),\n",
    "        'sdpfu': (sdpfu, 4),\n",
    "        'sdpfmu': (sdpfmu, 3),\n",
    "    }\n",
    "\n",
    "    def plot_value(value, err, source, axes=None):\n",
    "        if axes is None:\n",
    "            axes = plt.gca()\n",
    "\n",
    "        source_opts, source_index = source_map[source]\n",
    "        axes.errorbar(value, source_index, xerr=err, **source_opts)\n",
    "\n",
    "    def add_label(text, axes):\n",
    "        label = AnchoredText(text, loc=2, frameon=False)\n",
    "        axes.add_artist(label)\n",
    "\n",
    "    # 3/2- energy\n",
    "    plot_value(0, comb_err([28, 28], [20, 25]), 'pw', ax[0, 0])  # pw\n",
    "    plot_value(0, 0, 'gaud', ax[0, 0])\n",
    "    plot_value(0, 0, 'bhat', ax[0, 0])\n",
    "    plot_value(0, 0, 'sdpfmu', ax[0, 0])\n",
    "    plot_value(0, 0, 'sdpfu', ax[0, 0])\n",
    "    plot_value(0, 0, 'sdpf', ax[0, 0])\n",
    "    add_label(r'$3/2^-$', ax[0, 0])\n",
    "\n",
    "    # 1/2- energy\n",
    "    plot_value(970, comb_err([28, 28], [50, 10]), 'pw', ax[1, 0])  # pw\n",
    "    plot_value(1200, 6, 'bhat', ax[1, 0])  # Bhatta.\n",
    "    plot_value(1130, 75, 'gaud', ax[1, 0])  # Gaud.\n",
    "    plot_value(1139, 0, 'sdpfu', ax[1, 0])\n",
    "    plot_value(931, 0, 'sdpfmu', ax[1, 0])\n",
    "    plot_value(1251, 0, 'sdpf', ax[1, 0])\n",
    "    add_label(r'$1/2^-$', ax[1, 0])\n",
    "\n",
    "    # 3/2- SF\n",
    "    plot_value(0.27, comb_err([0.03, 0.03], [0.13, 0.21]), 'pw', ax[0, 1])  # pw\n",
    "    plot_value(0.711, 0, 'sdpfu', ax[0, 1])\n",
    "    plot_value(0.634, 0, 'sdpfmu', ax[0, 1])\n",
    "    plot_value(0.61, 0.05, 'gaud', ax[0, 1])  # Gaudefroy\n",
    "    plot_value(0.64, 0, 'sdpf', ax[0, 1])\n",
    "    ax[0, 1].set_xlim(-0.1, 1.1)\n",
    "    add_label(r'$3/2^-$', ax[0, 1])\n",
    "\n",
    "    # 1/2- SF\n",
    "    plot_value(0.42, comb_err(0.05, 0.09), 'pw', ax[1, 1])  # pw\n",
    "    plot_value(0.81, 0.06, 'gaud', ax[1, 1])  # Gaud.\n",
    "    plot_value(0.834, 0, 'sdpfu', ax[1, 1])\n",
    "    plot_value(0.931, 0, 'sdpfmu', ax[1, 1])\n",
    "    plot_value(0.81, 0, 'sdpf', ax[1, 1])\n",
    "    ax[1, 1].set_xlim(-0.1, 1.1)\n",
    "    add_label(r'$1/2^-$', ax[1, 1])\n",
    "\n",
    "    ax[1, 0].set_yticks([])\n",
    "    # sns.despine(left=True)\n",
    "\n",
    "    # Labels\n",
    "    # ax[0, 0].set_ylabel(r'$3/2^-$', rotation=0, ha='right', va='center')\n",
    "    # ax[1, 0].set_ylabel(r'$1/2^-$', rotation=0, ha='right', va='center')\n",
    "    ax[1, 0].set_xlabel(r'$E_x$ [keV]')\n",
    "    ax[1, 1].set_xlabel(r'$S$')\n",
    "    ax[0, 0].set_xlabel(r'$E_x$ [keV]')\n",
    "    ax[0, 1].set_xlabel(r'$S$')\n",
    "    \n",
    "    ax[0, 0].set_ylim(-0.5, 5.5)\n",
    "\n",
    "    leg_handles, leg_labels = ax[0, 0].get_legend_handles_labels()\n",
    "    legend = fig.legend(leg_handles, leg_labels, loc='upper center', bbox_to_anchor=(0.5, 0.14), ncol=2)\n",
    "    plt.tight_layout(rect=(0, 0.10, 1, 1), h_pad=0.2)\n",
    "\n",
    "#     plt.savefig('/Users/josh/Documents/Papers/phd-thesis/Figures/exp/lit_comp.pdf', bbox_inches='tight')"
   ]
  },
  {
   "cell_type": "code",
   "execution_count": null,
   "metadata": {},
   "outputs": [],
   "source": [
    "leg_labels"
   ]
  },
  {
   "cell_type": "markdown",
   "metadata": {},
   "source": [
    "# Fit plotting"
   ]
  },
  {
   "cell_type": "code",
   "execution_count": null,
   "metadata": {
    "collapsed": true
   },
   "outputs": [],
   "source": [
    "from pytpc.fitting import MCFitter\n",
    "import yaml\n",
    "\n",
    "with open('../fitters/config_e15503b.yml', 'r') as f:\n",
    "    config = yaml.load(f)\n",
    "with open('../fitters/config_e15503b_macmini.yml', 'r') as f:\n",
    "    patch = yaml.load(f)\n",
    "config.update(patch)\n",
    "\n",
    "fitter = MCFitter(config)"
   ]
  },
  {
   "cell_type": "code",
   "execution_count": null,
   "metadata": {
    "collapsed": true
   },
   "outputs": [],
   "source": [
    "class FitPlotter(object):\n",
    "    def __init__(self, data_path, mcfitter):\n",
    "        self.data_path = data_path\n",
    "        self.fitter = mcfitter\n",
    "        \n",
    "    def plot_fit(self, fitres, run_num, evt_id):\n",
    "        fp = os.path.join(self.data_path, 'clean_run_{:04d}.h5'.format(run_num))\n",
    "        with h5py.File(fp, 'r') as hf:\n",
    "            dataset = hf['/clean/{}'.format(int(evt_id))]\n",
    "            raw_xyz = dataset[:]\n",
    "            cx, cy = dataset.attrs['center'][:2]\n",
    "            \n",
    "        raw_xyz = pytpc.cleaning.apply_clean_cut(raw_xyz)\n",
    "        xyz, (cu, cv) = self.fitter.preprocess(raw_xyz, center=[cx, cy], rotate_pads=False, last_tb=505)\n",
    "#         xyz = pytpc.cleaning.nn_remove_noise(xyz)\n",
    "        print('Num points:', len(xyz))\n",
    "        \n",
    "        tr = self.fitter.tracker.track_particle(fitres.x0, fitres.y0, fitres.z0, fitres.enu0, \n",
    "                                                fitres.azi0, fitres.pol0)\n",
    "        \n",
    "        arclen = np.sum(np.sqrt(np.sum(np.diff(tr[:, :3], axis=0)**2, -1)))\n",
    "        print('Arclen:', arclen)\n",
    "        print('Energy from arclen: ', self.fitter.gas.inverse_range(arclen, 1, 1))\n",
    "        \n",
    "        orig_guess = self.fitter.guess_parameters(fitres)\n",
    "        orig_tr = self.fitter.tracker.track_particle(*orig_guess)\n",
    "        \n",
    "        xyz['cx'] = xyz.u - cu\n",
    "        xyz['cy'] = xyz.v - cv\n",
    "        xyz['cr'] = np.hypot(xyz.cx, xyz.cy)\n",
    "        xyz['cth'] = np.unwrap(constrain_angle(np.arctan2(-cv, -cu) - np.arctan2(xyz.cy, xyz.cx)), discont=1.8 * pi)\n",
    "        if np.abs(xyz['cth'].min() - 2 * pi) < 5 * degrees:\n",
    "            xyz['cth'] -= 2 * pi\n",
    "        \n",
    "        fig, ax = plt.subplots(3, 2, figsize=(12, 14))\n",
    "        fig.subplots_adjust(hspace=0.4, wspace=0.4)\n",
    "        ax[0, 0].plot(xyz.w / 1000, xyz.u / 1000, '.')\n",
    "        ax[0, 0].plot(tr[:, 2], tr[:, 0])\n",
    "        ax[0, 0].plot(orig_tr[:, 2], orig_tr[:, 0], '--')\n",
    "        ax[0, 0].set_xlabel('w [m]')\n",
    "        ax[0, 0].set_ylabel('u [m]')\n",
    "        \n",
    "        ax[0, 1].plot(xyz.w / 1000, xyz.v / 1000, '.')\n",
    "        ax[0, 1].plot(tr[:, 2], tr[:, 1])\n",
    "        ax[0, 1].plot(orig_tr[:, 2], orig_tr[:, 1], '--')\n",
    "        ax[0, 1].set_xlabel('w [m]')\n",
    "        ax[0, 1].set_ylabel('v [m]')\n",
    "        \n",
    "        ax[1, 0].plot(xyz.w/1000, np.hypot(xyz.u, xyz.v) / 1000, '.')\n",
    "        ax[1, 0].plot(tr[:, 2], np.hypot(tr[:, 0], tr[:, 1]))\n",
    "        ax[1, 0].plot(orig_tr[:, 2], np.hypot(orig_tr[:, 0], orig_tr[:, 1]), '--')\n",
    "        ax[1, 0].set_xlabel('w [m]')\n",
    "        ax[1, 0].set_ylabel('$\\sqrt{u^2 + v^2}$ [m]')\n",
    "        \n",
    "        ax[1, 1].plot(xyz.u / 1000, xyz.v / 1000, '.')\n",
    "        ax[1, 1].plot(tr[:, 0], tr[:, 1])\n",
    "        ths = np.linspace(0, 2*pi, 100)\n",
    "        ax[1, 1].plot(fitres.rad_curv/1000 * np.cos(ths) + fitres.curv_ctr_x/1000, \n",
    "                      fitres.rad_curv/1000 * np.sin(ths) + fitres.curv_ctr_y/1000, 'r--')\n",
    "        ax[1, 1].plot(cu/1000, cv/1000, 'k+', mew=1.5)\n",
    "        ax[1, 1].plot(fitres.curv_ctr_x/1000, fitres.curv_ctr_y/1000, 'ro')\n",
    "        ax[1, 1].set_aspect(1)\n",
    "        ax[1, 1].set_xlabel('u [m]')\n",
    "        ax[1, 1].set_ylabel('v [m]')\n",
    "        \n",
    "        slope = np.tan(fitres.lin_scat_ang - pi / 2)\n",
    "        ydata = xyz.cr * xyz.cth\n",
    "        ax[2, 0].plot(ydata, xyz.w, '.')\n",
    "#         ax[2, 0].plot(ydata, odrline([fitres.lin_beam_int, slope], ydata))\n",
    "        \n",
    "        ax[2, 1].plot(xyz.w / 1000, xyz.a, '.')"
   ]
  },
  {
   "cell_type": "code",
   "execution_count": null,
   "metadata": {
    "collapsed": true
   },
   "outputs": [],
   "source": [
    "fitpl = FitPlotter('/Users/josh/Documents/Data/Merged/e15503b/clean', fitter)"
   ]
  },
  {
   "cell_type": "code",
   "execution_count": null,
   "metadata": {
    "collapsed": true
   },
   "outputs": [],
   "source": [
    "i = 0"
   ]
  },
  {
   "cell_type": "code",
   "execution_count": null,
   "metadata": {
    "collapsed": true
   },
   "outputs": [],
   "source": [
    "i -= 1"
   ]
  },
  {
   "cell_type": "code",
   "execution_count": null,
   "metadata": {
    "scrolled": false
   },
   "outputs": [],
   "source": [
    "e = 4.0\n",
    "de = 0.05\n",
    "idx = res[goodfitcut & physicalcut & prodcut\n",
    "          #& (res.enu0 < 1.2)\n",
    "#           & (res.run_num == 115)\n",
    "#           & (res.evt_id == 563)\n",
    "#           & res.run_num.isin([76, 85, 99, 193, 263])\n",
    "          & (res.vert_en > 1) & (res.vert_en < 2)\n",
    "#           & (res.enu0 < 2)\n",
    "          & (res.cm_angle > 80*degrees)# & (res.cm_angle < 45*degrees)\n",
    "#           & (res.run_num > 217)\n",
    "#           & (res.posChi2 < posChi2Max)\n",
    "#           & (res.enChi2 < enChi2Max)\n",
    "#         (res.enChi2 > 15) & (res.enChi2 < 30) \n",
    "].sample(1).index[0]\n",
    "\n",
    "fr = res.loc[idx]\n",
    "\n",
    "print('Run {} event {}'.format(int(fr.run_num), int(fr.evt_id)))\n",
    "print('linfit chi2:', fr.lin_chi2)\n",
    "print('mcmin poschi2:   ', fr.posChi2)\n",
    "print('mcmin  enchi2:   ', fr.enChi2)\n",
    "print('kine vert_en:    ', fr.kine_vert_en)\n",
    "print('z0 vert_en:      ', fr.vert_en)\n",
    "print('z0 vert_en_corr: ', fr.vert_en)\n",
    "print('ctr:', fr[['x0', 'y0', 'z0', 'enu0', 'azi0', 'pol0']].values)\n",
    "print('CM Angle: {:0.2f}   Lab angle: {:0.2f}'.format(fr.cm_angle / degrees, fr.scat_ang / degrees))\n",
    "fitpl.plot_fit(fr, int(fr.run_num), fr.evt_id)"
   ]
  },
  {
   "cell_type": "code",
   "execution_count": null,
   "metadata": {},
   "outputs": [],
   "source": [
    "X, Y = np.meshgrid(binned.cm_angle, binned.vert_en)\n",
    "plt.pcolormesh(X, Y, binned.sum('run_num').values, norm=LogNorm())\n",
    "plt.scatter(fr.cm_angle / degrees, fr.vert_en, c='C1', marker='x', s=200)"
   ]
  },
  {
   "cell_type": "code",
   "execution_count": null,
   "metadata": {},
   "outputs": [],
   "source": [
    "frd = fr.to_dict()\n",
    "del frd['brho']\n",
    "frd"
   ]
  },
  {
   "cell_type": "code",
   "execution_count": null,
   "metadata": {
    "collapsed": true
   },
   "outputs": [],
   "source": [
    "rn = int(fr.run_num)\n",
    "with pytpc.HDFDataFile(\n",
    "        f'/Volumes/attpc/data/e15503b/full-trace/run_{rn:04d}.h5', open_mode='r', \n",
    "        canonical_evtid_path=f'/Volumes/attpc/data/e15503b/canon_ids/canon_ids_run_{rn:04d}.h5') as hf:\n",
    "    evt = hf[int(fr.evt_id)]"
   ]
  },
  {
   "cell_type": "code",
   "execution_count": null,
   "metadata": {
    "collapsed": true
   },
   "outputs": [],
   "source": [
    "from pytpc.evtdata import fix_baselines"
   ]
  },
  {
   "cell_type": "code",
   "execution_count": null,
   "metadata": {},
   "outputs": [],
   "source": [
    "traces = fix_baselines(evt.traces['data'])\n",
    "for tr in traces:\n",
    "    plt.plot(tr)"
   ]
  },
  {
   "cell_type": "code",
   "execution_count": null,
   "metadata": {},
   "outputs": [],
   "source": [
    "with h5py.File('/Users/josh/Documents/Data/Merged/e15503b/clean/clean_run_{:04d}.h5'.format(int(fr.run_num)), 'r') as f:\n",
    "    raw_xyz = f['/clean/{}'.format(int(fr.evt_id))][:]\n",
    "raw_xyz = apply_clean_cut(raw_xyz)\n",
    "xyz = fitter.preprocess(raw_xyz)"
   ]
  },
  {
   "cell_type": "code",
   "execution_count": null,
   "metadata": {
    "collapsed": true
   },
   "outputs": [],
   "source": [
    "res_track = fitter.tracker.track_particle(fr.x0, fr.y0, fr.z0, fr.enu0, fr.azi0, fr.pol0)"
   ]
  },
  {
   "cell_type": "code",
   "execution_count": null,
   "metadata": {},
   "outputs": [],
   "source": [
    "exp_hits = np.zeros(10240)\n",
    "for a, p in xyz[['a', 'pad']].values:\n",
    "    exp_hits[int(p)] += a"
   ]
  },
  {
   "cell_type": "code",
   "execution_count": null,
   "metadata": {},
   "outputs": [],
   "source": [
    "fig, sm = pad_plot(exp_hits, scale='linear', cmap='viridis')\n",
    "plt.colorbar(sm)"
   ]
  },
  {
   "cell_type": "code",
   "execution_count": null,
   "metadata": {
    "collapsed": true
   },
   "outputs": [],
   "source": [
    "exp_mesh = np.zeros(512)\n",
    "for z, a in raw_xyz[:, 2:4]:\n",
    "    exp_mesh += transfer(a, 280./80, z)\n",
    "    \n",
    "res_mesh = fitter.evtgen.make_mesh_signal(res_track[:, :3].copy(), res_track[:, 4].copy())"
   ]
  },
  {
   "cell_type": "code",
   "execution_count": null,
   "metadata": {},
   "outputs": [],
   "source": [
    "plt.plot(res_track[:, 2]*1000, res_track[:, 1]*1000, 'k', zorder=100)\n",
    "plt.plot(xyz.w, xyz.v, '.')\n",
    "plt.xlim(0, 1000)\n",
    "plt.hlines(0, *plt.xlim(), color='g')\n",
    "plt.ylim(-275, 275)\n",
    "plt.gca().set_aspect(1)\n",
    "plt.xlabel('z [mm]')\n",
    "plt.ylabel('y [mm]')\n",
    "plt.title('Run {:.0f} event {:.0f}'.format(fr.run_num, fr.evt_id))\n",
    "# plt.savefig('/Users/josh/Desktop/plots_for_daniel/yz.pdf', bbox_inches='tight')"
   ]
  },
  {
   "cell_type": "code",
   "execution_count": null,
   "metadata": {},
   "outputs": [],
   "source": [
    "plt.plot(res_track[:, 2]*1000, res_track[:, 0]*1000, 'k', zorder=100)\n",
    "plt.plot(xyz.w, xyz.u, '.')\n",
    "plt.xlim(0, 1000)\n",
    "plt.hlines(0, *plt.xlim(), color='g')\n",
    "plt.ylim(-275, 275)\n",
    "plt.gca().set_aspect(1)\n",
    "plt.xlabel('z [mm]')\n",
    "plt.ylabel('x [mm]')\n",
    "plt.title('Run {:.0f} event {:.0f}'.format(fr.run_num, fr.evt_id))\n",
    "# plt.savefig('/Users/josh/Desktop/plots_for_daniel/xz.pdf', bbox_inches='tight')"
   ]
  },
  {
   "cell_type": "code",
   "execution_count": null,
   "metadata": {},
   "outputs": [],
   "source": [
    "plt.plot(res_track[:, 0]*1000, res_track[:, 1]*1000, 'k', zorder=100)\n",
    "plt.plot(xyz.u, xyz.v, '.')\n",
    "plt.xlim(-275, 275)\n",
    "plt.ylim(-275, 275)\n",
    "plt.gca().set_aspect(1)\n",
    "plt.xlabel('x [mm]')\n",
    "plt.ylabel('y [mm]')\n",
    "plt.title('Run {:.0f} event {:.0f}'.format(fr.run_num, fr.evt_id))\n",
    "# plt.savefig('/Users/josh/Desktop/plots_for_daniel/xy.pdf', bbox_inches='tight')"
   ]
  },
  {
   "cell_type": "code",
   "execution_count": null,
   "metadata": {},
   "outputs": [],
   "source": [
    "with sns.axes_style('ticks'), sns.plotting_context('paper'):\n",
    "    plt.figure(figsize=(3.5, 3.5))\n",
    "    plt.plot(res_track[:, 0]*1000, res_track[:, 1]*1000, 'k', zorder=100)\n",
    "    plt.plot(xyz.u, xyz.v, '.')\n",
    "    plt.gca().set_aspect(1)\n",
    "    \n",
    "    sns.despine()\n",
    "    plt.xlabel('x [mm]')\n",
    "    plt.ylabel('y [mm]')\n",
    "    plt.tight_layout()\n",
    "    \n",
    "#     plt.savefig('/Users/josh/Documents/Papers/attpc-nim-paper/Figures/evt_{:04.0f}_{:0.0f}_xy.pdf'.format(fr.run_num, fr.evt_id))"
   ]
  },
  {
   "cell_type": "code",
   "execution_count": null,
   "metadata": {},
   "outputs": [],
   "source": [
    "with sns.axes_style('ticks'), sns.plotting_context('paper'): \n",
    "    plt.figure(figsize=(3.5, 2.4))\n",
    "    plt.plot(res_track[:, 2]*1000, res_track[:, 1]*1000, 'k', zorder=100)\n",
    "    plt.plot(xyz.w, xyz.v, '.')\n",
    "    \n",
    "    sns.despine()\n",
    "    plt.xlabel('z [mm]')\n",
    "    plt.ylabel('y [mm]')\n",
    "    plt.tight_layout()\n",
    "    \n",
    "    plt.savefig('/Users/josh/Documents/Papers/attpc-nim-paper/Figures/evt_{:04.0f}_{:0.0f}_zy.pdf'.format(fr.run_num, fr.evt_id))"
   ]
  },
  {
   "cell_type": "code",
   "execution_count": null,
   "metadata": {
    "collapsed": true
   },
   "outputs": [],
   "source": [
    "%matplotlib inline"
   ]
  },
  {
   "cell_type": "code",
   "execution_count": null,
   "metadata": {
    "collapsed": true
   },
   "outputs": [],
   "source": [
    "with sns.axes_style('white'):\n",
    "    plt.subplot(111, projection='3d')\n",
    "    plt.plot(res_track[:, 0]*1000, res_track[:, 1]*1000, res_track[:, 2]*1000, 'k')\n",
    "    plt.plot((0, 0), (0, 0), (0, 1000), 'g')\n",
    "    plt.gca().scatter(xyz.u, xyz.v, xyz.w, linewidths=0)\n",
    "    plt.xlim(-275, 275)\n",
    "    plt.ylim(-275, 275)\n",
    "    plt.gca().set_zlim(0, 1000)\n",
    "    plt.gca().set_aspect(1)\n",
    "#     plt.savefig('/Users/josh/Desktop/plots_for_daniel/3d.pdf', bbox_inches='tight')"
   ]
  },
  {
   "cell_type": "code",
   "execution_count": null,
   "metadata": {
    "collapsed": true
   },
   "outputs": [],
   "source": [
    "fr"
   ]
  },
  {
   "cell_type": "code",
   "execution_count": null,
   "metadata": {
    "collapsed": true
   },
   "outputs": [],
   "source": [
    "np.rad2deg(fr.pol0) - 180"
   ]
  },
  {
   "cell_type": "code",
   "execution_count": null,
   "metadata": {
    "collapsed": true
   },
   "outputs": [],
   "source": []
  }
 ],
 "metadata": {
  "kernelspec": {
   "display_name": "Python 3",
   "language": "python",
   "name": "python3"
  },
  "language_info": {
   "codemirror_mode": {
    "name": "ipython",
    "version": 3
   },
   "file_extension": ".py",
   "mimetype": "text/x-python",
   "name": "python",
   "nbconvert_exporter": "python",
   "pygments_lexer": "ipython3",
   "version": "3.6.0"
  }
 },
 "nbformat": 4,
 "nbformat_minor": 1
}
