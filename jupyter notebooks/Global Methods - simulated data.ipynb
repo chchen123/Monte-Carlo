{
 "cells": [
  {
   "cell_type": "code",
   "execution_count": null,
   "metadata": {},
   "outputs": [],
   "source": [
    "'''\n",
    "This script generates proton events, then fit them using three global methods: Monte-Carlo, Differential Evolution,\n",
    "and Basin Hopping. The algorithm gives objective function values and the time for fitting.\n",
    "'''"
   ]
  },
  {
   "cell_type": "code",
   "execution_count": null,
   "metadata": {},
   "outputs": [],
   "source": [
    "%matplotlib inline"
   ]
  },
  {
   "cell_type": "code",
   "execution_count": null,
   "metadata": {},
   "outputs": [],
   "source": [
    "#imports\n",
    "import numpy as np\n",
    "import pytpc\n",
    "from pytpc.fitting.mcopt_wrapper import Minimizer\n",
    "from pytpc.constants import *\n",
    "import pytpc.simulation\n",
    "import pytpc.tpcplot\n",
    "import pytpc.vmedata\n",
    "import pandas as pd\n",
    "import matplotlib.pyplot as plt\n",
    "import h5py\n",
    "from mpl_toolkits.mplot3d import Axes3D\n",
    "import yaml\n",
    "import scipy\n",
    "from pytpc.utilities import find_exclusion_region, read_lookup_table\n",
    "import math\n",
    "from effsim.paramgen import uniform_param_generator\n",
    "from effsim.effsim import EventSimulator\n",
    "from math import pi\n",
    "import time"
   ]
  },
  {
   "cell_type": "code",
   "execution_count": null,
   "metadata": {},
   "outputs": [],
   "source": [
    "with open('/home/chen/Real Data/config_e15503a_runs_92-104.yml', 'r') as f:\n",
    "    config = yaml.load(f)\n",
    "\n",
    "mcfitter = pytpc.fitting.MCFitter(config)\n",
    "num_iters = config['num_iters']\n",
    "num_pts = config['num_pts']\n",
    "red_factor = config['red_factor']\n",
    "tilt = config['tilt'] * degrees \n",
    "padplane = mcfitter.padplane\n",
    "efield = np.array(config['efield'])\n",
    "bfield = np.array(config['bfield'])\n",
    "mass_num = config['mass_num']\n",
    "charge_num = config['charge_num']\n",
    "gas = pytpc.gases.InterpolatedGas(config['gas_name'], config['gas_pressure'])\n",
    "beam_enu0 = config['beam_enu0']\n",
    "beam_charge = config['beam_charge']\n",
    "beam_mass = config['beam_mass']\n",
    "max_en = config['tracker_max_en']\n",
    "vd = np.array(config['vd'])\n",
    "max_beam_angle = config['max_beam_angle'] * degrees \n",
    "beam_origin_z = config['beam_origin_z']"
   ]
  },
  {
   "cell_type": "code",
   "execution_count": null,
   "metadata": {},
   "outputs": [],
   "source": [
    "# randomly generates 100 proton events for fitting\n",
    "sim = EventSimulator(config)\n",
    "num_evts = 100\n",
    "pgen = uniform_param_generator(beam_enu0, beam_mass, beam_charge, mass_num, max_beam_angle, beam_origin_z, gas, num_evts)\n",
    "monte_carlo_time = []\n",
    "diff_evolution_time = []\n",
    "basinhopping_time = []\n",
    "\n",
    "monte_carlo_chi = []\n",
    "diff_evolution_chi = []\n",
    "basinhopping_chi = []"
   ]
  },
  {
   "cell_type": "code",
   "execution_count": null,
   "metadata": {},
   "outputs": [],
   "source": [
    "p = next(pgen)\n",
    "print(p)\n",
    "#good_p = [[7.78580357e-03, 2.05914266e-03, 5.69142329e-01, 1.44299609e+00, 4.21022635e+00, 1.98290584e+00]]"
   ]
  },
  {
   "cell_type": "code",
   "execution_count": null,
   "metadata": {},
   "outputs": [],
   "source": [
    "#make proton tracks using parameters generated\n",
    "evtRandom, ctr = sim.make_event(p[0][0], p[0][1], p[0][2], p[0][3], p[0][4], p[0][5])\n",
    "pyevtRandom = sim.convert_event(evtRandom)\n",
    "Random_xyzs = pyevtRandom.xyzs(peaks_only=True, return_pads=True, baseline_correction=True, cg_times=True)"
   ]
  },
  {
   "cell_type": "code",
   "execution_count": null,
   "metadata": {},
   "outputs": [],
   "source": [
    "Random_xy = Random_xyzs[:, 0:2]\n",
    "Random_xy_C = np.ascontiguousarray(Random_xy, dtype=np.double)\n",
    "Random_cx, Random_cy = pytpc.cleaning.hough_circle(Random_xy_C)\n",
    "#The center of curvature of the track, in mm.\n",
    "Random_uvw, (Random_cu, Random_cv) = mcfitter.preprocess(Random_xyzs[:, 0:5], center=(Random_cx, Random_cy), rotate_pads=True)\n",
    "Random_uvw_values = Random_uvw.values"
   ]
  },
  {
   "cell_type": "code",
   "execution_count": null,
   "metadata": {},
   "outputs": [],
   "source": [
    "# plotting simulated track\n",
    "plt.plot(Random_uvw_values[:, 7], Random_uvw_values[:, 5], 'r.')\n",
    "plt.show()\n",
    "plt.plot(Random_uvw_values[:, 7], Random_uvw_values[:, 6], 'r.')\n",
    "plt.show()\n",
    "plt.plot(Random_uvw_values[:, 5], Random_uvw_values[:, 6], 'r.')\n",
    "\n",
    "fig = plt.figure(figsize=(20, 14))\n",
    "\n",
    "ax = fig.add_subplot(2, 3, 1, projection='3d') #2,3,1 meaning the plot will take the 1st position on a grid with 2 rows and three columns\n",
    "ax.scatter(Random_uvw_values[:,5],Random_uvw_values[:,6],Random_uvw_values[:,7])"
   ]
  },
  {
   "cell_type": "code",
   "execution_count": null,
   "metadata": {},
   "outputs": [],
   "source": [
    "#Monte-Carlo fitting\n",
    "t0 = time.time()\n",
    "Random_mcres, Random_minChis, Random_all_params, Random_good_param_idx = mcfitter.process_event(Random_uvw, Random_cu, Random_cv, return_details=True)\n",
    "t1 = time.time()\n",
    "print(Random_mcres)\n",
    "monte_carlo_time.append(t1-t0)"
   ]
  },
  {
   "cell_type": "code",
   "execution_count": null,
   "metadata": {},
   "outputs": [],
   "source": [
    "evtClean, ctr = sim.make_event(Random_mcres['x0'], Random_mcres['y0'], Random_mcres['z0'], Random_mcres['enu0'], Random_mcres['azi0'], Random_mcres['pol0'])\n",
    "monte_carlo_chi.append(Random_mcres['posChi2']+Random_mcres['enChi2']+Random_mcres['vertChi2'])\n",
    "\n",
    "pyevtClean = sim.convert_event(evtClean)\n",
    "sim_xyzs = pyevtClean.xyzs(peaks_only=True, return_pads=True, baseline_correction=True, cg_times=True)\n",
    "\n",
    "sim_xy = sim_xyzs[:, 0:2]\n",
    "sim_xy_C = np.ascontiguousarray(sim_xy, dtype=np.double)\n",
    "sim_cx, sim_cy = pytpc.cleaning.hough_circle(sim_xy_C)\n",
    "sim_uvw, (sim_cu, sim_cv) = mcfitter.preprocess(sim_xyzs[:, 0:5], center=(sim_cx, sim_cy), rotate_pads=True)\n",
    "sim_uvw_values = sim_uvw.values"
   ]
  },
  {
   "cell_type": "code",
   "execution_count": null,
   "metadata": {},
   "outputs": [],
   "source": [
    "#plotting both real events and simulated events\n",
    "plt.plot(Random_uvw_values[:, 7], Random_uvw_values[:, 5], 'r.')\n",
    "plt.plot(sim_uvw_values[:, 7], sim_uvw_values[:, 5], 'b.')\n",
    "plt.show()\n",
    "plt.plot(Random_uvw_values[:, 7], Random_uvw_values[:, 6], 'r.')\n",
    "plt.plot(sim_uvw_values[:, 7], sim_uvw_values[:, 6], 'b.')\n",
    "plt.show()\n",
    "plt.plot(Random_uvw_values[:, 5], Random_uvw_values[:, 6], 'r.')\n",
    "plt.plot(sim_uvw_values[:, 5], sim_uvw_values[:, 6], 'b.')\n",
    "\n",
    "\n",
    "fig = plt.figure(figsize=(20, 14))\n",
    "\n",
    "ax = fig.add_subplot(2, 3, 1, projection='3d') #2,3,1 meaning the plot will take the 1st position on a grid with 2 rows and three columns\n",
    "ax.scatter(Random_xyzs[:,0],Random_xyzs[:,1],Random_xyzs[:,2])\n",
    "\n",
    "ax2 = fig.add_subplot(2, 3, 2, projection='3d')\n",
    "ax2.scatter(sim_xyzs[:,0],sim_xyzs[:,1],sim_xyzs[:,2])"
   ]
  },
  {
   "cell_type": "code",
   "execution_count": null,
   "metadata": {},
   "outputs": [],
   "source": [
    "#experimental positions, in coordinates u,v,w\n",
    "uvw_sorted = Random_uvw.sort_values(by='w', ascending=True)\n",
    "prefit_data = uvw_sorted.iloc[-len(uvw_sorted) // 4:].copy()\n",
    "prefit_res = mcfitter.linear_prefit(prefit_data, Random_cu, Random_cv)\n",
    "ctr0 = mcfitter.guess_parameters(prefit_res)\n",
    "exp_pos = uvw_sorted[['u', 'v', 'w']].values.copy() / 1000"
   ]
  },
  {
   "cell_type": "code",
   "execution_count": null,
   "metadata": {},
   "outputs": [],
   "source": [
    "#experimenal energys\n",
    "exp_hits = np.zeros(10240)\n",
    "for a, p in Random_uvw[['a', 'pad']].values:\n",
    "    exp_hits[int(p)] = a\n",
    "    \n",
    "print(exp_hits)"
   ]
  },
  {
   "cell_type": "code",
   "execution_count": null,
   "metadata": {},
   "outputs": [],
   "source": [
    "minimizer = Minimizer(mcfitter.tracker, mcfitter.evtgen, num_iters, num_pts, red_factor)"
   ]
  },
  {
   "cell_type": "code",
   "execution_count": null,
   "metadata": {},
   "outputs": [],
   "source": [
    "#defining objective function\n",
    "def f(y):\n",
    "    ctr = np.zeros([1,6])\n",
    "    ctr[0] = y\n",
    "    chi_result = minimizer.run_tracks(ctr, exp_pos, exp_hits)\n",
    "    return sum(chi_result[0])\n"
   ]
  },
  {
   "cell_type": "code",
   "execution_count": null,
   "metadata": {
    "scrolled": true
   },
   "outputs": [],
   "source": [
    "#differenal evolution fitting\n",
    "i = 1\n",
    "def callbackF(x, convergence=10):\n",
    "    global i\n",
    "    print('{0:4d}{1: 3.6f}{2: 3.6f}{3: 3.6f}{4: 3.6f}{5: 3.6f}{6: 3.6f}{7: 3.6f}'.format(i,x[0],x[1],x[2],x[3],x[4],x[5],f(x)))\n",
    "    i += 1\n",
    "bounds = [(-1,1), (-1, 1), (0, 1), (0,5), (-2 * pi, 2 * pi), (-2 * pi, 2 * pi)]\n",
    "t2 = time.time()\n",
    "results = scipy.optimize.differential_evolution(f, bounds, callback=callbackF, recombination=0.7, popsize=15, mutation=(0.5, 1.0), maxiter=10000)\n",
    "t3 = time.time()\n",
    "diff_evolution_time.append(t3-t2)"
   ]
  },
  {
   "cell_type": "code",
   "execution_count": null,
   "metadata": {},
   "outputs": [],
   "source": [
    "diff_evolution_chi.append(results.fun)"
   ]
  },
  {
   "cell_type": "code",
   "execution_count": null,
   "metadata": {},
   "outputs": [],
   "source": [
    "dfe = results.x\n",
    "print(dfe)"
   ]
  },
  {
   "cell_type": "code",
   "execution_count": null,
   "metadata": {},
   "outputs": [],
   "source": [
    "sim = EventSimulator(config)\n",
    "evtClean, ctr = sim.make_event(dfe[0], dfe[1], dfe[2], dfe[3], dfe[4], dfe[5])\n",
    "pyevtClean = sim.convert_event(evtClean)\n",
    "sim_xyzs = pyevtClean.xyzs(peaks_only=True, return_pads=True, baseline_correction=True, cg_times=True)"
   ]
  },
  {
   "cell_type": "code",
   "execution_count": null,
   "metadata": {},
   "outputs": [],
   "source": [
    "sim_xy = sim_xyzs[:, 0:2]\n",
    "sim_xy_C = np.ascontiguousarray(sim_xy, dtype=np.double)\n",
    "sim_cx, sim_cy = pytpc.cleaning.hough_circle(sim_xy_C)\n",
    "sim_uvw, (sim_cu, sim_cv) = mcfitter.preprocess(sim_xyzs[:, 0:5], center=(sim_cx, sim_cy), rotate_pads=True)\n",
    "sim_uvw_values = sim_uvw.values"
   ]
  },
  {
   "cell_type": "code",
   "execution_count": null,
   "metadata": {},
   "outputs": [],
   "source": [
    "#simulated and real events results, using differential evolution\n",
    "plt.plot(Random_uvw_values[:, 7], Random_uvw_values[:, 5], 'r.')\n",
    "plt.plot(sim_uvw_values[:, 7], sim_uvw_values[:, 5], 'b.')\n",
    "plt.show()\n",
    "plt.plot(Random_uvw_values[:, 7], Random_uvw_values[:, 6], 'r.')\n",
    "plt.plot(sim_uvw_values[:, 7], sim_uvw_values[:, 6], 'b.')\n",
    "plt.show()\n",
    "plt.plot(Random_uvw_values[:, 5], Random_uvw_values[:, 6], 'r.')\n",
    "plt.plot(sim_uvw_values[:, 5], sim_uvw_values[:, 6], 'b.')\n",
    "plt.show()\n",
    "\n",
    "\n",
    "fig = plt.figure(figsize=(20, 14))\n",
    "\n",
    "ax = fig.add_subplot(2, 3, 1, projection='3d') #2,3,1 meaning the plot will take the 1st position on a grid with 2 rows and three columns\n",
    "ax.scatter(Random_uvw_values[:,5],Random_uvw_values[:,6],Random_uvw_values[:,7])\n",
    "\n",
    "ax2 = fig.add_subplot(2, 3, 2, projection='3d')\n",
    "ax2.scatter(sim_uvw_values[:,5],sim_uvw_values[:,6],sim_uvw_values[:,7])"
   ]
  },
  {
   "cell_type": "code",
   "execution_count": null,
   "metadata": {},
   "outputs": [],
   "source": [
    "i = 1\n",
    "def callbackF(x, f, accept):\n",
    "    global i\n",
    "    print('{0:4d}{1: 3.6f}{2: 3.6f}{3: 3.6f}{4: 3.6f}{5: 3.6f}{6: 3.6f}{7: 3.6f}'.format(i,x[0],x[1],x[2],x[3],x[4],x[5],f))\n",
    "    i += 1"
   ]
  },
  {
   "cell_type": "code",
   "execution_count": null,
   "metadata": {},
   "outputs": [],
   "source": [
    "#basin hopping\n",
    "t4 = time.time()\n",
    "bh_nm_results = scipy.optimize.basinhopping(f,ctr0, callback=callbackF, niter=25, T=0.01, stepsize=0.05, minimizer_kwargs={\"method\": \"SLSQP\"})\n",
    "t5 = time.time()\n",
    "print(bh_nm_results)\n",
    "basinhopping_time.append(t5-t4)"
   ]
  },
  {
   "cell_type": "code",
   "execution_count": null,
   "metadata": {},
   "outputs": [],
   "source": [
    "bh_nm = bh_nm_results.x\n",
    "print(bh_nm)\n",
    "basinhopping_chi.append(bh_nm_results.fun)"
   ]
  },
  {
   "cell_type": "code",
   "execution_count": null,
   "metadata": {},
   "outputs": [],
   "source": [
    "sim = EventSimulator(config)\n",
    "evtClean, ctr = sim.make_event(bh_nm[0], bh_nm[1], bh_nm[2], bh_nm[3], bh_nm[4], bh_nm[5])\n",
    "pyevtClean = sim.convert_event(evtClean)\n",
    "sim_xyzs = pyevtClean.xyzs(peaks_only=True, return_pads=True, baseline_correction=True, cg_times=True)\n",
    "sim_xy = sim_xyzs[:, 0:2]\n",
    "sim_xy_C = np.ascontiguousarray(sim_xy, dtype=np.double)\n",
    "sim_cx, sim_cy = pytpc.cleaning.hough_circle(sim_xy_C)\n",
    "sim_uvw, (sim_cu, sim_cv) = mcfitter.preprocess(sim_xyzs[:, 0:5], center=(sim_cx, sim_cy), rotate_pads=True)\n",
    "sim_uvw_values = sim_uvw.values"
   ]
  },
  {
   "cell_type": "code",
   "execution_count": null,
   "metadata": {},
   "outputs": [],
   "source": [
    "%matplotlib inline\n",
    "#fitting results for basin hopping\n",
    "plt.plot(Random_uvw_values[:, 7], Random_uvw_values[:, 5], 'r.', label='Real Data')\n",
    "plt.plot(sim_uvw_values[:, 7], sim_uvw_values[:, 5], 'b.', label='Sim Data')\n",
    "plt.legend(loc=1)\n",
    "plt.title(\"BH - Nelder-Mead\")\n",
    "plt.show()\n",
    "\n",
    "plt.plot(Random_uvw_values[:, 7], Random_uvw_values[:, 6], 'r.', label='Real Data')\n",
    "plt.plot(sim_uvw_values[:, 7], sim_uvw_values[:, 6], 'b.', label='Sim Data')\n",
    "plt.legend(loc=3)\n",
    "plt.show()\n",
    "\n",
    "plt.plot(Random_uvw_values[:, 5], Random_uvw_values[:, 6], 'r.', label='Real Data')\n",
    "plt.plot(sim_uvw_values[:, 5], sim_uvw_values[:, 6], 'b.',label='Sim Data')\n",
    "plt.legend(loc=3)\n",
    "plt.show()\n",
    "\n",
    "fig = plt.figure(figsize=(20, 14))\n",
    "\n",
    "ax = fig.add_subplot(2, 3, 1, projection='3d') #2,3,1 meaning the plot will take the 1st position on a grid with 2 rows and three columns\n",
    "ax.scatter(Random_uvw_values[:,7],Random_uvw_values[:,6],Random_uvw_values[:,5])\n",
    "\n",
    "ax2 = fig.add_subplot(2, 3, 2, projection='3d')\n",
    "ax2.scatter(sim_uvw_values[:,7],sim_uvw_values[:,6],sim_uvw_values[:,5])\n"
   ]
  },
  {
   "cell_type": "code",
   "execution_count": null,
   "metadata": {},
   "outputs": [],
   "source": [
    "#results\n",
    "\n",
    "print('MonteCarlo time')\n",
    "print(sum(monte_carlo_time) / float(len(monte_carlo_time)))\n",
    "print('diff evolution time')\n",
    "print(sum(diff_evolution_time) / float(len(diff_evolution_time)))\n",
    "print('basinhopping time')\n",
    "print(sum(basinhopping_time) / float(len(basinhopping_time)))\n",
    "\n",
    "print('monte carlo chi')\n",
    "print(sum(monte_carlo_chi) / float(len(monte_carlo_chi)))\n",
    "print('differential evolution chi')\n",
    "print(sum(diff_evolution_chi) / float(len(diff_evolution_chi)))\n",
    "print('basinhopping chi')\n",
    "print(sum(basinhopping_chi) / float(len(basinhopping_chi)))\n"
   ]
  }
 ],
 "metadata": {
  "kernelspec": {
   "display_name": "Python 3",
   "language": "python",
   "name": "python3"
  },
  "language_info": {
   "codemirror_mode": {
    "name": "ipython",
    "version": 3
   },
   "file_extension": ".py",
   "mimetype": "text/x-python",
   "name": "python",
   "nbconvert_exporter": "python",
   "pygments_lexer": "ipython3",
   "version": "3.6.5"
  }
 },
 "nbformat": 4,
 "nbformat_minor": 2
}
