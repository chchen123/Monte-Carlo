{
 "cells": [
  {
   "cell_type": "code",
   "execution_count": null,
   "metadata": {},
   "outputs": [],
   "source": [
    "import numpy as np\n",
    "import pytpc\n",
    "from pytpc.fitting.mcopt_wrapper import Tracker, EventGenerator, PadPlane, Minimizer\n",
    "from pytpc.constants import *\n",
    "from pytpc.cleaning import HoughCleaner\n",
    "import pandas as pd\n",
    "import matplotlib.pyplot as plt\n",
    "import h5py\n",
    "import yaml\n",
    "import math\n",
    "from effsim.paramgen import uniform_param_generator\n",
    "from effsim.effsim import EventSimulator\n",
    "from scipy import interpolate"
   ]
  },
  {
   "cell_type": "code",
   "execution_count": null,
   "metadata": {},
   "outputs": [],
   "source": [
    "with open('/home/chen/ar40/config/config_e15503a_runs_92-104.yml', 'r') as f:\n",
    "    config = yaml.load(f)\n",
    "\n",
    "mcfitter = pytpc.fitting.MCFitter(config)"
   ]
  },
  {
   "cell_type": "code",
   "execution_count": null,
   "metadata": {},
   "outputs": [],
   "source": [
    "tilt = config['tilt'] * degrees \n",
    "padplane = mcfitter.padplane\n",
    "efield = np.array(config['efield'])\n",
    "bfield = np.array(config['bfield'])\n",
    "mass_num = config['mass_num']\n",
    "charge_num = config['charge_num']\n",
    "gas = pytpc.gases.InterpolatedGas(config['gas_name'], config['gas_pressure'])\n",
    "beam_enu0 = config['beam_enu0']\n",
    "beam_charge = config['beam_charge']\n",
    "beam_mass = config['beam_mass']\n",
    "max_en = config['tracker_max_en']\n",
    "vd = np.array(config['vd'])\n",
    "max_beam_angle = (config['max_beam_angle']*math.pi)/180\n",
    "beam_origin_z = config['beam_origin_z']\n",
    "num_iters = config['num_iters']\n",
    "num_pts = config['num_pts']\n",
    "red_factor = config['red_factor']\n",
    "clock = config['clock']\n",
    "shape = config['shape']\n",
    "pad_rot_angle = (config['pad_rot_angle']*math.pi)/180\n",
    "electronics_gain = float(config['electronics_gain'])\n",
    "micromegas_gain = float(config['micromegas_gain'])\n",
    "diff_sigma = config['diffusion_sigma']"
   ]
  },
  {
   "cell_type": "code",
   "execution_count": null,
   "metadata": {},
   "outputs": [],
   "source": [
    "#Good events for run_0102 are: 689, 765, 896, 305, 504, 575, 456, 299, 399, 156, 231, 7832, 1568, 1354, 789, 485, 2456, 357, 4568, 1448, 3578, 745, 430, 1676, 811, 641, 871, 785, 37, 24, 75, 72, 35, 16, 12, 1718, 1, 9\n",
    "full = h5py.File('/home/chen/ar40/config/clean_run_0102.h5', 'r')\n",
    "evt_ID = 456\n",
    "dataset_name = '/clean'\n",
    "evt_full = full[dataset_name]\n",
    "xyzs_h5 = evt_full[str(evt_ID)]\n",
    "xyzs = np.array(xyzs_h5)\n",
    "\n",
    "#delete the points which are farther away from the center of the spiral\n",
    "del_list = []\n",
    "\n",
    "DRIFT_VEL = 5.2\n",
    "CLOCK = 12.5\n",
    "\n",
    "for i in range(len(xyzs)):\n",
    "    if (xyzs[i,6]) > 40.0:\n",
    "        del_list.append(i)\n",
    "    elif (xyzs[i][2])*CLOCK/DRIFT_VEL > 500.0:\n",
    "        del_list.append(i)\n",
    "    elif (xyzs[i][5] < 2.0): \n",
    "        del_list.append(i)         \n",
    "\n",
    "cut_xyzs = np.delete(xyzs,del_list,axis=0)"
   ]
  },
  {
   "cell_type": "code",
   "execution_count": null,
   "metadata": {},
   "outputs": [],
   "source": [
    "######finding center of curvature\n",
    "xy = xyzs[:, 0:2]\n",
    "xy_C = np.ascontiguousarray(xy, dtype=np.double)\n",
    "cx, cy = pytpc.cleaning.hough_circle(xy_C)\n",
    "print(cx,cy) #The center of curvature of the track, in mm.\n",
    "\n",
    "cut_xy = cut_xyzs[:, 0:2]\n",
    "cut_xy_C = np.ascontiguousarray(cut_xy, dtype=np.double)\n",
    "cut_cx, cut_cy = pytpc.cleaning.hough_circle(cut_xy_C)"
   ]
  },
  {
   "cell_type": "code",
   "execution_count": null,
   "metadata": {},
   "outputs": [],
   "source": [
    "%matplotlib inline\n",
    "plt.plot(xyzs[:, 2], xyzs[:, 1], 'r.')\n",
    "plt.plot(cut_xyzs[:, 2], cut_xyzs[:, 1], 'b.')\n",
    "plt.show()\n",
    "plt.plot(xyzs[:, 0], xyzs[:, 1], 'r.')\n",
    "plt.plot(cut_xyzs[:, 0], cut_xyzs[:, 1], 'b.')\n",
    "plt.show()\n",
    "\n",
    "fig = plt.figure(figsize=(20, 14))\n",
    "\n",
    "ax = fig.add_subplot(2, 3, 1, projection='3d') #2,3,1 meaning the plot will take the 1st position on a grid with 2 rows and three columns\n",
    "ax.scatter(xyzs[:,2],xyzs[:,1],xyzs[:,0])\n",
    "\n",
    "ax2 = fig.add_subplot(2, 3, 2, projection='3d')\n",
    "ax2.scatter(cut_xyzs[:,2],cut_xyzs[:,1],cut_xyzs[:,0])"
   ]
  },
  {
   "cell_type": "code",
   "execution_count": null,
   "metadata": {},
   "outputs": [],
   "source": [
    "uvw_sorted = uvw.sort_values(by='w', ascending=True)\n",
    "prefit_data = uvw_sorted.iloc[-len(uvw_sorted) // 4:].copy()\n",
    "prefit_res = mcfitter.linear_prefit(prefit_data, cu, cv)\n",
    "ctr0 = mcfitter.guess_parameters(prefit_res)\n",
    "exp_pos = uvw_sorted[['u', 'v', 'w']].values.copy() / 1000\n",
    "\n",
    "cut_uvw_sorted = cut_uvw.sort_values(by='w', ascending=True)\n",
    "cut_prefit_data = cut_uvw_sorted.iloc[-len(cut_uvw_sorted) // 4:].copy()\n",
    "cut_prefit_res = mcfitter.linear_prefit(cut_prefit_data, cut_cu, cut_cv)\n",
    "cut_ctr0 = mcfitter.guess_parameters(cut_prefit_res)\n",
    "cut_exp_pos = cut_uvw_sorted[['u', 'v', 'w']].values.copy() / 1000"
   ]
  },
  {
   "cell_type": "code",
   "execution_count": null,
   "metadata": {},
   "outputs": [],
   "source": [
    "exp_hits = np.zeros(10240)\n",
    "for a, p in uvw[['a', 'pad']].values:\n",
    "    exp_hits[int(p)] = a\n",
    "    \n",
    "cut_exp_hits = np.zeros(10240)\n",
    "for a, p in cut_uvw[['a', 'pad']].values:\n",
    "    cut_exp_hits[int(p)] = a"
   ]
  },
  {
   "cell_type": "code",
   "execution_count": null,
   "metadata": {},
   "outputs": [],
   "source": [
    "####### generate a set of parameter vectors within given range #######\n",
    "sig = config['sigma']\n",
    "sigma = np.array([sig['x'],sig['y'],sig['z'],sig['enu'],sig['azi']*math.pi/180,sig['pol']*math.pi/180])\n",
    "evtgenerator = EventGenerator(padplane, vd, clock, shape, mass_num, ioniz, micromegas_gain, electronics_gain, tilt, diff_sigma)\n",
    "i = 0\n",
    "num_events = 1\n",
    "candidates = np.empty((0,0))\n",
    "while i <= 500:\n",
    "    try:\n",
    "        pgen = uniform_param_generator(beam_enu0, beam_mass, beam_charge, mass_num, max_beam_angle, beam_origin_z, gas, num_evts)\n",
    "        p = next(pgen)[0]\n",
    "    except Exception:\n",
    "        continue\n",
    "    try:\n",
    "        for j in range(6):\n",
    "            if abs(p[j]-ctr0[j]) >= sigma[j]:\n",
    "                raise ValueError\n",
    "    except ValueError:\n",
    "        continue\n",
    "    candidates = np.append(candidates, [p], axis=0)\n",
    "    i += 1"
   ]
  },
  {
   "cell_type": "code",
   "execution_count": null,
   "metadata": {},
   "outputs": [],
   "source": [
    "####### find position deviations #######\n",
    "sim = EventSimulator(config)\n",
    "for candidate in len(candidates):\n",
    "    evtClean, ctr = sim.make_event(candidate[0], candidate[1], candidate[2], candidate[3], candidate[4], candidate[5])\n",
    "    pyevtClean = sim.convert_event(evtClean)\n",
    "    sim_xyzs = pyevtClean.xyzs(peaks_only=True, return_pads=True, baseline_correction=True, cg_times=True)\n",
    "    f_x = interpolate.interp1d(sim_xyzs[:,2],sim_xyzs[:,0])\n",
    "    f_y = interpolate.interp1d(sim_xyzs[:,2],sim_xyzs[:,1])\n",
    "    sim_x = f_x(xyzs[:,2])\n",
    "    sim_y = f_y(xyzs[:,2])"
   ]
  }
 ],
 "metadata": {
  "kernelspec": {
   "display_name": "Python 3",
   "language": "python",
   "name": "python3"
  },
  "language_info": {
   "codemirror_mode": {
    "name": "ipython",
    "version": 3
   },
   "file_extension": ".py",
   "mimetype": "text/x-python",
   "name": "python",
   "nbconvert_exporter": "python",
   "pygments_lexer": "ipython3",
   "version": "3.6.5"
  }
 },
 "nbformat": 4,
 "nbformat_minor": 2
}
