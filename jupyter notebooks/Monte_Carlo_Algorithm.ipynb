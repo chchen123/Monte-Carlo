{
 "cells": [
  {
   "cell_type": "code",
   "execution_count": 1,
   "metadata": {},
   "outputs": [
    {
     "name": "stderr",
     "output_type": "stream",
     "text": [
      "/home/chen/anaconda3/lib/python3.6/site-packages/h5py/__init__.py:36: FutureWarning: Conversion of the second argument of issubdtype from `float` to `np.floating` is deprecated. In future, it will be treated as `np.float64 == np.dtype(float).type`.\n",
      "  from ._conv import register_converters as _register_converters\n"
     ]
    }
   ],
   "source": [
    "import numpy as np\n",
    "import pytpc\n",
    "from pytpc.fitting.mcopt_wrapper import Tracker, EventGenerator, PadPlane, Minimizer\n",
    "from pytpc.constants import *\n",
    "from pytpc.cleaning import HoughCleaner\n",
    "import pandas as pd\n",
    "import matplotlib.pyplot as plt\n",
    "import h5py\n",
    "import yaml\n",
    "import math\n",
    "from effsim.paramgen import uniform_param_generator\n",
    "from effsim.effsim import EventSimulator\n",
    "from scipy import interpolate"
   ]
  },
  {
   "cell_type": "code",
   "execution_count": 2,
   "metadata": {},
   "outputs": [],
   "source": [
    "with open('/home/chen/ar40/config/config_e15503a_runs_92-104.yml', 'r') as f:\n",
    "    config = yaml.load(f)\n",
    "\n",
    "mcfitter = pytpc.fitting.MCFitter(config)"
   ]
  },
  {
   "cell_type": "code",
   "execution_count": 3,
   "metadata": {},
   "outputs": [],
   "source": [
    "tilt = config['tilt'] * degrees \n",
    "padplane = mcfitter.padplane\n",
    "efield = np.array(config['efield'])\n",
    "bfield = np.array(config['bfield'])\n",
    "mass_num = config['mass_num']\n",
    "charge_num = config['charge_num']\n",
    "gas = pytpc.gases.InterpolatedGas(config['gas_name'], config['gas_pressure'])\n",
    "beam_enu0 = config['beam_enu0']\n",
    "beam_charge = config['beam_charge']\n",
    "beam_mass = config['beam_mass']\n",
    "max_en = config['tracker_max_en']\n",
    "vd = np.array(config['vd'])\n",
    "max_beam_angle = (config['max_beam_angle']*math.pi)/180\n",
    "beam_origin_z = config['beam_origin_z']\n",
    "num_iters = config['num_iters']\n",
    "num_pts = config['num_pts']\n",
    "red_factor = config['red_factor']\n",
    "clock = config['clock']\n",
    "shape = config['shape']\n",
    "pad_rot_angle = (config['pad_rot_angle']*math.pi)/180\n",
    "electronics_gain = float(config['electronics_gain'])\n",
    "micromegas_gain = float(config['micromegas_gain'])\n",
    "diff_sigma = config['diffusion_sigma']\n",
    "ioniz = 23.0 #eV"
   ]
  },
  {
   "cell_type": "code",
   "execution_count": 4,
   "metadata": {},
   "outputs": [
    {
     "name": "stdout",
     "output_type": "stream",
     "text": [
      "[-1.45741499e+02  9.06868891e-01  1.86516085e+02  5.14131784e+02\n",
      "  9.18200000e+03  4.00000000e+00  1.47813910e+01]\n"
     ]
    }
   ],
   "source": [
    "#Good events for run_0102 are: 689, 765, 896, 305, 504, 575, 456, 299, 399, 156, 231, 7832, 1568, 1354, 789, 485, 2456, 357, 4568, 1448, 3578, 745, 430, 1676, 811, 641, 871, 785, 37, 24, 75, 72, 35, 16, 12, 1718, 1, 9\n",
    "full = h5py.File('/home/chen/ar40/config/clean_run_0102.h5', 'r')\n",
    "evt_ID = 305\n",
    "dataset_name = '/clean'\n",
    "evt_full = full[dataset_name]\n",
    "xyzs_h5 = evt_full[str(evt_ID)]\n",
    "xyzs = np.array(xyzs_h5)\n",
    "\n",
    "#delete the points which are farther away from the center of the spiral\n",
    "del_list = []\n",
    "\n",
    "DRIFT_VEL = 5.2\n",
    "CLOCK = 12.5\n",
    "\n",
    "for i in range(len(xyzs)):\n",
    "    if (xyzs[i,6]) > 40.0:\n",
    "        del_list.append(i)\n",
    "    elif (xyzs[i][2])*CLOCK/DRIFT_VEL > 500.0:\n",
    "        del_list.append(i)\n",
    "    elif (xyzs[i][5] < 2.0): \n",
    "        del_list.append(i)         \n",
    "\n",
    "cut_xyzs = np.delete(xyzs,del_list,axis=0)\n",
    "\n",
    "print(xyzs[0])"
   ]
  },
  {
   "cell_type": "code",
   "execution_count": 5,
   "metadata": {},
   "outputs": [
    {
     "name": "stdout",
     "output_type": "stream",
     "text": [
      "-43.91625428724363 9.816445862844423\n"
     ]
    }
   ],
   "source": [
    "######finding center of curvature#######\n",
    "xy = xyzs[:, 0:2]\n",
    "xy_C = np.ascontiguousarray(xy, dtype=np.double)\n",
    "cx, cy = pytpc.cleaning.hough_circle(xy_C)\n",
    "print(cx,cy) #The center of curvature of the track, in mm.\n",
    "\n",
    "cut_xy = cut_xyzs[:, 0:2]\n",
    "cut_xy_C = np.ascontiguousarray(cut_xy, dtype=np.double)\n",
    "cut_cx, cut_cy = pytpc.cleaning.hough_circle(cut_xy_C)"
   ]
  },
  {
   "cell_type": "code",
   "execution_count": 6,
   "metadata": {},
   "outputs": [
    {
     "data": {
      "image/png": "[encoded data removed]",
      "text/plain": [
       "<Figure size 432x288 with 1 Axes>"
      ]
     },
     "metadata": {},
     "output_type": "display_data"
    },
    {
     "data": {
      "image/png": "[encoded data removed]",
      "text/plain": [
       "<Figure size 432x288 with 1 Axes>"
      ]
     },
     "metadata": {},
     "output_type": "display_data"
    }
   ],
   "source": [
    "#######plotting real event#########\n",
    "%matplotlib inline\n",
    "plt.plot(xyzs[:, 2], xyzs[:, 1], 'r.')\n",
    "plt.plot(cut_xyzs[:, 2], cut_xyzs[:, 1], 'b.')\n",
    "plt.show()\n",
    "plt.plot(xyzs[:, 0], xyzs[:, 1], 'r.')\n",
    "plt.plot(cut_xyzs[:, 0], cut_xyzs[:, 1], 'b.')\n",
    "plt.show()"
   ]
  },
  {
   "cell_type": "code",
   "execution_count": 7,
   "metadata": {},
   "outputs": [
    {
     "name": "stdout",
     "output_type": "stream",
     "text": [
      "[0.         0.         0.72005661 2.09442582 3.49679364 1.89956526]\n"
     ]
    }
   ],
   "source": [
    "uvw, (cu, cv) = mcfitter.preprocess(xyzs[:,0:5], center=(cx, cy), rotate_pads=False)\n",
    "uvw_sorted = uvw.sort_values(by='w', ascending=True)\n",
    "prefit_data = uvw_sorted.iloc[-len(uvw_sorted) // 4:].copy()\n",
    "prefit_res = mcfitter.linear_prefit(prefit_data, cu, cv)\n",
    "ctr0 = mcfitter.guess_parameters(prefit_res)\n",
    "exp_pos = uvw_sorted[['u', 'v', 'w']].values.copy() / 1000\n",
    "ctr0[4]=ctr0[4]+2*pi\n",
    "print(ctr0)\n",
    "cut_uvw, (cut_cu, cut_cv) = mcfitter.preprocess(cut_xyzs[:,0:5], center=(cut_cx, cut_cy), rotate_pads=False)\n",
    "cut_uvw_sorted = cut_uvw.sort_values(by='w', ascending=True)\n",
    "cut_prefit_data = cut_uvw_sorted.iloc[-len(cut_uvw_sorted) // 4:].copy()\n",
    "cut_prefit_res = mcfitter.linear_prefit(cut_prefit_data, cut_cu, cut_cv)\n",
    "cut_ctr0 = mcfitter.guess_parameters(cut_prefit_res)\n",
    "cut_exp_pos = cut_uvw_sorted[['u', 'v', 'w']].values.copy() / 1000"
   ]
  },
  {
   "cell_type": "code",
   "execution_count": 8,
   "metadata": {},
   "outputs": [],
   "source": [
    "exp_hits = np.zeros(10240)\n",
    "for a, p in uvw[['a', 'pad']].values:\n",
    "    exp_hits[int(p)] = a\n",
    "    \n",
    "cut_exp_hits = np.zeros(10240)\n",
    "for a, p in cut_uvw[['a', 'pad']].values:\n",
    "    cut_exp_hits[int(p)] = a"
   ]
  },
  {
   "cell_type": "code",
   "execution_count": 12,
   "metadata": {},
   "outputs": [
    {
     "name": "stdout",
     "output_type": "stream",
     "text": [
      "[0.1        0.1        0.1        4.         1.04719755 0.52359878]\n",
      "[[ 1.00000000e-01  1.00000000e-01  1.00000000e-01  4.00000000e+00\n",
      "   1.04719755e+00  5.23598776e-01]\n",
      " [ 1.40155033e-02 -7.26156666e-04  7.20056608e-01  1.22968690e+00\n",
      "   3.38951368e+00  1.93150098e+00]\n",
      " [ 4.12557518e-03 -8.44513838e-03  7.20056608e-01  1.22982206e+00\n",
      "   3.39352097e+00  1.90414831e+00]\n",
      " ...\n",
      " [-4.47546809e-03  7.93789899e-03  7.20056608e-01  1.22982865e+00\n",
      "   3.37893140e+00  1.89372536e+00]\n",
      " [-3.26654557e-03  4.59685882e-03  7.20056608e-01  1.22989242e+00\n",
      "   3.38176473e+00  1.89464041e+00]\n",
      " [-2.24877851e-03 -5.47247669e-03  7.20056608e-01  1.22988844e+00\n",
      "   3.38980520e+00  1.89119499e+00]]\n"
     ]
    }
   ],
   "source": [
    "####### generate a set of parameter vectors within given range #########\n",
    "sig = config['sigma']\n",
    "sigma = np.array([sig['x'],sig['y'],sig['z'],sig['enu'],sig['azi']*math.pi/180,sig['pol']*math.pi/180])\n",
    "#evtgenerator = EventGenerator(padplane, vd, clock, shape, mass_num, ioniz, micromegas_gain, electronics_gain, tilt, diff_sigma)\n",
    "print(sigma)\n",
    "num_events = 500\n",
    "candidates = [sigma]\n",
    "pgen = uniform_param_generator(beam_enu0, beam_mass, beam_charge, mass_num, max_beam_angle,\\\n",
    "                               beam_origin_z, gas, num_events,z0=ctr0[2],proj_pol=ctr0[5])\n",
    "\n",
    "#, z0=ctr0[2],proj_pol=ctr0[5]\n",
    "for evt in pgen:\n",
    "    p = evt[0]\n",
    "    try:\n",
    "        if abs(p[0]-ctr0[0]) >= sigma[0]:\n",
    "            raise ValueError\n",
    "        elif abs(p[1]-ctr0[1]) >= sigma[1]:\n",
    "            raise ValueError\n",
    "        elif abs(p[2]-ctr0[2]) >= sigma[2]:\n",
    "            raise ValueError\n",
    "        elif abs(p[3]-ctr0[3]) >= sigma[3]:\n",
    "            raise ValueError\n",
    "        elif abs(p[4]-ctr0[4]) >= sigma[4]:\n",
    "            raise ValueError\n",
    "        elif abs(p[5]-ctr0[5]) >= sigma[5]:\n",
    "            raise ValueError\n",
    "    except ValueError:\n",
    "        continue\n",
    "    candidates = np.append(candidates, [p], axis=0)\n",
    "\n",
    "print(candidates)"
   ]
  },
  {
   "cell_type": "code",
   "execution_count": 16,
   "metadata": {},
   "outputs": [
    {
     "name": "stderr",
     "output_type": "stream",
     "text": [
      "/home/chen/anaconda3/lib/python3.6/site-packages/pytpc-1.1.0-py3.6-linux-x86_64.egg/pytpc/evtdata.py:187: RuntimeWarning: invalid value encountered in true_divide\n",
      "  return np.sum(peak_data * range_idx, axis=-1) / peak_data.sum(axis=-1)\n",
      "/home/chen/anaconda3/lib/python3.6/site-packages/scipy/interpolate/interpolate.py:689: RuntimeWarning: invalid value encountered in greater\n",
      "  above_bounds = x_new > self.x[-1]\n"
     ]
    },
    {
     "name": "stdout",
     "output_type": "stream",
     "text": [
      "155\n"
     ]
    }
   ],
   "source": [
    "####### find position deviations ########\n",
    "sigmaPos = 5.0 ### in m unit\n",
    "Poschi2 = np.empty((0,0))\n",
    "sim = EventSimulator(config)\n",
    "for num in range(1,len(candidates)):\n",
    "    \n",
    "    chi2Pos_x = np.empty((0,0))\n",
    "    chi2Pos_y = np.empty((0,0))\n",
    "    \n",
    "    evtClean, ctr = sim.make_event(candidates[num][0], candidates[num][1], candidates[num][2], \\\n",
    "                                   candidates[num][3], candidates[num][4], candidates[num][5])\n",
    "    pyevtClean = sim.convert_event(evtClean)\n",
    "    sim_xyzs = pyevtClean.xyzs(peaks_only=True, return_pads=True, \\\n",
    "                               baseline_correction=True, cg_times=True)\n",
    "\n",
    "    f_x = interpolate.interp1d(sim_xyzs[:,2],sim_xyzs[:,0],bounds_error=False, fill_value=100.0)\n",
    "    f_y = interpolate.interp1d(sim_xyzs[:,2],sim_xyzs[:,1],bounds_error=False, fill_value=100.0)\n",
    "    \n",
    "    ##### find position chi2 #####\n",
    "    sim_x = f_x(xyzs[:,2])\n",
    "    sim_y = f_y(xyzs[:,2])\n",
    "\n",
    "    col_mean_x = np.nanmean(sim_x)\n",
    "    inds_x = np.where(np.isnan(sim_x))\n",
    "    sim_x[inds_x] = col_mean_x\n",
    "    \n",
    "    col_mean_y = np.nanmean(sim_y)\n",
    "    inds_y = np.where(np.isnan(sim_y))\n",
    "    sim_y[inds_y] = col_mean_y\n",
    "    \n",
    "    chi2Pos_x = np.append(chi2Pos_x,(sim_x-xyzs[:,0])/float(sigmaPos))    \n",
    "    chi2Pos_y = np.append(chi2Pos_y,(sim_y-xyzs[:,1])/float(sigmaPos))  \n",
    "    \n",
    "    Poschi2 = np.append(Poschi2,sum((chi2Pos_y**2+chi2Pos_x**2)/float(len(xyzs))))\n",
    "    \n",
    "min_chi = min(Poschi2)\n",
    "for i in range(len(xyzs)):\n",
    "    if Poschi2[i] == min_chi:\n",
    "        print(i)"
   ]
  },
  {
   "cell_type": "code",
   "execution_count": 17,
   "metadata": {},
   "outputs": [
    {
     "name": "stderr",
     "output_type": "stream",
     "text": [
      "/home/chen/anaconda3/lib/python3.6/site-packages/pytpc-1.1.0-py3.6-linux-x86_64.egg/pytpc/evtdata.py:187: RuntimeWarning: invalid value encountered in true_divide\n",
      "  return np.sum(peak_data * range_idx, axis=-1) / peak_data.sum(axis=-1)\n",
      "/home/chen/anaconda3/lib/python3.6/site-packages/scipy/interpolate/interpolate.py:689: RuntimeWarning: invalid value encountered in greater\n",
      "  above_bounds = x_new > self.x[-1]\n"
     ]
    },
    {
     "name": "stdout",
     "output_type": "stream",
     "text": [
      "150\n"
     ]
    }
   ],
   "source": [
    "########## position objective function revised ########\n",
    "sigmaPos = 5.0 ### in m unit\n",
    "Poschi2 = np.empty((0,0))\n",
    "sim = EventSimulator(config)\n",
    "for num in range(1,len(candidates)):\n",
    "    \n",
    "    evtClean, ctr = sim.make_event(candidates[num][0], candidates[num][1], candidates[num][2], \\\n",
    "                                   candidates[num][3], candidates[num][4], candidates[num][5])\n",
    "    pyevtClean = sim.convert_event(evtClean)\n",
    "    sim_xyzs = pyevtClean.xyzs(peaks_only=True, return_pads=True, \\\n",
    "                               baseline_correction=True, cg_times=True)\n",
    "\n",
    "    f_x = interpolate.interp1d(sim_xyzs[:,2],sim_xyzs[:,0],bounds_error=False, fill_value=1.0)\n",
    "    f_y = interpolate.interp1d(sim_xyzs[:,2],sim_xyzs[:,1],bounds_error=False, fill_value=1.0)\n",
    "    \n",
    "    ##### find position chi2 #####\n",
    "    sim_x = f_x(xyzs[:,2])\n",
    "    sim_y = f_y(xyzs[:,2])\n",
    "\n",
    "    col_mean_x = np.nanmean(sim_x)\n",
    "    inds_x = np.where(np.isnan(sim_x))\n",
    "    sim_x[inds_x] = col_mean_x\n",
    "    \n",
    "    col_mean_y = np.nanmean(sim_y)\n",
    "    inds_y = np.where(np.isnan(sim_y))\n",
    "    sim_y[inds_y] = col_mean_y\n",
    "    \n",
    "    Poschi2 = np.append(Poschi2, sum(((1.0-sim_x/xyzs[:,0])**2+(1.0-sim_y/xyzs[:,1])**2)/float(len(xyzs))))\n",
    "\n",
    "min_chi = min(Poschi2)\n",
    "for i in range(len(xyzs)):\n",
    "    if Poschi2[i] == min_chi:\n",
    "        print(i)"
   ]
  },
  {
   "cell_type": "code",
   "execution_count": null,
   "metadata": {},
   "outputs": [],
   "source": [
    "##### find hit patterns and energy chi2 for simulated and real events #####\n",
    "sigmaNormFraction = 0.1\n",
    "hits = np.zeros(10240)\n",
    "for k, v in evtClean.items():\n",
    "    hits[k] += v.max()\n",
    "    \n",
    "sigmaEn = np.nanmax(exp_hits)*sigmaNormFraction\n",
    "\n",
    "chi2En = 0\n",
    "hit_num = 0\n",
    "for a, p in uvw[['a', 'pad']].values:\n",
    "    if exp_hits[int(p)] != 0:\n",
    "        if np.isnan(exp_hits[int(p)]) == False:\n",
    "            chi2En += (exp_hits[int(p)]-hits[int(p)])^2\n",
    "            hit_num += 1\n",
    "\n",
    "chi2En = chi2En/sigmaEn^2/hit_num"
   ]
  },
  {
   "cell_type": "code",
   "execution_count": null,
   "metadata": {},
   "outputs": [],
   "source": [
    "###### find vert chi2 ######\n",
    "sigmaVert = 0.5e-4\n",
    "\n",
    "chi2Vert = (ctr0[0]^2 + ctr0[1]^2) / sigmaVert^2"
   ]
  }
 ],
 "metadata": {
  "kernelspec": {
   "display_name": "Python 3",
   "language": "python",
   "name": "python3"
  },
  "language_info": {
   "codemirror_mode": {
    "name": "ipython",
    "version": 3
   },
   "file_extension": ".py",
   "mimetype": "text/x-python",
   "name": "python",
   "nbconvert_exporter": "python",
   "pygments_lexer": "ipython3",
   "version": "3.6.5"
  }
 },
 "nbformat": 4,
 "nbformat_minor": 2
}
