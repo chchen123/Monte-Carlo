{
 "cells": [
  {
   "cell_type": "code",
   "execution_count": null,
   "metadata": {},
   "outputs": [],
   "source": [
    "'''\n",
    "This script plots objective functions of each run of the 40Ar(p,p) experiment, fitted through three global\n",
    "optimization methods.\n",
    "'''"
   ]
  },
  {
   "cell_type": "code",
   "execution_count": null,
   "metadata": {},
   "outputs": [],
   "source": [
    "import h5py\n",
    "import numpy as np\n",
    "import matplotlib.pyplot as plt"
   ]
  },
  {
   "cell_type": "code",
   "execution_count": null,
   "metadata": {},
   "outputs": [],
   "source": [
    "full_data = np.empty((0,0))"
   ]
  },
  {
   "cell_type": "markdown",
   "metadata": {},
   "source": [
    "**RUN_0125**"
   ]
  },
  {
   "cell_type": "code",
   "execution_count": null,
   "metadata": {
    "scrolled": false
   },
   "outputs": [],
   "source": [
    "cleaned = h5py.File('/home/chen/ar40/chi_values/run_0125.h5', 'r')\n",
    "orig_data = h5py.File('/home/chen/ar40/clean_events/clean_run_0125.h5', 'r')"
   ]
  },
  {
   "cell_type": "code",
   "execution_count": null,
   "metadata": {},
   "outputs": [],
   "source": [
    "dataset_name = '/clean'\n",
    "orig = orig_data[dataset_name]\n",
    "print(\"# of events: \" + str(len(orig)))\n",
    "\n",
    "dataset_name = '/monte carlo'\n",
    "clean = cleaned[dataset_name]\n",
    "print(\"# of clean events successflly processed: \" + str(len(clean)))"
   ]
  },
  {
   "cell_type": "code",
   "execution_count": null,
   "metadata": {},
   "outputs": [],
   "source": [
    "cleaned_monte_carlo = np.empty((0,0))\n",
    "for i in range(len(orig)):\n",
    "    try:\n",
    "        cleaned_monte_carlo = np.append(cleaned_monte_carlo, np.array(clean[str(i)]))\n",
    "        full_data = np.append(full_data, np.array(clean[str(i)]))\n",
    "    except Exception:\n",
    "        print('Event ' + str(i) + ' failed MC fitting')\n",
    "        continue\n",
    "\n",
    "print(cleaned_monte_carlo)"
   ]
  },
  {
   "cell_type": "code",
   "execution_count": null,
   "metadata": {},
   "outputs": [],
   "source": [
    "plt.hist(cleaned_monte_carlo, label='Monte-Carlo', bins=30, color='blue',range=(0,120)) #blue\n",
    "plt.legend(loc=2)\n",
    "plt.title('After cut')\n",
    "plt.xlabel('chi^2')\n",
    "plt.ylabel('count')\n",
    "plt.show()"
   ]
  },
  {
   "cell_type": "markdown",
   "metadata": {},
   "source": [
    "**RUN_0105**"
   ]
  },
  {
   "cell_type": "code",
   "execution_count": null,
   "metadata": {},
   "outputs": [],
   "source": [
    "full = h5py.File('/home/chen/run_0105.h5', 'r')\n",
    "orig_data = h5py.File('/home/chen/clean_run_0105.h5', 'r')\n",
    "\n",
    "\n",
    "dataset_name = '/clean'\n",
    "orig = orig_data[dataset_name]\n",
    "print(\"# of events: \" + str(len(orig)))\n",
    "\n",
    "dataset_name = '/monte carlo'\n",
    "evt_full = full[dataset_name]\n",
    "print(\"# of clean events successflly processed: \" + str(len(evt_full)))"
   ]
  },
  {
   "cell_type": "code",
   "execution_count": null,
   "metadata": {},
   "outputs": [],
   "source": [
    "monte_carlo = np.empty((0,0))\n",
    "for i in range(len(orig)):\n",
    "    try:\n",
    "        monte_carlo = np.append(monte_carlo, np.array(evt_full[str(i)]))\n",
    "        full_data = np.append(full_data, np.array(evt_full[str(i)]))\n",
    "    except Exception:\n",
    "        print('Event ' + str(i) + ' failed MC fitting')\n",
    "        continue\n",
    "\n",
    "print(monte_carlo)"
   ]
  },
  {
   "cell_type": "code",
   "execution_count": null,
   "metadata": {},
   "outputs": [],
   "source": [
    "plt.hist(monte_carlo, label='Monte-Carlo', bins=30, color='blue',range=(0,120)) #blue\n",
    "plt.legend(loc=2)\n",
    "plt.title('After cut - RUN_0105')\n",
    "plt.xlabel('chi^2')\n",
    "plt.ylabel('count')\n",
    "plt.show()"
   ]
  },
  {
   "cell_type": "markdown",
   "metadata": {},
   "source": [
    "**RUN_0118**"
   ]
  },
  {
   "cell_type": "code",
   "execution_count": null,
   "metadata": {},
   "outputs": [],
   "source": [
    "full = h5py.File('/home/chen/run_0118.h5', 'r')\n",
    "orig_data = h5py.File('/home/chen/clean_run_0118.h5', 'r')\n",
    "\n",
    "\n",
    "dataset_name = '/clean'\n",
    "orig = orig_data[dataset_name]\n",
    "print(\"# of events: \" + str(len(orig)))\n",
    "\n",
    "dataset_name = '/monte carlo'\n",
    "evt_full = full[dataset_name]\n",
    "print(\"# of clean events successflly processed: \" + str(len(evt_full)))"
   ]
  },
  {
   "cell_type": "code",
   "execution_count": null,
   "metadata": {},
   "outputs": [],
   "source": [
    "monte_carlo = np.empty((0,0))\n",
    "for i in range(len(orig)):\n",
    "    try:\n",
    "        monte_carlo = np.append(monte_carlo, np.array(evt_full[str(i)]))\n",
    "        full_data = np.append(full_data, np.array(evt_full[str(i)]))\n",
    "    except Exception:\n",
    "        print('Event ' + str(i) + ' failed MC fitting')\n",
    "        continue\n",
    "\n",
    "print(monte_carlo)"
   ]
  },
  {
   "cell_type": "code",
   "execution_count": null,
   "metadata": {},
   "outputs": [],
   "source": [
    "plt.hist(monte_carlo, label='Monte-Carlo', bins=30, color='blue',range=(0,120)) #blue\n",
    "plt.legend(loc=2)\n",
    "plt.title('After cut - RUN_0118')\n",
    "plt.xlabel('chi^2')\n",
    "plt.ylabel('count')\n",
    "plt.show()"
   ]
  },
  {
   "cell_type": "markdown",
   "metadata": {},
   "source": [
    "**RUN_108**"
   ]
  },
  {
   "cell_type": "code",
   "execution_count": null,
   "metadata": {},
   "outputs": [],
   "source": [
    "full = h5py.File('/home/chen/run_0108.h5', 'r')\n",
    "orig_data = h5py.File('/home/chen/clean_run_0108.h5', 'r')\n",
    "\n",
    "\n",
    "dataset_name = '/clean'\n",
    "orig = orig_data[dataset_name]\n",
    "print(\"# of events: \" + str(len(orig)))\n",
    "\n",
    "dataset_name = '/monte carlo'\n",
    "evt_full = full[dataset_name]\n",
    "print(\"# of clean events successfully processed: \" + str(len(evt_full)))"
   ]
  },
  {
   "cell_type": "code",
   "execution_count": null,
   "metadata": {},
   "outputs": [],
   "source": [
    "monte_carlo = np.empty((0,0))\n",
    "for i in range(len(orig)):\n",
    "    try:\n",
    "        monte_carlo = np.append(monte_carlo, np.array(evt_full[str(i)]))\n",
    "        full_data = np.append(full_data, np.array(evt_full[str(i)]))\n",
    "    except Exception:\n",
    "        print('Event ' + str(i) + ' failed MC fitting')\n",
    "        continue\n",
    "\n",
    "print(monte_carlo)"
   ]
  },
  {
   "cell_type": "code",
   "execution_count": null,
   "metadata": {},
   "outputs": [],
   "source": [
    "plt.hist(monte_carlo, label='Monte-Carlo', bins=70, color='blue') #blue\n",
    "plt.legend(loc=2)\n",
    "plt.title('After cut - RUN_0108')\n",
    "plt.xlabel('chi^2')\n",
    "plt.ylabel('count')\n",
    "plt.show()"
   ]
  },
  {
   "cell_type": "markdown",
   "metadata": {},
   "source": [
    "**RUN_0116**"
   ]
  },
  {
   "cell_type": "code",
   "execution_count": null,
   "metadata": {},
   "outputs": [],
   "source": [
    "full = h5py.File('/home/chen/run_0116.h5', 'r')\n",
    "orig_data = h5py.File('/home/chen/clean_run_0116.h5', 'r')\n",
    "\n",
    "\n",
    "dataset_name = '/clean'\n",
    "orig = orig_data[dataset_name]\n",
    "print(\"# of events: \" + str(len(orig)))\n",
    "\n",
    "dataset_name = '/monte carlo'\n",
    "evt_full = full[dataset_name]\n",
    "print(\"# of clean events successfully processed: \" + str(len(evt_full)))"
   ]
  },
  {
   "cell_type": "code",
   "execution_count": null,
   "metadata": {},
   "outputs": [],
   "source": [
    "monte_carlo = np.empty((0,0))\n",
    "for i in range(len(orig)):\n",
    "    try:\n",
    "        monte_carlo = np.append(monte_carlo, np.array(evt_full[str(i)]))\n",
    "        full_data = np.append(full_data, np.array(evt_full[str(i)]))\n",
    "    except Exception:\n",
    "        print('Event ' + str(i) + ' failed MC fitting')\n",
    "        continue\n",
    "\n",
    "print(monte_carlo)"
   ]
  },
  {
   "cell_type": "code",
   "execution_count": null,
   "metadata": {},
   "outputs": [],
   "source": [
    "plt.hist(monte_carlo, label='Monte-Carlo', bins=70, color='blue') #blue\n",
    "plt.legend(loc=2)\n",
    "plt.title('After cut - RUN_0116')\n",
    "plt.xlabel('chi^2')\n",
    "plt.ylabel('count')\n",
    "plt.show()"
   ]
  },
  {
   "cell_type": "markdown",
   "metadata": {},
   "source": [
    "**RUN_0126**"
   ]
  },
  {
   "cell_type": "code",
   "execution_count": null,
   "metadata": {},
   "outputs": [],
   "source": [
    "full = h5py.File('/home/chen/run_0126.h5', 'r')\n",
    "orig_data = h5py.File('/home/chen/clean_run_0126.h5', 'r')\n",
    "\n",
    "\n",
    "dataset_name = '/clean'\n",
    "orig = orig_data[dataset_name]\n",
    "print(\"# of events: \" + str(len(orig)))\n",
    "\n",
    "dataset_name = '/monte carlo'\n",
    "evt_full = full[dataset_name]\n",
    "print(\"# of clean events successfully processed: \" + str(len(evt_full)))"
   ]
  },
  {
   "cell_type": "code",
   "execution_count": null,
   "metadata": {},
   "outputs": [],
   "source": [
    "monte_carlo = np.empty((0,0))\n",
    "for i in range(len(orig)):\n",
    "    try:\n",
    "        monte_carlo = np.append(monte_carlo, np.array(evt_full[str(i)]))\n",
    "        full_data = np.append(full_data, np.array(evt_full[str(i)]))\n",
    "    except Exception:\n",
    "        print('Event ' + str(i) + ' failed MC fitting')\n",
    "        continue\n",
    "\n",
    "print(monte_carlo)"
   ]
  },
  {
   "cell_type": "code",
   "execution_count": null,
   "metadata": {},
   "outputs": [],
   "source": [
    "plt.hist(monte_carlo, label='Monte-Carlo', bins=10, color='blue',range=(0,120)) #blue\n",
    "plt.legend(loc=2)\n",
    "plt.title('After cut - RUN_0126')\n",
    "plt.xlabel('chi^2')\n",
    "plt.ylabel('count')\n",
    "plt.show()"
   ]
  },
  {
   "cell_type": "markdown",
   "metadata": {},
   "source": [
    "**RUN_0127**"
   ]
  },
  {
   "cell_type": "code",
   "execution_count": null,
   "metadata": {},
   "outputs": [],
   "source": [
    "full = h5py.File('/home/chen/run_0127.h5', 'r')\n",
    "orig_data = h5py.File('/home/chen/clean_run_0127.h5', 'r')\n",
    "\n",
    "\n",
    "dataset_name = '/clean'\n",
    "orig = orig_data[dataset_name]\n",
    "print(\"# of events: \" + str(len(orig)))\n",
    "\n",
    "dataset_name = '/monte carlo'\n",
    "evt_full = full[dataset_name]\n",
    "print(\"# of clean events successfully processed: \" + str(len(evt_full)))"
   ]
  },
  {
   "cell_type": "code",
   "execution_count": null,
   "metadata": {},
   "outputs": [],
   "source": [
    "monte_carlo = np.empty((0,0))\n",
    "for i in range(len(orig)):\n",
    "    try:\n",
    "        monte_carlo = np.append(monte_carlo, np.array(evt_full[str(i)]))\n",
    "        full_data = np.append(full_data, np.array(evt_full[str(i)]))\n",
    "    except Exception:\n",
    "        print('Event ' + str(i) + ' failed MC fitting')\n",
    "        continue\n",
    "\n",
    "print(monte_carlo)"
   ]
  },
  {
   "cell_type": "code",
   "execution_count": null,
   "metadata": {},
   "outputs": [],
   "source": [
    "plt.hist(monte_carlo, label='Monte-Carlo', bins=10, color='blue',range=(0,120)) #blue\n",
    "plt.legend(loc=2)\n",
    "plt.title('After cut - RUN_0127')\n",
    "plt.xlabel('chi^2')\n",
    "plt.ylabel('count')\n",
    "plt.show()"
   ]
  },
  {
   "cell_type": "markdown",
   "metadata": {},
   "source": [
    "**RUN_0128**"
   ]
  },
  {
   "cell_type": "code",
   "execution_count": null,
   "metadata": {},
   "outputs": [],
   "source": [
    "full = h5py.File('/home/chen/run_0128.h5', 'r')\n",
    "orig_data = h5py.File('/home/chen/clean_run_0128.h5', 'r')\n",
    "\n",
    "\n",
    "dataset_name = '/clean'\n",
    "orig = orig_data[dataset_name]\n",
    "print(\"# of events: \" + str(len(orig)))\n",
    "\n",
    "dataset_name = '/monte carlo'\n",
    "evt_full = full[dataset_name]\n",
    "print(\"# of clean events successfully processed: \" + str(len(evt_full)))"
   ]
  },
  {
   "cell_type": "code",
   "execution_count": null,
   "metadata": {},
   "outputs": [],
   "source": [
    "monte_carlo = np.empty((0,0))\n",
    "for i in range(len(orig)):\n",
    "    try:\n",
    "        monte_carlo = np.append(monte_carlo, np.array(evt_full[str(i)]))\n",
    "        full_data = np.append(full_data, np.array(evt_full[str(i)]))\n",
    "    except Exception:\n",
    "        print('Event ' + str(i) + ' failed MC fitting')\n",
    "        continue\n",
    "\n",
    "print(monte_carlo)"
   ]
  },
  {
   "cell_type": "code",
   "execution_count": null,
   "metadata": {},
   "outputs": [],
   "source": [
    "plt.hist(monte_carlo, label='Monte-Carlo', bins=10, color='blue',range=(0,120)) #blue\n",
    "plt.legend(loc=2)\n",
    "plt.title('After cut - RUN_0128')\n",
    "plt.xlabel('chi^2')\n",
    "plt.ylabel('count')\n",
    "plt.show()"
   ]
  },
  {
   "cell_type": "markdown",
   "metadata": {},
   "source": [
    "**RUN_0129**"
   ]
  },
  {
   "cell_type": "code",
   "execution_count": null,
   "metadata": {},
   "outputs": [],
   "source": [
    "full = h5py.File('/home/chen/run_0129.h5', 'r')\n",
    "orig_data = h5py.File('/home/chen/clean_run_0129.h5', 'r')\n",
    "\n",
    "\n",
    "dataset_name = '/clean'\n",
    "orig = orig_data[dataset_name]\n",
    "print(\"# of events: \" + str(len(orig)))\n",
    "\n",
    "dataset_name = '/monte carlo'\n",
    "evt_full = full[dataset_name]\n",
    "print(\"# of clean events successfully processed: \" + str(len(evt_full)))"
   ]
  },
  {
   "cell_type": "code",
   "execution_count": null,
   "metadata": {},
   "outputs": [],
   "source": [
    "monte_carlo = np.empty((0,0))\n",
    "for i in range(len(orig)):\n",
    "    try:\n",
    "        monte_carlo = np.append(monte_carlo, np.array(evt_full[str(i)]))\n",
    "        full_data = np.append(full_data, np.array(evt_full[str(i)]))\n",
    "    except Exception:\n",
    "        print('Event ' + str(i) + ' failed MC fitting')\n",
    "        continue\n",
    "\n",
    "print(monte_carlo)"
   ]
  },
  {
   "cell_type": "code",
   "execution_count": null,
   "metadata": {},
   "outputs": [],
   "source": [
    "plt.hist(monte_carlo, label='Monte-Carlo', bins=10, color='blue') #blue\n",
    "plt.legend(loc=2)\n",
    "plt.title('After cut - RUN_0129')\n",
    "plt.xlabel('chi^2')\n",
    "plt.ylabel('count')\n",
    "plt.show()"
   ]
  },
  {
   "cell_type": "markdown",
   "metadata": {},
   "source": [
    "**RUN_0133**"
   ]
  },
  {
   "cell_type": "code",
   "execution_count": null,
   "metadata": {},
   "outputs": [],
   "source": [
    "full = h5py.File('/home/chen/run_0133.h5', 'r')\n",
    "orig_data = h5py.File('/home/chen/clean_run_0133.h5', 'r')\n",
    "\n",
    "\n",
    "dataset_name = '/clean'\n",
    "orig = orig_data[dataset_name]\n",
    "print(\"# of events: \" + str(len(orig)))\n",
    "\n",
    "dataset_name = '/monte carlo'\n",
    "evt_full = full[dataset_name]\n",
    "print(\"# of clean events successfully processed: \" + str(len(evt_full)))"
   ]
  },
  {
   "cell_type": "code",
   "execution_count": null,
   "metadata": {},
   "outputs": [],
   "source": [
    "monte_carlo = np.empty((0,0))\n",
    "for i in range(len(orig)):\n",
    "    try:\n",
    "        monte_carlo = np.append(monte_carlo, np.array(evt_full[str(i)]))\n",
    "        full_data = np.append(full_data, np.array(evt_full[str(i)]))\n",
    "    except Exception:\n",
    "        print('Event ' + str(i) + ' failed MC fitting')\n",
    "        continue\n",
    "\n",
    "print(monte_carlo)"
   ]
  },
  {
   "cell_type": "code",
   "execution_count": null,
   "metadata": {},
   "outputs": [],
   "source": [
    "plt.hist(monte_carlo, label='Monte-Carlo', bins=100, color='blue') #blue\n",
    "plt.legend(loc=2)\n",
    "plt.title('After cut - RUN_0133')\n",
    "plt.xlabel('chi^2')\n",
    "plt.ylabel('count')\n",
    "plt.show()"
   ]
  },
  {
   "cell_type": "markdown",
   "metadata": {},
   "source": [
    "**RUN_0134**"
   ]
  },
  {
   "cell_type": "code",
   "execution_count": null,
   "metadata": {},
   "outputs": [],
   "source": [
    "full = h5py.File('/home/chen/run_0134.h5', 'r')\n",
    "orig_data = h5py.File('/home/chen/clean_run_0134.h5', 'r')\n",
    "\n",
    "\n",
    "dataset_name = '/clean'\n",
    "orig = orig_data[dataset_name]\n",
    "print(\"# of events: \" + str(len(orig)))\n",
    "\n",
    "dataset_name = '/monte carlo'\n",
    "evt_full = full[dataset_name]\n",
    "print(\"# of clean events successfully processed: \" + str(len(evt_full)))"
   ]
  },
  {
   "cell_type": "code",
   "execution_count": null,
   "metadata": {},
   "outputs": [],
   "source": [
    "monte_carlo = np.empty((0,0))\n",
    "for i in range(len(orig)):\n",
    "    try:\n",
    "        monte_carlo = np.append(monte_carlo, np.array(evt_full[str(i)]))\n",
    "        full_data = np.append(full_data, np.array(evt_full[str(i)]))\n",
    "    except Exception:\n",
    "        print('Event ' + str(i) + ' failed MC fitting')\n",
    "        continue\n",
    "\n",
    "print(monte_carlo)"
   ]
  },
  {
   "cell_type": "code",
   "execution_count": null,
   "metadata": {},
   "outputs": [],
   "source": [
    "plt.hist(monte_carlo, label='Monte-Carlo', bins=30, color='blue') #blue\n",
    "plt.legend(loc=2)\n",
    "plt.title('After cut - RUN_0134')\n",
    "plt.xlabel('chi^2')\n",
    "plt.ylabel('count')\n",
    "plt.show()"
   ]
  },
  {
   "cell_type": "markdown",
   "metadata": {},
   "source": [
    "**RUN_0136**"
   ]
  },
  {
   "cell_type": "code",
   "execution_count": null,
   "metadata": {},
   "outputs": [],
   "source": [
    "full = h5py.File('/home/chen/run_0136.h5', 'r')\n",
    "orig_data = h5py.File('/home/chen/clean_run_0136.h5', 'r')\n",
    "\n",
    "\n",
    "dataset_name = '/clean'\n",
    "orig = orig_data[dataset_name]\n",
    "print(\"# of events: \" + str(len(orig)))\n",
    "\n",
    "dataset_name = '/monte carlo'\n",
    "evt_full = full[dataset_name]\n",
    "print(\"# of clean events successfully processed: \" + str(len(evt_full)))"
   ]
  },
  {
   "cell_type": "code",
   "execution_count": null,
   "metadata": {},
   "outputs": [],
   "source": [
    "monte_carlo = np.empty((0,0))\n",
    "for i in range(len(orig)):\n",
    "    try:\n",
    "        monte_carlo = np.append(monte_carlo, np.array(evt_full[str(i)]))\n",
    "        full_data = np.append(full_data, np.array(evt_full[str(i)]))\n",
    "    except Exception:\n",
    "        print('Event ' + str(i) + ' failed MC fitting')\n",
    "        continue\n",
    "\n",
    "print(monte_carlo)"
   ]
  },
  {
   "cell_type": "code",
   "execution_count": null,
   "metadata": {},
   "outputs": [],
   "source": [
    "plt.hist(monte_carlo, label='Monte-Carlo', bins=30, color='blue') #blue\n",
    "plt.legend(loc=2)\n",
    "plt.title('After cut - RUN_0136')\n",
    "plt.xlabel('chi^2')\n",
    "plt.ylabel('count')\n",
    "plt.show()"
   ]
  },
  {
   "cell_type": "markdown",
   "metadata": {},
   "source": [
    "**Full Data So Far**"
   ]
  },
  {
   "cell_type": "code",
   "execution_count": null,
   "metadata": {},
   "outputs": [],
   "source": [
    "plt.hist(full_data, label='Monte-Carlo', bins=1000, color='blue') #blue\n",
    "plt.legend(loc=2)\n",
    "plt.title('Full Data So Far')\n",
    "plt.xlabel('chi^2')\n",
    "plt.ylabel('count')\n",
    "plt.show()"
   ]
  },
  {
   "cell_type": "markdown",
   "metadata": {},
   "source": [
    "**RUN_0119**"
   ]
  },
  {
   "cell_type": "code",
   "execution_count": null,
   "metadata": {},
   "outputs": [],
   "source": [
    "full = h5py.File('/home/chen/run_0119.h5', 'r')\n",
    "orig_data = h5py.File('/home/chen/clean_run_0119.h5', 'r')\n",
    "\n",
    "\n",
    "dataset_name = '/clean'\n",
    "orig = orig_data[dataset_name]\n",
    "print(\"# of events: \" + str(len(orig)))\n",
    "\n",
    "dataset_name = '/monte carlo'\n",
    "evt_full = full[dataset_name]\n",
    "print(\"# of clean events successfully processed: \" + str(len(evt_full)))"
   ]
  },
  {
   "cell_type": "code",
   "execution_count": null,
   "metadata": {},
   "outputs": [],
   "source": [
    "monte_carlo = np.empty((0,0))\n",
    "for i in range(len(orig)):\n",
    "    try:\n",
    "        monte_carlo = np.append(monte_carlo, np.array(evt_full[str(i)]))\n",
    "        full_data = np.append(full_data, np.array(evt_full[str(i)]))\n",
    "    except Exception:\n",
    "        print('Event ' + str(i) + ' failed MC fitting')\n",
    "        continue\n",
    "\n",
    "print(monte_carlo)"
   ]
  },
  {
   "cell_type": "code",
   "execution_count": null,
   "metadata": {},
   "outputs": [],
   "source": [
    "plt.hist(monte_carlo, label='Monte-Carlo', bins=200, color='blue') #blue\n",
    "plt.legend(loc=2)\n",
    "plt.title('After cut - RUN_0119')\n",
    "plt.xlabel('chi^2')\n",
    "plt.ylabel('count')\n",
    "plt.show()"
   ]
  },
  {
   "cell_type": "markdown",
   "metadata": {},
   "source": [
    "**RUN_0123**"
   ]
  },
  {
   "cell_type": "code",
   "execution_count": null,
   "metadata": {},
   "outputs": [],
   "source": [
    "full = h5py.File('/home/chen/run_0123.h5', 'r')\n",
    "orig_data = h5py.File('/home/chen/clean_run_0123.h5', 'r')\n",
    "\n",
    "\n",
    "dataset_name = '/clean'\n",
    "orig = orig_data[dataset_name]\n",
    "print(\"# of events: \" + str(len(orig)))\n",
    "\n",
    "dataset_name = '/monte carlo'\n",
    "evt_full = full[dataset_name]\n",
    "print(\"# of clean events successfully processed: \" + str(len(evt_full)))"
   ]
  },
  {
   "cell_type": "code",
   "execution_count": null,
   "metadata": {},
   "outputs": [],
   "source": [
    "monte_carlo = np.empty((0,0))\n",
    "for i in range(len(orig)):\n",
    "    try:\n",
    "        monte_carlo = np.append(monte_carlo, np.array(evt_full[str(i)]))\n",
    "        full_data = np.append(full_data, np.array(evt_full[str(i)]))\n",
    "    except Exception:\n",
    "        print('Event ' + str(i) + ' failed MC fitting')\n",
    "        continue\n",
    "\n",
    "print(monte_carlo)"
   ]
  },
  {
   "cell_type": "code",
   "execution_count": null,
   "metadata": {},
   "outputs": [],
   "source": [
    "plt.hist(monte_carlo, label='Monte-Carlo', bins=200, color='blue') #blue\n",
    "plt.legend(loc=2)\n",
    "plt.title('After cut - RUN_0123')\n",
    "plt.xlabel('chi^2')\n",
    "plt.ylabel('count')\n",
    "plt.show()"
   ]
  },
  {
   "cell_type": "markdown",
   "metadata": {},
   "source": [
    "**RUN_0112**"
   ]
  },
  {
   "cell_type": "code",
   "execution_count": null,
   "metadata": {},
   "outputs": [],
   "source": [
    "full = h5py.File('/home/chen/run_0112.h5', 'r')\n",
    "orig_data = h5py.File('/home/chen/clean_run_0112.h5', 'r')\n",
    "\n",
    "\n",
    "dataset_name = '/clean'\n",
    "orig = orig_data[dataset_name]\n",
    "print(\"# of events: \" + str(len(orig)))\n",
    "\n",
    "dataset_name = '/monte carlo'\n",
    "evt_full = full[dataset_name]\n",
    "print(\"# of clean events successfully processed: \" + str(len(evt_full)))"
   ]
  },
  {
   "cell_type": "code",
   "execution_count": null,
   "metadata": {},
   "outputs": [],
   "source": [
    "monte_carlo = np.empty((0,0))\n",
    "for i in range(len(orig)):\n",
    "    try:\n",
    "        monte_carlo = np.append(monte_carlo, np.array(evt_full[str(i)]))\n",
    "        full_data = np.append(full_data, np.array(evt_full[str(i)]))\n",
    "    except Exception:\n",
    "        print('Event ' + str(i) + ' failed MC fitting')\n",
    "        continue\n",
    "\n",
    "print(monte_carlo)"
   ]
  },
  {
   "cell_type": "code",
   "execution_count": null,
   "metadata": {},
   "outputs": [],
   "source": [
    "plt.hist(monte_carlo, label='Monte-Carlo', bins=200, color='blue') #blue\n",
    "plt.legend(loc=2)\n",
    "plt.title('After cut - RUN_0123')\n",
    "plt.xlabel('chi^2')\n",
    "plt.ylabel('count')\n",
    "plt.show()"
   ]
  },
  {
   "cell_type": "markdown",
   "metadata": {},
   "source": [
    "**RUN_0115**"
   ]
  },
  {
   "cell_type": "code",
   "execution_count": null,
   "metadata": {},
   "outputs": [],
   "source": [
    "full = h5py.File('/home/chen/run_0115.h5', 'r')\n",
    "orig_data = h5py.File('/home/chen/clean_run_0115.h5', 'r')\n",
    "\n",
    "\n",
    "dataset_name = '/clean'\n",
    "orig = orig_data[dataset_name]\n",
    "print(\"# of events: \" + str(len(orig)))\n",
    "\n",
    "dataset_name = '/monte carlo'\n",
    "evt_full = full[dataset_name]\n",
    "print(\"# of clean events successfully processed: \" + str(len(evt_full)))"
   ]
  },
  {
   "cell_type": "code",
   "execution_count": null,
   "metadata": {},
   "outputs": [],
   "source": [
    "monte_carlo = np.empty((0,0))\n",
    "for i in range(len(orig)):\n",
    "    try:\n",
    "        monte_carlo = np.append(monte_carlo, np.array(evt_full[str(i)]))\n",
    "        full_data = np.append(full_data, np.array(evt_full[str(i)]))\n",
    "    except Exception:\n",
    "        print('Event ' + str(i) + ' failed MC fitting')\n",
    "        continue\n",
    "\n",
    "print(monte_carlo)"
   ]
  },
  {
   "cell_type": "code",
   "execution_count": null,
   "metadata": {},
   "outputs": [],
   "source": [
    "plt.hist(monte_carlo, label='Monte-Carlo', bins=200, color='blue') #blue\n",
    "plt.legend(loc=2)\n",
    "plt.title('After cut - RUN_0123')\n",
    "plt.xlabel('chi^2')\n",
    "plt.ylabel('count')\n",
    "plt.show()"
   ]
  },
  {
   "cell_type": "code",
   "execution_count": null,
   "metadata": {},
   "outputs": [],
   "source": []
  }
 ],
 "metadata": {
  "kernelspec": {
   "display_name": "Python 3",
   "language": "python",
   "name": "python3"
  },
  "language_info": {
   "codemirror_mode": {
    "name": "ipython",
    "version": 3
   },
   "file_extension": ".py",
   "mimetype": "text/x-python",
   "name": "python",
   "nbconvert_exporter": "python",
   "pygments_lexer": "ipython3",
   "version": "3.6.5"
  }
 },
 "nbformat": 4,
 "nbformat_minor": 2
}
