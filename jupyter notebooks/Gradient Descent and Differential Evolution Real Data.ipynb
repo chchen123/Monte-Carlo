{
 "cells": [
  {
   "cell_type": "code",
   "execution_count": null,
   "metadata": {},
   "outputs": [],
   "source": [
    "'''\n",
    "This script fits designated single proton events using Differential Evolution and Basin Hopping method.\n",
    "'''"
   ]
  },
  {
   "cell_type": "code",
   "execution_count": null,
   "metadata": {},
   "outputs": [],
   "source": [
    "import numpy as np\n",
    "import pytpc\n",
    "from pytpc.fitting.mcopt_wrapper import Minimizer\n",
    "from pytpc.constants import *\n",
    "import pytpc.simulation\n",
    "import pandas as pd\n",
    "import matplotlib.pyplot as plt\n",
    "import h5py\n",
    "from scipy.interpolate import UnivariateSpline, interp1d\n",
    "from mpl_toolkits.mplot3d import Axes3D\n",
    "import yaml\n",
    "import scipy\n",
    "from pytpc.utilities import find_exclusion_region, read_lookup_table\n",
    "import math\n",
    "from effsim.paramgen import uniform_param_generator\n",
    "from effsim.effsim import EventSimulator\n",
    "from math import pi\n",
    "\n",
    "import timeit"
   ]
  },
  {
   "cell_type": "code",
   "execution_count": null,
   "metadata": {},
   "outputs": [],
   "source": [
    "with open('/home/chen/ar40/config/config_e15503a_runs_92-104.yml', 'r') as f:\n",
    "    config = yaml.load(f)\n",
    "\n",
    "mcfitter = pytpc.fitting.MCFitter(config)\n",
    "num_iters = config['num_iters']\n",
    "num_pts = config['num_pts']\n",
    "red_factor = config['red_factor']\n",
    "\n",
    "DETECTOR_LENGTH = 1250.0\n",
    "DRIFT_VEL = 5.2\n",
    "CLOCK = 12.5 "
   ]
  },
  {
   "cell_type": "code",
   "execution_count": null,
   "metadata": {},
   "outputs": [],
   "source": [
    "#Good events for run_0102 are: 689, 765, 896, 305, 504, 575, 456, 299, 399, 156, 231, 7832, 1568, 1354, 789, 485, 2456, 357, 4568, 1448, 6587, 3578, 745, 430\n",
    "full = h5py.File('/home/chen/ar40/config/clean_run_0102.h5', 'r')\n",
    "evt_ID = 504\n",
    "\n",
    "dataset_name = '/clean'\n",
    "evt_full = full[dataset_name]\n",
    "xyzs_h5 = evt_full[str(evt_ID)]\n",
    "\n",
    "xyzs = np.array(xyzs_h5)\n",
    "\n",
    "#delete the points which are farther away from the center of the spiral\n",
    "del_list = []\n",
    "\n",
    "for i in range(len(xyzs)):\n",
    "    if (xyzs[i,6]) > 150.0:\n",
    "        del_list.append(i)\n",
    "    elif (xyzs[i][2])*CLOCK/DRIFT_VEL > 500.0:\n",
    "        del_list.append(i)\n",
    "    elif (xyzs[i][5] < 2.0): \n",
    "        del_list.append(i)\n",
    "cut_xyzs = np.delete(xyzs,del_list,axis=0)\n"
   ]
  },
  {
   "cell_type": "code",
   "execution_count": null,
   "metadata": {},
   "outputs": [],
   "source": [
    "xy = xyzs[:, 0:2]\n",
    "xy_C = np.ascontiguousarray(xy, dtype=np.double)\n",
    "cx, cy = pytpc.cleaning.hough_circle(xy_C)\n",
    "\n",
    "cut_xy = cut_xyzs[:, 0:2]\n",
    "cut_xy_C = np.ascontiguousarray(cut_xy, dtype=np.double)\n",
    "cut_cx, cut_cy = pytpc.cleaning.hough_circle(cut_xy_C)"
   ]
  },
  {
   "cell_type": "code",
   "execution_count": null,
   "metadata": {
    "scrolled": false
   },
   "outputs": [],
   "source": [
    "#plotting real tracks, original and cleaned\n",
    "%matplotlib inline\n",
    "plt.plot(xyzs[:, 2], xyzs[:, 1], 'r.')\n",
    "plt.plot(cut_xyzs[:, 2], cut_xyzs[:, 1], 'b.')\n",
    "plt.show()\n",
    "plt.plot(xyzs[:, 0], xyzs[:, 1], 'r.')\n",
    "plt.plot(cut_xyzs[:, 0], cut_xyzs[:, 1], 'b.')\n",
    "plt.show()\n",
    "\n",
    "fig = plt.figure(figsize=(20, 14))\n",
    "\n",
    "ax = fig.add_subplot(2, 3, 1, projection='3d')\n",
    "ax.scatter(xyzs[:,2],xyzs[:,1],xyzs[:,0])\n",
    "ax2 = fig.add_subplot(2, 3, 2, projection='3d')\n",
    "ax2.scatter(cut_xyzs[:,2],cut_xyzs[:,1],cut_xyzs[:,0])"
   ]
  },
  {
   "cell_type": "code",
   "execution_count": null,
   "metadata": {},
   "outputs": [],
   "source": [
    "%matplotlib notebook\n",
    "\n",
    "fig = plt.figure(figsize=(20, 14))\n",
    "ax = fig.add_subplot(2, 3, 1, projection='3d') #2,3,1 meaning the plot will take the 1st position on a grid with 2 rows and three columns\n",
    "ax.scatter(xyzs[:,2],xyzs[:,1],xyzs[:,0], c='r', label='original data')\n",
    "ax.scatter(cut_xyzs[:,2],cut_xyzs[:,1],cut_xyzs[:,0], c='b', label='after cut')\n"
   ]
  },
  {
   "cell_type": "code",
   "execution_count": null,
   "metadata": {},
   "outputs": [],
   "source": [
    "uvw, (cu, cv) = mcfitter.preprocess(xyzs[:,0:5], center=(cx, cy), rotate_pads=False)\n",
    "uvw_values = uvw.values\n",
    "\n",
    "cut_uvw, (cut_cu, cut_cv) = mcfitter.preprocess(cut_xyzs[:,0:5], center=(cut_cx, cut_cy), rotate_pads=False) # get calibrated set of data\n",
    "cut_uvw_values = cut_uvw.values\n",
    "\n",
    "#plotting original and cleaned data in the uvw (corrected) coordinates\n",
    "\n",
    "%matplotlib inline\n",
    "plt.plot(uvw_values[:, 2], uvw_values[:, 1], 'r.', label='Original Data')\n",
    "plt.plot(cut_uvw_values[:, 2], cut_uvw_values[:, 1], 'b.', label='Cleaned Data')\n",
    "plt.legend(loc=2)\n",
    "plt.xlabel('w (mm)')\n",
    "plt.ylabel(\"u (mm)\")\n",
    "plt.title(\"Proton Track for Event 504\")\n",
    "plt.show()\n",
    "plt.plot(uvw_values[:, 0], uvw_values[:, 1], 'r.', label='Original Data')\n",
    "plt.plot(cut_uvw_values[:, 0], cut_uvw_values[:, 1], 'b.', label='Cleaned Data')\n",
    "plt.xlabel(\"u (mm)\")\n",
    "plt.ylabel(\"v (mm)\")\n",
    "plt.legend(loc=2)\n",
    "plt.show()\n",
    "\n",
    "fig = plt.figure(figsize=(20, 14))\n",
    "\n",
    "ax = fig.add_subplot(2, 3, 1, projection='3d')\n",
    "ax.scatter(xyzs[:,2],xyzs[:,1],xyzs[:,0])\n",
    "ax2 = fig.add_subplot(2, 3, 2, projection='3d')\n",
    "ax2.scatter(cut_xyzs[:,2],cut_xyzs[:,1],cut_xyzs[:,0])"
   ]
  },
  {
   "cell_type": "code",
   "execution_count": null,
   "metadata": {},
   "outputs": [],
   "source": [
    "#experimental positions for original and cleaned data (in m)\n",
    "\n",
    "uvw_sorted = uvw.sort_values(by='w', ascending=True)\n",
    "prefit_data = uvw_sorted.iloc[-len(uvw_sorted) // 4:].copy()\n",
    "prefit_res = mcfitter.linear_prefit(prefit_data, cu, cv)\n",
    "ctr0 = mcfitter.guess_parameters(prefit_res)\n",
    "exp_pos = uvw_sorted[['u', 'v', 'w']].values.copy() / 1000\n",
    "print(ctr0)\n",
    "\n",
    "cut_uvw_sorted = cut_uvw.sort_values(by='w', ascending=True)\n",
    "cut_prefit_data = cut_uvw_sorted.iloc[-len(cut_uvw_sorted) // 4:].copy()\n",
    "cut_prefit_res = mcfitter.linear_prefit(cut_prefit_data, cut_cu, cut_cv)\n",
    "cut_ctr0 = mcfitter.guess_parameters(cut_prefit_res)\n",
    "cut_exp_pos = cut_uvw_sorted[['u', 'v', 'w']].values.copy() / 1000"
   ]
  },
  {
   "cell_type": "code",
   "execution_count": null,
   "metadata": {},
   "outputs": [],
   "source": [
    "#experimental energy/hit patterns\n",
    "\n",
    "exp_hits = np.zeros(10240)\n",
    "for a, p in uvw[['a', 'pad']].values:\n",
    "    exp_hits[int(p)] = a\n",
    "    \n",
    "cut_exp_hits = np.zeros(10240)\n",
    "for a, p in cut_uvw[['a', 'pad']].values:\n",
    "    cut_exp_hits[int(p)] = a"
   ]
  },
  {
   "cell_type": "code",
   "execution_count": null,
   "metadata": {
    "scrolled": true
   },
   "outputs": [],
   "source": [
    "minimizer = Minimizer(mcfitter.tracker, mcfitter.evtgen, num_iters, num_pts, red_factor)"
   ]
  },
  {
   "cell_type": "code",
   "execution_count": null,
   "metadata": {
    "scrolled": true
   },
   "outputs": [],
   "source": [
    "#define objective function\n",
    "def f(y,print_vals=False):\n",
    "    ctr = np.zeros([1,6])\n",
    "    ctr[0] = y\n",
    "    chi_result = minimizer.run_tracks(ctr, exp_pos, exp_hits)\n",
    "    return (chi_result[0][0]+chi_result[0][1]+chi_result[0][2])\n",
    "eps = np.sqrt(np.finfo(np.float).eps)\n",
    "def jacobian(x):\n",
    "    return scipy.optimize.approx_fprime(x,f,eps)\n"
   ]
  },
  {
   "cell_type": "code",
   "execution_count": null,
   "metadata": {},
   "outputs": [],
   "source": [
    "def cut_f(y):\n",
    "    ctr = np.zeros([1,6])\n",
    "    ctr[0] = y\n",
    "    chi_result = minimizer.run_tracks(ctr, cut_exp_pos, cut_exp_hits)\n",
    "    return (chi_result[0][0]+chi_result[0][1]+chi_result[0][2])\n",
    "eps = np.sqrt(np.finfo(np.float).eps)\n",
    "def cut_jacobian(x):\n",
    "    return scipy.optimize.approx_fprime(x,cut_f,eps)"
   ]
  },
  {
   "cell_type": "markdown",
   "metadata": {},
   "source": [
    "Differential Evolution"
   ]
  },
  {
   "cell_type": "code",
   "execution_count": null,
   "metadata": {
    "scrolled": true
   },
   "outputs": [],
   "source": [
    "#define callback function\n",
    "i = 1\n",
    "def callbackF(x, convergence=10):\n",
    "    global i\n",
    "    print('{0:4d}{1: 3.6f}{2: 3.6f}{3: 3.6f}{4: 3.6f}{5: 3.6f}{6: 3.6f}{7: 3.6f}'.format(i,x[0],x[1],x[2],x[3],x[4],x[5],f(x)))\n",
    "    i += 1\n",
    "bounds = [(-1,1), (-1, 1), (0, 1), (0,5), (-2 * pi, 2 * pi), (-2 * pi, 2 * pi)]"
   ]
  },
  {
   "cell_type": "code",
   "execution_count": null,
   "metadata": {
    "scrolled": true
   },
   "outputs": [],
   "source": [
    "#differential evolution - fitting original (before cleaning) data\n",
    "%%time\n",
    "results = scipy.optimize.differential_evolution(f, bounds, callback=callbackF, maxiter=1000, strategy='best1bin',\\\n",
    "                                                recombination=0.9, popsize=15, mutation=(0.5,1.0))\n",
    "'''    The differential evolution strategy should be one of:\n",
    "            ‘best1bin’ - shorter time but usually needs to run multiple times to get the best result\n",
    "            ‘best1exp’- shorter time but usually needs to run multiple times to get the best result\n",
    "            ‘rand1exp’ - takes a long time but converges\n",
    "            ‘randtobest1exp’ - takes a long time but converges\n",
    "            ‘currenttobest1exp’ - takes a long time but converges\n",
    "            ‘best2exp’\n",
    "            ‘rand2exp’\n",
    "            ‘randtobest1bin’\n",
    "            ‘currenttobest1bin’\n",
    "            ‘best2bin’\n",
    "            ‘rand2bin’\n",
    "            ‘rand1bin’\n",
    "    The default is ‘best1bin’.\n",
    "'''"
   ]
  },
  {
   "cell_type": "code",
   "execution_count": null,
   "metadata": {},
   "outputs": [],
   "source": [
    "results.fun #30.26455552871073 "
   ]
  },
  {
   "cell_type": "code",
   "execution_count": null,
   "metadata": {},
   "outputs": [],
   "source": [
    "dfe = results.x\n",
    "print(dfe)"
   ]
  },
  {
   "cell_type": "code",
   "execution_count": null,
   "metadata": {},
   "outputs": [],
   "source": [
    "#simulate an event using fitting results\n",
    "sim = EventSimulator(config)\n",
    "evtClean, ctr = sim.make_event(dfe[0], dfe[1], dfe[2], dfe[3], dfe[4], dfe[5])\n",
    "pyevtClean = sim.convert_event(evtClean)\n",
    "sim_xyzs = pyevtClean.xyzs(peaks_only=True, return_pads=True, baseline_correction=True, cg_times=True)"
   ]
  },
  {
   "cell_type": "code",
   "execution_count": null,
   "metadata": {},
   "outputs": [],
   "source": [
    "sim_xy = sim_xyzs[:, 0:2]\n",
    "sim_xy_C = np.ascontiguousarray(sim_xy, dtype=np.double)\n",
    "sim_cx, sim_cy = pytpc.cleaning.hough_circle(sim_xy_C)\n",
    "sim_uvw, (sim_cu, sim_cv) = mcfitter.preprocess(sim_xyzs[:, 0:5], center=(sim_cx, sim_cy), rotate_pads=True)\n",
    "sim_uvw_values = sim_uvw.values"
   ]
  },
  {
   "cell_type": "code",
   "execution_count": null,
   "metadata": {},
   "outputs": [],
   "source": [
    "#plotting real and simulated data\n",
    "%matplotlib inline\n",
    "plt.plot(uvw_values[:, 7], uvw_values[:, 5], 'r.')\n",
    "plt.plot(sim_uvw_values[:, 7], sim_uvw_values[:, 5], 'b.')\n",
    "plt.show()\n",
    "plt.plot(uvw_values[:, 7], uvw_values[:, 6], 'r.')\n",
    "plt.plot(sim_uvw_values[:, 7], sim_uvw_values[:, 6], 'b.')\n",
    "plt.show()\n",
    "plt.plot(uvw_values[:, 5], uvw_values[:, 6], 'r.')\n",
    "plt.plot(sim_uvw_values[:, 5], sim_uvw_values[:, 6], 'b.')\n",
    "plt.show()\n",
    "\n",
    "\n",
    "fig = plt.figure(figsize=(20, 14))\n",
    "\n",
    "ax = fig.add_subplot(2, 3, 1, projection='3d') #2,3,1 meaning the plot will take the 1st position on a grid with 2 rows and three columns\n",
    "ax.scatter(uvw_values[:,5],uvw_values[:,6],uvw_values[:,7])\n",
    "\n",
    "ax2 = fig.add_subplot(2, 3, 2, projection='3d')\n",
    "ax2.scatter(sim_uvw_values[:,5],sim_uvw_values[:,6],sim_uvw_values[:,7])"
   ]
  },
  {
   "cell_type": "code",
   "execution_count": null,
   "metadata": {},
   "outputs": [],
   "source": [
    "%matplotlib notebook\n",
    "\n",
    "fig = plt.figure(figsize=(20, 14))\n",
    "ax = fig.add_subplot(2, 3, 1, projection='3d')\n",
    "ax.scatter(uvw_values[:,7],uvw_values[:,6],uvw_values[:,5],c='r',label='Original Data')\n",
    "ax.scatter(cut_uvw_values[:,7],cut_uvw_values[:,6],cut_uvw_values[:,5],c='b', label='Cleaned Data')\n",
    "ax.legend()\n",
    "ax.set_xlabel('w (mm)')\n",
    "ax.set_ylabel(\"v (mm)\")\n",
    "ax.set_zlabel(\"u (mm)\")\n",
    "#ax.set_title(\"Proton Track for Event 504\")"
   ]
  },
  {
   "cell_type": "code",
   "execution_count": null,
   "metadata": {
    "scrolled": true
   },
   "outputs": [],
   "source": [
    "\n",
    "i = 1\n",
    "def cut_callbackF(x, convergence=10):\n",
    "    global i\n",
    "    print('{0:4d}{1: 3.6f}{2: 3.6f}{3: 3.6f}{4: 3.6f}{5: 3.6f}{6: 3.6f}{7: 3.6f}'.format(i,x[0],x[1],x[2],x[3],x[4],x[5],cut_f(x)))\n",
    "    i += 1\n",
    "bounds = [(-1,1), (-1, 1), (0, 1), (0,5), (-2 * pi, 2 * pi), (-2 * pi, 2 * pi)]\n"
   ]
  },
  {
   "cell_type": "code",
   "execution_count": null,
   "metadata": {
    "scrolled": true
   },
   "outputs": [],
   "source": [
    "#differential evolution - fitting cleaned data\n",
    "%%time\n",
    "results = scipy.optimize.differential_evolution(cut_f, bounds, callback=cut_callbackF, maxiter=1000, strategy='rand1bin',\\\n",
    "                                                 recombination=0.9, popsize=10, mutation=0.8)\n",
    "'''    The differential evolution strategy should be one of:\n",
    "            ‘best1bin’ - shorter time but usually needs to run multiple times to get the best result\n",
    "            ‘best1exp’- shorter time but usually needs to run multiple times to get the best result\n",
    "            ‘rand1exp’ - takes a long time but converges\n",
    "            ‘randtobest1exp’ - takes a long time but converges\n",
    "            ‘currenttobest1exp’ - takes a long time but converges\n",
    "            ‘best2exp’\n",
    "            ‘rand2exp’\n",
    "            ‘randtobest1bin’\n",
    "            ‘currenttobest1bin’\n",
    "            ‘best2bin’\n",
    "            ‘rand2bin’\n",
    "            ‘rand1bin’\n",
    "    The default is ‘best1bin’.\n",
    "'''"
   ]
  },
  {
   "cell_type": "code",
   "execution_count": null,
   "metadata": {},
   "outputs": [],
   "source": [
    "cut_dfe = results.x"
   ]
  },
  {
   "cell_type": "code",
   "execution_count": null,
   "metadata": {},
   "outputs": [],
   "source": [
    "cut_evtClean, cut_ctr = sim.make_event(cut_dfe[0], cut_dfe[1], cut_dfe[2], cut_dfe[3], cut_dfe[4], cut_dfe[5])\n",
    "cut_pyevtClean = sim.convert_event(cut_evtClean)\n",
    "cut_sim_xyzs = cut_pyevtClean.xyzs(peaks_only=True, return_pads=True, baseline_correction=True, cg_times=True)"
   ]
  },
  {
   "cell_type": "code",
   "execution_count": null,
   "metadata": {},
   "outputs": [],
   "source": [
    "cut_sim_xy = cut_sim_xyzs[:, 0:2]\n",
    "cut_sim_xy_C = np.ascontiguousarray(cut_sim_xy, dtype=np.double)\n",
    "cut_sim_cx, cut_sim_cy = pytpc.cleaning.hough_circle(cut_sim_xy_C)\n",
    "cut_sim_uvw, (cut_sim_cu, cut_sim_cv) = mcfitter.preprocess(cut_sim_xyzs[:, 0:5], center=(cut_sim_cx, cut_sim_cy), rotate_pads=True)\n",
    "cut_sim_uvw_values = cut_sim_uvw.values"
   ]
  },
  {
   "cell_type": "code",
   "execution_count": null,
   "metadata": {},
   "outputs": [],
   "source": [
    "#plotting real event, simulated event (with and without cleaning)\n",
    "%matplotlib inline\n",
    "plt.plot(uvw_values[:, 7], uvw_values[:, 5], 'r.', label='Original Data')\n",
    "plt.plot(sim_uvw_values[:, 7], sim_uvw_values[:, 5], 'b.', label='Track Fitting for Original Data')\n",
    "plt.plot(cut_sim_uvw_values[:, 7], cut_sim_uvw_values[:, 5], 'g.', label=\"Track Fitting for Cleaned Data\")\n",
    "plt.xlabel(\"w (mm)\")\n",
    "plt.ylabel(\"u (mm)\")\n",
    "plt.title(\"Differential Evolution Fitting for Proton Event 504\")\n",
    "plt.legend(loc=2)\n",
    "plt.show()\n",
    "plt.plot(uvw_values[:, 7], uvw_values[:, 6], 'r.', label='Original Data')\n",
    "plt.plot(sim_uvw_values[:, 7], sim_uvw_values[:, 6], 'b.', label='Track Fitting for Original Data')\n",
    "plt.plot(cut_sim_uvw_values[:, 7], cut_sim_uvw_values[:, 6], 'g.', label=\"Track Fitting for Cleaned Data\")\n",
    "plt.xlabel(\"w (mm)\")\n",
    "plt.ylabel(\"v (mm)\")\n",
    "plt.legend(loc=2)\n",
    "plt.show()\n",
    "plt.plot(uvw_values[:, 5], uvw_values[:, 6], 'r.', label='Original Data')\n",
    "plt.plot(sim_uvw_values[:, 5], sim_uvw_values[:, 6], 'b.', label='Track Fitting for Original Data')\n",
    "plt.plot(cut_sim_uvw_values[:, 5], cut_sim_uvw_values[:, 6], 'g.', label=\"Track Fitting for Cleaned Data\")\n",
    "plt.xlabel(\"u (mm)\")\n",
    "plt.ylabel(\"v (mm)\")\n",
    "plt.legend(loc=2)\n",
    "plt.show()\n",
    "\n",
    "\n",
    "fig = plt.figure(figsize=(20, 14))\n",
    "\n",
    "ax = fig.add_subplot(2, 3, 1, projection='3d') #2,3,1 meaning the plot will take the 1st position on a grid with 2 rows and three columns\n",
    "ax.scatter(uvw_values[:,7],uvw_values[:,6],uvw_values[:,5])\n",
    "\n",
    "ax2 = fig.add_subplot(2, 3, 2, projection='3d')\n",
    "ax2.scatter(sim_uvw_values[:,7],sim_uvw_values[:,6],sim_uvw_values[:,5])\n",
    "\n",
    "ax3 = fig.add_subplot(2, 3, 3, projection='3d')\n",
    "ax3.scatter(cut_sim_uvw_values[:,7],cut_sim_uvw_values[:,6],cut_sim_uvw_values[:,5])\n",
    "\n"
   ]
  },
  {
   "cell_type": "code",
   "execution_count": null,
   "metadata": {
    "scrolled": false
   },
   "outputs": [],
   "source": [
    "%matplotlib notebook\n",
    "\n",
    "fig = plt.figure(figsize=(20, 14))\n",
    "ax = fig.add_subplot(2, 3, 1, projection='3d')\n",
    "ax.scatter(uvw_values[:,7],uvw_values[:,6],uvw_values[:,5],c='r')\n",
    "ax.scatter(sim_uvw_values[:,7],sim_uvw_values[:,6],sim_uvw_values[:,5],c='b')\n",
    "ax.scatter(cut_sim_uvw_values[:,7],cut_sim_uvw_values[:,6],cut_sim_uvw_values[:,5],c='g')"
   ]
  },
  {
   "cell_type": "code",
   "execution_count": null,
   "metadata": {},
   "outputs": [],
   "source": [
    "i = 1\n",
    "def callbackF(x, f, accept):\n",
    "    global i\n",
    "    print('{0:4d}{1: 3.6f}{2: 3.6f}{3: 3.6f}{4: 3.6f}{5: 3.6f}{6: 3.6f}{7: 3.6f}'.format(i,x[0],x[1],x[2],x[3],x[4],x[5],f))\n",
    "    i += 1"
   ]
  },
  {
   "cell_type": "code",
   "execution_count": null,
   "metadata": {},
   "outputs": [],
   "source": [
    "#basinhopping - without cleaning\n",
    "%%time\n",
    "bh_nm_results = scipy.optimize.basinhopping(f,ctr0, callback=callbackF, niter=20, T=0.01, stepsize=0.02, minimizer_kwargs={\"method\": \"SLSQP\"})"
   ]
  },
  {
   "cell_type": "code",
   "execution_count": null,
   "metadata": {},
   "outputs": [],
   "source": [
    "j = 1\n",
    "def cut_callbackF(x, f, accept):\n",
    "    global j\n",
    "    print('{0:4d}{1: 3.6f}{2: 3.6f}{3: 3.6f}{4: 3.6f}{5: 3.6f}{6: 3.6f}{7: 3.6f}'.format(j,x[0],x[1],x[2],x[3],x[4],x[5],f))\n",
    "    j += 1"
   ]
  },
  {
   "cell_type": "code",
   "execution_count": null,
   "metadata": {},
   "outputs": [],
   "source": [
    "#basinhopping - without cleaning\n",
    "%%time\n",
    "cut_bh_nm_results = scipy.optimize.basinhopping(cut_f,cut_ctr0, callback=cut_callbackF, niter=20, T=0.01, stepsize=0.01, minimizer_kwargs={\"method\": \"Nelder-Mead\"})"
   ]
  },
  {
   "cell_type": "code",
   "execution_count": null,
   "metadata": {},
   "outputs": [],
   "source": [
    "bh_nm = bh_nm_results.x\n",
    "cut_bh_nm = cut_bh_nm_results.x\n",
    "print(bh_nm_results)\n",
    "print(cut_bh_nm_results)"
   ]
  },
  {
   "cell_type": "code",
   "execution_count": null,
   "metadata": {},
   "outputs": [],
   "source": [
    "sim = EventSimulator(config)\n",
    "evtClean, ctr = sim.make_event(bh_nm[0], bh_nm[1], bh_nm[2], bh_nm[3], bh_nm[4], bh_nm[5])\n",
    "pyevtClean = sim.convert_event(evtClean)\n",
    "sim_xyzs = pyevtClean.xyzs(peaks_only=True, return_pads=True, baseline_correction=True, cg_times=True)\n",
    "sim_xy = sim_xyzs[:, 0:2]\n",
    "sim_xy_C = np.ascontiguousarray(sim_xy, dtype=np.double)\n",
    "sim_cx, sim_cy = pytpc.cleaning.hough_circle(sim_xy_C)\n",
    "sim_uvw, (sim_cu, sim_cv) = mcfitter.preprocess(sim_xyzs[:, 0:5], center=(sim_cx, sim_cy), rotate_pads=True)\n",
    "sim_uvw_values = sim_uvw.values\n",
    "cut_evtClean, cut_ctr = sim.make_event(cut_bh_nm[0], cut_bh_nm[1], cut_bh_nm[2], cut_bh_nm[3], cut_bh_nm[4], cut_bh_nm[5])\n",
    "cut_pyevtClean = sim.convert_event(cut_evtClean)\n",
    "cut_sim_xyzs = cut_pyevtClean.xyzs(peaks_only=True, return_pads=True, baseline_correction=True, cg_times=True)\n",
    "cut_sim_xy = cut_sim_xyzs[:, 0:2]\n",
    "cut_sim_xy_C = np.ascontiguousarray(cut_sim_xy, dtype=np.double)\n",
    "cut_sim_cx, cut_sim_cy = pytpc.cleaning.hough_circle(cut_sim_xy_C)\n",
    "cut_sim_uvw, (cut_sim_cu, cut_sim_cv) = mcfitter.preprocess(cut_sim_xyzs[:, 0:5], center=(cut_sim_cx, cut_sim_cy), rotate_pads=True)\n",
    "cut_sim_uvw_values = cut_sim_uvw.values"
   ]
  },
  {
   "cell_type": "code",
   "execution_count": null,
   "metadata": {},
   "outputs": [],
   "source": [
    "#fitting results for basinhopping: real tracks and simulated (with and without cleaning) tracks\n",
    "%matplotlib inline\n",
    "plt.plot(uvw_values[:, 7], uvw_values[:, 5], 'r.', label='Original Data')\n",
    "plt.plot(sim_uvw_values[:, 7], sim_uvw_values[:, 5], 'b.', label='Track Fitting for Original Data')\n",
    "plt.plot(cut_sim_uvw_values[:, 7], cut_sim_uvw_values[:, 5], 'g.', label=\"Track Fitting for Cleaned Data\")\n",
    "plt.xlabel(\"w (mm)\")\n",
    "plt.ylabel(\"u (mm)\")\n",
    "plt.title(\"Basin Hopping Fitting for Proton Event 504\")\n",
    "plt.legend(loc=2)\n",
    "plt.show()\n",
    "plt.plot(uvw_values[:, 7], uvw_values[:, 6], 'r.', label='Original Data')\n",
    "plt.plot(sim_uvw_values[:, 7], sim_uvw_values[:, 6], 'b.', label='Track Fitting for Original Data')\n",
    "plt.plot(cut_sim_uvw_values[:, 7], cut_sim_uvw_values[:, 6], 'g.', label=\"Track Fitting for Cleaned Data\")\n",
    "plt.xlabel(\"w (mm)\")\n",
    "plt.ylabel(\"v (mm)\")\n",
    "plt.legend(loc=2)\n",
    "plt.show()\n",
    "plt.plot(uvw_values[:, 5], uvw_values[:, 6], 'r.', label='Original Data')\n",
    "plt.plot(sim_uvw_values[:, 5], sim_uvw_values[:, 6], 'b.', label='Track Fitting for Original Data')\n",
    "plt.plot(cut_sim_uvw_values[:, 5], cut_sim_uvw_values[:, 6], 'g.', label=\"Track Fitting for Cleaned Data\")\n",
    "plt.xlabel(\"u (mm)\")\n",
    "plt.ylabel(\"v (mm)\")\n",
    "plt.legend(loc=2)\n",
    "plt.show()\n",
    "\n",
    "\n",
    "fig = plt.figure(figsize=(20, 14))\n",
    "\n",
    "ax = fig.add_subplot(2, 3, 1, projection='3d') #2,3,1 meaning the plot will take the 1st position on a grid with 2 rows and three columns\n",
    "ax.scatter(uvw_values[:,7],uvw_values[:,6],uvw_values[:,5])\n",
    "\n",
    "ax2 = fig.add_subplot(2, 3, 2, projection='3d')\n",
    "ax2.scatter(sim_uvw_values[:,7],sim_uvw_values[:,6],sim_uvw_values[:,5])\n",
    "\n",
    "ax3 = fig.add_subplot(2, 3, 3, projection='3d')\n",
    "ax3.scatter(cut_sim_uvw_values[:,7],cut_sim_uvw_values[:,6],cut_sim_uvw_values[:,5])"
   ]
  },
  {
   "cell_type": "code",
   "execution_count": null,
   "metadata": {},
   "outputs": [],
   "source": []
  },
  {
   "cell_type": "code",
   "execution_count": null,
   "metadata": {},
   "outputs": [],
   "source": []
  }
 ],
 "metadata": {
  "kernelspec": {
   "display_name": "Python 3",
   "language": "python",
   "name": "python3"
  },
  "language_info": {
   "codemirror_mode": {
    "name": "ipython",
    "version": 3
   },
   "file_extension": ".py",
   "mimetype": "text/x-python",
   "name": "python",
   "nbconvert_exporter": "python",
   "pygments_lexer": "ipython3",
   "version": "3.6.5"
  }
 },
 "nbformat": 4,
 "nbformat_minor": 2
}
