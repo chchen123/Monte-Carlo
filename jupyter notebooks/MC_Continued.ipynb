{
 "cells": [
  {
   "cell_type": "code",
   "execution_count": null,
   "metadata": {},
   "outputs": [],
   "source": [
    "sigmaPos = 5 ### in mm unit\n",
    "chi2Pos_x = 0\n",
    "excluded_pt = 0\n",
    "for i in range(len(xyzs)):\n",
    "    try:\n",
    "        if is_Nan(sim_x[i]) == True:\n",
    "            raise ValueError\n",
    "        elif is_Nan(sim_y[i]) == True:\n",
    "            raise ValueError\n",
    "    except Exception:\n",
    "        excluded_pt += 1\n",
    "        continue\n",
    "    chi2Pos_x += (sim_x[i]-xyzs[i][0])^2\n",
    "    chi2Pos_y += (sim_y[i]-xyzs[i][1])^2\n",
    "chi2Pos = (chi2Pos_x + chi2Pos_y)/(len(xyzs) - excluded_pt)/sigmaPos\n"
   ]
  },
  {
   "cell_type": "code",
   "execution_count": null,
   "metadata": {},
   "outputs": [],
   "source": []
  }
 ],
 "metadata": {
  "kernelspec": {
   "display_name": "Python 3",
   "language": "python",
   "name": "python3"
  },
  "language_info": {
   "codemirror_mode": {
    "name": "ipython",
    "version": 3
   },
   "file_extension": ".py",
   "mimetype": "text/x-python",
   "name": "python",
   "nbconvert_exporter": "python",
   "pygments_lexer": "ipython3",
   "version": "3.6.5"
  }
 },
 "nbformat": 4,
 "nbformat_minor": 2
}
