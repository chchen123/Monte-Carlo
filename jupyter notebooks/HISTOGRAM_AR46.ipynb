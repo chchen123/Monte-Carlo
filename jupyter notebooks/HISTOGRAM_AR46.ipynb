{
 "cells": [
  {
   "cell_type": "code",
   "execution_count": 1,
   "metadata": {},
   "outputs": [
    {
     "name": "stderr",
     "output_type": "stream",
     "text": [
      "/home/chen/anaconda3/lib/python3.6/site-packages/h5py/__init__.py:36: FutureWarning: Conversion of the second argument of issubdtype from `float` to `np.floating` is deprecated. In future, it will be treated as `np.float64 == np.dtype(float).type`.\n",
      "  from ._conv import register_converters as _register_converters\n"
     ]
    }
   ],
   "source": [
    "import h5py\n",
    "import numpy as np\n",
    "import matplotlib.pyplot as plt"
   ]
  },
  {
   "cell_type": "code",
   "execution_count": null,
   "metadata": {},
   "outputs": [],
   "source": [
    "full_data = np.empty((0,0))\n",
    "full_data_position = np.empty((0,0))"
   ]
  },
  {
   "cell_type": "markdown",
   "metadata": {},
   "source": [
    "**RUN_0131**"
   ]
  },
  {
   "cell_type": "code",
   "execution_count": 182,
   "metadata": {},
   "outputs": [
    {
     "name": "stdout",
     "output_type": "stream",
     "text": [
      "energy\n",
      "position\n",
      "total\n",
      "vertex\n",
      "# of clean events successfully processed - MC: 454\n",
      "# of clean events successfully processed - BH: 455\n",
      "# of clean events successfully processed - DE: 459\n"
     ]
    }
   ],
   "source": [
    "#full = h5py.File('/home/chen/ar46/chi_values/run_0130.h5', 'r')\n",
    "#orig_data = h5py.File('/home/chen/ar46/clean_events/clean_run_0130.h5', 'r')\n",
    "#proton_data = h5py.File('/home/chen/ar46/DiffEvolution/run_0130_proton.h5', 'r')\n",
    "full = h5py.File('/home/chen/ar46/MonteCarlo/chi_values/run_0130.h5', 'r')\n",
    "DE = h5py.File('/home/chen/ar46/DiffEvolution/Chi^2 values/with_cleaning/run_0130.h5','r')\n",
    "BH = h5py.File('/home/chen/ar46/Basinhopping/chi_values/run_0130.h5','r')\n",
    "#dataset_name = '/clean'\n",
    "#orig = orig_data[dataset_name]\n",
    "#print(\"# of events: \" + str(len(orig)))\n",
    "\n",
    "for i in DE:\n",
    "    print(i)\n",
    "dataset_name = '/energy'\n",
    "evt_full = full[dataset_name]\n",
    "print(\"# of clean events successfully processed - MC: \" + str(len(evt_full)))\n",
    "\n",
    "dataset_name = '/energy'\n",
    "evt_BH = BH[dataset_name]\n",
    "print(\"# of clean events successfully processed - BH: \" + str(len(evt_BH)))\n",
    "\n",
    "dataset_name = '/energy'\n",
    "evt_DE = DE[dataset_name]\n",
    "print(\"# of clean events successfully processed - DE: \" + str(len(evt_DE)))\n",
    "\n",
    "#dataset_name = '/vertex'\n",
    "#proton_evt_full = proton_data[dataset_name]\n",
    "#print(\"# of proton events successflly processed: \" + str(len(proton_evt_full)))\n",
    "\n",
    "#print(np.array(proton_evt_full['24']))"
   ]
  },
  {
   "cell_type": "code",
   "execution_count": 183,
   "metadata": {
    "scrolled": true
   },
   "outputs": [
    {
     "name": "stdout",
     "output_type": "stream",
     "text": [
      "167\n",
      "447\n"
     ]
    }
   ],
   "source": [
    "monte_carlo = np.empty((0,0))\n",
    "proton = np.empty((0,0))\n",
    "differential_evolution = np.empty((0,0))\n",
    "basinhopping = np.empty((0,0))\n",
    "for i in range(1002):\n",
    "    try:\n",
    "        monte_carlo = np.append(monte_carlo, np.array(evt_full[str(i)]))\n",
    "#        print(monte_carlo)\n",
    "#        full_data = np.append(full_data, np.array(evt_full[str(i)]))\n",
    "        differential_evolution = np.append(differential_evolution, np.array(evt_DE[str(i)]))\n",
    "        basinhopping = np.append(basinhopping, np.array(evt_BH[str(i)]))\n",
    "    except Exception:\n",
    "        continue\n",
    "for i in range(1002):\n",
    "    try:\n",
    "        proton = np.append(proton, np.array(proton_evt_full[str(i)]))\n",
    "    except Exception:\n",
    "        continue    \n",
    "print(len(proton))\n",
    "print(len(differential_evolution))"
   ]
  },
  {
   "cell_type": "code",
   "execution_count": 186,
   "metadata": {},
   "outputs": [
    {
     "data": {
      "image/png": "[encoded data removed]",
      "text/plain": [
       "<Figure size 432x288 with 1 Axes>"
      ]
     },
     "metadata": {},
     "output_type": "display_data"
    }
   ],
   "source": [
    "\n",
    "#plt.hist(monte_carlo, label='Monte-Carlo', bins=50, color='blue',range=(0,120)) #blue\n",
    "plt.hist(basinhopping, label='basinhopping', bins=50, color='cyan',range=(0,120))\n",
    "#plt.hist(proton, label='proton', bins=30, color='orange',range=(0,90))\n",
    "plt.hist(differential_evolution, label='differential-evolution', bins=50, color='green',range=(0,90))\n",
    "#plt.hist(proton, label='proton', bins=50, color='orange',range=(0,120))\n",
    "plt.legend(loc=1)\n",
    "plt.title('After cut - RUN_0130 - position')\n",
    "plt.xlabel('chi^2')\n",
    "plt.ylabel('count')\n",
    "plt.show()\n",
    "\n",
    "#plt.hist(monte_carlo, label='Monte-Carlo', bins=50, color='blue',range=(0,140)) #blue"
   ]
  },
  {
   "cell_type": "code",
   "execution_count": null,
   "metadata": {},
   "outputs": [],
   "source": [
    "plt.hist(full_data_position, label='Monte-Carlo', bins=300, color='green') #blue\n",
    "plt.legend(loc=1)\n",
    "plt.title('Full Data So Far - position')\n",
    "plt.xlabel('chi^2')\n",
    "plt.ylabel('count')\n",
    "plt.show()"
   ]
  },
  {
   "cell_type": "code",
   "execution_count": null,
   "metadata": {},
   "outputs": [],
   "source": []
  }
 ],
 "metadata": {
  "kernelspec": {
   "display_name": "Python 3",
   "language": "python",
   "name": "python3"
  },
  "language_info": {
   "codemirror_mode": {
    "name": "ipython",
    "version": 3
   },
   "file_extension": ".py",
   "mimetype": "text/x-python",
   "name": "python",
   "nbconvert_exporter": "python",
   "pygments_lexer": "ipython3",
   "version": "3.6.5"
  }
 },
 "nbformat": 4,
 "nbformat_minor": 2
}
