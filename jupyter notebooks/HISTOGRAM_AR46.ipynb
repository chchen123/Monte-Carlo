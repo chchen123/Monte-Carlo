{
 "cells": [
  {
   "cell_type": "code",
   "execution_count": null,
   "metadata": {},
   "outputs": [],
   "source": [
    "'''\n",
    "Author: Chen\n",
    "This notebook reads and plots the histogram of Chi^2 values of each run.\n",
    "'''"
   ]
  },
  {
   "cell_type": "code",
   "execution_count": null,
   "metadata": {},
   "outputs": [],
   "source": [
    "import h5py\n",
    "import numpy as np\n",
    "import matplotlib.pyplot as plt"
   ]
  },
  {
   "cell_type": "code",
   "execution_count": null,
   "metadata": {},
   "outputs": [],
   "source": [
    "full_data = np.empty((0,0))"
   ]
  },
  {
   "cell_type": "markdown",
   "metadata": {},
   "source": [
    "**RUN_0108**"
   ]
  },
  {
   "cell_type": "code",
   "execution_count": null,
   "metadata": {},
   "outputs": [],
   "source": [
    "#Read files\n",
    "full = h5py.File('/home/chen/ar46/chi_values/run_0108.h5', 'r')\n",
    "orig_data = h5py.File('/home/chen/ar46/clean_events/clean_run_0108.h5', 'r')\n",
    "\n",
    "#Calculates the number of successfully processed (fitted) events\n",
    "dataset_name = '/clean'\n",
    "orig = orig_data[dataset_name]\n",
    "print(\"# of events: \" + str(len(orig)))\n",
    "\n",
    "#Calculates the total number of events of the run in the original data\n",
    "dataset_name = '/monte carlo'\n",
    "evt_full = full[dataset_name]\n",
    "print(\"# of clean events successflly processed: \" + str(len(evt_full)))"
   ]
  },
  {
   "cell_type": "code",
   "execution_count": null,
   "metadata": {},
   "outputs": [],
   "source": [
    "monte_carlo = np.empty((0,0))\n",
    "for i in range(len(orig)):\n",
    "    try:\n",
    "        #appends each Chi^2 value to a list for plotting\n",
    "        monte_carlo = np.append(monte_carlo, np.array(evt_full[str(i)]))\n",
    "        full_data = np.append(full_data, np.array(evt_full[str(i)]))\n",
    "    except Exception:\n",
    "        print('Event ' + str(i) + ' failed MC fitting')\n",
    "        continue\n",
    "\n",
    "print(monte_carlo)"
   ]
  },
  {
   "cell_type": "code",
   "execution_count": null,
   "metadata": {},
   "outputs": [],
   "source": [
    "#plots histogram\n",
    "plt.hist(monte_carlo, label='Monte-Carlo', bins=30, color='blue',range=(0,140)) #blue\n",
    "plt.legend(loc=2)\n",
    "plt.title('After cut - RUN_0108')\n",
    "plt.xlabel('chi^2')\n",
    "plt.ylabel('count')\n",
    "plt.show()"
   ]
  },
  {
   "cell_type": "markdown",
   "metadata": {},
   "source": [
    "**RUN_0110**"
   ]
  },
  {
   "cell_type": "code",
   "execution_count": null,
   "metadata": {},
   "outputs": [],
   "source": [
    "full = h5py.File('/home/chen/ar46/chi_values/run_0110.h5', 'r')\n",
    "orig_data = h5py.File('/home/chen/ar46/clean_events/clean_run_0110.h5', 'r')\n",
    "\n",
    "\n",
    "dataset_name = '/clean'\n",
    "orig = orig_data[dataset_name]\n",
    "print(\"# of events: \" + str(len(orig)))\n",
    "\n",
    "dataset_name = '/monte carlo'\n",
    "evt_full = full[dataset_name]\n",
    "print(\"# of clean events successflly processed: \" + str(len(evt_full)))"
   ]
  },
  {
   "cell_type": "code",
   "execution_count": null,
   "metadata": {},
   "outputs": [],
   "source": [
    "monte_carlo = np.empty((0,0))\n",
    "for i in range(len(orig)):\n",
    "    try:\n",
    "        monte_carlo = np.append(monte_carlo, np.array(evt_full[str(i)]))\n",
    "        full_data = np.append(full_data, np.array(evt_full[str(i)]))\n",
    "    except Exception:\n",
    "        print('Event ' + str(i) + ' failed MC fitting')\n",
    "        continue\n",
    "\n",
    "print(monte_carlo)"
   ]
  },
  {
   "cell_type": "code",
   "execution_count": null,
   "metadata": {},
   "outputs": [],
   "source": [
    "plt.hist(monte_carlo, label='Monte-Carlo', bins=30, color='blue',range=(0,140)) #blue\n",
    "plt.legend(loc=2)\n",
    "plt.title('After cut - RUN_0110')\n",
    "plt.xlabel('chi^2')\n",
    "plt.ylabel('count')\n",
    "plt.show()"
   ]
  },
  {
   "cell_type": "markdown",
   "metadata": {},
   "source": [
    "**RUN_0114**"
   ]
  },
  {
   "cell_type": "code",
   "execution_count": null,
   "metadata": {},
   "outputs": [],
   "source": [
    "full = h5py.File('/home/chen/ar46/chi_values/run_0114.h5', 'r')\n",
    "orig_data = h5py.File('/home/chen/ar46/clean_events/clean_run_0114.h5', 'r')\n",
    "\n",
    "\n",
    "dataset_name = '/clean'\n",
    "orig = orig_data[dataset_name]\n",
    "print(\"# of events: \" + str(len(orig)))\n",
    "\n",
    "dataset_name = '/monte carlo'\n",
    "evt_full = full[dataset_name]\n",
    "print(\"# of clean events successflly processed: \" + str(len(evt_full)))"
   ]
  },
  {
   "cell_type": "code",
   "execution_count": null,
   "metadata": {},
   "outputs": [],
   "source": [
    "monte_carlo = np.empty((0,0))\n",
    "for i in range(len(orig)):\n",
    "    try:\n",
    "        monte_carlo = np.append(monte_carlo, np.array(evt_full[str(i)]))\n",
    "        full_data = np.append(full_data, np.array(evt_full[str(i)]))\n",
    "    except Exception:\n",
    "        print('Event ' + str(i) + ' failed MC fitting')\n",
    "        continue\n",
    "\n",
    "print(monte_carlo)"
   ]
  },
  {
   "cell_type": "code",
   "execution_count": null,
   "metadata": {},
   "outputs": [],
   "source": [
    "plt.hist(monte_carlo, label='Monte-Carlo', bins=30, color='blue',range=(0,140)) #blue\n",
    "plt.legend(loc=2)\n",
    "plt.title('After cut - RUN_0114')\n",
    "plt.xlabel('chi^2')\n",
    "plt.ylabel('count')\n",
    "plt.show()"
   ]
  },
  {
   "cell_type": "markdown",
   "metadata": {},
   "source": [
    "**RUN_115**"
   ]
  },
  {
   "cell_type": "code",
   "execution_count": null,
   "metadata": {},
   "outputs": [],
   "source": [
    "full = h5py.File('/home/chen/ar46/chi_values/run_0115.h5', 'r')\n",
    "orig_data = h5py.File('/home/chen/ar46/clean_events/clean_run_0115.h5', 'r')\n",
    "\n",
    "\n",
    "dataset_name = '/clean'\n",
    "orig = orig_data[dataset_name]\n",
    "print(\"# of events: \" + str(len(orig)))\n",
    "\n",
    "dataset_name = '/monte carlo'\n",
    "evt_full = full[dataset_name]\n",
    "print(\"# of clean events successflly processed: \" + str(len(evt_full)))"
   ]
  },
  {
   "cell_type": "code",
   "execution_count": null,
   "metadata": {},
   "outputs": [],
   "source": [
    "monte_carlo = np.empty((0,0))\n",
    "for i in range(len(orig)):\n",
    "    try:\n",
    "        monte_carlo = np.append(monte_carlo, np.array(evt_full[str(i)]))\n",
    "        full_data = np.append(full_data, np.array(evt_full[str(i)]))\n",
    "    except Exception:\n",
    "        print('Event ' + str(i) + ' failed MC fitting')\n",
    "        continue\n",
    "\n",
    "print(monte_carlo)"
   ]
  },
  {
   "cell_type": "code",
   "execution_count": null,
   "metadata": {},
   "outputs": [],
   "source": [
    "plt.hist(monte_carlo, label='Monte-Carlo', bins=30, color='blue',range=(0,140)) #blue\n",
    "plt.legend(loc=2)\n",
    "plt.title('After cut - RUN_0115')\n",
    "plt.xlabel('chi^2')\n",
    "plt.ylabel('count')\n",
    "plt.show()"
   ]
  },
  {
   "cell_type": "markdown",
   "metadata": {},
   "source": [
    "**RUN_117**"
   ]
  },
  {
   "cell_type": "code",
   "execution_count": null,
   "metadata": {},
   "outputs": [],
   "source": [
    "full = h5py.File('/home/chen/ar46/chi_values/run_0117.h5', 'r')\n",
    "orig_data = h5py.File('/home/chen/ar46/clean_events/clean_run_0117.h5', 'r')\n",
    "\n",
    "\n",
    "dataset_name = '/clean'\n",
    "orig = orig_data[dataset_name]\n",
    "print(\"# of events: \" + str(len(orig)))\n",
    "\n",
    "dataset_name = '/monte carlo'\n",
    "evt_full = full[dataset_name]\n",
    "print(\"# of clean events successflly processed: \" + str(len(evt_full)))"
   ]
  },
  {
   "cell_type": "code",
   "execution_count": null,
   "metadata": {},
   "outputs": [],
   "source": [
    "monte_carlo = np.empty((0,0))\n",
    "for i in range(len(orig)):\n",
    "    try:\n",
    "        monte_carlo = np.append(monte_carlo, np.array(evt_full[str(i)]))\n",
    "        full_data = np.append(full_data, np.array(evt_full[str(i)]))\n",
    "    except Exception:\n",
    "        print('Event ' + str(i) + ' failed MC fitting')\n",
    "        continue\n",
    "\n",
    "print(monte_carlo)"
   ]
  },
  {
   "cell_type": "code",
   "execution_count": null,
   "metadata": {},
   "outputs": [],
   "source": [
    "plt.hist(monte_carlo, label='Monte-Carlo', bins=30, color='blue',range=(0,140)) #blue\n",
    "plt.legend(loc=2)\n",
    "plt.title('After cut - RUN_0117')\n",
    "plt.xlabel('chi^2')\n",
    "plt.ylabel('count')\n",
    "plt.show()"
   ]
  },
  {
   "cell_type": "markdown",
   "metadata": {},
   "source": [
    "**RUN_119**"
   ]
  },
  {
   "cell_type": "code",
   "execution_count": null,
   "metadata": {},
   "outputs": [],
   "source": [
    "full = h5py.File('/home/chen/ar46/chi_values/run_0119.h5', 'r')\n",
    "orig_data = h5py.File('/home/chen/ar46/clean_events/clean_run_0119.h5', 'r')\n",
    "\n",
    "\n",
    "dataset_name = '/clean'\n",
    "orig = orig_data[dataset_name]\n",
    "print(\"# of events: \" + str(len(orig)))\n",
    "\n",
    "dataset_name = '/monte carlo'\n",
    "evt_full = full[dataset_name]\n",
    "print(\"# of clean events successflly processed: \" + str(len(evt_full)))"
   ]
  },
  {
   "cell_type": "code",
   "execution_count": null,
   "metadata": {},
   "outputs": [],
   "source": [
    "monte_carlo = np.empty((0,0))\n",
    "for i in range(len(orig)):\n",
    "    try:\n",
    "        monte_carlo = np.append(monte_carlo, np.array(evt_full[str(i)]))\n",
    "        full_data = np.append(full_data, np.array(evt_full[str(i)]))\n",
    "    except Exception:\n",
    "        print('Event ' + str(i) + ' failed MC fitting')\n",
    "        continue\n",
    "\n",
    "print(monte_carlo)"
   ]
  },
  {
   "cell_type": "code",
   "execution_count": null,
   "metadata": {},
   "outputs": [],
   "source": [
    "plt.hist(monte_carlo, label='Monte-Carlo', bins=30, color='blue',range=(0,140)) #blue\n",
    "plt.legend(loc=2)\n",
    "plt.title('After cut - RUN_0119')\n",
    "plt.xlabel('chi^2')\n",
    "plt.ylabel('count')\n",
    "plt.show()"
   ]
  },
  {
   "cell_type": "code",
   "execution_count": null,
   "metadata": {},
   "outputs": [],
   "source": [
    "plt.hist(full_data, label='Monte-Carlo', bins=80, color='blue') #blue\n",
    "plt.legend(loc=2)\n",
    "plt.title('Full Data So Far')\n",
    "plt.xlabel('chi^2')\n",
    "plt.ylabel('count')\n",
    "plt.show()"
   ]
  },
  {
   "cell_type": "markdown",
   "metadata": {},
   "source": [
    "**RUN_113**"
   ]
  },
  {
   "cell_type": "code",
   "execution_count": null,
   "metadata": {},
   "outputs": [],
   "source": [
    "full = h5py.File('/home/chen/ar46/chi_values/run_0113.h5', 'r')\n",
    "orig_data = h5py.File('/home/chen/ar46/clean_events/clean_run_0113.h5', 'r')\n",
    "\n",
    "\n",
    "dataset_name = '/clean'\n",
    "orig = orig_data[dataset_name]\n",
    "print(\"# of events: \" + str(len(orig)))\n",
    "\n",
    "dataset_name = '/monte carlo'\n",
    "evt_full = full[dataset_name]\n",
    "print(\"# of clean events successflly processed: \" + str(len(evt_full)))"
   ]
  },
  {
   "cell_type": "code",
   "execution_count": null,
   "metadata": {},
   "outputs": [],
   "source": [
    "monte_carlo = np.empty((0,0))\n",
    "for i in range(len(orig)):\n",
    "    try:\n",
    "        monte_carlo = np.append(monte_carlo, np.array(evt_full[str(i)]))\n",
    "        full_data = np.append(full_data, np.array(evt_full[str(i)]))\n",
    "    except Exception:\n",
    "        print('Event ' + str(i) + ' failed MC fitting')\n",
    "        continue\n",
    "\n",
    "print(monte_carlo)"
   ]
  },
  {
   "cell_type": "code",
   "execution_count": null,
   "metadata": {},
   "outputs": [],
   "source": [
    "plt.hist(monte_carlo, label='Monte-Carlo', bins=30, color='blue',range=(0,140)) #blue\n",
    "plt.legend(loc=2)\n",
    "plt.title('After cut - RUN_0113')\n",
    "plt.xlabel('chi^2')\n",
    "plt.ylabel('count')\n",
    "plt.show()"
   ]
  },
  {
   "cell_type": "markdown",
   "metadata": {},
   "source": [
    "**RUN_0118**"
   ]
  },
  {
   "cell_type": "code",
   "execution_count": null,
   "metadata": {},
   "outputs": [],
   "source": [
    "full = h5py.File('/home/chen/ar46/chi_values/run_0118.h5', 'r')\n",
    "orig_data = h5py.File('/home/chen/ar46/clean_events/clean_run_0118.h5', 'r')\n",
    "\n",
    "\n",
    "dataset_name = '/clean'\n",
    "orig = orig_data[dataset_name]\n",
    "print(\"# of events: \" + str(len(orig)))\n",
    "\n",
    "dataset_name = '/monte carlo'\n",
    "evt_full = full[dataset_name]\n",
    "print(\"# of clean events successflly processed: \" + str(len(evt_full)))"
   ]
  },
  {
   "cell_type": "code",
   "execution_count": null,
   "metadata": {},
   "outputs": [],
   "source": [
    "monte_carlo = np.empty((0,0))\n",
    "for i in range(len(orig)):\n",
    "    try:\n",
    "        monte_carlo = np.append(monte_carlo, np.array(evt_full[str(i)]))\n",
    "        full_data = np.append(full_data, np.array(evt_full[str(i)]))\n",
    "    except Exception:\n",
    "        print('Event ' + str(i) + ' failed MC fitting')\n",
    "        continue\n",
    "\n",
    "print(monte_carlo)"
   ]
  },
  {
   "cell_type": "code",
   "execution_count": null,
   "metadata": {},
   "outputs": [],
   "source": [
    "plt.hist(monte_carlo, label='Monte-Carlo', bins=30, color='blue',range=(0,140)) #blue\n",
    "plt.legend(loc=2)\n",
    "plt.title('After cut - RUN_0118')\n",
    "plt.xlabel('chi^2')\n",
    "plt.ylabel('count')\n",
    "plt.show()"
   ]
  },
  {
   "cell_type": "markdown",
   "metadata": {},
   "source": [
    "**RUN_0120**"
   ]
  },
  {
   "cell_type": "code",
   "execution_count": null,
   "metadata": {},
   "outputs": [],
   "source": [
    "full = h5py.File('/home/chen/ar46/chi_values/run_0120.h5', 'r')\n",
    "orig_data = h5py.File('/home/chen/ar46/clean_events/clean_run_0120.h5', 'r')\n",
    "\n",
    "\n",
    "dataset_name = '/clean'\n",
    "orig = orig_data[dataset_name]\n",
    "print(\"# of events: \" + str(len(orig)))\n",
    "\n",
    "dataset_name = '/monte carlo'\n",
    "evt_full = full[dataset_name]\n",
    "print(\"# of clean events successflly processed: \" + str(len(evt_full)))"
   ]
  },
  {
   "cell_type": "code",
   "execution_count": null,
   "metadata": {},
   "outputs": [],
   "source": [
    "monte_carlo = np.empty((0,0))\n",
    "for i in range(len(orig)):\n",
    "    try:\n",
    "        monte_carlo = np.append(monte_carlo, np.array(evt_full[str(i)]))\n",
    "        full_data = np.append(full_data, np.array(evt_full[str(i)]))\n",
    "    except Exception:\n",
    "        print('Event ' + str(i) + ' failed MC fitting')\n",
    "        continue\n",
    "\n",
    "print(monte_carlo)"
   ]
  },
  {
   "cell_type": "code",
   "execution_count": null,
   "metadata": {},
   "outputs": [],
   "source": [
    "plt.hist(monte_carlo, label='Monte-Carlo', bins=30, color='blue',range=(0,140)) #blue\n",
    "plt.legend(loc=2)\n",
    "plt.title('After cut - RUN_0120')\n",
    "plt.xlabel('chi^2')\n",
    "plt.ylabel('count')\n",
    "plt.show()"
   ]
  },
  {
   "cell_type": "markdown",
   "metadata": {},
   "source": [
    "**RUN_0122**"
   ]
  },
  {
   "cell_type": "code",
   "execution_count": null,
   "metadata": {},
   "outputs": [],
   "source": [
    "full = h5py.File('/home/chen/ar46/chi_values/run_0122.h5', 'r')\n",
    "orig_data = h5py.File('/home/chen/ar46/clean_events/clean_run_0122.h5', 'r')\n",
    "\n",
    "\n",
    "dataset_name = '/clean'\n",
    "orig = orig_data[dataset_name]\n",
    "print(\"# of events: \" + str(len(orig)))\n",
    "\n",
    "dataset_name = '/monte carlo'\n",
    "evt_full = full[dataset_name]\n",
    "print(\"# of clean events successflly processed: \" + str(len(evt_full)))"
   ]
  },
  {
   "cell_type": "code",
   "execution_count": null,
   "metadata": {},
   "outputs": [],
   "source": [
    "monte_carlo = np.empty((0,0))\n",
    "for i in range(len(orig)):\n",
    "    try:\n",
    "        monte_carlo = np.append(monte_carlo, np.array(evt_full[str(i)]))\n",
    "        full_data = np.append(full_data, np.array(evt_full[str(i)]))\n",
    "    except Exception:\n",
    "        print('Event ' + str(i) + ' failed MC fitting')\n",
    "        continue\n",
    "\n",
    "print(monte_carlo)"
   ]
  },
  {
   "cell_type": "code",
   "execution_count": null,
   "metadata": {},
   "outputs": [],
   "source": [
    "plt.hist(monte_carlo, label='Monte-Carlo', bins=30, color='blue',range=(0,140)) #blue\n",
    "plt.legend(loc=2)\n",
    "plt.title('After cut - RUN_0122')\n",
    "plt.xlabel('chi^2')\n",
    "plt.ylabel('count')\n",
    "plt.show()"
   ]
  },
  {
   "cell_type": "markdown",
   "metadata": {},
   "source": [
    "**RUN_0131**"
   ]
  },
  {
   "cell_type": "code",
   "execution_count": null,
   "metadata": {},
   "outputs": [],
   "source": [
    "full = h5py.File('/home/chen/ar46/chi_values/run_0131.h5', 'r')\n",
    "orig_data = h5py.File('/home/chen/ar46/clean_events/clean_run_0131.h5', 'r')\n",
    "\n",
    "\n",
    "dataset_name = '/clean'\n",
    "orig = orig_data[dataset_name]\n",
    "print(\"# of events: \" + str(len(orig)))\n",
    "\n",
    "dataset_name = '/monte carlo'\n",
    "evt_full = full[dataset_name]\n",
    "print(\"# of clean events successflly processed: \" + str(len(evt_full)))"
   ]
  },
  {
   "cell_type": "code",
   "execution_count": null,
   "metadata": {},
   "outputs": [],
   "source": [
    "monte_carlo = np.empty((0,0))\n",
    "for i in range(len(orig)):\n",
    "    try:\n",
    "        monte_carlo = np.append(monte_carlo, np.array(evt_full[str(i)]))\n",
    "        full_data = np.append(full_data, np.array(evt_full[str(i)]))\n",
    "    except Exception:\n",
    "        print('Event ' + str(i) + ' failed MC fitting')\n",
    "        continue\n",
    "\n",
    "print(monte_carlo)"
   ]
  },
  {
   "cell_type": "code",
   "execution_count": null,
   "metadata": {},
   "outputs": [],
   "source": [
    "plt.hist(monte_carlo, label='Monte-Carlo', bins=30, color='blue',range=(0,140)) #blue\n",
    "plt.legend(loc=2)\n",
    "plt.title('After cut - RUN_0131')\n",
    "plt.xlabel('chi^2')\n",
    "plt.ylabel('count')\n",
    "plt.show()"
   ]
  },
  {
   "cell_type": "markdown",
   "metadata": {},
   "source": [
    "**RUN_0134**"
   ]
  },
  {
   "cell_type": "code",
   "execution_count": null,
   "metadata": {},
   "outputs": [],
   "source": [
    "full = h5py.File('/home/chen/ar46/chi_values/run_0134.h5', 'r')\n",
    "orig_data = h5py.File('/home/chen/ar46/clean_events/clean_run_0134.h5', 'r')\n",
    "\n",
    "\n",
    "dataset_name = '/clean'\n",
    "orig = orig_data[dataset_name]\n",
    "print(\"# of events: \" + str(len(orig)))\n",
    "\n",
    "dataset_name = '/monte carlo'\n",
    "evt_full = full[dataset_name]\n",
    "print(\"# of clean events successflly processed: \" + str(len(evt_full)))"
   ]
  },
  {
   "cell_type": "code",
   "execution_count": null,
   "metadata": {},
   "outputs": [],
   "source": [
    "monte_carlo = np.empty((0,0))\n",
    "for i in range(len(orig)):\n",
    "    try:\n",
    "        monte_carlo = np.append(monte_carlo, np.array(evt_full[str(i)]))\n",
    "        full_data = np.append(full_data, np.array(evt_full[str(i)]))\n",
    "    except Exception:\n",
    "        print('Event ' + str(i) + ' failed MC fitting')\n",
    "        continue\n",
    "\n",
    "print(monte_carlo)"
   ]
  },
  {
   "cell_type": "code",
   "execution_count": null,
   "metadata": {},
   "outputs": [],
   "source": [
    "plt.hist(monte_carlo, label='Monte-Carlo', bins=30, color='blue',range=(0,140)) #blue\n",
    "plt.legend(loc=2)\n",
    "plt.title('After cut - RUN_0134')\n",
    "plt.xlabel('chi^2')\n",
    "plt.ylabel('count')\n",
    "plt.show()"
   ]
  },
  {
   "cell_type": "code",
   "execution_count": null,
   "metadata": {},
   "outputs": [],
   "source": [
    "full = h5py.File('/home/chen/run_0131_mc.h5', 'r')\n",
    "\n",
    "dataset_name = '/monte carlo'\n",
    "evt_full = full[dataset_name]\n",
    "print(\"# of clean events successflly processed: \" + str(len(evt_full)))"
   ]
  },
  {
   "cell_type": "code",
   "execution_count": null,
   "metadata": {},
   "outputs": [],
   "source": []
  }
 ],
 "metadata": {
  "kernelspec": {
   "display_name": "Python 3",
   "language": "python",
   "name": "python3"
  },
  "language_info": {
   "codemirror_mode": {
    "name": "ipython",
    "version": 3
   },
   "file_extension": ".py",
   "mimetype": "text/x-python",
   "name": "python",
   "nbconvert_exporter": "python",
   "pygments_lexer": "ipython3",
   "version": "3.6.5"
  }
 },
 "nbformat": 4,
 "nbformat_minor": 2
}
