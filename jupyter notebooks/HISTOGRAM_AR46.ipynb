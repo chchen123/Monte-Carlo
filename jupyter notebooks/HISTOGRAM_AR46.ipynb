{
 "cells": [
  {
   "cell_type": "code",
   "execution_count": null,
   "metadata": {},
   "outputs": [],
   "source": [
    "'''\n",
    "This script plots histograms of objective function values fitting using differential evolution, basin hopping\n",
    "and Monte-Carlo methods.\n",
    "'''"
   ]
  },
  {
   "cell_type": "code",
   "execution_count": null,
   "metadata": {},
   "outputs": [],
   "source": [
    "import h5py\n",
    "import numpy as np\n",
    "import matplotlib.pyplot as plt"
   ]
  },
  {
   "cell_type": "markdown",
   "metadata": {},
   "source": [
    "**RUN_0130**"
   ]
  },
  {
   "cell_type": "code",
   "execution_count": null,
   "metadata": {},
   "outputs": [],
   "source": [
    "full = h5py.File('/home/chen/ar46/chi_values/run_0130.h5', 'r')\n",
    "orig_data = h5py.File('/home/chen/ar46/clean_events/clean_run_0130.h5', 'r')\n",
    "proton_MC = h5py.File('/home/chen/ar46/MonteCarlo/proton_chi_values/run_0130_proton.h5', 'r')\n",
    "proton_DE = h5py.File('/home/chen/ar46/DiffEvolution/run_0130_proton.h5', 'r')\n",
    "proton_BH = h5py.File('/home/chen/ar46/Basinhopping/run_0130_proton.h5', 'r')\n",
    "MC = h5py.File('/home/chen/ar46/MonteCarlo/chi_values/run_0130.h5', 'r')\n",
    "DE = h5py.File('/home/chen/ar46/DiffEvolution/chi_values/with_cleaning/run_0130.h5', 'r')\n",
    "BH = h5py.File('/home/chen/ar46/Basinhopping/chi_values/run_0130.h5', 'r')\n",
    "\n",
    "#data set's names are: position, energy, total, vertex\n",
    "dataset_name = '/total'\n",
    "evt_full = MC[dataset_name]\n",
    "print(\"# of clean events successfully processed - MC: \" + str(len(evt_full)))\n",
    "\n",
    "dataset_name = '/total'\n",
    "evt_BH = BH[dataset_name]\n",
    "print(\"# of clean events successfully processed - BH: \" + str(len(evt_BH)))\n",
    "\n",
    "dataset_name = '/total'\n",
    "evt_DE = DE[dataset_name]\n",
    "print(\"# of clean events successfully processed - DE: \" + str(len(evt_DE)))\n",
    "\n",
    "dataset_name = '/vertex'\n",
    "proton_MC_full = proton_MC[dataset_name]\n",
    "print(\"# of proton events successfully processed: \" + str(len(proton_MC_full)))\n",
    "\n",
    "dataset_name = '/total'\n",
    "proton_DE_full = proton_DE[dataset_name]\n",
    "print(\"# of proton events successfully processed: \" + str(len(proton_DE_full)))\n",
    "\n",
    "dataset_name = '/total'\n",
    "proton_BH_full = proton_BH[dataset_name]\n",
    "print(\"# of proton events successfully processed: \" + str(len(proton_BH_full)))\n"
   ]
  },
  {
   "cell_type": "code",
   "execution_count": null,
   "metadata": {
    "scrolled": true
   },
   "outputs": [],
   "source": [
    "#creating arrays that contain all the objective function values for all the runs, fitted with each method\n",
    "\n",
    "monte_carlo = np.empty((0,0))\n",
    "proton_DE = np.empty((0,0))\n",
    "proton_BH = np.empty((0,0))\n",
    "proton_MC = np.empty((0,0))\n",
    "differential_evolution = np.empty((0,0))\n",
    "basinhopping = np.empty((0,0))\n",
    "\n",
    "for i in range(10002):\n",
    "    try:\n",
    "        monte_carlo = np.append(monte_carlo, np.array(evt_full[str(i)]))\n",
    "        differential_evolution = np.append(differential_evolution, np.array(evt_DE[str(i)]))\n",
    "        basinhopping = np.append(basinhopping, np.array(evt_BH[str(i)]))\n",
    "\n",
    "    except Exception:\n",
    "        continue\n",
    "for i in range(10002):\n",
    "    try:\n",
    "        proton_BH = np.append(proton_BH, np.array(proton_BH_full[str(i)]))\n",
    "        proton_MC = np.append(proton_MC, np.array(proton_MC_full[str(i)]))\n",
    "        proton_DE = np.append(proton_DE, np.array(proton_DE_full[str(i)]))\n",
    "    except Exception:\n",
    "        continue    \n",
    "print(len(monte_carlo))\n",
    "print(len(proton_MC))"
   ]
  },
  {
   "cell_type": "code",
   "execution_count": null,
   "metadata": {},
   "outputs": [],
   "source": [
    "plt.hist(monte_carlo, label='All Events', bins=50, color='blue',range=(0,120)) \n",
    "plt.hist(proton_MC, label='Proton Events', bins=50, color='orange',range=(0,120))\n",
    "plt.hist(basinhopping, label='less cut', bins=50, color='cyan',range=(0,40))\n",
    "plt.hist(proton_BH, label='Cleaned Data', bins=50, color='orange',range=(0,120))\n",
    "plt.hist(basinhopping, label='less cut', bins=50, color='cyan',range=(0,40))\n",
    "plt.hist(proton_DE, label='more cut', bins=50, color='orange',range=(0,40))\n",
    "plt.legend(loc=1)\n",
    "plt.title('RUN_0130 - Total Objective Function Value')\n",
    "plt.xlabel('chi^2')\n",
    "plt.ylabel('count')\n",
    "plt.show()\n"
   ]
  },
  {
   "cell_type": "code",
   "execution_count": null,
   "metadata": {},
   "outputs": [],
   "source": []
  }
 ],
 "metadata": {
  "kernelspec": {
   "display_name": "Python 3",
   "language": "python",
   "name": "python3"
  },
  "language_info": {
   "codemirror_mode": {
    "name": "ipython",
    "version": 3
   },
   "file_extension": ".py",
   "mimetype": "text/x-python",
   "name": "python",
   "nbconvert_exporter": "python",
   "pygments_lexer": "ipython3",
   "version": "3.6.5"
  }
 },
 "nbformat": 4,
 "nbformat_minor": 2
}
