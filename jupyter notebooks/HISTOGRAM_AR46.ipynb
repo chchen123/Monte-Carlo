{
 "cells": [
  {
   "cell_type": "code",
   "execution_count": 1,
   "metadata": {},
   "outputs": [
    {
     "name": "stderr",
     "output_type": "stream",
     "text": [
      "/home/chen/anaconda3/lib/python3.6/site-packages/h5py/__init__.py:36: FutureWarning: Conversion of the second argument of issubdtype from `float` to `np.floating` is deprecated. In future, it will be treated as `np.float64 == np.dtype(float).type`.\n",
      "  from ._conv import register_converters as _register_converters\n"
     ]
    }
   ],
   "source": [
    "import h5py\n",
    "import numpy as np\n",
    "import matplotlib.pyplot as plt"
   ]
  },
  {
   "cell_type": "code",
   "execution_count": 2,
   "metadata": {},
   "outputs": [],
   "source": [
    "full_data = np.empty((0,0))\n",
    "full_data_position = np.empty((0,0))"
   ]
  },
  {
   "cell_type": "markdown",
   "metadata": {},
   "source": [
    "**RUN_0108**"
   ]
  },
  {
   "cell_type": "code",
   "execution_count": null,
   "metadata": {},
   "outputs": [],
   "source": [
    "full = h5py.File('/home/chen/run_0122.h5', 'r')\n",
    "orig_data = h5py.File('/home/chen/ar46/clean_events/clean_run_0122.h5', 'r')\n",
    "\n",
    "\n",
    "dataset_name = '/clean'\n",
    "orig = orig_data[dataset_name]\n",
    "print(\"# of events: \" + str(len(orig)))\n",
    "\n",
    "\n",
    "dataset_name = '/monte carlo'\n",
    "evt_full = full[dataset_name]\n",
    "print(\"# of clean events successflly processed: \" + str(len(evt_full)))"
   ]
  },
  {
   "cell_type": "code",
   "execution_count": null,
   "metadata": {},
   "outputs": [],
   "source": [
    "monte_carlo = np.empty((0,0))\n",
    "for i in range(len(orig)):\n",
    "    try:\n",
    "        monte_carlo = np.append(monte_carlo, np.array(evt_full[str(i)]))\n",
    "#        full_data = np.append(full_data, np.array(evt_full[str(i)]))\n",
    "    except Exception:\n",
    "        print('Event ' + str(i) + ' failed MC fitting')\n",
    "        continue\n",
    "\n",
    "print(monte_carlo)"
   ]
  },
  {
   "cell_type": "code",
   "execution_count": null,
   "metadata": {},
   "outputs": [],
   "source": [
    "plt.hist(monte_carlo, label='Monte-Carlo', bins=100, color='blue',range=(0,140)) #blue\n",
    "plt.legend(loc=2)\n",
    "plt.title('After cut - RUN_0120')\n",
    "plt.xlabel('chi^2')\n",
    "plt.ylabel('count')\n",
    "plt.show()"
   ]
  },
  {
   "cell_type": "markdown",
   "metadata": {},
   "source": [
    "**RUN_0110**"
   ]
  },
  {
   "cell_type": "code",
   "execution_count": null,
   "metadata": {},
   "outputs": [],
   "source": [
    "full = h5py.File('/home/chen/run_0110.h5', 'r')\n",
    "orig_data = h5py.File('/home/chen/ar46/clean_events/clean_run_0110.h5', 'r')\n",
    "\n",
    "\n",
    "dataset_name = '/clean'\n",
    "orig = orig_data[dataset_name]\n",
    "print(\"# of events: \" + str(len(orig)))\n",
    "\n",
    "dataset_name = '/monte carlo'\n",
    "evt_full = full[dataset_name]\n",
    "print(\"# of clean events successflly processed: \" + str(len(evt_full)))"
   ]
  },
  {
   "cell_type": "code",
   "execution_count": null,
   "metadata": {},
   "outputs": [],
   "source": [
    "monte_carlo = np.empty((0,0))\n",
    "for i in range(len(orig)):\n",
    "    try:\n",
    "        monte_carlo = np.append(monte_carlo, np.array(evt_full[str(i)]))\n",
    "        full_data = np.append(full_data, np.array(evt_full[str(i)]))\n",
    "    except Exception:\n",
    "        print('Event ' + str(i) + ' failed MC fitting')\n",
    "        continue\n",
    "\n",
    "print(monte_carlo)"
   ]
  },
  {
   "cell_type": "code",
   "execution_count": null,
   "metadata": {},
   "outputs": [],
   "source": [
    "plt.hist(monte_carlo, label='Monte-Carlo', bins=30, color='blue',range=(0,140)) #blue\n",
    "plt.legend(loc=2)\n",
    "plt.title('After cut - RUN_0110')\n",
    "plt.xlabel('chi^2')\n",
    "plt.ylabel('count')\n",
    "plt.show()"
   ]
  },
  {
   "cell_type": "markdown",
   "metadata": {},
   "source": [
    "**RUN_0114**"
   ]
  },
  {
   "cell_type": "code",
   "execution_count": null,
   "metadata": {},
   "outputs": [],
   "source": [
    "full = h5py.File('/home/chen/run_0112.h5', 'r')\n",
    "#orig_data = h5py.File('/home/chen/ar46/clean_events/clean_run_0114.h5', 'r')\n",
    "\n",
    "\n",
    "#dataset_name = '/clean'\n",
    "#orig = orig_data[dataset_name]\n",
    "#print(\"# of events: \" + str(len(orig)))\n",
    "\n",
    "dataset_name = '/monte carlo'\n",
    "evt_full = full[dataset_name]\n",
    "print(\"# of clean events successflly processed: \" + str(len(evt_full)))"
   ]
  },
  {
   "cell_type": "code",
   "execution_count": null,
   "metadata": {},
   "outputs": [],
   "source": [
    "monte_carlo = np.empty((0,0))\n",
    "for i in range(len(orig)):\n",
    "    try:\n",
    "        monte_carlo = np.append(monte_carlo, np.array(evt_full[str(i)]))\n",
    "#        full_data = np.append(full_data, np.array(evt_full[str(i)]))\n",
    "    except Exception:\n",
    "        print('Event ' + str(i) + ' failed MC fitting')\n",
    "        continue\n",
    "\n",
    "print(monte_carlo)"
   ]
  },
  {
   "cell_type": "code",
   "execution_count": null,
   "metadata": {},
   "outputs": [],
   "source": [
    "plt.hist(monte_carlo, label='Monte-Carlo', bins=30, color='blue',range=(0,140)) #blue\n",
    "plt.legend(loc=2)\n",
    "plt.title('After cut - RUN_0114')\n",
    "plt.xlabel('chi^2')\n",
    "plt.ylabel('count')\n",
    "plt.show()"
   ]
  },
  {
   "cell_type": "markdown",
   "metadata": {},
   "source": [
    "**RUN_115**"
   ]
  },
  {
   "cell_type": "code",
   "execution_count": null,
   "metadata": {},
   "outputs": [],
   "source": [
    "full = h5py.File('/home/chen/run_0115.h5', 'r')\n",
    "orig_data = h5py.File('/home/chen/ar46/clean_events/clean_run_0115.h5', 'r')\n",
    "\n",
    "\n",
    "dataset_name = '/clean'\n",
    "orig = orig_data[dataset_name]\n",
    "print(\"# of events: \" + str(len(orig)))\n",
    "\n",
    "dataset_name = '/monte carlo'\n",
    "evt_full = full[dataset_name]\n",
    "print(\"# of clean events successflly processed: \" + str(len(evt_full)))"
   ]
  },
  {
   "cell_type": "code",
   "execution_count": null,
   "metadata": {},
   "outputs": [],
   "source": [
    "monte_carlo = np.empty((0,0))\n",
    "for i in range(len(orig)):\n",
    "    try:\n",
    "        monte_carlo = np.append(monte_carlo, np.array(evt_full[str(i)]))\n",
    "        full_data = np.append(full_data, np.array(evt_full[str(i)]))\n",
    "    except Exception:\n",
    "        print('Event ' + str(i) + ' failed MC fitting')\n",
    "        continue\n",
    "\n",
    "print(monte_carlo)"
   ]
  },
  {
   "cell_type": "code",
   "execution_count": null,
   "metadata": {},
   "outputs": [],
   "source": [
    "plt.hist(monte_carlo, label='Monte-Carlo', bins=30, color='blue',range=(0,140)) #blue\n",
    "plt.legend(loc=2)\n",
    "plt.title('After cut - RUN_0115')\n",
    "plt.xlabel('chi^2')\n",
    "plt.ylabel('count')\n",
    "plt.show()"
   ]
  },
  {
   "cell_type": "markdown",
   "metadata": {},
   "source": [
    "**RUN_117**"
   ]
  },
  {
   "cell_type": "code",
   "execution_count": null,
   "metadata": {},
   "outputs": [],
   "source": [
    "full = h5py.File('/home/chen/run_0117.h5', 'r')\n",
    "orig_data = h5py.File('/home/chen/ar46/clean_events/clean_run_0117.h5', 'r')\n",
    "\n",
    "\n",
    "dataset_name = '/clean'\n",
    "orig = orig_data[dataset_name]\n",
    "print(\"# of events: \" + str(len(orig)))\n",
    "\n",
    "dataset_name = '/monte carlo'\n",
    "evt_full = full[dataset_name]\n",
    "print(\"# of clean events successflly processed: \" + str(len(evt_full)))"
   ]
  },
  {
   "cell_type": "code",
   "execution_count": null,
   "metadata": {},
   "outputs": [],
   "source": [
    "monte_carlo = np.empty((0,0))\n",
    "for i in range(len(orig)):\n",
    "    try:\n",
    "        monte_carlo = np.append(monte_carlo, np.array(evt_full[str(i)]))\n",
    "        full_data = np.append(full_data, np.array(evt_full[str(i)]))\n",
    "    except Exception:\n",
    "        print('Event ' + str(i) + ' failed MC fitting')\n",
    "        continue\n",
    "\n",
    "print(monte_carlo)"
   ]
  },
  {
   "cell_type": "code",
   "execution_count": null,
   "metadata": {},
   "outputs": [],
   "source": [
    "plt.hist(monte_carlo, label='Monte-Carlo', bins=30, color='blue',range=(0,140)) #blue\n",
    "plt.legend(loc=2)\n",
    "plt.title('After cut - RUN_0117')\n",
    "plt.xlabel('chi^2')\n",
    "plt.ylabel('count')\n",
    "plt.show()"
   ]
  },
  {
   "cell_type": "markdown",
   "metadata": {},
   "source": [
    "**RUN_119**"
   ]
  },
  {
   "cell_type": "code",
   "execution_count": null,
   "metadata": {},
   "outputs": [],
   "source": [
    "full = h5py.File('/home/chen/run_0119.h5', 'r')\n",
    "orig_data = h5py.File('/home/chen/ar46/clean_events/clean_run_0119.h5', 'r')\n",
    "\n",
    "\n",
    "dataset_name = '/clean'\n",
    "orig = orig_data[dataset_name]\n",
    "print(\"# of events: \" + str(len(orig)))\n",
    "\n",
    "dataset_name = '/monte carlo'\n",
    "evt_full = full[dataset_name]\n",
    "print(\"# of clean events successflly processed: \" + str(len(evt_full)))"
   ]
  },
  {
   "cell_type": "code",
   "execution_count": null,
   "metadata": {},
   "outputs": [],
   "source": [
    "monte_carlo = np.empty((0,0))\n",
    "for i in range(len(orig)):\n",
    "    try:\n",
    "        monte_carlo = np.append(monte_carlo, np.array(evt_full[str(i)]))\n",
    "        full_data = np.append(full_data, np.array(evt_full[str(i)]))\n",
    "    except Exception:\n",
    "        print('Event ' + str(i) + ' failed MC fitting')\n",
    "        continue\n",
    "\n",
    "print(monte_carlo)"
   ]
  },
  {
   "cell_type": "code",
   "execution_count": null,
   "metadata": {},
   "outputs": [],
   "source": [
    "plt.hist(monte_carlo, label='Monte-Carlo', bins=30, color='blue',range=(0,140)) #blue\n",
    "plt.legend(loc=2)\n",
    "plt.title('After cut - RUN_0119')\n",
    "plt.xlabel('chi^2')\n",
    "plt.ylabel('count')\n",
    "plt.show()"
   ]
  },
  {
   "cell_type": "code",
   "execution_count": null,
   "metadata": {},
   "outputs": [],
   "source": [
    "plt.hist(full_data, label='Monte-Carlo', bins=80, color='blue') #blue\n",
    "plt.legend(loc=2)\n",
    "plt.title('Full Data So Far')\n",
    "plt.xlabel('chi^2')\n",
    "plt.ylabel('count')\n",
    "plt.show()"
   ]
  },
  {
   "cell_type": "markdown",
   "metadata": {},
   "source": [
    "**RUN_113**"
   ]
  },
  {
   "cell_type": "code",
   "execution_count": null,
   "metadata": {},
   "outputs": [],
   "source": [
    "full = h5py.File('/home/chen/run_0113.h5', 'r')\n",
    "orig_data = h5py.File('/home/chen/ar46/clean_events/clean_run_0113.h5', 'r')\n",
    "#proton_data = h5py.File('/home/chen/data/clean_run_0113.h5', 'r')\n",
    "\n",
    "dataset_name = '/clean'\n",
    "orig = orig_data[dataset_name]\n",
    "print(\"# of events: \" + str(len(orig)))\n",
    "\n",
    "dataset_name = '/monte carlo'\n",
    "evt_full = full[dataset_name]\n",
    "print(\"# of clean events successflly processed: \" + str(len(evt_full)))"
   ]
  },
  {
   "cell_type": "code",
   "execution_count": null,
   "metadata": {},
   "outputs": [],
   "source": [
    "monte_carlo = np.empty((0,0))\n",
    "for i in range(len(orig)):\n",
    "    try:\n",
    "        monte_carlo = np.append(monte_carlo, np.array(evt_full[str(i)]))\n",
    "        full_data = np.append(full_data, np.array(evt_full[str(i)]))\n",
    "    except Exception:\n",
    "        print('Event ' + str(i) + ' failed MC fitting')\n",
    "        continue\n",
    "\n",
    "print(monte_carlo)"
   ]
  },
  {
   "cell_type": "code",
   "execution_count": null,
   "metadata": {},
   "outputs": [],
   "source": [
    "plt.hist(monte_carlo, label='Monte-Carlo', bins=100, color='blue',range=(0,140)) #blue\n",
    "plt.legend(loc=2)\n",
    "plt.title('After cut - RUN_0113')\n",
    "plt.xlabel('chi^2')\n",
    "plt.ylabel('count')\n",
    "plt.show()"
   ]
  },
  {
   "cell_type": "markdown",
   "metadata": {},
   "source": [
    "**RUN_0118**"
   ]
  },
  {
   "cell_type": "code",
   "execution_count": null,
   "metadata": {},
   "outputs": [],
   "source": [
    "full = h5py.File('/home/chen/run_0118.h5', 'r')\n",
    "orig_data = h5py.File('/home/chen/ar46/clean_events/clean_run_0118.h5', 'r')\n",
    "\n",
    "\n",
    "dataset_name = '/clean'\n",
    "orig = orig_data[dataset_name]\n",
    "print(\"# of events: \" + str(len(orig)))\n",
    "\n",
    "dataset_name = '/monte carlo'\n",
    "evt_full = full[dataset_name]\n",
    "print(\"# of clean events successflly processed: \" + str(len(evt_full)))"
   ]
  },
  {
   "cell_type": "code",
   "execution_count": null,
   "metadata": {},
   "outputs": [],
   "source": [
    "monte_carlo = np.empty((0,0))\n",
    "for i in range(len(orig)):\n",
    "    try:\n",
    "        monte_carlo = np.append(monte_carlo, np.array(evt_full[str(i)]))\n",
    "        full_data = np.append(full_data, np.array(evt_full[str(i)]))\n",
    "    except Exception:\n",
    "        print('Event ' + str(i) + ' failed MC fitting')\n",
    "        continue\n",
    "\n",
    "print(monte_carlo)"
   ]
  },
  {
   "cell_type": "code",
   "execution_count": null,
   "metadata": {},
   "outputs": [],
   "source": [
    "plt.hist(monte_carlo, label='Monte-Carlo', bins=30, color='blue',range=(0,140)) #blue\n",
    "plt.legend(loc=2)\n",
    "plt.title('After cut - RUN_0118')\n",
    "plt.xlabel('chi^2')\n",
    "plt.ylabel('count')\n",
    "plt.show()"
   ]
  },
  {
   "cell_type": "markdown",
   "metadata": {},
   "source": [
    "**RUN_0120**"
   ]
  },
  {
   "cell_type": "code",
   "execution_count": 14,
   "metadata": {},
   "outputs": [
    {
     "name": "stdout",
     "output_type": "stream",
     "text": [
      "# of events: 27300\n",
      "12606\n"
     ]
    }
   ],
   "source": [
    "#full = h5py.File('/home/chen/run_0120.h5','r')\n",
    "position = h5py.File('/home/chen/ar46/chi_values/Position/run_0125.h5', 'r')\n",
    "orig_data = h5py.File('/home/chen/ar46/clean_events/clean_run_0125.h5', 'r')\n",
    "#proton_data = h5py.File('/home/chen/data/proton_0120.h5', 'r')\n",
    "#energy = h5py.File('/home/chen/ar46/chi_values/energy/run_0120.h5', 'r')\n",
    "\n",
    "dataset_name = '/clean'\n",
    "orig = orig_data[dataset_name]\n",
    "print(\"# of events: \" + str(len(orig)))\n",
    "\n",
    "#dataset_name = '/monte carlo'\n",
    "#evt_full = full[dataset_name]\n",
    "#print(\"# of clean events successflly processed: \" + str(len(evt_full)))\n",
    "\n",
    "dataset_name = '/monte carlo'\n",
    "evt_position = position[dataset_name]\n",
    "#print(\"# of clean events successflly processed: \" + str(len(evt_position)))\n",
    "print(len(evt_position))\n",
    "#dataset_name = '/monte carlo'\n",
    "#proton_evt_full = proton_data[dataset_name]\n",
    "#print(\"# of proton events successflly processed: \" + str(len(proton_evt_full)))\n",
    "\n",
    "#dataset_name = '/monte carlo'\n",
    "#evt_energy = energy[dataset_name]\n",
    "#print(\"# of clean events successflly processed: \" + str(len(evt_energy)))"
   ]
  },
  {
   "cell_type": "code",
   "execution_count": 10,
   "metadata": {},
   "outputs": [
    {
     "name": "stdout",
     "output_type": "stream",
     "text": [
      "2893\n"
     ]
    }
   ],
   "source": [
    "#monte_carlo = np.empty((0,0))\n",
    "position = np.empty((0,0))\n",
    "#proton = np.empty((0,0))\n",
    "#energy = np.empty((0,0))\n",
    "\n",
    "for i in range(len(orig)):\n",
    "    try:\n",
    "#        monte_carlo = np.append(monte_carlo, np.array(evt_full[str(i)]))\n",
    "#        full_data = np.append(full_data, np.array(evt_full[str(i)]))\n",
    "        position = np.append(position, np.array(evt_position[str(i)]))\n",
    "        full_data_position = np.append(full_data_position, np.array(evt_position[str(i)]))\n",
    "#        proton = np.append(proton, np.array(proton_evt_full[str(i)]))\n",
    "#        energy = np.append(energy, np.array(evt_energy[str(i)]))\n",
    "    except Exception:\n",
    "#        print('Event ' + str(i) + ' failed MC fitting')\n",
    "        continue\n",
    "\n",
    "#print(len(energy))\n",
    "print(len(position))"
   ]
  },
  {
   "cell_type": "code",
   "execution_count": 11,
   "metadata": {},
   "outputs": [
    {
     "data": {
      "image/png": "[encoded data removed]",
      "text/plain": [
       "<Figure size 432x288 with 1 Axes>"
      ]
     },
     "metadata": {},
     "output_type": "display_data"
    }
   ],
   "source": [
    "#plt.hist(monte_carlo, label='total chi^2', bins=300, color='blue',range=(0,120)) #blue\n",
    "plt.hist(position, label='position chi^2', bins=300, color='green') #blue\n",
    "#plt.hist(proton, label='proton', bins=100, color='orange')\n",
    "#plt.hist(energy, label='energy chi^2', bins=300, color='cyan') #blue\n",
    "plt.legend(loc=1)\n",
    "plt.title('After cut - RUN_0120')\n",
    "plt.xlabel('chi^2')\n",
    "plt.ylabel('count')\n",
    "plt.show()"
   ]
  },
  {
   "cell_type": "markdown",
   "metadata": {},
   "source": [
    "**RUN_0122**"
   ]
  },
  {
   "cell_type": "code",
   "execution_count": null,
   "metadata": {},
   "outputs": [],
   "source": [
    "full = h5py.File('/home/chen/run_0122.h5','r')\n",
    "position = h5py.File('/home/chen/ar46/chi_values/Position/run_0122.h5', 'r')\n",
    "orig_data = h5py.File('/home/chen/ar46/clean_events/clean_run_0122.h5', 'r')\n",
    "energy = h5py.File('/home/chen/ar46/chi_values/energy/run_0122.h5', 'r')\n",
    "proton_data = h5py.File('/home/chen/data/proton_0122.h5', 'r')\n",
    "dataset_name = '/clean'\n",
    "orig = orig_data[dataset_name]\n",
    "print(\"# of events: \" + str(len(orig)))\n",
    "\n",
    "dataset_name = '/monte carlo'\n",
    "evt_full = full[dataset_name]\n",
    "print(\"# of clean events successflly processed: \" + str(len(evt_full)))\n",
    "\n",
    "dataset_name = '/monte carlo'\n",
    "evt_position = position[dataset_name]\n",
    "#print(\"# of clean events successflly processed: \" + str(len(evt_position)))\n",
    "\n",
    "dataset_name = '/monte carlo'\n",
    "evt_energy = energy[dataset_name]\n",
    "#print(\"# of clean events successflly processed: \" + str(len(evt_energy)))\n",
    "\n",
    "dataset_name = '/monte carlo'\n",
    "proton_evt_full = proton_data[dataset_name]\n",
    "print(\"# of proton events successflly processed: \" + str(len(proton_evt_full)))\n"
   ]
  },
  {
   "cell_type": "code",
   "execution_count": null,
   "metadata": {},
   "outputs": [],
   "source": [
    "monte_carlo = np.empty((0,0))\n",
    "position = np.empty((0,0))\n",
    "energy = np.empty((0,0))\n",
    "for i in range(len(orig)):\n",
    "    try:\n",
    "        monte_carlo = np.append(monte_carlo, np.array(evt_full[str(i)]))\n",
    "        full_data = np.append(full_data, np.array(evt_full[str(i)]))\n",
    "        position = np.append(position, np.array(evt_position[str(i)]))\n",
    "        full_data_position = np.append(full_data_position, np.array(evt_position[str(i)]))\n",
    "        energy = np.append(energy, np.array(evt_energy[str(i)]))\n",
    "        proton = np.append(proton, np.array(proton_evt_full[str(i)]))\n",
    "    except Exception:\n",
    "#        print('Event ' + str(i) + ' failed MC fitting')\n",
    "        continue\n",
    "\n",
    "print(monte_carlo)"
   ]
  },
  {
   "cell_type": "code",
   "execution_count": null,
   "metadata": {
    "scrolled": false
   },
   "outputs": [],
   "source": [
    "#plt.hist(monte_carlo, label='total chi^2', bins=300, color='blue',range=(0,120)) #blue\n",
    "#plt.hist(position, label='position chi^2', bins=300, color='green',range=(0,105)) #blue\n",
    "plt.hist(energy, label='energy chi^2', bins=300, color='cyan') \n",
    "#plt.hist(proton, label='proton', bins=100, color='orange')\n",
    "\n",
    "plt.legend(loc=1)\n",
    "plt.title('After cut - RUN_0122')\n",
    "plt.xlabel('chi^2')\n",
    "plt.ylabel('count')\n",
    "plt.show()\n",
    "plt.hist(proton, label='proton', bins=100, color='orange')\n",
    "plt.show()"
   ]
  },
  {
   "cell_type": "markdown",
   "metadata": {},
   "source": [
    "**RUN_0131**"
   ]
  },
  {
   "cell_type": "code",
   "execution_count": null,
   "metadata": {},
   "outputs": [],
   "source": [
    "full = h5py.File('/home/chen/run_0122.h5', 'r')\n",
    "orig_data = h5py.File('/home/chen/ar46/clean_events/clean_run_0122.h5', 'r')\n",
    "proton_data = h5py.File('/home/chen/data/proton_0122.h5', 'r')\n",
    "\n",
    "dataset_name = '/clean'\n",
    "orig = orig_data[dataset_name]\n",
    "print(\"# of events: \" + str(len(orig)))\n",
    "\n",
    "dataset_name = '/monte carlo'\n",
    "evt_full = full[dataset_name]\n",
    "print(\"# of clean events successflly processed: \" + str(len(evt_full)))\n",
    "\n",
    "dataset_name = '/monte carlo'\n",
    "proton_evt_full = proton_data[dataset_name]\n",
    "print(\"# of proton events successflly processed: \" + str(len(proton_evt_full)))"
   ]
  },
  {
   "cell_type": "code",
   "execution_count": null,
   "metadata": {
    "scrolled": true
   },
   "outputs": [],
   "source": [
    "monte_carlo = np.empty((0,0))\n",
    "proton = np.empty((0,0))\n",
    "for i in range(len(orig)):\n",
    "    try:\n",
    "        monte_carlo = np.append(monte_carlo, np.array(evt_full[str(i)]))\n",
    "#        full_data = np.append(full_data, np.array(evt_full[str(i)]))\n",
    "        proton = np.append(proton, np.array(proton_evt_full[str(i)]))\n",
    "    except Exception:\n",
    "#        print('Event ' + str(i) + ' failed MC fitting')\n",
    "        continue\n"
   ]
  },
  {
   "cell_type": "code",
   "execution_count": null,
   "metadata": {},
   "outputs": [],
   "source": [
    "print(proton)\n",
    "\n",
    "plt.hist(monte_carlo, label='Monte-Carlo', bins=100, color='blue',range=(0,140)) #blue\n",
    "plt.hist(proton, label='proton', bins=100, color='orange',range=(0,140))\n",
    "plt.legend(loc=2)\n",
    "plt.title('After cut - RUN_0122')\n",
    "plt.xlabel('chi^2')\n",
    "plt.ylabel('count')\n",
    "plt.show()\n",
    "\n",
    "plt.hist(proton, label='proton', bins=100, color='orange',range=(0,140))"
   ]
  },
  {
   "cell_type": "markdown",
   "metadata": {},
   "source": [
    "**RUN_0134**"
   ]
  },
  {
   "cell_type": "code",
   "execution_count": null,
   "metadata": {},
   "outputs": [],
   "source": [
    "full = h5py.File('/home/chen/ar46/chi_values/run_0134.h5', 'r')\n",
    "orig_data = h5py.File('/home/chen/ar46/clean_events/clean_run_0134.h5', 'r')\n",
    "\n",
    "\n",
    "dataset_name = '/clean'\n",
    "orig = orig_data[dataset_name]\n",
    "print(\"# of events: \" + str(len(orig)))\n",
    "\n",
    "dataset_name = '/monte carlo'\n",
    "evt_full = full[dataset_name]\n",
    "print(\"# of clean events successflly processed: \" + str(len(evt_full)))"
   ]
  },
  {
   "cell_type": "code",
   "execution_count": null,
   "metadata": {},
   "outputs": [],
   "source": [
    "monte_carlo = np.empty((0,0))\n",
    "proton = np.empty((0,0))\n",
    "for i in range(len(orig)):\n",
    "    try:\n",
    "        monte_carlo = np.append(monte_carlo, np.array(evt_full[str(i)]))\n",
    "        full_data = np.append(full_data, np.array(evt_full[str(i)]))\n",
    "        proton = np.append(proton, np.array(proton_evt_full[str(i)]))\n",
    "    except Exception:\n",
    "        print('Event ' + str(i) + ' failed MC fitting')\n",
    "        continue"
   ]
  },
  {
   "cell_type": "code",
   "execution_count": null,
   "metadata": {},
   "outputs": [],
   "source": [
    "plt.hist(monte_carlo, label='Monte-Carlo', bins=30, color='blue',range=(0,140)) #blue\n",
    "plt.hist(proton, label='proton', bins=30, color='orange',range=(0,140))\n",
    "plt.legend(loc=2)\n",
    "plt.title('After cut - RUN_0131')\n",
    "plt.xlabel('chi^2')\n",
    "plt.ylabel('count')\n",
    "plt.show()\n",
    "\n",
    "plt.hist(proton, label='proton', bins=30, color='orange',range=(0,140))"
   ]
  },
  {
   "cell_type": "code",
   "execution_count": null,
   "metadata": {},
   "outputs": [],
   "source": [
    "full = h5py.File('/home/chen/run_0131_mc.h5', 'r')\n",
    "\n",
    "dataset_name = '/monte carlo'\n",
    "evt_full = full[dataset_name]\n",
    "print(\"# of clean events successflly processed: \" + str(len(evt_full)))"
   ]
  },
  {
   "cell_type": "markdown",
   "metadata": {},
   "source": [
    "**RUN_0121**"
   ]
  },
  {
   "cell_type": "code",
   "execution_count": null,
   "metadata": {},
   "outputs": [],
   "source": [
    "full = h5py.File('/home/chen/run_0121.h5', 'r')\n",
    "orig_data = h5py.File('/home/chen/ar46/clean_events/clean_run_0121.h5', 'r')\n",
    "\n",
    "dataset_name = '/clean'\n",
    "orig = orig_data[dataset_name]\n",
    "print(\"# of events: \" + str(len(orig)))\n",
    "\n",
    "dataset_name = '/monte carlo'\n",
    "evt_full = full[dataset_name]\n",
    "print(\"# of clean events successflly processed: \" + str(len(evt_full)))"
   ]
  },
  {
   "cell_type": "code",
   "execution_count": null,
   "metadata": {},
   "outputs": [],
   "source": [
    "monte_carlo = np.empty((0,0))\n",
    "proton = np.empty((0,0))\n",
    "for i in range(len(orig)):\n",
    "    try:\n",
    "        monte_carlo = np.append(monte_carlo, np.array(evt_full[str(i)]))\n",
    "        full_data = np.append(full_data, np.array(evt_full[str(i)]))\n",
    "    except Exception:\n",
    "        print('Event ' + str(i) + ' failed MC fitting')\n",
    "        continue\n",
    "subtract = 0\n",
    "full_evt_ID = []\n",
    "for i in range(len(orig)):\n",
    "    full_evt_ID.append(i)\n",
    "print(len(full_evt_ID))\n",
    "for evt_index in full_evt_ID:\n",
    "    try:\n",
    "        xyzs_h5 = evt_inFile[str(evt_index)]\n",
    "        evt_index-subtract\n",
    "    except Exception:\n",
    "        full_evt_ID.remove(evt_index)\n",
    "        subtract += 1\n",
    "    try:\n",
    "        proton = np.append(proton, np.array(proton_evt_full[str(evt_index)]))\n",
    "    except Exception:\n",
    "        print('Event ' + str(i) + ' failed MC fitting')\n",
    "        continue\n"
   ]
  },
  {
   "cell_type": "code",
   "execution_count": null,
   "metadata": {},
   "outputs": [],
   "source": [
    "plt.hist(monte_carlo, label='Monte-Carlo', bins=100, color='blue',range=(0,140)) #blue\n",
    "plt.legend(loc=2)\n",
    "plt.title('After cut - RUN_0121')\n",
    "plt.xlabel('chi^2')\n",
    "plt.ylabel('count')\n",
    "plt.show()"
   ]
  },
  {
   "cell_type": "markdown",
   "metadata": {},
   "source": [
    "**RUN_0123**"
   ]
  },
  {
   "cell_type": "code",
   "execution_count": null,
   "metadata": {},
   "outputs": [],
   "source": [
    "full = h5py.File('/home/chen/run_0123.h5', 'r')\n",
    "orig_data = h5py.File('/home/chen/ar46/clean_events/clean_run_0123.h5', 'r')\n",
    "#proton_data = h5py.File('/home/chen/data/proton_0121.h5', 'r')\n",
    "\n",
    "dataset_name = '/clean'\n",
    "orig = orig_data[dataset_name]\n",
    "print(\"# of events: \" + str(len(orig)))\n",
    "\n",
    "dataset_name = '/monte carlo'\n",
    "evt_full = full[dataset_name]\n",
    "print(\"# of clean events successflly processed: \" + str(len(evt_full)))\n",
    "\n",
    "#dataset_name = '/monte carlo'\n",
    "#proton_evt_full = proton_data[dataset_name]\n",
    "#print(\"# of proton events successflly processed: \" + str(len(proton_evt_full)))"
   ]
  },
  {
   "cell_type": "code",
   "execution_count": null,
   "metadata": {},
   "outputs": [],
   "source": [
    "monte_carlo = np.empty((0,0))\n",
    "for i in range(len(orig)):\n",
    "    try:\n",
    "        monte_carlo = np.append(monte_carlo, np.array(evt_full[str(i)]))\n",
    "        full_data = np.append(full_data, np.array(evt_full[str(i)]))\n",
    "#        proton = np.append(proton, np.array(proton_evt_full[str(evt_index)]))\n",
    "        \n",
    "    except Exception:\n",
    "        print('Event ' + str(i) + ' failed MC fitting')\n",
    "        continue\n",
    "\n",
    "print(monte_carlo)"
   ]
  },
  {
   "cell_type": "code",
   "execution_count": null,
   "metadata": {},
   "outputs": [],
   "source": [
    "plt.hist(monte_carlo, label='Monte-Carlo', bins=30, color='blue',range=(0,140))\n",
    "plt.hist(proton, label='Monte-Carlo', bins=30, color='orange',range=(0,140))\n",
    "#blue\n",
    "plt.legend(loc=2)\n",
    "plt.title('After cut - RUN_0123')\n",
    "plt.xlabel('chi^2')\n",
    "plt.ylabel('count')\n",
    "plt.show()\n",
    "\n",
    "plt.hist(proton, label='Monte-Carlo', bins=30, color='orange',range=(0,140))"
   ]
  },
  {
   "cell_type": "markdown",
   "metadata": {},
   "source": [
    "**RUN_0125**"
   ]
  },
  {
   "cell_type": "code",
   "execution_count": null,
   "metadata": {},
   "outputs": [],
   "source": [
    "full = h5py.File('/home/chen/run_0125.h5','r')\n",
    "position = h5py.File('/home/chen/ar46/chi_values/Position/run_0125.h5', 'r')\n",
    "orig_data = h5py.File('/home/chen/ar46/clean_events/clean_run_0125.h5', 'r')\n",
    "\n",
    "\n",
    "dataset_name = '/clean'\n",
    "orig = orig_data[dataset_name]\n",
    "print(\"# of events: \" + str(len(orig)))\n",
    "\n",
    "dataset_name = '/monte carlo'\n",
    "evt_full = full[dataset_name]\n",
    "print(\"# of clean events successflly processed: \" + str(len(evt_full)))\n",
    "\n",
    "dataset_name = '/monte carlo'\n",
    "evt_position = position[dataset_name]\n",
    "print(\"# of clean events successflly processed: \" + str(len(evt_position)))"
   ]
  },
  {
   "cell_type": "code",
   "execution_count": null,
   "metadata": {},
   "outputs": [],
   "source": [
    "monte_carlo = np.empty((0,0))\n",
    "position = np.empty((0,0))\n",
    "for i in range(len(orig)):\n",
    "    try:\n",
    "        monte_carlo = np.append(monte_carlo, np.array(evt_full[str(i)]))\n",
    "        full_data = np.append(full_data, np.array(evt_full[str(i)]))\n",
    "        position = np.append(position, np.array(evt_position[str(i)]))\n",
    "        full_data_position = np.append(full_data_position, np.array(evt_position[str(i)]))\n",
    "        \n",
    "    except Exception:\n",
    "#        print('Event ' + str(i) + ' failed MC fitting')\n",
    "        continue\n",
    "\n",
    "print(monte_carlo)"
   ]
  },
  {
   "cell_type": "code",
   "execution_count": null,
   "metadata": {},
   "outputs": [],
   "source": [
    "#plt.hist(monte_carlo, label='total chi^2', bins=300, color='blue',range=(0,120)) #blue\n",
    "plt.hist(position, label='position chi^2', bins=300, color='green',range=(0,105)) #blue\n",
    "plt.hist(proton, label='proton', bins=100, color='orange',range=(0,105))\n",
    "plt.legend(loc=1)\n",
    "plt.title('After cut - RUN_0122')\n",
    "plt.xlabel('chi^2')\n",
    "plt.ylabel('count')\n",
    "plt.show()"
   ]
  },
  {
   "cell_type": "code",
   "execution_count": null,
   "metadata": {},
   "outputs": [],
   "source": [
    "full = h5py.File('/home/chen/run_0124.h5', 'r')\n",
    "orig_data = h5py.File('/home/chen/ar46/clean_events/clean_run_0124.h5', 'r')\n",
    "\n",
    "dataset_name = '/clean'\n",
    "orig = orig_data[dataset_name]\n",
    "print(\"# of events: \" + str(len(orig)))\n",
    "\n",
    "dataset_name = '/monte carlo'\n",
    "evt_full = full[dataset_name]\n",
    "print(\"# of clean events successflly processed: \" + str(len(evt_full)))"
   ]
  },
  {
   "cell_type": "code",
   "execution_count": null,
   "metadata": {},
   "outputs": [],
   "source": [
    "monte_carlo = np.empty((0,0))\n",
    "for i in range(len(orig)):\n",
    "    try:\n",
    "        monte_carlo = np.append(monte_carlo, np.array(evt_full[str(i)]))\n",
    "        full_data = np.append(full_data, np.array(evt_full[str(i)]))\n",
    "    except Exception:\n",
    "        print('Event ' + str(i) + ' failed MC fitting')\n",
    "        continue\n",
    "\n",
    "print(monte_carlo)"
   ]
  },
  {
   "cell_type": "code",
   "execution_count": null,
   "metadata": {},
   "outputs": [],
   "source": [
    "plt.hist(monte_carlo, label='Monte-Carlo', bins=30, color='blue',range=(0,140)) #blue\n",
    "plt.legend(loc=2)\n",
    "plt.title('After cut - RUN_0124')\n",
    "plt.xlabel('chi^2')\n",
    "plt.ylabel('count')\n",
    "plt.show()"
   ]
  },
  {
   "cell_type": "code",
   "execution_count": 12,
   "metadata": {},
   "outputs": [
    {
     "data": {
      "image/png": "[encoded data removed]",
      "text/plain": [
       "<Figure size 432x288 with 1 Axes>"
      ]
     },
     "metadata": {},
     "output_type": "display_data"
    }
   ],
   "source": [
    "plt.hist(full_data_position, label='Monte-Carlo', bins=300, color='green') #blue\n",
    "plt.legend(loc=1)\n",
    "plt.title('Full Data So Far - position')\n",
    "plt.xlabel('chi^2')\n",
    "plt.ylabel('count')\n",
    "plt.show()"
   ]
  },
  {
   "cell_type": "code",
   "execution_count": null,
   "metadata": {},
   "outputs": [],
   "source": []
  }
 ],
 "metadata": {
  "kernelspec": {
   "display_name": "Python 3",
   "language": "python",
   "name": "python3"
  },
  "language_info": {
   "codemirror_mode": {
    "name": "ipython",
    "version": 3
   },
   "file_extension": ".py",
   "mimetype": "text/x-python",
   "name": "python",
   "nbconvert_exporter": "python",
   "pygments_lexer": "ipython3",
   "version": "3.6.5"
  }
 },
 "nbformat": 4,
 "nbformat_minor": 2
}
