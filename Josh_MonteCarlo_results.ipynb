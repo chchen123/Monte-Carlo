{
 "cells": [
  {
   "cell_type": "code",
   "execution_count": null,
   "metadata": {
    "collapsed": true,
    "deletable": true,
    "editable": true
   },
   "outputs": [],
   "source": [
    "%matplotlib inline"
   ]
  },
  {
   "cell_type": "code",
   "execution_count": null,
   "metadata": {
    "collapsed": false,
    "deletable": true,
    "editable": true
   },
   "outputs": [],
   "source": [
    "import sqlite3\n",
    "import numpy as np\n",
    "import pandas as pd\n",
    "import scipy\n",
    "import pytpc\n",
    "from math import ceil, floor\n",
    "from pytpc.constants import *\n",
    "from pytpc.cleaning import apply_clean_cut\n",
    "from pytpc.tpcplot import pad_plot\n",
    "import matplotlib.pyplot as plt\n",
    "from matplotlib.colors import LogNorm\n",
    "from matplotlib.path import Path\n",
    "from matplotlib.patches import PathPatch\n",
    "import matplotlib as mpl\n",
    "import seaborn.apionly as sns\n",
    "import glob\n",
    "import re\n",
    "import h5py\n",
    "import yaml\n",
    "import sys\n",
    "if '../fitters/' not in sys.path:\n",
    "    sys.path.append('../fitters/')\n",
    "from pytpc.relativity import find_proton_params"
   ]
  },
  {
   "cell_type": "code",
   "execution_count": null,
   "metadata": {
    "collapsed": true,
    "deletable": true,
    "editable": true
   },
   "outputs": [],
   "source": [
    "sns.set_context('talk')"
   ]
  },
  {
   "cell_type": "code",
   "execution_count": null,
   "metadata": {
    "collapsed": true,
    "deletable": true,
    "editable": true
   },
   "outputs": [],
   "source": [
    "mcmin_h5path = '/Users/josh/Documents/Data/Results/e15503b/mcmin/Nov3/results.h5'\n",
    "# mcmin_h5path = '/Users/josh/Documents/Code/ar40-aug15/fitters/test_results.h5'"
   ]
  },
  {
   "cell_type": "code",
   "execution_count": null,
   "metadata": {
    "collapsed": true,
    "deletable": true,
    "editable": true
   },
   "outputs": [],
   "source": [
    "def transfer(amp, shape, offset=0):\n",
    "    t = np.arange(512)\n",
    "    f = amp*np.exp(-3*(t-offset)/shape)*np.sin((t-offset)/shape)*((t-offset)/shape)**3 / 0.044\n",
    "    return np.where(t >= offset, f, np.zeros(t.shape))"
   ]
  },
  {
   "cell_type": "code",
   "execution_count": null,
   "metadata": {
    "collapsed": true,
    "deletable": true,
    "editable": true
   },
   "outputs": [],
   "source": [
    "with open('../fitters/config_e15503b.yml', 'r') as f:\n",
    "    config = yaml.load(f)\n",
    "with open('../fitters/config_e15503b_macmini.yml', 'r') as f:\n",
    "    patch = yaml.load(f)\n",
    "config.update(patch)"
   ]
  },
  {
   "cell_type": "code",
   "execution_count": null,
   "metadata": {
    "collapsed": false,
    "deletable": true,
    "editable": true
   },
   "outputs": [],
   "source": [
    "runtables = pd.read_csv('/Users/josh/Documents/Data/Meta/e15503b/e15503b-rundata-parseable.csv', index_col='run_num')"
   ]
  },
  {
   "cell_type": "code",
   "execution_count": null,
   "metadata": {
    "collapsed": false,
    "deletable": true,
    "editable": true
   },
   "outputs": [],
   "source": [
    "vmedata = pd.read_hdf('/Users/josh/Documents/Data/Results/e15503b/select_vme/vme_good_events_e15503b.h5')\n",
    "vmedata.index = ['{:04g}_{:d}'.format(r, e) for r, e in zip(vmedata.run_num, vmedata.evt_id)]"
   ]
  },
  {
   "cell_type": "markdown",
   "metadata": {
    "deletable": true,
    "editable": true
   },
   "source": [
    "# Merge dbs"
   ]
  },
  {
   "cell_type": "code",
   "execution_count": null,
   "metadata": {
    "collapsed": false,
    "deletable": true,
    "editable": true
   },
   "outputs": [],
   "source": [
    "rawdbs = glob.glob('/Users/josh/Documents/Data/Results/e15503b/mcmin/2016/Nov3/raw/*.db')\n",
    "# rawdbs = glob.glob('../fitters/*test*.db')\n",
    "# rawdbs = ['../fitters/run_0166_results.db']\n",
    "print('Found {} databases'.format(len(rawdbs)))"
   ]
  },
  {
   "cell_type": "code",
   "execution_count": null,
   "metadata": {
    "collapsed": false,
    "deletable": true,
    "editable": true
   },
   "outputs": [],
   "source": [
    "rawres = []\n",
    "for db in rawdbs:\n",
    "    try:\n",
    "        with sqlite3.connect(db) as conn:\n",
    "            df = pd.read_sql('SELECT * FROM mcmin_results', conn)\n",
    "    except Exception as e:\n",
    "        print('Problem with database', db, e)\n",
    "        continue\n",
    "    else:\n",
    "        run_num = re.search(r'mcmin_run_(\\d+)', db).group(1)\n",
    "        df['run_num'] = int(run_num)\n",
    "        df.index = ['{:04g}_{:d}'.format(r, e) for r, e in zip(df.run_num, df.evt_id)]\n",
    "    rawres.append(df)\n",
    "res = pd.concat(rawres, axis=0)\n",
    "del rawres\n",
    "del df"
   ]
  },
  {
   "cell_type": "code",
   "execution_count": null,
   "metadata": {
    "collapsed": false,
    "deletable": true,
    "editable": true
   },
   "outputs": [],
   "source": [
    "# res.to_hdf(mcmin_h5path, 'Results')"
   ]
  },
  {
   "cell_type": "markdown",
   "metadata": {
    "deletable": true,
    "editable": true
   },
   "source": [
    "# Import results"
   ]
  },
  {
   "cell_type": "code",
   "execution_count": null,
   "metadata": {
    "collapsed": false,
    "deletable": true,
    "editable": true
   },
   "outputs": [],
   "source": [
    "# res = pd.read_hdf(mcmin_h5path, 'Results')"
   ]
  },
  {
   "cell_type": "markdown",
   "metadata": {
    "deletable": true,
    "editable": true
   },
   "source": [
    "# Merge with VME data"
   ]
  },
  {
   "cell_type": "code",
   "execution_count": null,
   "metadata": {
    "collapsed": false,
    "deletable": true,
    "editable": true
   },
   "outputs": [],
   "source": [
    "res = pd.merge(res, vmedata[['height', 'cfd_pos', 'group']], left_index=True, right_index=True)"
   ]
  },
  {
   "cell_type": "code",
   "execution_count": null,
   "metadata": {
    "collapsed": false,
    "deletable": true,
    "editable": true
   },
   "outputs": [],
   "source": [
    "res.rename(columns={'height': 'ic_height', 'cfd_pos': 'ic_cfd_pos', 'group': 'vme_group'}, inplace=True)"
   ]
  },
  {
   "cell_type": "code",
   "execution_count": null,
   "metadata": {
    "collapsed": true,
    "deletable": true,
    "editable": true
   },
   "outputs": [],
   "source": []
  },
  {
   "cell_type": "code",
   "execution_count": null,
   "metadata": {
    "collapsed": false,
    "deletable": true,
    "editable": true
   },
   "outputs": [],
   "source": [
    "testdata = res[goodfitcut].sample(n=20000).copy()\n",
    "testdata['npts'] = 0\n",
    "\n",
    "for i, row in testdata.iterrows():\n",
    "    fp = '/Users/josh/Documents/Data/Merged/e15503b/clean/clean_run_{:04d}.h5'.format(int(row.run_num))\n",
    "    with h5py.File(fp, 'r') as f:\n",
    "        ds = f['/clean/{}'.format(int(row.evt_id))]\n",
    "        raw_xyz_full = ds[:]\n",
    "        cx, cy = ds.attrs['center']\n",
    "        \n",
    "    raw_xyz = apply_clean_cut(raw_xyz_full)\n",
    "    \n",
    "    testdata.loc[i, 'npts'] = len(raw_xyz)"
   ]
  },
  {
   "cell_type": "code",
   "execution_count": null,
   "metadata": {
    "collapsed": false,
    "deletable": true,
    "editable": true
   },
   "outputs": [],
   "source": [
    "d = testdata[testdata.npts > 0]\n",
    "plt.scatter(d.cm_angle, d.enu0, c=d.npts, alpha=0.5, cmap='viridis', linewidth=0)\n",
    "plt.colorbar()\n",
    "plt.xlim(0, 2.6)\n",
    "plt.ylim(0, 8)"
   ]
  },
  {
   "cell_type": "code",
   "execution_count": null,
   "metadata": {
    "collapsed": false,
    "deletable": true,
    "editable": true
   },
   "outputs": [],
   "source": [
    "d = testdata[testdata.npts > 200]\n",
    "plt.hist2d(d.cm_angle, d.enu0, bins=50, range=((0, 2.0), (0, 6)), cmap='viridis');\n",
    "plt.gca().grid(False)"
   ]
  },
  {
   "cell_type": "code",
   "execution_count": null,
   "metadata": {
    "collapsed": false,
    "deletable": true,
    "editable": true
   },
   "outputs": [],
   "source": [
    "def histerr(x, bins, **kwargs):\n",
    "    xb, xe = np.histogram(x, bins=bins)\n",
    "    plt.errorbar(xe[:-1] + (xe[1] - xe[0]) / 2, xb, yerr=np.sqrt(xb), fmt='b.', ecolor='b', elinewidth=1,\n",
    "                 capthick=1, capsize=1, **kwargs)\n",
    "#     plt.step(xe[:-1], xb, linewidth=1, where='post')\n",
    "    \n",
    "dtheta = 5.0\n",
    "dE = 50 * 1e-3\n",
    "histbins = (np.arange(0, 180 + dtheta, dtheta),\n",
    "            np.arange(0, 5.0 + dE, dE))\n",
    "chosen_theta = 65\n",
    "    \n",
    "d = testdata[testdata.npts > 0].copy()\n",
    "d['thbin'] = histbins[0][np.digitize(d.cm_angle / degrees, histbins[0])]\n",
    "subplotdata = d[d.thbin == chosen_theta]\n",
    "\n",
    "histerr(subplotdata.kine_vert_en, histbins[1])\n",
    "# plt.hist(subplotdata.kine_vert_en, bins=histbins[1], histtype='stepfilled')\n",
    "\n",
    "plt.xlabel('46Ar vertex energy [MeV/u]')\n",
    "plt.ylabel('Count')\n",
    "plt.title(r'$\\theta_{{CM}} = {}^\\circ$'.format(chosen_theta))\n",
    "plt.tight_layout()"
   ]
  },
  {
   "cell_type": "markdown",
   "metadata": {
    "deletable": true,
    "editable": true
   },
   "source": [
    "# Rutherford"
   ]
  },
  {
   "cell_type": "code",
   "execution_count": null,
   "metadata": {
    "collapsed": true,
    "deletable": true,
    "editable": true
   },
   "outputs": [],
   "source": [
    "def rutherford(th, Z1, Z2, en):\n",
    "    en = en * 1e6 * e_chg\n",
    "    return (Z1*Z2*e_chg**2 / (16*pi*eps_0*en))**2 / np.sin(np.pi/2 - th)**4 * 1e28"
   ]
  },
  {
   "cell_type": "markdown",
   "metadata": {
    "deletable": true,
    "editable": true
   },
   "source": [
    "# Fit checker"
   ]
  },
  {
   "cell_type": "code",
   "execution_count": null,
   "metadata": {
    "collapsed": true,
    "deletable": true,
    "editable": true
   },
   "outputs": [],
   "source": [
    "import os\n",
    "from pytpc.fitting.mixins import constrain_angle, odrline"
   ]
  },
  {
   "cell_type": "code",
   "execution_count": null,
   "metadata": {
    "collapsed": false,
    "deletable": true,
    "editable": true
   },
   "outputs": [],
   "source": [
    "class FitPlotter(object):\n",
    "    def __init__(self, data_path, mcfitter):\n",
    "        self.data_path = data_path\n",
    "        self.fitter = mcfitter\n",
    "        \n",
    "    def plot_fit(self, fitres, run_num, evt_id):\n",
    "        fp = os.path.join(self.data_path, 'clean_run_{:04d}.h5'.format(run_num))\n",
    "        with h5py.File(fp, 'r') as hf:\n",
    "            dataset = hf['/clean/{}'.format(int(evt_id))]\n",
    "            raw_xyz = dataset[:]\n",
    "            cx, cy = dataset.attrs['center'][:2]\n",
    "            \n",
    "        raw_xyz = pytpc.cleaning.apply_clean_cut(raw_xyz)\n",
    "        xyz, (cu, cv) = self.fitter.preprocess(raw_xyz, center=[cx, cy], rotate_pads=False, last_tb=505)\n",
    "#         xyz = pytpc.cleaning.nn_remove_noise(xyz)\n",
    "        print('Num points:', len(xyz))\n",
    "        \n",
    "        tr = self.fitter.tracker.track_particle(fitres.x0, fitres.y0, fitres.z0, fitres.enu0, \n",
    "                                                fitres.azi0, fitres.pol0)\n",
    "        \n",
    "        arclen = np.sum(np.sqrt(np.sum(np.diff(tr[:, :3], axis=0)**2, -1)))\n",
    "        print('Arclen:', arclen)\n",
    "        print('Energy from arclen: ', self.fitter.gas.inverse_range(arclen, 1, 1))\n",
    "        \n",
    "        orig_guess = self.fitter.guess_parameters(fitres)\n",
    "        orig_tr = self.fitter.tracker.track_particle(*orig_guess)\n",
    "        \n",
    "        xyz['cx'] = xyz.u - cu\n",
    "        xyz['cy'] = xyz.v - cv\n",
    "        xyz['cr'] = np.hypot(xyz.cx, xyz.cy)\n",
    "        xyz['cth'] = np.unwrap(constrain_angle(np.arctan2(-cv, -cu) - np.arctan2(xyz.cy, xyz.cx)), discont=1.8 * pi)\n",
    "        if np.abs(xyz['cth'].min() - 2 * pi) < 5 * degrees:\n",
    "            xyz['cth'] -= 2 * pi\n",
    "        \n",
    "        fig, ax = plt.subplots(3, 2, figsize=(12, 14))\n",
    "        fig.subplots_adjust(hspace=0.4, wspace=0.4)\n",
    "        ax[0, 0].plot(xyz.w / 1000, xyz.u / 1000, '.')\n",
    "        ax[0, 0].plot(tr[:, 2], tr[:, 0])\n",
    "        ax[0, 0].plot(orig_tr[:, 2], orig_tr[:, 0], '--')\n",
    "        ax[0, 0].set_xlabel('w [m]')\n",
    "        ax[0, 0].set_ylabel('u [m]')\n",
    "        \n",
    "        ax[0, 1].plot(xyz.w / 1000, xyz.v / 1000, '.')\n",
    "        ax[0, 1].plot(tr[:, 2], tr[:, 1])\n",
    "        ax[0, 1].plot(orig_tr[:, 2], orig_tr[:, 1], '--')\n",
    "        ax[0, 1].set_xlabel('w [m]')\n",
    "        ax[0, 1].set_ylabel('v [m]')\n",
    "        \n",
    "        ax[1, 0].plot(xyz.w/1000, np.hypot(xyz.u, xyz.v) / 1000, '.')\n",
    "        ax[1, 0].plot(tr[:, 2], np.hypot(tr[:, 0], tr[:, 1]))\n",
    "        ax[1, 0].plot(orig_tr[:, 2], np.hypot(orig_tr[:, 0], orig_tr[:, 1]), '--')\n",
    "        ax[1, 0].set_xlabel('w [m]')\n",
    "        ax[1, 0].set_ylabel('$\\sqrt{u^2 + v^2}$ [m]')\n",
    "        \n",
    "        ax[1, 1].plot(xyz.u / 1000, xyz.v / 1000, '.')\n",
    "        ax[1, 1].plot(tr[:, 0], tr[:, 1])\n",
    "        ths = np.linspace(0, 2*pi, 100)\n",
    "        ax[1, 1].plot(fitres.rad_curv/1000 * np.cos(ths) + fitres.curv_ctr_x/1000, \n",
    "                      fitres.rad_curv/1000 * np.sin(ths) + fitres.curv_ctr_y/1000, 'r--')\n",
    "        ax[1, 1].plot(cu/1000, cv/1000, 'k+', mew=1.5)\n",
    "        ax[1, 1].plot(fitres.curv_ctr_x/1000, fitres.curv_ctr_y/1000, 'ro')\n",
    "        ax[1, 1].set_aspect(1)\n",
    "        ax[1, 1].set_xlabel('u [m]')\n",
    "        ax[1, 1].set_ylabel('v [m]')\n",
    "        \n",
    "        slope = np.tan(fitres.lin_scat_ang - pi / 2)\n",
    "        ydata = xyz.cr * xyz.cth\n",
    "        ax[2, 0].plot(ydata, xyz.w, '.')\n",
    "#         ax[2, 0].plot(ydata, odrline([fitres.lin_beam_int, slope], ydata))\n",
    "        \n",
    "        ax[2, 1].plot(xyz.w / 1000, xyz.a, '.')"
   ]
  },
  {
   "cell_type": "markdown",
   "metadata": {
    "deletable": true,
    "editable": true
   },
   "source": [
    "# Results"
   ]
  },
  {
   "cell_type": "code",
   "execution_count": null,
   "metadata": {
    "collapsed": true,
    "deletable": true,
    "editable": true
   },
   "outputs": [],
   "source": [
    "prodcut = res.run_num.isin(runtables[runtables.type == 'Production'].index)"
   ]
  },
  {
   "cell_type": "code",
   "execution_count": null,
   "metadata": {
    "collapsed": true,
    "deletable": true,
    "editable": true
   },
   "outputs": [],
   "source": [
    "def find_kine_vert_en(mproj, mtarg, scat_ang, recoil_ke):\n",
    "    E_recoil = recoil_ke + mtarg\n",
    "    cm_ang = np.pi - 2*scat_ang\n",
    "    p_sq = (mtarg * E_recoil - mtarg**2) / (1 - np.cos(cm_ang))\n",
    "    sqrts = np.sqrt(mtarg**2 + p_sq) + np.sqrt(mproj**2 + p_sq)\n",
    "    T = 1 / (2 * mtarg) * (sqrts**2 - (mtarg + mproj)**2)\n",
    "    return T"
   ]
  },
  {
   "cell_type": "code",
   "execution_count": null,
   "metadata": {
    "collapsed": true,
    "deletable": true,
    "editable": true
   },
   "outputs": [],
   "source": [
    "res['scat_ang'] = pi - res.pol0\n",
    "res['cm_angle'] = pi - 2*res.scat_ang  # Approximation\n",
    "res['totChi2'] = res['posChi2'] + res['enChi2']"
   ]
  },
  {
   "cell_type": "code",
   "execution_count": null,
   "metadata": {
    "collapsed": false,
    "deletable": true,
    "editable": true
   },
   "outputs": [],
   "source": [
    "gas = pytpc.gases.InterpolatedGas(config['gas_name'], config['gas_pressure'])\n",
    "if (gas.range(4.6*46 - 20., 46, 18) < 1.0):\n",
    "    res['z0_corr'] = res.z0 + (1 - gas.range(4.6*46-20, 46, 18))\n",
    "else:\n",
    "    res['z0_corr'] = res.z0"
   ]
  },
  {
   "cell_type": "code",
   "execution_count": null,
   "metadata": {
    "collapsed": false,
    "deletable": true,
    "editable": true
   },
   "outputs": [],
   "source": [
    "1 - gas.range(4.6*46 - 20., 46, 18)"
   ]
  },
  {
   "cell_type": "code",
   "execution_count": null,
   "metadata": {
    "collapsed": false,
    "deletable": true,
    "editable": true
   },
   "outputs": [],
   "source": [
    "def find_vertex_energy(beam_intercept):\n",
    "    ei = 4.6 * 46 - 20.\n",
    "    ri = gas.range(ei, 46, 18)  # this is in meters\n",
    "    rf = ri - (1000 - beam_intercept) / 1000\n",
    "    ef = gas.inverse_range(rf, 46, 18)\n",
    "    return ef\n",
    "res['vert_en'] = find_vertex_energy(res.z0 * 1000) / 46\n",
    "res['vert_en_corr'] = find_vertex_energy(res.z0_corr * 1000) / 46\n",
    "res['kine_vert_en'] = find_kine_vert_en(46*p_mc2, 1*p_mc2, res.scat_ang, res.enu0) / 46"
   ]
  },
  {
   "cell_type": "code",
   "execution_count": null,
   "metadata": {
    "collapsed": true,
    "deletable": true,
    "editable": true
   },
   "outputs": [],
   "source": [
    "from matplotlib.colors import ListedColormap, Normalize\n",
    "from matplotlib.cm import ScalarMappable"
   ]
  },
  {
   "cell_type": "code",
   "execution_count": null,
   "metadata": {
    "collapsed": false,
    "deletable": true,
    "editable": true
   },
   "outputs": [],
   "source": [
    "ens = np.arange(1.0, 3.25, 0.25)\n",
    "angs = np.linspace(50, 80, 1000) * degrees\n",
    "\n",
    "with sns.husl_palette(len(ens)) as pal, sns.plotting_context('talk', font_scale=1.2):\n",
    "    for en in ens:\n",
    "        val = find_kine_vert_en(46*p_mc2, p_mc2, angs, en) / 46\n",
    "        der = np.diff(val) / (np.diff(angs) / degrees)\n",
    "        plt.plot(angs[1:] / degrees, der)\n",
    "        \n",
    "    cmap = ListedColormap(pal) \n",
    "    sm = ScalarMappable(norm=Normalize(ens.min(), ens.max()), cmap=cmap)\n",
    "    sm._A = []\n",
    "    plt.colorbar(sm, ticks=ens).set_label('Proton energy [MeV]')\n",
    "    plt.xlabel('Scattering angle (lab) [deg]')\n",
    "    plt.ylabel(r'$dE_\\mathrm{Ar}/d\\theta$ [MeV/(u-deg)]')\n",
    "    \n",
    "#     plt.savefig('/Users/josh/Desktop/Figures for committee/angdep.pdf')"
   ]
  },
  {
   "cell_type": "markdown",
   "metadata": {
    "deletable": true,
    "editable": true
   },
   "source": [
    "# Chi^2 Behavior"
   ]
  },
  {
   "cell_type": "code",
   "execution_count": null,
   "metadata": {
    "collapsed": true,
    "deletable": true,
    "editable": true
   },
   "outputs": [],
   "source": [
    "posChi2Max = 14\n",
    "enChi2Max = 6\n",
    "linChi2Max = 60"
   ]
  },
  {
   "cell_type": "code",
   "execution_count": null,
   "metadata": {
    "collapsed": false,
    "deletable": true,
    "editable": true
   },
   "outputs": [],
   "source": [
    "plt.hist(res.posChi2.dropna().values, bins=100);#, range=(0, 20));\n",
    "plt.vlines(posChi2Max, *plt.ylim())"
   ]
  },
  {
   "cell_type": "code",
   "execution_count": null,
   "metadata": {
    "collapsed": false,
    "deletable": true,
    "editable": true
   },
   "outputs": [],
   "source": [
    "with sns.plotting_context('paper'), sns.axes_style(rc={'font.family': 'Arial'}):\n",
    "    plt.figure(figsize=(3.5, 2.75))\n",
    "\n",
    "    bins, edges = np.histogram(res.enChi2.values, bins=100, range=(0, 70));\n",
    "\n",
    "    plt.step(edges[:-1], bins, color='k', label='Energy $\\chi^2$', linewidth=1)\n",
    "    plt.fill_between(edges[:-1], bins, step='pre', where=edges[:-1] < enChi2Max, facecolor='C0', edgecolor='none',\n",
    "                     label='Proton tracks')\n",
    "    plt.fill_between(edges[:-1], bins, step='pre', where=(edges[:-1] > 10) & (edges[:-1] < 36), \n",
    "                     edgecolor='none', facecolor='C3', label='Carbon tracks')\n",
    "\n",
    "    plt.xlim(0, 70)\n",
    "    plt.ylim(0)\n",
    "    # plt.vlines(enChi2Max, *plt.ylim())\n",
    "    # plt.axvspan(0, enChi2Max, zorder=-1, facecolor=)\n",
    "    # plt.axvspan(12, 40, facecolor='none', hatch='//')\n",
    "    sns.despine()\n",
    "    plt.xlabel(r'$\\chi^2_\\mathrm{en}$')\n",
    "    plt.ylabel('Count')\n",
    "\n",
    "    plt.ticklabel_format(style='sci', axis='y', scilimits=(0,0))\n",
    "\n",
    "    plt.legend(frameon=False)\n",
    "    plt.tight_layout()\n",
    "\n",
    "#     plt.savefig('/Users/josh/Documents/Papers/attpc-nim-paper/Figures/enchi2.pdf', bbox_inches='tight')"
   ]
  },
  {
   "cell_type": "code",
   "execution_count": null,
   "metadata": {
    "collapsed": false,
    "deletable": true,
    "editable": true
   },
   "outputs": [],
   "source": [
    "plt.hist(res.totChi2.dropna().values, bins=100, range=(0, 200));\n",
    "plt.vlines(posChi2Max + enChi2Max, *plt.ylim())"
   ]
  },
  {
   "cell_type": "code",
   "execution_count": null,
   "metadata": {
    "collapsed": false,
    "deletable": true,
    "editable": true
   },
   "outputs": [],
   "source": [
    "plt.hist(res.lin_chi2, bins=100, range=(0, 1000));\n",
    "plt.vlines(linChi2Max, *plt.ylim())"
   ]
  },
  {
   "cell_type": "code",
   "execution_count": null,
   "metadata": {
    "collapsed": false,
    "deletable": true,
    "editable": true
   },
   "outputs": [],
   "source": [
    "plt.hist(res.vertChi2, bins=100, range=(0, 20));\n",
    "# plt.vlines(, *plt.ylim())"
   ]
  },
  {
   "cell_type": "code",
   "execution_count": null,
   "metadata": {
    "collapsed": false,
    "deletable": true,
    "editable": true
   },
   "outputs": [],
   "source": [
    "physicalcut = (res.scat_ang < pi/2)\n",
    "goodfitcut = (res.posChi2 < posChi2Max) & (res.enChi2 < enChi2Max) # & (res.lin_chi2 < linChi2Max)\n",
    "# goodfitcut = (res.totChi2 < 200) & (res.lin_chi2 < 200)"
   ]
  },
  {
   "cell_type": "code",
   "execution_count": null,
   "metadata": {
    "collapsed": false,
    "deletable": true,
    "editable": true
   },
   "outputs": [],
   "source": [
    "goodidx = goodfitcut[goodfitcut].index"
   ]
  },
  {
   "cell_type": "code",
   "execution_count": null,
   "metadata": {
    "collapsed": false,
    "deletable": true,
    "editable": true
   },
   "outputs": [],
   "source": [
    "print('goodfitcut: {} / {} = {}'.format(len(res[goodfitcut]), len(res), len(res[goodfitcut])/len(res)))"
   ]
  },
  {
   "cell_type": "code",
   "execution_count": null,
   "metadata": {
    "collapsed": true,
    "deletable": true,
    "editable": true
   },
   "outputs": [],
   "source": [
    "lowruns = res.run_num < 166\n",
    "hiruns = res.run_num >= 166"
   ]
  },
  {
   "cell_type": "code",
   "execution_count": null,
   "metadata": {
    "collapsed": true,
    "deletable": true,
    "editable": true
   },
   "outputs": [],
   "source": [
    "from pytpc.fitting import MCFitter\n",
    "import yaml\n",
    "\n",
    "with open('../fitters/config_e15503b.yml', 'r') as f:\n",
    "    config = yaml.load(f)\n",
    "with open('../fitters/config_e15503b_macmini.yml', 'r') as f:\n",
    "    patch = yaml.load(f)\n",
    "config.update(patch)\n",
    "\n",
    "# config['tilt'] = 6.0\n",
    "fitter = MCFitter(config)\n",
    "\n",
    "def find_mean_ampl_and_arclen(fitres):\n",
    "    fp = '/Users/josh/Documents/Data/Merged/e15503b/clean/clean_run_{:04d}.h5'.format(int(fitres.run_num))\n",
    "    with h5py.File(fp, 'r') as hf:\n",
    "        dataset = hf['/clean/{}'.format(int(fitres.evt_id))]\n",
    "        raw_xyz = dataset[:]\n",
    "        \n",
    "    raw_xyz = apply_clean_cut(raw_xyz)\n",
    "\n",
    "    tr = fitter.tracker.track_particle(fitres.x0, fitres.y0, fitres.z0, fitres.enu0, \n",
    "                                            fitres.azi0, fitres.pol0)\n",
    "\n",
    "    arclen = np.sum(np.sqrt(np.sum(np.diff(tr[:, :3], axis=0)**2, -1)))\n",
    "    \n",
    "    return raw_xyz[:, 3].max(), arclen"
   ]
  },
  {
   "cell_type": "markdown",
   "metadata": {
    "deletable": true,
    "editable": true
   },
   "source": [
    "# Kinematics cuts"
   ]
  },
  {
   "cell_type": "code",
   "execution_count": null,
   "metadata": {
    "collapsed": false,
    "deletable": true,
    "editable": true
   },
   "outputs": [],
   "source": [
    "with sns.axes_style('white'):\n",
    "    d = res[goodfitcut & prodcut & physicalcut]\n",
    "    plt.hist2d(np.cos(d.cm_angle), d.enu0 / d.vert_en_corr, bins=100, cmap='viridis', norm=LogNorm(),\n",
    "               range=((-1, 1), (0, 5)))\n",
    "    \n",
    "    xs = np.linspace(0, pi/2, 200)\n",
    "    p = find_proton_params(xs, 46*p_mc2, p_mc2, p_mc2, 46*p_mc2, 46.0)[1] - p_mc2\n",
    "    plt.fill_between(np.cos(pi - 2*xs), p + 0.1, p - 0.1, facecolor=(1, 1, 1, 0.2), edgecolor=(1, 1, 1, 1))\n",
    "    plt.xlabel('cos(lab scattering angle)')\n",
    "    plt.ylabel('Proton energy (normalized to 1.0 MeV/u beam)')\n",
    "    \n",
    "    plt.colorbar().set_label('Count')"
   ]
  },
  {
   "cell_type": "markdown",
   "metadata": {
    "deletable": true,
    "editable": true
   },
   "source": [
    "# Plots "
   ]
  },
  {
   "cell_type": "code",
   "execution_count": null,
   "metadata": {
    "collapsed": false,
    "deletable": true,
    "editable": true,
    "scrolled": false
   },
   "outputs": [],
   "source": [
    "xb, xe, fig = plt.hist(res[goodfitcut & physicalcut].z0 * 1000, bins=np.arange(850, 1100, 5));\n",
    "\n",
    "from scipy.stats import norm\n",
    "def fitfunc(x, mean, sigma, scale, offset):\n",
    "    return scale * (1 - norm.cdf(x, loc=mean, scale=sigma)) + offset\n",
    "\n",
    "fparam, ferr = scipy.optimize.curve_fit(fitfunc, xe[:-1], xb, p0=(1000, 5, 650, 0))\n",
    "print(fparam)\n",
    "print('FWHM = {:0.4f} mm'.format(fparam[1] * 2.355))\n",
    "\n",
    "xs = np.linspace(xe.min(), xe.max(), 1000)\n",
    "plt.plot(xs, fitfunc(xs, *fparam), 'k')\n",
    "\n",
    "plt.xlim(xs.min(), xs.max())\n",
    "\n",
    "plt.xlabel('Vertex position in z [m]')\n",
    "plt.ylabel('Count')"
   ]
  },
  {
   "cell_type": "code",
   "execution_count": null,
   "metadata": {
    "collapsed": false,
    "deletable": true,
    "editable": true,
    "scrolled": false
   },
   "outputs": [],
   "source": [
    "with sns.plotting_context('paper'), sns.axes_style(rc={'font.family': 'Arial'}):\n",
    "    fig, ax_main = plt.subplots(figsize=(3.5, 2.6))\n",
    "    \n",
    "    binsize = 5\n",
    "    \n",
    "    ax_main.hist(res[goodfitcut & physicalcut].z0 * 1000, bins=np.arange(0, 1700, binsize), histtype='stepfilled');\n",
    "\n",
    "    ax_main.set_xlabel('Vertex position in z [mm]')\n",
    "    ax_main.set_ylabel('Count')\n",
    "\n",
    "    ax_sub = fig.add_axes([0.6, 0.35, 0.3, 0.4])\n",
    "    \n",
    "    xb, xe = np.histogram(res[goodfitcut & physicalcut].z0 * 1000, bins=np.arange(900, 1050, binsize))\n",
    "    \n",
    "    from scipy.stats import norm\n",
    "    def fitfunc(x, mean, sigma, scale, offset):\n",
    "        return scale * (1 - norm.cdf(x, loc=mean, scale=sigma)) + offset\n",
    "\n",
    "    fparam, ferr = scipy.optimize.curve_fit(fitfunc, xe[:-1], xb, p0=(1000, 5, 650, 0))\n",
    "    print(fparam)\n",
    "    print('FWHM = {:0.4f} mm'.format(fparam[1] * 2.355))\n",
    "    \n",
    "    xs = np.linspace(xe.min(), xe.max(), 1000)\n",
    "    ax_sub.errorbar(xe[:-1], xb, yerr=np.sqrt(xb), fmt='.', elinewidth=1, capthick=1, capsize=1)\n",
    "    ax_sub.plot(xs, fitfunc(xs, *fparam), 'k')\n",
    "    ax_sub.set_xlim(xe.min(), xe.max())\n",
    "    ax_sub.set_xticks(range(940, 1050, 40))\n",
    "    ax_sub.set_yticks([])\n",
    "    \n",
    "#     ax_sub.set_xlabel('Vertex position in z [mm]')\n",
    "#     ax_sub.set_ylabel('Count')\n",
    "    \n",
    "#     ax_main.set_ylim(0, 1020)\n",
    "    \n",
    "    sns.despine()\n",
    "\n",
    "    # plt.tight_layout()\n",
    "#     plt.savefig('/Users/josh/Documents/Papers/attpc-nim-paper/Figures/z_dist.pdf', bbox_inches='tight')"
   ]
  },
  {
   "cell_type": "code",
   "execution_count": null,
   "metadata": {
    "collapsed": false,
    "deletable": true,
    "editable": true,
    "scrolled": false
   },
   "outputs": [],
   "source": [
    "with sns.plotting_context('paper'), sns.axes_style('ticks'):\n",
    "    fig, ax_main = plt.subplots(figsize=(3.5, 2.6))\n",
    "    \n",
    "    binsize = 10e-3\n",
    "    \n",
    "    ax_main.hist(res[goodfitcut & physicalcut].vert_en, bins=np.arange(0, 6, binsize), histtype='stepfilled');\n",
    "\n",
    "    ax_main.set_xlabel('Vertex position in z [mm]')\n",
    "    ax_main.set_ylabel('Count')\n",
    "\n",
    "    ax_sub = fig.add_axes([0.6, 0.35, 0.3, 0.4])\n",
    "    \n",
    "    xb, xe = np.histogram(res[goodfitcut & physicalcut].vert_en, bins=np.arange(3.8, 4.5, binsize))\n",
    "    \n",
    "    from scipy.stats import norm\n",
    "    def fitfunc(x, mean, sigma, scale, offset):\n",
    "        return scale * (1 - norm.cdf(x, loc=mean, scale=sigma)) + offset\n",
    "\n",
    "    fparam, ferr = scipy.optimize.curve_fit(fitfunc, xe[:-1], xb, p0=(4.2, 40e-3, 400, 0))\n",
    "    print(fparam)\n",
    "    print('FWHM = {:0.4f} keV'.format(fparam[1] * 2.355 * 1000))\n",
    "    \n",
    "    xs = np.linspace(xe.min(), xe.max(), 1000)\n",
    "    ax_sub.errorbar(xe[:-1], xb, yerr=np.sqrt(xb), fmt='.', elinewidth=1, capthick=1, capsize=1)\n",
    "    ax_sub.plot(xs, fitfunc(xs, *fparam), 'k')\n",
    "    ax_sub.set_xlim(xe.min(), xe.max())\n",
    "#     ax_sub.set_xticks(range(940, 1050, 40))\n",
    "    ax_sub.set_yticks([])\n",
    "    \n",
    "#     ax_sub.set_xlabel('Vertex position in z [mm]')\n",
    "#     ax_sub.set_ylabel('Count')\n",
    "    \n",
    "#     ax_main.set_ylim(0, 1020)\n",
    "    \n",
    "    sns.despine()\n",
    "\n",
    "    # plt.tight_layout()\n",
    "#     plt.savefig('/Users/josh/Documents/Pape/rs/attpc-nim-paper/Figures/z_dist.pdf', bbox_inches='tight')"
   ]
  },
  {
   "cell_type": "code",
   "execution_count": null,
   "metadata": {
    "collapsed": false,
    "deletable": true,
    "editable": true
   },
   "outputs": [],
   "source": [
    "plt.hist(res[goodfitcut & physicalcut].enu0, bins=np.arange(0, 10.1, 0.1), log=True);\n",
    "plt.xlabel('Proton initial energy (lab) [MeV]')\n",
    "plt.ylabel('Count')\n",
    "# plt.ylim(0.1, 1e4)"
   ]
  },
  {
   "cell_type": "code",
   "execution_count": null,
   "metadata": {
    "collapsed": false,
    "deletable": true,
    "editable": true
   },
   "outputs": [],
   "source": [
    "plt.hist(res[goodfitcut & physicalcut & prodcut].cm_angle / degrees, bins=250);\n",
    "plt.xticks([25, 50, 75, 100, 125])\n",
    "plt.xlabel('CM angle [deg]')\n",
    "plt.ylabel('Count')"
   ]
  },
  {
   "cell_type": "code",
   "execution_count": null,
   "metadata": {
    "collapsed": false,
    "deletable": true,
    "editable": true
   },
   "outputs": [],
   "source": [
    "with sns.axes_style('white'):\n",
    "    d = res[goodfitcut & physicalcut]\n",
    "    plt.hist2d(d.run_num, d.enu0, bins=(np.arange(d.run_num.min(), d.run_num.max(), 1), \n",
    "                                        np.arange(0, 6.1, 0.1)),\n",
    "               cmap='viridis');\n",
    "    plt.vlines(217, *plt.ylim(), colors='white')\n",
    "#     plt.xlabel('Proton initial energy (lab) [MeV]')\n",
    "#     plt.ylabel('Count')\n",
    "    # plt.ylim(0.1, 1e4)"
   ]
  },
  {
   "cell_type": "code",
   "execution_count": null,
   "metadata": {
    "collapsed": false,
    "deletable": true,
    "editable": true
   },
   "outputs": [],
   "source": [
    "gsrescut = ((res.cm_angle > 70 * degrees) & (res.cm_angle < 120 * degrees) \n",
    "            & (res.vert_en < 2.2) & (res.vert_en > 1.5))"
   ]
  },
  {
   "cell_type": "code",
   "execution_count": null,
   "metadata": {
    "collapsed": false,
    "deletable": true,
    "editable": true
   },
   "outputs": [],
   "source": [
    "with sns.plotting_context('talk', font_scale=1.0):\n",
    "    with sns.axes_style('white'):\n",
    "        d = res[goodfitcut & (res.run_num > 0)]\n",
    "        plt.hist2d(d.cm_angle/degrees, d.enu0, range=((10, 140), (0, 6)), bins=100, cmap='viridis', norm=LogNorm());\n",
    "        plt.xlabel('CM scattering angle [deg]')\n",
    "        plt.ylabel('Reconstructed 46Ar vertex energy [MeV/u]')\n",
    "        plt.colorbar().set_label('Count')\n",
    "    #     xs = np.linspace(0, 5, 10)\n",
    "    #     plt.plot(xs, xs, 'w-', linewidth=1)\n",
    "\n",
    "        ths = np.linspace(0, pi/2, 180)\n",
    "        p_ens = pytpc.relativity.find_proton_params(ths, 46*p_mc2, p_mc2, p_mc2, 46*p_mc2, 46*4.6)[1] - p_mc2\n",
    "        cm_angs = pi - 2*ths\n",
    "    #     plt.plot(cm_angs/degrees, p_ens, 'k-', linewidth=0.5, alpha=1)\n",
    "\n",
    "#         plt.savefig('/Users/josh/Desktop/Figures/data_2d_spectrum.pdf', transparent=True)"
   ]
  },
  {
   "cell_type": "code",
   "execution_count": null,
   "metadata": {
    "collapsed": false,
    "deletable": true,
    "editable": true
   },
   "outputs": [],
   "source": [
    "d = res[goodfitcut & prodcut & physicalcut]\n",
    "plt.hist(d.rad_curv.dropna(), bins=100);"
   ]
  },
  {
   "cell_type": "code",
   "execution_count": null,
   "metadata": {
    "collapsed": false,
    "deletable": true,
    "editable": true
   },
   "outputs": [],
   "source": [
    "d = res[goodfitcut & prodcut & physicalcut].dropna()\n",
    "plt.hist2d(d.brho, d.kine_vert_en, bins=100,\n",
    "           cmap='viridis', norm=LogNorm());"
   ]
  },
  {
   "cell_type": "code",
   "execution_count": null,
   "metadata": {
    "collapsed": false,
    "deletable": true,
    "editable": true
   },
   "outputs": [],
   "source": [
    "with sns.plotting_context('paper'), sns.axes_style(rc={'font.family': 'Arial'}):\n",
    "    plt.figure(figsize=(3.5, 3.5*2/3))\n",
    "    res['vertdiff'] = res.kine_vert_en - res.vert_en\n",
    "    d = res[goodfitcut & physicalcut & prodcut]\n",
    "    plt.hist(d.vertdiff * 1000, bins=np.arange(-2000, 2000, 25), histtype='stepfilled');\n",
    "\n",
    "    plt.xlabel(r'$E_{\\mathrm{kin}} - E_{\\mathrm{pos}}$ [keV/u]')\n",
    "    plt.ylabel('Count')\n",
    "\n",
    "    sns.despine()\n",
    "#     plt.tight_layout()\n",
    "\n",
    "#     plt.savefig('/Users/josh/Documents/Papers/attpc-nim-paper/Figures/exp_endiff.pdf', bbox_inches='tight')"
   ]
  },
  {
   "cell_type": "code",
   "execution_count": null,
   "metadata": {
    "collapsed": false,
    "deletable": true,
    "editable": true
   },
   "outputs": [],
   "source": [
    "res['vertdiff'] = res.kine_vert_en - res.vert_en\n",
    "d = res[goodfitcut & physicalcut & ~gsrescut]\n",
    "dgsres = res[goodfitcut & physicalcut & gsrescut]\n",
    "plt.hist([d.vertdiff, dgsres.vertdiff], bins=100, log=False, range=(-5, 5), stacked=True, rwidth=1);\n",
    "vertdiffmed = -1 #d.vertdiff.median()\n",
    "sigma = 0.200\n",
    "\n",
    "vertencut = np.abs(res.vertdiff - vertdiffmed) < sigma\n",
    "\n",
    "plt.vlines((vertdiffmed, vertdiffmed - sigma, vertdiffmed + sigma), *plt.ylim())\n",
    "# plt.ylim(0.1, 1e4)\n",
    "plt.xlabel('(Kine. vertex en.) – (pos. vertex en.) [MeV/u]')\n",
    "plt.ylabel('Count')\n",
    "\n",
    "# plt.savefig('/Users/josh/Desktop/Plots for Daniel/exp_endiff.pdf')"
   ]
  },
  {
   "cell_type": "code",
   "execution_count": null,
   "metadata": {
    "collapsed": true,
    "deletable": true,
    "editable": true
   },
   "outputs": [],
   "source": [
    "from scipy.stats import norm\n",
    "from scipy.optimize import curve_fit\n",
    "\n",
    "def gaus(x, s, a):\n",
    "    return a * poisson.pdf(x, loc=0, scale=s)\n",
    "\n",
    "def lorentz(x, x0, gamma, a):\n",
    "    return a / ((x - x0)**2 + 0.25 * gamma**2)"
   ]
  },
  {
   "cell_type": "code",
   "execution_count": null,
   "metadata": {
    "collapsed": false,
    "deletable": true,
    "editable": true
   },
   "outputs": [],
   "source": [
    "with sns.plotting_context('talk', font_scale=1.2):\n",
    "    res['vertdiff'] = res.kine_vert_en - res.vert_en\n",
    "    d = res[goodfitcut & physicalcut\n",
    "#             & (res.vert_en > 0.75) & (res.vert_en < 1.2)\n",
    "#             & (res.cm_angle > 40*degrees) & (res.cm_angle < 50*degrees)\n",
    "           ]\n",
    "    cts, edges, fig = plt.hist(d.vertdiff, bins=50, log=False, range=(-0, 5))\n",
    "    \n",
    "    fparam, fres = curve_fit(lorentz, edges[:-1], cts)\n",
    "    print(fparam)\n",
    "    \n",
    "    xs = np.linspace(-5, 5, 1000)\n",
    "    plt.plot(xs, lorentz(xs, *fparam))\n",
    "    \n",
    "    plt.xlabel('(Kine. vertex en.) – (pos. vertex en.) [MeV/u]')\n",
    "    plt.ylabel('Count')\n",
    "    \n",
    "#     plt.ylim(0, 1000)\n",
    "\n",
    "#     plt.savefig('/Users/josh/Desktop/Figures for committee/exp_verten_diff.pdf')"
   ]
  },
  {
   "cell_type": "code",
   "execution_count": null,
   "metadata": {
    "collapsed": false,
    "deletable": true,
    "editable": true
   },
   "outputs": [],
   "source": [
    "with sns.plotting_context('talk', font_scale=1.2):\n",
    "    res['vertdiff'] = res.kine_vert_en - res.vert_en\n",
    "    d = res[goodfitcut & physicalcut\n",
    "#             & (res.vert_en > 0.75) & (res.vert_en < 1.2)\n",
    "#             & (res.cm_angle > 40*degrees) & (res.cm_angle < 50*degrees)\n",
    "           ]\n",
    "    cts, edge = np.histogram(d.vertdiff, bins=100, range=(-5, 5))\n",
    "    \n",
    "    plt.step(edge[:-1], cts - lorentz(edge[:-1], *fparam), where='post')\n",
    "#     plt.step(edge[:-1], cts, where='post')\n",
    "    \n",
    "    plt.ylim(-200, 100)\n",
    "\n",
    "#     plt.savefig('/Users/josh/Desktop/Figures for committee/exp_verten_diff.pdf')"
   ]
  },
  {
   "cell_type": "code",
   "execution_count": null,
   "metadata": {
    "collapsed": false,
    "deletable": true,
    "editable": true
   },
   "outputs": [],
   "source": [
    "d = res[goodfitcut & physicalcut & vertencut]\n",
    "plt.hist(d.vertdiff, bins=100, log=False, range=(-5, 5));\n",
    "\n",
    "plt.vlines((vertdiffmed, vertdiffmed - sigma, vertdiffmed + sigma), *plt.ylim())\n",
    "# plt.ylim(0.1, 1e4)\n",
    "plt.xlabel('(Kine. vertex en.) – (pos. vertex en.) [MeV/u]')\n",
    "plt.ylabel('Count')"
   ]
  },
  {
   "cell_type": "code",
   "execution_count": null,
   "metadata": {
    "collapsed": false,
    "deletable": true,
    "editable": true
   },
   "outputs": [],
   "source": [
    "print(\"Vert en cut keeps {} / {}\".format(len(res[goodfitcut & physicalcut & vertencut]), \n",
    "                                         len(res[goodfitcut & physicalcut])))"
   ]
  },
  {
   "cell_type": "code",
   "execution_count": null,
   "metadata": {
    "collapsed": false,
    "deletable": true,
    "editable": true
   },
   "outputs": [],
   "source": [
    "with sns.plotting_context('talk'), sns.axes_style('white'):\n",
    "    e = 0.5\n",
    "    d = res[goodfitcut & physicalcut]\n",
    "    fig, ax = plt.subplots(1, 2, squeeze=True, figsize=(11, 4))\n",
    "    *junk, c0 = ax[0].hist2d(d.cm_angle/degrees, d.vert_en, range=((10, 140), (0, 6)), bins=100, cmap='viridis', norm=LogNorm());\n",
    "    *junk, c1 = ax[1].hist2d(d.cm_angle/degrees, d.kine_vert_en, range=((10, 140), (0, 6)), bins=100, cmap='viridis', norm=LogNorm());\n",
    "    plt.colorbar(c0, ax=ax[0]).set_label('Count')\n",
    "    plt.colorbar(c1, ax=ax[1]).set_label('Count')\n",
    "    ax[0].set_xlabel('CM scattering angle [deg]')\n",
    "    ax[1].set_xlabel('CM scattering angle [deg]')\n",
    "    ax[0].set_ylabel('46Ar vertex energy [MeV/u]')\n",
    "    \n",
    "    ax[0].set_title('From vertex position')\n",
    "    ax[1].set_title('From kinematics')\n",
    "    \n",
    "\n",
    "#     plt.savefig('/Users/josh/Desktop/Figures for committee/exp_pos_2d.pdf', transparent=True, bbox_inches='tight')"
   ]
  },
  {
   "cell_type": "code",
   "execution_count": null,
   "metadata": {
    "collapsed": false,
    "deletable": true,
    "editable": true
   },
   "outputs": [],
   "source": [
    "with sns.axes_style('white'):\n",
    "    d = res[goodfitcut & physicalcut & prodcut & (res.vme_group == 0)]\n",
    "    plt.hist2d(d.ic_height, d.vertdiff, bins=100, range=((4500, 6500), (-10, 10)), cmap='viridis', norm=LogNorm());\n",
    "    plt.xlabel('IC signal amplitude')\n",
    "    plt.ylabel('46Ar Vertex energy difference [MeV/u]')\n",
    "    plt.colorbar().set_label('Count')"
   ]
  },
  {
   "cell_type": "code",
   "execution_count": null,
   "metadata": {
    "collapsed": false,
    "deletable": true,
    "editable": true
   },
   "outputs": [],
   "source": [
    "with sns.axes_style('white'):\n",
    "    d = res[goodfitcut & physicalcut & prodcut & (res.vme_group == 0)]\n",
    "    plt.hist2d(d.ic_cfd_pos, d.vertdiff, bins=100, range=((147, 155), (-6, 6)), cmap='viridis', norm=LogNorm());\n",
    "    plt.xlabel('IC signal timing [time buckets]')\n",
    "    plt.ylabel('46Ar Vertex energy difference [MeV/u]')\n",
    "    plt.colorbar().set_label('Count')"
   ]
  },
  {
   "cell_type": "code",
   "execution_count": null,
   "metadata": {
    "collapsed": false,
    "deletable": true,
    "editable": true
   },
   "outputs": [],
   "source": [
    "plt.hist(res[goodfitcut & physicalcut].kine_vert_en, \n",
    "         bins=np.arange(0, 8.1, 0.1));\n",
    "plt.xlabel('46Ar lab vertex energy from kinematics [MeV/u]')\n",
    "plt.ylabel('Count')"
   ]
  },
  {
   "cell_type": "code",
   "execution_count": null,
   "metadata": {
    "collapsed": false,
    "deletable": true,
    "editable": true
   },
   "outputs": [],
   "source": [
    "plt.hist(res[goodfitcut & physicalcut & prodcut].vert_en, bins=np.arange(0, 4.8, 0.01));\n",
    "plt.xlabel('46Ar energy at reaction vertex [MeV/u]')\n",
    "plt.ylabel('Count')\n",
    "sns.despine()\n",
    "# plt.savefig('/Users/josh/Desktop/Figures/energy_spectrum.pdf', transparent=True, bbox_inches='tight')"
   ]
  },
  {
   "cell_type": "code",
   "execution_count": null,
   "metadata": {
    "collapsed": false,
    "deletable": true,
    "editable": true
   },
   "outputs": [],
   "source": [
    "with sns.axes_style('white'):\n",
    "    d = res[goodfitcut & physicalcut].copy()\n",
    "#     d.x0 += -0.01 - 0.0039\n",
    "#     d.y0 += -0.104 + 0.105\n",
    "    jp = sns.jointplot(d.x0 * 1000, d.y0 * 1000, kind='hex')\n",
    "    jp.set_axis_labels('Vertex x position [mm]', 'Vertex y position [mm]')\n",
    "    jp.ax_joint.plot(0, 0, 'r+', ms=20, mew=2)\n",
    "    mean_pt = (d.x0.median() * 1000, d.y0.median() * 1000)\n",
    "    print(\"Center at\", mean_pt)\n",
    "    jp.ax_joint.plot(*mean_pt, 'gx', ms=20, mew=2)"
   ]
  },
  {
   "cell_type": "code",
   "execution_count": null,
   "metadata": {
    "collapsed": false,
    "deletable": true,
    "editable": true
   },
   "outputs": [],
   "source": [
    "with sns.axes_style('white'):\n",
    "    d = res[goodfitcut]\n",
    "    plt.hist2d(d.vert_en, d.kine_vert_en, range=((0, 5), (0, 6)), bins=100, cmap='viridis', norm=LogNorm());\n",
    "    plt.xlabel('Vertex energy from vertex position [MeV/u]')\n",
    "    plt.ylabel('Vertex energy from kinematics [MeV/u]')\n",
    "    plt.colorbar().set_label('Count')\n",
    "    xs = np.linspace(0, 5, 10)\n",
    "    plt.plot(xs, xs, 'w-', linewidth=1)"
   ]
  },
  {
   "cell_type": "code",
   "execution_count": null,
   "metadata": {
    "collapsed": false,
    "deletable": true,
    "editable": true
   },
   "outputs": [],
   "source": [
    "with sns.axes_style('white'):\n",
    "    d = res[goodfitcut & prodcut & physicalcut]\n",
    "    plt.hist2d(d.cm_angle / degrees, d.vertdiff, range=((0, 180), (-4, 4)), bins=100, cmap='viridis', norm=LogNorm());\n",
    "    plt.xlabel('CM scattering angle [deg]')\n",
    "    plt.ylabel('Kine vert en - pos vert en [MeV/u]')\n",
    "    plt.colorbar().set_label('Count')"
   ]
  },
  {
   "cell_type": "code",
   "execution_count": null,
   "metadata": {
    "collapsed": false,
    "deletable": true,
    "editable": true
   },
   "outputs": [],
   "source": [
    "with sns.axes_style('white'):\n",
    "    d = res[goodfitcut & prodcut & physicalcut]\n",
    "    plt.hist2d(d.z0, d.vertdiff, range=((0, 1.1), (-4, 4)), bins=100, cmap='viridis');\n",
    "    plt.xlabel('Vertex Z position [m]')\n",
    "    plt.ylabel('Kine vert en - pos vert en [MeV/u]')\n",
    "    plt.colorbar().set_label('Count')"
   ]
  },
  {
   "cell_type": "code",
   "execution_count": null,
   "metadata": {
    "collapsed": false,
    "deletable": true,
    "editable": true
   },
   "outputs": [],
   "source": [
    "with sns.axes_style('white'):\n",
    "    d = res[goodfitcut & prodcut & physicalcut]\n",
    "    plt.hist2d(np.hypot(d.x0, d.y0), d.vertdiff, range=((-0.05, 0.05), (-4, 4)), bins=100, cmap='viridis');\n",
    "    plt.xlabel('Vertex Z position [m]')\n",
    "    plt.ylabel('Kine vert en - pos vert en [MeV/u]')\n",
    "    plt.colorbar().set_label('Count')"
   ]
  },
  {
   "cell_type": "code",
   "execution_count": null,
   "metadata": {
    "collapsed": false,
    "deletable": true,
    "editable": true
   },
   "outputs": [],
   "source": [
    "with sns.axes_style('white'):\n",
    "    d = res[goodfitcut & prodcut & physicalcut]\n",
    "    plt.hist2d(d.enu0, d.vertdiff, range=((0, 5), (-4, 4)), bins=100, cmap='viridis');\n",
    "    plt.xlabel('Proton energy [MeV]')\n",
    "    plt.ylabel('Kine vert en - pos vert en [MeV/u]')\n",
    "    plt.colorbar().set_label('Count')"
   ]
  },
  {
   "cell_type": "code",
   "execution_count": null,
   "metadata": {
    "collapsed": false,
    "deletable": true,
    "editable": true
   },
   "outputs": [],
   "source": [
    "with sns.axes_style('white'):\n",
    "    d = res[goodfitcut & prodcut & physicalcut]\n",
    "    plt.hist2d(d.vertChi2, d.vertdiff, range=((0, 2), (-4, 4)), bins=100, cmap='viridis');\n",
    "    plt.xlabel('Vertex position chi2')\n",
    "    plt.ylabel('Kine vert en - pos vert en [MeV/u]')\n",
    "    plt.colorbar().set_label('Count')"
   ]
  },
  {
   "cell_type": "code",
   "execution_count": null,
   "metadata": {
    "collapsed": false,
    "deletable": true,
    "editable": true
   },
   "outputs": [],
   "source": [
    "with sns.axes_style('white'):\n",
    "    d = res[goodfitcut & prodcut & physicalcut]\n",
    "    \n",
    "    fig, ax = plt.subplots(1, 2, sharex=True, sharey=True, figsize=(12, 6))\n",
    "    plt.sca(ax[0])\n",
    "    plt.hist2d(d.vert_en_corr, d.vertdiff, range=((0, 8), (-4, 4)), bins=100, cmap='viridis');\n",
    "    plt.xlabel('Pos vert en [MeV/u]')\n",
    "    plt.ylabel('Kine vert en - pos vert en [MeV/u]')\n",
    "    plt.colorbar(orientation='horizontal').set_label('Count')\n",
    "    \n",
    "    plt.sca(ax[1])\n",
    "    plt.hist2d(d.kine_vert_en, d.vertdiff, range=((0, 8), (-4, 4)), bins=100, cmap='viridis');\n",
    "    plt.xlabel('Kine vert en [MeV/u]')\n",
    "    plt.colorbar(orientation='horizontal').set_label('Count')\n",
    "    \n",
    "    plt.tight_layout()"
   ]
  },
  {
   "cell_type": "code",
   "execution_count": null,
   "metadata": {
    "collapsed": false,
    "deletable": true,
    "editable": true
   },
   "outputs": [],
   "source": [
    "with sns.axes_style('white'):\n",
    "    d = res[goodfitcut & prodcut & physicalcut]\n",
    "    \n",
    "    fig, ax = plt.subplots(1, 2, sharex=True, sharey=True, figsize=(12, 6))\n",
    "    plt.sca(ax[0])\n",
    "    plt.hist2d(d.vert_en, d.z0, range=((0, 8), (0, 1.1)), bins=100, cmap='viridis');\n",
    "    plt.xlabel('Pos vert en [MeV/u]')\n",
    "    plt.ylabel('Vertex Z position [m]')\n",
    "    plt.colorbar(orientation='horizontal').set_label('Count')\n",
    "    \n",
    "    plt.sca(ax[1])\n",
    "    plt.hist2d(d.kine_vert_en, d.z0, range=((0, 8), (0, 1.1)), bins=100, cmap='viridis');\n",
    "    plt.xlabel('Kine vert en [MeV/u]')\n",
    "    plt.colorbar(orientation='horizontal').set_label('Count')\n",
    "    \n",
    "    plt.tight_layout()"
   ]
  },
  {
   "cell_type": "code",
   "execution_count": null,
   "metadata": {
    "collapsed": false,
    "deletable": true,
    "editable": true
   },
   "outputs": [],
   "source": [
    "with sns.axes_style('white'):\n",
    "    dtheta = 1.0\n",
    "    dE = 50e-3\n",
    "    \n",
    "    min_vert_en = 2.0\n",
    "    delta_vert_en = 0.05\n",
    "    \n",
    "    histbins = (np.arange(0, 100 + dtheta, dtheta),\n",
    "                np.arange(0, 6 + dE, dE))\n",
    "    d = res[goodfitcut & gsrescut\n",
    "#             & (res.vert_en_corr > min_vert_en) & (res.vert_en_corr < min_vert_en + delta_vert_en)\n",
    "           ]\n",
    "    plt.hist2d(d.scat_ang / degrees, d.enu0, cmap=cmaps.viridis, bins=histbins, norm=LogNorm());\n",
    "    plt.colorbar().set_label('Count')\n",
    "    plt.xlabel('CM Angle [deg]')\n",
    "    plt.ylabel('Proton energy (lab) [MeV]')\n",
    "    \n",
    "    ths = np.linspace(0, pi/2, 180)\n",
    "    p_ens = pytpc.relativity.find_proton_params(ths, 46*p_mc2, p_mc2, p_mc2, 46*p_mc2, 46*min_vert_en)[1] - p_mc2\n",
    "    cm_angs = pi - 2*ths\n",
    "    plt.plot(ths/degrees, p_ens, 'k-', linewidth=0.5, alpha=1)"
   ]
  },
  {
   "cell_type": "markdown",
   "metadata": {
    "deletable": true,
    "editable": true
   },
   "source": [
    "---\n",
    "# Binning"
   ]
  },
  {
   "cell_type": "code",
   "execution_count": null,
   "metadata": {
    "collapsed": true,
    "deletable": true,
    "editable": true
   },
   "outputs": [],
   "source": [
    "dtheta = 5.0\n",
    "dE = 50 * 1e-3\n",
    "thbins = np.arange(0, 130 + dtheta, dtheta) * degrees\n",
    "enbins = np.arange(0, 5 + dE, dE)\n",
    "\n",
    "def bin_data(data, thbins, enbins):\n",
    "    b, x, y = np.histogram2d(data['vert_en'], data['cm_angle'], bins=(enbins, thbins))\n",
    "    return pd.DataFrame(b, index=x[:-1], columns=y[:-1])\n",
    "\n",
    "def show_prebinned_hist2d(data, **kwargs):\n",
    "    plt.imshow(data.values, cmap='viridis', aspect='auto', interpolation='none', origin='lower',\n",
    "               extent=(data.columns.min() / degrees, data.columns.max() / degrees, \n",
    "                       data.index.min(), data.index.max()), **kwargs)\n",
    "    plt.xlabel('CM angle [deg]')\n",
    "    plt.ylabel('${}^{46}\\mathrm{Ar}$ vertex energy [MeV/u]')\n",
    "    plt.colorbar().set_label('Count')"
   ]
  },
  {
   "cell_type": "code",
   "execution_count": null,
   "metadata": {
    "collapsed": false,
    "deletable": true,
    "editable": true
   },
   "outputs": [],
   "source": [
    "binned = bin_data(res[goodfitcut & prodcut & physicalcut], thbins, enbins)"
   ]
  },
  {
   "cell_type": "code",
   "execution_count": null,
   "metadata": {
    "collapsed": false,
    "deletable": true,
    "editable": true
   },
   "outputs": [],
   "source": [
    "mcres_h5 = os.path.join(os.path.dirname(os.path.dirname(rawdbs[0])), 'mcresults.h5')\n",
    "print(mcres_h5)"
   ]
  },
  {
   "cell_type": "code",
   "execution_count": null,
   "metadata": {
    "collapsed": true,
    "deletable": true,
    "editable": true
   },
   "outputs": [],
   "source": [
    "binned.to_hdf(mcres_h5, 'binned_res')"
   ]
  },
  {
   "cell_type": "markdown",
   "metadata": {
    "deletable": true,
    "editable": true
   },
   "source": [
    "---"
   ]
  },
  {
   "cell_type": "code",
   "execution_count": null,
   "metadata": {
    "collapsed": false,
    "deletable": true,
    "editable": true
   },
   "outputs": [],
   "source": [
    "def histerr(x, bins, **kwargs):\n",
    "    xb, xe = np.histogram(x, bins=bins)\n",
    "    plt.errorbar(xe[:-1] + (xe[1] - xe[0]) / 2, xb, yerr=np.sqrt(xb), fmt='b.', ecolor='b', elinewidth=1,\n",
    "                 capthick=1, capsize=1, **kwargs)\n",
    "    \n",
    "dtheta = 5.0\n",
    "dE = 50 * 1e-3\n",
    "histbins = (np.arange(0, 180 + dtheta, dtheta),\n",
    "            np.arange(0, 6 + dE, dE))\n",
    "    \n",
    "d = res[goodfitcut & vertencut].copy()\n",
    "d['thbin'] = histbins[0][np.digitize(d.cm_angle / degrees, histbins[0])]\n",
    "fg = sns.FacetGrid(d, col='thbin', col_order=range(35, 80, 5), col_wrap=3, sharey=False)\n",
    "fg.map(histerr, 'enu0', bins=histbins[1], markersize=5)\n",
    "# fg.map(plt.hist, 'enu0', bins=histbins[1], histtype='stepfilled')\n",
    "# fg.set_titles(r'$\\theta_{{CM}} = {col_name}^{{\\circ}}$')\n",
    "fg.set_axis_labels('Proton energy [MeV]', 'Count')"
   ]
  },
  {
   "cell_type": "code",
   "execution_count": null,
   "metadata": {
    "collapsed": true,
    "deletable": true,
    "editable": true
   },
   "outputs": [],
   "source": [
    "sns.set_context('talk')"
   ]
  },
  {
   "cell_type": "code",
   "execution_count": null,
   "metadata": {
    "collapsed": false,
    "deletable": true,
    "editable": true,
    "scrolled": false
   },
   "outputs": [],
   "source": [
    "def histerr(x, bins, **kwargs):\n",
    "    xb, xe = np.histogram(x, bins=bins)\n",
    "    plt.errorbar(xe[:-1] + (xe[1] - xe[0]) / 2, xb, yerr=np.sqrt(xb), fmt='.', elinewidth=1, **kwargs)\n",
    "#     plt.step(xe[:-1], xb, linewidth=1, where='post')\n",
    "\n",
    "dtheta = 5.0\n",
    "dE = 50 * 1e-3\n",
    "histbins = (np.arange(0, 180 + dtheta, dtheta),\n",
    "            np.arange(0, 5.0 + dE, dE))\n",
    "\n",
    "d = res[goodfitcut & physicalcut & prodcut #& vertencut\n",
    "       ].copy()\n",
    "d['thbin'] = histbins[0][np.digitize(d.cm_angle / degrees, histbins[0])]\n",
    "fg = sns.FacetGrid(d, col='thbin', col_order=range(40, 100, 5), col_wrap=4, sharey=False, size=4)\n",
    "fg.map(histerr, 'vert_en', bins=histbins[1], markersize=5)\n",
    "fg.set_axis_labels('${}^{46}\\mathrm{Ar}$ vertex energy [MeV/u]', 'Count')\n",
    "fg.set_titles(r'$\\theta_\\mathrm{{CM}} = {col_name}^\\circ$')\n",
    "plt.tight_layout()\n",
    "for ax in fg.axes.ravel():\n",
    "    ax.set_xticks(np.arange(6))\n",
    "# plt.savefig('/Users/josh/Desktop/Plots for Daniel/exp_pos_all_spectra.pdf')\n",
    "del fg"
   ]
  },
  {
   "cell_type": "code",
   "execution_count": null,
   "metadata": {
    "collapsed": false,
    "deletable": true,
    "editable": true
   },
   "outputs": [],
   "source": [
    "def histerr(x, bins, **kwargs):\n",
    "    xb, xe = np.histogram(x, bins=bins)\n",
    "    plt.errorbar(xe[:-1] + (xe[1] - xe[0]) / 2, xb, yerr=np.sqrt(xb), fmt='b.', ecolor='b', elinewidth=1,\n",
    "                 capthick=1, capsize=1, **kwargs)\n",
    "#     plt.step(xe[:-1], xb, linewidth=1, where='post')\n",
    "    \n",
    "dtheta = 5.0\n",
    "dE = 50 * 1e-3\n",
    "histbins = (np.arange(0, 180 + dtheta, dtheta),\n",
    "            np.arange(0, 5.0 + dE, dE))\n",
    "chosen_theta = 65\n",
    "    \n",
    "d = res[goodfitcut & physicalcut & prodcut].copy()\n",
    "d['thbin'] = histbins[0][np.digitize(d.cm_angle / degrees, histbins[0])]\n",
    "subplotdata = d[d.thbin == chosen_theta]\n",
    "\n",
    "histerr(subplotdata.vert_en, histbins[1])\n",
    "# plt.hist(subplotdata.kine_vert_en, bins=histbins[1], histtype='stepfilled')\n",
    "\n",
    "plt.xlabel('46Ar vertex energy [MeV/u]')\n",
    "plt.ylabel('Count')\n",
    "plt.title(r'$\\theta_{{CM}} = {}^\\circ$'.format(chosen_theta))\n",
    "plt.tight_layout()\n",
    "# plt.savefig('/Users/josh/Desktop/Plots for Daniel/exp_pos_spectrum_65.pdf')"
   ]
  },
  {
   "cell_type": "code",
   "execution_count": null,
   "metadata": {
    "collapsed": false,
    "deletable": true,
    "editable": true
   },
   "outputs": [],
   "source": [
    "len(res[goodfitcut & prodcut & physicalcut])"
   ]
  },
  {
   "cell_type": "code",
   "execution_count": null,
   "metadata": {
    "collapsed": false,
    "deletable": true,
    "editable": true
   },
   "outputs": [],
   "source": [
    "def histerr(x, bins, **kwargs):\n",
    "    xb, xe = np.histogram(x, bins=bins)\n",
    "    plt.errorbar(xe[:-1] + (xe[1] - xe[0]) / 2, xb, yerr=np.sqrt(xb), fmt='b.', ecolor='b', elinewidth=1,\n",
    "                 capthick=1, capsize=1, **kwargs)\n",
    "#     plt.step(xe[:-1], xb, linewidth=1, where='post')\n",
    "    \n",
    "dtheta = 5\n",
    "dE = 50 * 1e-3\n",
    "histbins = (np.arange(0, 180 + dtheta, dtheta),\n",
    "            np.arange(3.0, 4.6 + dE, dE))\n",
    "    \n",
    "d = res[goodfitcut & physicalcut & prodcut & vertencut].copy()\n",
    "d['thbin'] = histbins[0][np.digitize(d.cm_angle / degrees, histbins[0])]\n",
    "fg = sns.FacetGrid(d, col='thbin', col_order=range(35, 80, dtheta), col_wrap=3, sharey=False)\n",
    "fg.map(histerr, 'vert_en_corr', bins=histbins[1], markersize=5)\n",
    "# fg.map(plt.hist, 'kine_vert_en', bins=histbins[1], histtype='stepfilled')\n",
    "# fg.set_titles(r'$\\theta_{{CM}} = {col_name}^{{\\circ}}$')\n",
    "fg.set_axis_labels('46Ar vertex energy [MeV/u]', 'Count')"
   ]
  },
  {
   "cell_type": "code",
   "execution_count": null,
   "metadata": {
    "collapsed": false,
    "deletable": true,
    "editable": true
   },
   "outputs": [],
   "source": [
    "with sns.axes_style('white'):\n",
    "    d = res[goodfitcut & physicalcut & prodcut & vertencut]\n",
    "    plt.hist2d(d.cm_angle/degrees, d.kine_vert_en, bins=(np.arange(0, 185, 5), np.arange(0, 5.0, 0.05)), \n",
    "               cmap='viridis');\n",
    "    plt.colorbar()\n",
    "    plt.xlabel('CM scattering angle [deg]')\n",
    "    plt.ylabel('Kine. vert. en. [MeV/u]')"
   ]
  },
  {
   "cell_type": "code",
   "execution_count": null,
   "metadata": {
    "collapsed": false,
    "deletable": true,
    "editable": true
   },
   "outputs": [],
   "source": [
    "len(res[goodfitcut & vertencut & physicalcut])"
   ]
  },
  {
   "cell_type": "code",
   "execution_count": null,
   "metadata": {
    "collapsed": false,
    "deletable": true,
    "editable": true
   },
   "outputs": [],
   "source": [
    "def histerr(x, bins, **kwargs):\n",
    "    xb, xe = np.histogram(x, bins=bins)\n",
    "    plt.errorbar(xe[:-1] + (xe[1] - xe[0]) / 2, xb, yerr=np.sqrt(xb), fmt='b.', ecolor='b', elinewidth=1,\n",
    "                 capthick=1, capsize=1, **kwargs)\n",
    "    \n",
    "dtheta = 1.0 * degrees\n",
    "dE = 100e-3\n",
    "histbins = (np.arange(35*degrees, 90*degrees + dtheta, dtheta),\n",
    "            np.arange(0, 5 + dE, dE))\n",
    "    \n",
    "d = res[goodfitcut].copy()\n",
    "d['enbin'] = (np.digitize(d.vert_en, histbins[1]))\n",
    "d.loc[d.enbin == d.enbin.max(), 'enbin'] = 0\n",
    "d.loc[:, 'enbin'] = histbins[1][d.enbin.values]\n",
    "fg = sns.FacetGrid(d, col='enbin', col_order=np.round(np.arange(0, 5, 0.5), 1), col_wrap=3, sharey=True)\n",
    "# fg.map(histerr, 'scat_ang', bins=histbins[0], markersize=5)\n",
    "fg.map(plt.hexbin, 'scat_ang', 'enu0')\n",
    "# fg.map(plt.hist, 'enu0', bins=histbins[1], histtype='stepfilled')\n",
    "# fg.set_titles(r'$\\theta_{{CM}} = {col_name}^{{\\circ}}$')\n",
    "# fg.set_axis_labels('Proton energy [MeV]', 'Count')"
   ]
  },
  {
   "cell_type": "markdown",
   "metadata": {
    "deletable": true,
    "editable": true
   },
   "source": [
    "# Exporting"
   ]
  },
  {
   "cell_type": "code",
   "execution_count": null,
   "metadata": {
    "collapsed": false,
    "deletable": true,
    "editable": true
   },
   "outputs": [],
   "source": [
    "# res[goodfitcut & prodcut & physicalcut].to_hdf(\n",
    "#     '/Users/josh/Documents/Data/Results/e15503b/mcmin/Sep23/goodevts.h5',\n",
    "#     'goodevts'\n",
    "# )"
   ]
  },
  {
   "cell_type": "markdown",
   "metadata": {
    "deletable": true,
    "editable": true
   },
   "source": [
    "# Cross sections"
   ]
  },
  {
   "cell_type": "markdown",
   "metadata": {
    "deletable": true,
    "editable": true
   },
   "source": [
    "## Import deteff"
   ]
  },
  {
   "cell_type": "code",
   "execution_count": null,
   "metadata": {
    "collapsed": false,
    "deletable": true,
    "editable": true
   },
   "outputs": [],
   "source": [
    "dE = 0.050  # MeV\n",
    "dTheta = 1.0 * degrees\n",
    "enbins = np.arange(0, 6 + dE, dE)\n",
    "thbins = np.arange(0, pi + dTheta, dTheta)\n",
    "\n",
    "enxs = (enbins[:-1] + enbins[1:]) / 2\n",
    "thxs = (thbins[:-1] + thbins[1:]) / 2\n",
    "\n",
    "d = res[goodfitcut]\n",
    "binned_res, *junk = np.histogram2d(d.cm_angle, d.enu0, bins=(thbins, enbins))"
   ]
  },
  {
   "cell_type": "code",
   "execution_count": null,
   "metadata": {
    "collapsed": false,
    "deletable": true,
    "editable": true
   },
   "outputs": [],
   "source": [
    "deteff_res = pd.read_hdf('/Users/josh/Documents/Data/Results/e15503b/deteff/Feb5/results.h5', 'res')"
   ]
  },
  {
   "cell_type": "code",
   "execution_count": null,
   "metadata": {
    "collapsed": false,
    "deletable": true,
    "editable": true
   },
   "outputs": [],
   "source": [
    "deteff_good = deteff_res[deteff_res.good]\n",
    "binned_deteff_good, *junk = np.histogram2d(deteff_good.cm_angle, deteff_good.enu, bins=(thbins, enbins))\n",
    "binned_deteff_all, *junk = np.histogram2d(deteff_res.cm_angle, deteff_res.enu, bins=(thbins, enbins))\n",
    "\n",
    "binned_deteff = binned_deteff_good / binned_deteff_all\n",
    "binned_deteff[np.where(binned_deteff_all == 0)] = 0\n",
    "\n",
    "del deteff_good, binned_deteff_all, binned_deteff_good"
   ]
  },
  {
   "cell_type": "code",
   "execution_count": null,
   "metadata": {
    "collapsed": false,
    "deletable": true,
    "editable": true
   },
   "outputs": [],
   "source": [
    "plt.imshow(binned_deteff.T, interpolation='nearest', origin='lower', cmap=cmaps.viridis)"
   ]
  },
  {
   "cell_type": "code",
   "execution_count": null,
   "metadata": {
    "collapsed": true,
    "deletable": true,
    "editable": true
   },
   "outputs": [],
   "source": [
    "ruthxsec = np.array([[rutherford(th*degrees, 18, 1, en) for en in enxs] for th in thxs])"
   ]
  },
  {
   "cell_type": "code",
   "execution_count": null,
   "metadata": {
    "collapsed": true,
    "deletable": true,
    "editable": true
   },
   "outputs": [],
   "source": [
    "def get_slice(lb, ub, xs):\n",
    "    return np.where((xs >= lb) & (xs < ub))[0]"
   ]
  },
  {
   "cell_type": "code",
   "execution_count": null,
   "metadata": {
    "collapsed": true,
    "deletable": true,
    "editable": true
   },
   "outputs": [],
   "source": [
    "def slice_data(data, enxs, thxs, thmin=None, thmax=None, enmin=None, enmax=None):\n",
    "    if thmin is not None and thmax is not None:\n",
    "        xs = enxs\n",
    "        ys = data[get_slice(thmin, thmax, thxs)].sum(0)\n",
    "    elif enmin is not None and enmax is not None:\n",
    "        xs = thxs / degrees\n",
    "        ys = data[:, get_slice(enmin, enmax, enxs)].sum(1)\n",
    "    else:\n",
    "        raise ValueError('Need th or en bounds')\n",
    "    return xs, ys"
   ]
  },
  {
   "cell_type": "code",
   "execution_count": null,
   "metadata": {
    "collapsed": false,
    "deletable": true,
    "editable": true
   },
   "outputs": [],
   "source": [
    "thstep = 2\n",
    "minths = range(40, 70, thstep)\n",
    "ncols = 3\n",
    "nrows = ceil(len(minths) / ncols)\n",
    "figsize = (ncols * 3, nrows * 3)\n",
    "fig, ax = plt.subplots(nrows, ncols, sharex=True, sharey=False, figsize=figsize)\n",
    "flatax = ax.ravel()\n",
    "for i, thmin in enumerate(minths):\n",
    "    plt.sca(flatax[i])\n",
    "    \n",
    "    xs, ys = slice_data(binned_res, enxs, thxs, thmin=thmin*degrees, thmax=(thmin+thstep)*degrees)\n",
    "    plt.errorbar(xs, ys, yerr=np.sqrt(ys), fmt='.', elinewidth=1, capthick=1, capsize=1, zorder=100)\n",
    "    \n",
    "    deteff_xs, deteff_ys = slice_data(binned_deteff, enxs, thxs, thmin=thmin*degrees, thmax=(thmin+thstep)*degrees)\n",
    "    plt.fill_between(deteff_xs, deteff_ys / thstep * plt.ylim()[1], step='post', alpha=0.3, zorder=1)\n",
    "    \n",
    "    plt.title(r'$\\theta_{{CM}} \\in [{}^\\circ, {}^\\circ)$'.format(thmin, thmin+thstep))\n",
    "    if i % ncols == 0:\n",
    "        plt.ylabel('Count')\n",
    "    if i // nrows == nrows - 1:\n",
    "        plt.xlabel('Proton Energy [MeV]')\n",
    "plt.tight_layout()\n",
    "for j in range(i+1, nrows*ncols):\n",
    "    flatax[j].set_visible(False)"
   ]
  },
  {
   "cell_type": "code",
   "execution_count": null,
   "metadata": {
    "collapsed": false,
    "deletable": true,
    "editable": true
   },
   "outputs": [],
   "source": [
    "thstep = 2\n",
    "minths = range(40, 70, thstep)\n",
    "ncols = 3\n",
    "nrows = ceil(len(minths) / ncols)\n",
    "figsize = (ncols * 3, nrows * 3)\n",
    "fig, ax = plt.subplots(nrows, ncols, sharex=True, sharey=True, figsize=figsize)\n",
    "flatax = ax.ravel()\n",
    "for i, thmin in enumerate(minths):\n",
    "    plt.sca(flatax[i])\n",
    "    xs, ys = slice_data(binned_deteff, enxs, thxs, thmin=thmin*degrees, thmax=(thmin+thstep)*degrees)\n",
    "    plt.fill_between(xs, ys / thstep, step='post')\n",
    "    plt.title(r'$\\theta_{{CM}} \\in [{}^\\circ, {}^\\circ)$'.format(thmin, thmin+thstep))\n",
    "    if i % ncols == 0:\n",
    "        plt.ylabel('Count')\n",
    "    if i // nrows == nrows - 1:\n",
    "        plt.xlabel('Proton Energy [MeV]')\n",
    "plt.tight_layout()\n",
    "for j in range(i+1, nrows*ncols):\n",
    "    flatax[j].set_visible(False)"
   ]
  },
  {
   "cell_type": "markdown",
   "metadata": {
    "deletable": true,
    "editable": true
   },
   "source": [
    "# Fit plotting"
   ]
  },
  {
   "cell_type": "code",
   "execution_count": null,
   "metadata": {
    "collapsed": true,
    "deletable": true,
    "editable": true
   },
   "outputs": [],
   "source": [
    "endiffs = []\n",
    "extraps = []\n",
    "percents = []"
   ]
  },
  {
   "cell_type": "code",
   "execution_count": null,
   "metadata": {
    "collapsed": false,
    "deletable": true,
    "editable": true
   },
   "outputs": [],
   "source": [
    "from pytpc.fitting import MCFitter\n",
    "import yaml\n",
    "\n",
    "with open('../fitters/config_e15503b.yml', 'r') as f:\n",
    "    config = yaml.load(f)\n",
    "with open('../fitters/config_e15503b_macmini.yml', 'r') as f:\n",
    "    patch = yaml.load(f)\n",
    "config.update(patch)\n",
    "\n",
    "# config['tilt'] = 6.0\n",
    "fitter = MCFitter(config)\n",
    "# fitter.sigma[-1] = 0\n",
    "# fitter.sigma[0] = 0.005\n",
    "# fitter.sigma[1] = 0.005\n",
    "# fitter.sigma[2] = 0\n",
    "# fitter.bfield_mag = 1.8"
   ]
  },
  {
   "cell_type": "code",
   "execution_count": null,
   "metadata": {
    "collapsed": false,
    "deletable": true,
    "editable": true
   },
   "outputs": [],
   "source": [
    "fitpl = FitPlotter('/Users/josh/Documents/Data/Merged/e15503b/clean', fitter)"
   ]
  },
  {
   "cell_type": "code",
   "execution_count": null,
   "metadata": {
    "collapsed": true,
    "deletable": true,
    "editable": true
   },
   "outputs": [],
   "source": [
    "i = 0"
   ]
  },
  {
   "cell_type": "code",
   "execution_count": null,
   "metadata": {
    "collapsed": true,
    "deletable": true,
    "editable": true
   },
   "outputs": [],
   "source": [
    "i -= 1"
   ]
  },
  {
   "cell_type": "code",
   "execution_count": null,
   "metadata": {
    "collapsed": true,
    "deletable": true,
    "editable": true
   },
   "outputs": [],
   "source": [
    "matching_en_cut = np.abs(res.vert_en - res.kine_vert_en) < 0.1"
   ]
  },
  {
   "cell_type": "code",
   "execution_count": null,
   "metadata": {
    "collapsed": false,
    "deletable": true,
    "editable": true,
    "scrolled": false
   },
   "outputs": [],
   "source": [
    "i += 1\n",
    "# i = np.random.randint(0, len(res[goodfitcut]))\n",
    "# idx = res[goodfitcut].index[i] #.sort_values('enChi2', ascending=False).index[i]\n",
    "# idx = res[goodfitcut & physicalcut & vertencut].sort_values('enu0', ascending=False).index[i]\n",
    "e = 4.0\n",
    "de = 0.05\n",
    "idx = res[goodfitcut & physicalcut & prodcut\n",
    "          & (res.enu0 < 1.2)\n",
    "#           & (res.run_num == 115)\n",
    "#           & (res.evt_id == 563)\n",
    "#           & res.run_num.isin([76, 85, 99, 193, 263])\n",
    "#           & (res.vert_en > 0) & (res.vert_en < 1.5)\n",
    "#           & (res.cm_angle > 40*degrees) & (res.cm_angle < 45*degrees)\n",
    "#           & (res.run_num > 217)\n",
    "#           & (res.posChi2 < posChi2Max)\n",
    "#           & (res.enChi2 < enChi2Max)\n",
    "#         & (res.enChi2 > 15) & (res.enChi2 < 30) \n",
    "].sample(1).index[0]\n",
    "\n",
    "# idx = res[goodfitcut & vertencut].sample(i).index[0]\n",
    "# idx = res[goodfitcut & matching_en_cut].sample(i).index[0]\n",
    "# idx = res.index[i]\n",
    "# idx = res[(res.run_num == 85) & (res.evt_id == 80)].index[0]\n",
    "fr = res.loc[idx]\n",
    "\n",
    "########## RE-DO FIT HERE\n",
    "# with h5py.File('/Users/josh/Documents/Data/Merged/e15503b/peaks/run_0075_peaks_bkd_subtract.h5', 'r') as f:\n",
    "#     raw_xyz = f['/reduced_get_events/{}'.format(int(fr.evt_id))][:]\n",
    "# fr = pd.Series(fitter.process_event(cfr, raw_xyz))\n",
    "# fr['run_num'] = cfr.run_num\n",
    "# fr['evt_id'] = cfr.evt_id\n",
    "##########\n",
    "\n",
    "print('Run {} event {}'.format(int(fr.run_num), int(fr.evt_id)))\n",
    "print('linfit chi2:', fr.lin_chi2)\n",
    "print('mcmin poschi2:   ', fr.posChi2)\n",
    "print('mcmin  enchi2:   ', fr.enChi2)\n",
    "print('kine vert_en:    ', fr.kine_vert_en)\n",
    "print('z0 vert_en:      ', fr.vert_en)\n",
    "print('z0 vert_en_corr: ', fr.vert_en_corr)\n",
    "# print('fitter totChi2:', fr.totChi2)\n",
    "# print('fitter success:', fr.success)\n",
    "print('ctr:', fr[['x0', 'y0', 'z0', 'enu0', 'azi0', 'pol0']].values)\n",
    "print('CM Angle: {:0.2f}   Lab angle: {:0.2f}'.format(fr.cm_angle / degrees, fr.scat_ang / degrees))\n",
    "# print('Chi score: {:.0f}'.format(fr.score))\n",
    "fitpl.plot_fit(fr, int(fr.run_num), fr.evt_id)\n",
    "e1 = find_proton_params(fr.scat_ang, 46*p_mc2, p_mc2, p_mc2, 46*p_mc2, fr.vert_en * 46)[1] - p_mc2\n",
    "e2 = find_proton_params(fr.scat_ang, 46*p_mc2, p_mc2, p_mc2, 46*p_mc2, fr.kine_vert_en * 46)[1] - p_mc2\n",
    "# print('Energy from vert_en: ', e1)\n",
    "# print('Range from that energy: ', gas.range(e1, 1, 1))\n",
    "# print('Energy from kine_vert_en: ', e2)\n",
    "# print('Range from that energy: ', gas.range(e2, 1, 1))\n",
    "\n",
    "print('Mean amplitude:', find_mean_ampl_and_arclen(fr)[0])"
   ]
  },
  {
   "cell_type": "code",
   "execution_count": null,
   "metadata": {
    "collapsed": false,
    "deletable": true,
    "editable": true
   },
   "outputs": [],
   "source": [
    "len(res[(res.posChi2 > posChi2Max) & (res.enChi2 < enChi2Max)])"
   ]
  },
  {
   "cell_type": "code",
   "execution_count": null,
   "metadata": {
    "collapsed": false,
    "deletable": true,
    "editable": true
   },
   "outputs": [],
   "source": [
    "show_prebinned_hist2d(binned, norm=LogNorm())\n",
    "plt.scatter(fr.cm_angle / degrees, fr.vert_en, c='C1', marker='x', s=200)"
   ]
  },
  {
   "cell_type": "code",
   "execution_count": null,
   "metadata": {
    "collapsed": false,
    "deletable": true,
    "editable": true
   },
   "outputs": [],
   "source": [
    "frd = fr.to_dict()\n",
    "del frd['brho']\n",
    "frd"
   ]
  },
  {
   "cell_type": "code",
   "execution_count": null,
   "metadata": {
    "collapsed": false,
    "deletable": true,
    "editable": true
   },
   "outputs": [],
   "source": [
    "with h5py.File('/Users/josh/Documents/Data/Merged/e15503b/clean/clean_run_{:04d}.h5'.format(int(fr.run_num)), 'r') as f:\n",
    "    raw_xyz = f['/clean/{}'.format(int(fr.evt_id))][:]\n",
    "raw_xyz = apply_clean_cut(raw_xyz)\n",
    "xyz = fitter.preprocess(raw_xyz)"
   ]
  },
  {
   "cell_type": "code",
   "execution_count": null,
   "metadata": {
    "collapsed": true,
    "deletable": true,
    "editable": true
   },
   "outputs": [],
   "source": [
    "res_track = fitter.tracker.track_particle(fr.x0, fr.y0, fr.z0, fr.enu0, fr.azi0, fr.pol0)"
   ]
  },
  {
   "cell_type": "code",
   "execution_count": null,
   "metadata": {
    "collapsed": false,
    "deletable": true,
    "editable": true
   },
   "outputs": [],
   "source": [
    "exp_hits = np.zeros(10240)\n",
    "for a, p in xyz[['a', 'pad']].values:\n",
    "    exp_hits[int(p)] += a"
   ]
  },
  {
   "cell_type": "code",
   "execution_count": null,
   "metadata": {
    "collapsed": false,
    "deletable": true,
    "editable": true
   },
   "outputs": [],
   "source": [
    "fig, sm = pad_plot(exp_hits, scale='linear', cmap='viridis')\n",
    "plt.colorbar(sm)"
   ]
  },
  {
   "cell_type": "code",
   "execution_count": null,
   "metadata": {
    "collapsed": false,
    "deletable": true,
    "editable": true
   },
   "outputs": [],
   "source": [
    "exp_mesh = np.zeros(512)\n",
    "for z, a in raw_xyz[:, 2:4]:\n",
    "    exp_mesh += transfer(a, 280./80, z)\n",
    "    \n",
    "res_mesh = fitter.evtgen.make_mesh_signal(res_track[:, :3].copy(), res_track[:, 4].copy())"
   ]
  },
  {
   "cell_type": "code",
   "execution_count": null,
   "metadata": {
    "collapsed": false,
    "deletable": true,
    "editable": true
   },
   "outputs": [],
   "source": [
    "plt.plot(res_track[:, 2]*1000, res_track[:, 1]*1000, 'k', zorder=100)\n",
    "plt.plot(xyz.w, xyz.v, '.')\n",
    "plt.xlim(0, 1000)\n",
    "plt.hlines(0, *plt.xlim(), color='g')\n",
    "plt.ylim(-275, 275)\n",
    "plt.gca().set_aspect(1)\n",
    "plt.xlabel('z [mm]')\n",
    "plt.ylabel('y [mm]')\n",
    "plt.title('Run {:.0f} event {:.0f}'.format(fr.run_num, fr.evt_id))\n",
    "# plt.savefig('/Users/josh/Desktop/plots_for_daniel/yz.pdf', bbox_inches='tight')"
   ]
  },
  {
   "cell_type": "code",
   "execution_count": null,
   "metadata": {
    "collapsed": false,
    "deletable": true,
    "editable": true
   },
   "outputs": [],
   "source": [
    "plt.plot(res_track[:, 2]*1000, res_track[:, 0]*1000, 'k', zorder=100)\n",
    "plt.plot(xyz.w, xyz.u, '.')\n",
    "plt.xlim(0, 1000)\n",
    "plt.hlines(0, *plt.xlim(), color='g')\n",
    "plt.ylim(-275, 275)\n",
    "plt.gca().set_aspect(1)\n",
    "plt.xlabel('z [mm]')\n",
    "plt.ylabel('x [mm]')\n",
    "plt.title('Run {:.0f} event {:.0f}'.format(fr.run_num, fr.evt_id))\n",
    "# plt.savefig('/Users/josh/Desktop/plots_for_daniel/xz.pdf', bbox_inches='tight')"
   ]
  },
  {
   "cell_type": "code",
   "execution_count": null,
   "metadata": {
    "collapsed": false,
    "deletable": true,
    "editable": true
   },
   "outputs": [],
   "source": [
    "plt.plot(res_track[:, 0]*1000, res_track[:, 1]*1000, 'k', zorder=100)\n",
    "plt.plot(xyz.u, xyz.v, '.')\n",
    "plt.xlim(-275, 275)\n",
    "plt.ylim(-275, 275)\n",
    "plt.gca().set_aspect(1)\n",
    "plt.xlabel('x [mm]')\n",
    "plt.ylabel('y [mm]')\n",
    "plt.title('Run {:.0f} event {:.0f}'.format(fr.run_num, fr.evt_id))\n",
    "# plt.savefig('/Users/josh/Desktop/plots_for_daniel/xy.pdf', bbox_inches='tight')"
   ]
  },
  {
   "cell_type": "code",
   "execution_count": null,
   "metadata": {
    "collapsed": false,
    "deletable": true,
    "editable": true
   },
   "outputs": [],
   "source": [
    "with sns.axes_style('ticks'), sns.plotting_context('paper'):\n",
    "    plt.figure(figsize=(3.5, 3.5))\n",
    "    plt.plot(res_track[:, 0]*1000, res_track[:, 1]*1000, 'k', zorder=100)\n",
    "    plt.plot(xyz.u, xyz.v, '.')\n",
    "    plt.gca().set_aspect(1)\n",
    "    \n",
    "    sns.despine()\n",
    "    plt.xlabel('x [mm]')\n",
    "    plt.ylabel('y [mm]')\n",
    "    plt.tight_layout()\n",
    "    \n",
    "#     plt.savefig('/Users/josh/Documents/Papers/attpc-nim-paper/Figures/evt_{:04.0f}_{:0.0f}_xy.pdf'.format(fr.run_num, fr.evt_id))"
   ]
  },
  {
   "cell_type": "code",
   "execution_count": null,
   "metadata": {
    "collapsed": false,
    "deletable": true,
    "editable": true
   },
   "outputs": [],
   "source": [
    "with sns.axes_style('ticks'), sns.plotting_context('paper'): \n",
    "    plt.figure(figsize=(3.5, 2.4))\n",
    "    plt.plot(res_track[:, 2]*1000, res_track[:, 1]*1000, 'k', zorder=100)\n",
    "    plt.plot(xyz.w, xyz.v, '.')\n",
    "    \n",
    "    sns.despine()\n",
    "    plt.xlabel('z [mm]')\n",
    "    plt.ylabel('y [mm]')\n",
    "    plt.tight_layout()\n",
    "    \n",
    "    plt.savefig('/Users/josh/Documents/Papers/attpc-nim-paper/Figures/evt_{:04.0f}_{:0.0f}_zy.pdf'.format(fr.run_num, fr.evt_id))"
   ]
  },
  {
   "cell_type": "code",
   "execution_count": null,
   "metadata": {
    "collapsed": true,
    "deletable": true,
    "editable": true
   },
   "outputs": [],
   "source": [
    "%matplotlib inline"
   ]
  },
  {
   "cell_type": "code",
   "execution_count": null,
   "metadata": {
    "collapsed": false,
    "deletable": true,
    "editable": true
   },
   "outputs": [],
   "source": [
    "with sns.axes_style('white'):\n",
    "    plt.subplot(111, projection='3d')\n",
    "    plt.plot(res_track[:, 0]*1000, res_track[:, 1]*1000, res_track[:, 2]*1000, 'k')\n",
    "    plt.plot((0, 0), (0, 0), (0, 1000), 'g')\n",
    "    plt.gca().scatter(xyz.u, xyz.v, xyz.w, linewidths=0)\n",
    "    plt.xlim(-275, 275)\n",
    "    plt.ylim(-275, 275)\n",
    "    plt.gca().set_zlim(0, 1000)\n",
    "    plt.gca().set_aspect(1)\n",
    "#     plt.savefig('/Users/josh/Desktop/plots_for_daniel/3d.pdf', bbox_inches='tight')"
   ]
  },
  {
   "cell_type": "code",
   "execution_count": null,
   "metadata": {
    "collapsed": false,
    "deletable": true,
    "editable": true
   },
   "outputs": [],
   "source": [
    "fr"
   ]
  },
  {
   "cell_type": "code",
   "execution_count": null,
   "metadata": {
    "collapsed": false,
    "deletable": true,
    "editable": true
   },
   "outputs": [],
   "source": [
    "np.rad2deg(fr.pol0) - 180"
   ]
  },
  {
   "cell_type": "code",
   "execution_count": null,
   "metadata": {
    "collapsed": true,
    "deletable": true,
    "editable": true
   },
   "outputs": [],
   "source": []
  }
 ],
 "metadata": {
  "kernelspec": {
   "display_name": "Python 3",
   "language": "python",
   "name": "python3"
  },
  "language_info": {
   "codemirror_mode": {
    "name": "ipython",
    "version": 3
   },
   "file_extension": ".py",
   "mimetype": "text/x-python",
   "name": "python",
   "nbconvert_exporter": "python",
   "pygments_lexer": "ipython3",
   "version": "3.6.0"
  }
 },
 "nbformat": 4,
 "nbformat_minor": 0
}
