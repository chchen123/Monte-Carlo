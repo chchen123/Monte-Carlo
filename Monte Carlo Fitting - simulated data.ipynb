{
 "cells": [
  {
   "cell_type": "code",
   "execution_count": 92,
   "metadata": {},
   "outputs": [],
   "source": [
    "import matplotlib.pyplot as plt\n",
    "import math\n",
    "import numpy as np\n",
    "\n",
    "from mpl_toolkits.mplot3d import Axes3D\n",
    "\n",
    "from effsim.paramgen import uniform_param_generator\n",
    "from effsim.paramgen import distribution_param_generator\n",
    "from effsim.effsim import EventSimulator\n",
    "from effsim.effsim import NoiseMaker\n",
    "\n",
    "from pytpc.hdfdata import HDFDataFile\n",
    "\n",
    "import pytpc\n",
    "from pytpc.fitting.montecarlo import MCFitter\n",
    "\n",
    "from pytpc.tpcplot import pad_plot, chamber_plot\n",
    "from pytpc.constants import degrees, pi\n",
    "from math import sin, cos\n",
    "import csv\n",
    "import yaml\n",
    "import h5py"
   ]
  },
  {
   "cell_type": "code",
   "execution_count": 93,
   "metadata": {},
   "outputs": [],
   "source": [
    "# read data from file - paths changed to /home/chen\n",
    "with open('/home/chen/config_e15503a_runs_92-104.yml', 'r') as f:\n",
    "    config = yaml.load(f)\n",
    "    \n",
    "# Extract parameters from test data\n",
    "beam_enu0 = config['beam_enu0']\n",
    "beam_mass = config['beam_mass']\n",
    "beam_charge = config['beam_charge']\n",
    "mass_num = config['mass_num']\n",
    "max_beam_angle = (config['max_beam_angle']*math.pi)/180\n",
    "beam_origin_z = config['beam_origin_z']\n",
    "gas = pytpc.gases.InterpolatedGas('isobutane', 19.2)\n",
    "\n",
    "#z0 = 0.5\n",
    "# create & observe a single event\n",
    "num_evts = 1000\n",
    "#print(config)\n",
    "pgen = uniform_param_generator(beam_enu0, beam_mass, beam_charge, mass_num, max_beam_angle, beam_origin_z, gas, num_evts)"
   ]
  },
  {
   "cell_type": "code",
   "execution_count": 94,
   "metadata": {},
   "outputs": [],
   "source": [
    "sim = EventSimulator(config)\n",
    "p = next(pgen)"
   ]
  },
  {
   "cell_type": "code",
   "execution_count": 95,
   "metadata": {},
   "outputs": [],
   "source": [
    "evtClean, ctr = sim.make_event(p[0][0], p[0][1], p[0][2], p[0][3], p[0][4], p[0][5])\n",
    "#print(evtClean)"
   ]
  },
  {
   "cell_type": "code",
   "execution_count": 96,
   "metadata": {},
   "outputs": [],
   "source": [
    "hits = np.zeros(10240)\n",
    "for k, v in evtClean.items():\n",
    "    hits[k] += v.max()"
   ]
  },
  {
   "cell_type": "code",
   "execution_count": 97,
   "metadata": {},
   "outputs": [],
   "source": [
    "for padAddress in range(0,10240):\n",
    "    if (padAddress not in evtClean):\n",
    "        evtClean[padAddress] = np.zeros(512)"
   ]
  },
  {
   "cell_type": "code",
   "execution_count": 98,
   "metadata": {},
   "outputs": [],
   "source": [
    "pyevtClean = sim.convert_event(evtClean)"
   ]
  },
  {
   "cell_type": "code",
   "execution_count": 99,
   "metadata": {},
   "outputs": [
    {
     "name": "stderr",
     "output_type": "stream",
     "text": [
      "/home/chen/anaconda3/lib/python3.6/site-packages/pytpc-1.1.0-py3.6-linux-x86_64.egg/pytpc/evtdata.py:187: RuntimeWarning: divide by zero encountered in true_divide\n",
      "  return np.sum(peak_data * range_idx, axis=-1) / peak_data.sum(axis=-1)\n",
      "/home/chen/anaconda3/lib/python3.6/site-packages/pytpc-1.1.0-py3.6-linux-x86_64.egg/pytpc/evtdata.py:187: RuntimeWarning: invalid value encountered in true_divide\n",
      "  return np.sum(peak_data * range_idx, axis=-1) / peak_data.sum(axis=-1)\n"
     ]
    }
   ],
   "source": [
    "xyzs = pyevtClean.xyzs(peaks_only=True, drift_vel=5.2, clock=12.5, return_pads=True, baseline_correction=True, cg_times=True)"
   ]
  },
  {
   "cell_type": "code",
   "execution_count": 100,
   "metadata": {},
   "outputs": [
    {
     "name": "stdout",
     "output_type": "stream",
     "text": [
      "[[ 1.03072938e+02  1.42027211e+01  1.90301091e+03  6.00000000e+00\n",
      "   5.30000000e+02]\n",
      " [ 1.05527056e+02  1.55518732e+01  1.89922909e+03  6.00000000e+00\n",
      "   5.32000000e+02]\n",
      " [ 1.10435291e+02  1.55518732e+01             nan  0.00000000e+00\n",
      "   5.37000000e+02]\n",
      " ...\n",
      " [ 4.90823515e+01 -2.66408330e+02             nan  0.00000000e+00\n",
      "   1.02370000e+04]\n",
      " [ 5.39905866e+01 -2.69377567e+02             nan  0.00000000e+00\n",
      "   1.02380000e+04]\n",
      " [ 5.88988218e+01 -2.66408330e+02             nan  0.00000000e+00\n",
      "   1.02390000e+04]]\n"
     ]
    }
   ],
   "source": [
    "print(xyzs) # format: [x, y, z, a, pad, ...]\n",
    "\n"
   ]
  },
  {
   "cell_type": "code",
   "execution_count": 101,
   "metadata": {},
   "outputs": [],
   "source": [
    "tilt = config['tilt']*degrees\n",
    "#print(tilt)\n",
    "trans3D = np.array([[1, 0, 0],\n",
    "                  [0, cos(-tilt), -sin(-tilt)],\n",
    "                  [0, sin(-tilt), cos(-tilt)]])\n",
    "trans2D = trans = np.array([[cos(-tilt), -sin(-tilt)],\n",
    "                  [sin(-tilt), cos(-tilt)]])"
   ]
  },
  {
   "cell_type": "code",
   "execution_count": 102,
   "metadata": {},
   "outputs": [
    {
     "name": "stdout",
     "output_type": "stream",
     "text": [
      "[[1.03072938e+02 2.19643601e+02 1.89034624e+03 6.00000000e+00\n",
      "  5.30000000e+02]\n",
      " [1.05527056e+02 2.20576428e+02 1.88644084e+03 6.00000000e+00\n",
      "  5.32000000e+02]\n",
      " [           nan            nan            nan 0.00000000e+00\n",
      "  5.37000000e+02]\n",
      " ...\n",
      " [           nan            nan            nan 0.00000000e+00\n",
      "  1.02370000e+04]\n",
      " [           nan            nan            nan 0.00000000e+00\n",
      "  1.02380000e+04]\n",
      " [           nan            nan            nan 0.00000000e+00\n",
      "  1.02390000e+04]]\n"
     ]
    }
   ],
   "source": [
    "for i in xyzs:\n",
    "    xyz_coordinate = np.array([i[0],i[1],i[2]])\n",
    "    uvw_coordinate = np.dot(trans3D, xyz_coordinate)\n",
    "    [i[0],i[1],i[2]] = uvw_coordinate\n",
    "\n",
    "print(xyzs)"
   ]
  },
  {
   "cell_type": "code",
   "execution_count": 103,
   "metadata": {},
   "outputs": [],
   "source": [
    "uvw_center = np.dot(trans2D, ctr)\n",
    "cu = float(uvw_center[0])\n",
    "cv = float(uvw_center[1])"
   ]
  },
  {
   "cell_type": "code",
   "execution_count": 104,
   "metadata": {},
   "outputs": [],
   "source": [
    "#xyz = dict(zip(['u', 'v', 'w', 'a', 'pad'],[xyzs[:,0],xyzs[:,1],xyzs[:,2],xyzs[:,3],xyzs[:,4]])) #> assign each key to an array\n",
    "xyz = {}\n",
    "u = 'u'\n",
    "v = 'v'\n",
    "w = 'w'\n",
    "a = 'a'\n",
    "pad = 'pad'\n",
    "for i in range(len(xyzs)):\n",
    "    xyz.setdefault(u,[]).append(xyzs[i,0])\n",
    "    xyz.setdefault(v,[]).append(xyzs[i,1])\n",
    "    xyz.setdefault(w,[]).append(xyzs[i,2])\n",
    "    xyz.setdefault(a,[]).append(xyzs[i,3])\n",
    "    xyz.setdefault(pad,[]).append(xyzs[i,4])\n",
    "\n",
    "#print(xyz)"
   ]
  },
  {
   "cell_type": "code",
   "execution_count": 90,
   "metadata": {
    "scrolled": true
   },
   "outputs": [
    {
     "ename": "TypeError",
     "evalue": "unhashable type: 'list'",
     "output_type": "error",
     "traceback": [
      "\u001b[0;31m---------------------------------------------------------------------------\u001b[0m",
      "\u001b[0;31mTypeError\u001b[0m                                 Traceback (most recent call last)",
      "\u001b[0;32m<ipython-input-90-fd391d56c241>\u001b[0m in \u001b[0;36m<module>\u001b[0;34m()\u001b[0m\n\u001b[0;32m----> 1\u001b[0;31m \u001b[0mprint\u001b[0m\u001b[0;34m(\u001b[0m\u001b[0mxyz\u001b[0m\u001b[0;34m[\u001b[0m\u001b[0;34m[\u001b[0m\u001b[0;34m'a'\u001b[0m\u001b[0;34m]\u001b[0m\u001b[0;34m]\u001b[0m\u001b[0;34m)\u001b[0m\u001b[0;34m\u001b[0m\u001b[0m\n\u001b[0m",
      "\u001b[0;31mTypeError\u001b[0m: unhashable type: 'list'"
     ]
    }
   ],
   "source": [
    "print(xyz[['a']])"
   ]
  },
  {
   "cell_type": "code",
   "execution_count": 52,
   "metadata": {},
   "outputs": [
    {
     "ename": "TypeError",
     "evalue": "unhashable type: 'list'",
     "output_type": "error",
     "traceback": [
      "\u001b[0;31m---------------------------------------------------------------------------\u001b[0m",
      "\u001b[0;31mTypeError\u001b[0m                                 Traceback (most recent call last)",
      "\u001b[0;32m<ipython-input-52-ee96760c2bbc>\u001b[0m in \u001b[0;36m<module>\u001b[0;34m()\u001b[0m\n\u001b[1;32m      1\u001b[0m \u001b[0mmc\u001b[0m \u001b[0;34m=\u001b[0m \u001b[0mMCFitter\u001b[0m\u001b[0;34m(\u001b[0m\u001b[0mconfig\u001b[0m\u001b[0;34m)\u001b[0m\u001b[0;34m\u001b[0m\u001b[0m\n\u001b[0;32m----> 2\u001b[0;31m \u001b[0mmc\u001b[0m\u001b[0;34m.\u001b[0m\u001b[0mprocess_event\u001b[0m\u001b[0;34m(\u001b[0m\u001b[0mxyz\u001b[0m\u001b[0;34m,\u001b[0m \u001b[0mcu\u001b[0m\u001b[0;34m,\u001b[0m \u001b[0mcv\u001b[0m\u001b[0;34m)\u001b[0m\u001b[0;34m\u001b[0m\u001b[0m\n\u001b[0m",
      "\u001b[0;32m~/anaconda3/lib/python3.6/site-packages/pytpc-1.1.0-py3.6-linux-x86_64.egg/pytpc/fitting/montecarlo.py\u001b[0m in \u001b[0;36mprocess_event\u001b[0;34m(self, xyz, cu, cv, exp_hits, return_details)\u001b[0m\n\u001b[1;32m     78\u001b[0m         \u001b[0;32mif\u001b[0m \u001b[0mexp_hits\u001b[0m \u001b[0;32mis\u001b[0m \u001b[0;32mNone\u001b[0m\u001b[0;34m:\u001b[0m\u001b[0;34m\u001b[0m\u001b[0m\n\u001b[1;32m     79\u001b[0m             \u001b[0mexp_hits\u001b[0m \u001b[0;34m=\u001b[0m \u001b[0mnp\u001b[0m\u001b[0;34m.\u001b[0m\u001b[0mzeros\u001b[0m\u001b[0;34m(\u001b[0m\u001b[0;36m10240\u001b[0m\u001b[0;34m)\u001b[0m\u001b[0;34m\u001b[0m\u001b[0m\n\u001b[0;32m---> 80\u001b[0;31m             \u001b[0;32mfor\u001b[0m \u001b[0ma\u001b[0m\u001b[0;34m,\u001b[0m \u001b[0mp\u001b[0m \u001b[0;32min\u001b[0m \u001b[0mxyz\u001b[0m\u001b[0;34m[\u001b[0m\u001b[0;34m[\u001b[0m\u001b[0;34m'a'\u001b[0m\u001b[0;34m,\u001b[0m \u001b[0;34m'pad'\u001b[0m\u001b[0;34m]\u001b[0m\u001b[0;34m]\u001b[0m\u001b[0;34m.\u001b[0m\u001b[0mvalues\u001b[0m\u001b[0;34m:\u001b[0m\u001b[0;34m\u001b[0m\u001b[0m\n\u001b[0m\u001b[1;32m     81\u001b[0m                 \u001b[0mexp_hits\u001b[0m\u001b[0;34m[\u001b[0m\u001b[0mint\u001b[0m\u001b[0;34m(\u001b[0m\u001b[0mp\u001b[0m\u001b[0;34m)\u001b[0m\u001b[0;34m]\u001b[0m \u001b[0;34m=\u001b[0m \u001b[0ma\u001b[0m\u001b[0;34m\u001b[0m\u001b[0m\n\u001b[1;32m     82\u001b[0m \u001b[0;34m\u001b[0m\u001b[0m\n",
      "\u001b[0;31mTypeError\u001b[0m: unhashable type: 'list'"
     ]
    }
   ],
   "source": [
    "mc = MCFitter(config)\n",
    "mc.process_event(xyz, cu, cv)"
   ]
  },
  {
   "cell_type": "code",
   "execution_count": null,
   "metadata": {},
   "outputs": [],
   "source": []
  }
 ],
 "metadata": {
  "kernelspec": {
   "display_name": "Python 3",
   "language": "python",
   "name": "python3"
  },
  "language_info": {
   "codemirror_mode": {
    "name": "ipython",
    "version": 3
   },
   "file_extension": ".py",
   "mimetype": "text/x-python",
   "name": "python",
   "nbconvert_exporter": "python",
   "pygments_lexer": "ipython3",
   "version": "3.6.5"
  }
 },
 "nbformat": 4,
 "nbformat_minor": 2
}
